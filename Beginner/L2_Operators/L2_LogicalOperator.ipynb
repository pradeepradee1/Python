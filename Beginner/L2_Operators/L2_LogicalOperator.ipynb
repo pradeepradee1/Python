{
 "cells": [
  {
   "cell_type": "markdown",
   "id": "12e4ae2b",
   "metadata": {},
   "source": [
    "# Logical Operator"
   ]
  },
  {
   "cell_type": "markdown",
   "id": "88f45a95",
   "metadata": {},
   "source": [
    "## Bool Values"
   ]
  },
  {
   "cell_type": "code",
   "execution_count": 8,
   "id": "b12878e2",
   "metadata": {},
   "outputs": [
    {
     "name": "stdout",
     "output_type": "stream",
     "text": [
      "False\n",
      "True\n",
      "False\n"
     ]
    }
   ],
   "source": [
    "print(True and False)\n",
    "\n",
    "# Here If x is evalutes to False then return x \n",
    "# otherwise returns y\n",
    "\n",
    "print(True or False)\n",
    "\n",
    "# Here If x is evalutes to True then return x \n",
    "# otherwise returns y\n",
    "\n",
    "print(not True)"
   ]
  },
  {
   "cell_type": "markdown",
   "id": "0e8c73a6",
   "metadata": {},
   "source": [
    "## Continous value"
   ]
  },
  {
   "cell_type": "code",
   "execution_count": 15,
   "id": "ab7aa65e",
   "metadata": {},
   "outputs": [
    {
     "name": "stdout",
     "output_type": "stream",
     "text": [
      "0\n",
      "10\n",
      "20\n"
     ]
    }
   ],
   "source": [
    "print(0 and 20)\n",
    "\n",
    "\n",
    "# Here If x is evalutes to False then return x \n",
    "# otherwise returns y\n",
    "\n",
    "\n",
    "print(10 or 20)\n",
    "print(0 or 20)\n",
    "\n",
    "# Here If x is evalutes to True then return x \n",
    "# otherwise returns y"
   ]
  },
  {
   "cell_type": "markdown",
   "id": "73df2d28",
   "metadata": {},
   "source": [
    "# Bool and Continous Values "
   ]
  },
  {
   "cell_type": "code",
   "execution_count": 16,
   "id": "60b7f18f",
   "metadata": {},
   "outputs": [
    {
     "name": "stdout",
     "output_type": "stream",
     "text": [
      "0\n",
      "python\n",
      "\n",
      "OR\n",
      "\n",
      "python\n",
      "1\n"
     ]
    }
   ],
   "source": [
    "# Here If x is evalutes to False then return x \n",
    "# otherwise returns y\n",
    "\n",
    "print(0 and 'python')\n",
    "print(1 and 'python')\n",
    "\n",
    "print()\n",
    "print(\"OR\")\n",
    "print()\n",
    "# Here If x is evalutes to True then return x \n",
    "# otherwise returns y\n",
    "\n",
    "print(0 or 'python')\n",
    "print(1 or 'python')"
   ]
  },
  {
   "cell_type": "code",
   "execution_count": null,
   "id": "c7915a30",
   "metadata": {},
   "outputs": [],
   "source": []
  }
 ],
 "metadata": {
  "kernelspec": {
   "display_name": "Python 3 (ipykernel)",
   "language": "python",
   "name": "python3"
  },
  "language_info": {
   "codemirror_mode": {
    "name": "ipython",
    "version": 3
   },
   "file_extension": ".py",
   "mimetype": "text/x-python",
   "name": "python",
   "nbconvert_exporter": "python",
   "pygments_lexer": "ipython3",
   "version": "3.8.10"
  }
 },
 "nbformat": 4,
 "nbformat_minor": 5
}
