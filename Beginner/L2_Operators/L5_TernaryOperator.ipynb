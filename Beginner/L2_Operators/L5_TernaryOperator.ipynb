{
 "cells": [
  {
   "cell_type": "markdown",
   "id": "8f0cbf62",
   "metadata": {},
   "source": [
    "# Ternary Operator Syntax In Other Languages\n",
    "\n",
    "## x = (condition) ? FirstValue : SecondValue\n",
    "\n",
    "\n",
    "# Ternary Operator in Python \n",
    "\n",
    "## x = a if condition else b"
   ]
  },
  {
   "cell_type": "code",
   "execution_count": null,
   "id": "171b2cda",
   "metadata": {},
   "outputs": [],
   "source": []
  },
  {
   "cell_type": "code",
   "execution_count": 1,
   "id": "014d160e",
   "metadata": {},
   "outputs": [
    {
     "name": "stdout",
     "output_type": "stream",
     "text": [
      "Python\n"
     ]
    }
   ],
   "source": [
    "a = \"Python\"\n",
    "b = \"Else\"\n",
    "x = a if 10 < 100 else b\n",
    "print(x)"
   ]
  },
  {
   "cell_type": "code",
   "execution_count": 2,
   "id": "187b4474",
   "metadata": {},
   "outputs": [
    {
     "name": "stdout",
     "output_type": "stream",
     "text": [
      "Else\n"
     ]
    }
   ],
   "source": [
    "x = a if 10 > 100 else b\n",
    "print(x)"
   ]
  },
  {
   "cell_type": "markdown",
   "id": "18313f0f",
   "metadata": {},
   "source": [
    "# 1.1"
   ]
  },
  {
   "cell_type": "code",
   "execution_count": 3,
   "id": "cab09b49",
   "metadata": {},
   "outputs": [
    {
     "data": {
      "text/plain": [
       "'Python'"
      ]
     },
     "execution_count": 3,
     "metadata": {},
     "output_type": "execute_result"
    }
   ],
   "source": [
    "# ----------------True --------------------------True --------------\n",
    "\n",
    "x = \"Python\" if 10 < 100 else \"first_else\" if 10 < 200 else \"Second_else\"\n",
    "x"
   ]
  },
  {
   "cell_type": "code",
   "execution_count": 4,
   "id": "4f0b50b8",
   "metadata": {},
   "outputs": [
    {
     "data": {
      "text/plain": [
       "'Second_else'"
      ]
     },
     "execution_count": 4,
     "metadata": {},
     "output_type": "execute_result"
    }
   ],
   "source": [
    "# ----------------False --------------------------False --------------\n",
    "\n",
    "x = \"Python\" if 10 > 100 else \"first_else\" if 10 > 200 else \"Second_else\"\n",
    "x"
   ]
  },
  {
   "cell_type": "code",
   "execution_count": 5,
   "id": "10b56526",
   "metadata": {},
   "outputs": [
    {
     "data": {
      "text/plain": [
       "'Python'"
      ]
     },
     "execution_count": 5,
     "metadata": {},
     "output_type": "execute_result"
    }
   ],
   "source": [
    "# ----------------True --------------------------False --------------\n",
    "\n",
    "\n",
    "x = \"Python\" if 10 < 100 else \"first_else\" if 10 > 200 else \"Second_else\"\n",
    "x"
   ]
  },
  {
   "cell_type": "code",
   "execution_count": 6,
   "id": "423a392f",
   "metadata": {},
   "outputs": [
    {
     "data": {
      "text/plain": [
       "'first_else'"
      ]
     },
     "execution_count": 6,
     "metadata": {},
     "output_type": "execute_result"
    }
   ],
   "source": [
    "# ----------------False --------------------------True --------------\n",
    "\n",
    "x = \"Python\" if 10 > 100 else \"first_else\" if 10 < 200 else \"Second_else\"\n",
    "x"
   ]
  },
  {
   "cell_type": "code",
   "execution_count": null,
   "id": "53c9f554",
   "metadata": {},
   "outputs": [],
   "source": []
  }
 ],
 "metadata": {
  "kernelspec": {
   "display_name": "Python 3 (ipykernel)",
   "language": "python",
   "name": "python3"
  },
  "language_info": {
   "codemirror_mode": {
    "name": "ipython",
    "version": 3
   },
   "file_extension": ".py",
   "mimetype": "text/x-python",
   "name": "python",
   "nbconvert_exporter": "python",
   "pygments_lexer": "ipython3",
   "version": "3.8.10"
  }
 },
 "nbformat": 4,
 "nbformat_minor": 5
}
