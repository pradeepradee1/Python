{
 "cells": [
  {
   "cell_type": "markdown",
   "id": "aebe14ed",
   "metadata": {},
   "source": [
    "# If Break keyword is not enabled then it will go to the else part"
   ]
  },
  {
   "cell_type": "code",
   "execution_count": 10,
   "id": "680d3c92",
   "metadata": {},
   "outputs": [
    {
     "name": "stdout",
     "output_type": "stream",
     "text": [
      "else Excution\n"
     ]
    }
   ],
   "source": [
    "cart = [1,2,3,4,5,10,11]\n",
    "for i in cart:\n",
    "    if i >= 100:\n",
    "        print(\"Sorry We can't take this \")\n",
    "        print(\"Break enabled\")\n",
    "        print(i)\n",
    "        break\n",
    "else:\n",
    "    print(\"else Excution\")"
   ]
  },
  {
   "cell_type": "code",
   "execution_count": 11,
   "id": "f322b0ff",
   "metadata": {},
   "outputs": [
    {
     "name": "stdout",
     "output_type": "stream",
     "text": [
      "Sorry We can't take this \n",
      "Break Enabled\n",
      "10\n"
     ]
    }
   ],
   "source": [
    "cart = [1,2,3,4,5,10,11]\n",
    "for i in cart:\n",
    "    if i >= 10:\n",
    "        print(\"Sorry We can't take this \")\n",
    "        print(\"Break Enabled\")\n",
    "        print(i)\n",
    "        break\n",
    "else:\n",
    "    print(\"else Excution\")"
   ]
  },
  {
   "cell_type": "markdown",
   "id": "234cda60",
   "metadata": {},
   "source": [
    "# While loops"
   ]
  },
  {
   "cell_type": "code",
   "execution_count": 13,
   "id": "ff8fea59",
   "metadata": {},
   "outputs": [
    {
     "name": "stdout",
     "output_type": "stream",
     "text": [
      "Sorry We can't take this \n",
      "Break enabled\n",
      "10\n"
     ]
    }
   ],
   "source": [
    "cart = [1,2,3,4,5,10,11]\n",
    "while i in cart:\n",
    "    if i >= 10:\n",
    "        print(\"Sorry We can't take this \")\n",
    "        print(\"Break enabled\")\n",
    "        print(i)\n",
    "        break\n",
    "else:\n",
    "    print(\"else Excution\")"
   ]
  },
  {
   "cell_type": "code",
   "execution_count": 20,
   "id": "ef15c232",
   "metadata": {},
   "outputs": [
    {
     "name": "stdout",
     "output_type": "stream",
     "text": [
      "1\n",
      "2\n",
      "3\n",
      "4\n",
      "5\n",
      "6\n",
      "7\n",
      "8\n",
      "9\n",
      "Sorry can't take this number as 9\n"
     ]
    }
   ],
   "source": [
    "a=0\n",
    "while a < 20:\n",
    "    if a > 8:\n",
    "        print(\"Sorry can't take this number as {}\".format(a))\n",
    "        break\n",
    "    a+=1\n",
    "    print(a)\n",
    "else:\n",
    "    print(\"else execution\")"
   ]
  },
  {
   "cell_type": "code",
   "execution_count": 21,
   "id": "ca57e214",
   "metadata": {},
   "outputs": [
    {
     "name": "stdout",
     "output_type": "stream",
     "text": [
      "1\n",
      "2\n",
      "3\n",
      "4\n",
      "5\n",
      "6\n",
      "7\n",
      "8\n",
      "9\n",
      "10\n",
      "11\n",
      "12\n",
      "13\n",
      "14\n",
      "15\n",
      "16\n",
      "17\n",
      "18\n",
      "19\n",
      "20\n",
      "else execution\n"
     ]
    }
   ],
   "source": [
    "a=0\n",
    "while a < 20:\n",
    "    if a > 81:\n",
    "        print(\"Sorry can't take this number as {}\".format(a))\n",
    "        break\n",
    "    a+=1\n",
    "    print(a)\n",
    "else:\n",
    "    print(\"else execution\")"
   ]
  },
  {
   "cell_type": "code",
   "execution_count": null,
   "id": "8e95f951",
   "metadata": {},
   "outputs": [],
   "source": []
  }
 ],
 "metadata": {
  "kernelspec": {
   "display_name": "Python 3 (ipykernel)",
   "language": "python",
   "name": "python3"
  },
  "language_info": {
   "codemirror_mode": {
    "name": "ipython",
    "version": 3
   },
   "file_extension": ".py",
   "mimetype": "text/x-python",
   "name": "python",
   "nbconvert_exporter": "python",
   "pygments_lexer": "ipython3",
   "version": "3.8.10"
  }
 },
 "nbformat": 4,
 "nbformat_minor": 5
}
