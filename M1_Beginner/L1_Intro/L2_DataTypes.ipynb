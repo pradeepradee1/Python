{
 "cells": [
  {
   "cell_type": "markdown",
   "id": "f9a13ed3",
   "metadata": {},
   "source": [
    "# Data Type"
   ]
  },
  {
   "cell_type": "code",
   "execution_count": 3,
   "id": "ea370b89",
   "metadata": {},
   "outputs": [],
   "source": [
    "int\n",
    "float\n",
    "complex\n",
    "bool\n",
    "str\n",
    "bytes\n",
    "bytearray\n",
    "range\n",
    "list\n",
    "tuple\n",
    "set\n",
    "frozenset\n",
    "dict\n",
    "None"
   ]
  },
  {
   "cell_type": "code",
   "execution_count": null,
   "id": "29661c9d",
   "metadata": {},
   "outputs": [],
   "source": []
  }
 ],
 "metadata": {
  "kernelspec": {
   "display_name": "Python 3 (ipykernel)",
   "language": "python",
   "name": "python3"
  },
  "language_info": {
   "codemirror_mode": {
    "name": "ipython",
    "version": 3
   },
   "file_extension": ".py",
   "mimetype": "text/x-python",
   "name": "python",
   "nbconvert_exporter": "python",
   "pygments_lexer": "ipython3",
   "version": "3.8.10"
  }
 },
 "nbformat": 4,
 "nbformat_minor": 5
}
