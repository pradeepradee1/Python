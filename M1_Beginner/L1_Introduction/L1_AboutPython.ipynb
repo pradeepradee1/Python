{
 "cells": [
  {
   "cell_type": "markdown",
   "id": "b2b2fb94",
   "metadata": {},
   "source": [
    "# Python\n",
    "\n",
    "## 1 . Python is Open Source and Independent Platform\n",
    "## 2 . Python is high level Programming Language\n",
    "## 3 . Procedure and Object oriented programming Language\n",
    "## 4 . Dynamicly Typed\n",
    "## 5 . It Has extensive library"
   ]
  },
  {
   "cell_type": "code",
   "execution_count": null,
   "id": "36f455b2",
   "metadata": {},
   "outputs": [],
   "source": []
  }
 ],
 "metadata": {
  "kernelspec": {
   "display_name": "Python 3 (ipykernel)",
   "language": "python",
   "name": "python3"
  },
  "language_info": {
   "codemirror_mode": {
    "name": "ipython",
    "version": 3
   },
   "file_extension": ".py",
   "mimetype": "text/x-python",
   "name": "python",
   "nbconvert_exporter": "python",
   "pygments_lexer": "ipython3",
   "version": "3.8.10"
  }
 },
 "nbformat": 4,
 "nbformat_minor": 5
}
