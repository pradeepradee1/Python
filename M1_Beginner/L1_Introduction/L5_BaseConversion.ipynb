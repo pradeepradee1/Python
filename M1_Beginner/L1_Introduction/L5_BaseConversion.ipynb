{
 "cells": [
  {
   "cell_type": "markdown",
   "id": "36cd7ed8",
   "metadata": {},
   "source": [
    "# Base Conversion"
   ]
  },
  {
   "cell_type": "markdown",
   "id": "77e2ce80",
   "metadata": {},
   "source": [
    "#  1 . Binary Form\n",
    "### Base-2\n",
    "#### 0 to 1"
   ]
  },
  {
   "cell_type": "code",
   "execution_count": 9,
   "id": "3b519275",
   "metadata": {},
   "outputs": [
    {
     "data": {
      "text/plain": [
       "'0b1001'"
      ]
     },
     "execution_count": 9,
     "metadata": {},
     "output_type": "execute_result"
    }
   ],
   "source": [
    "a=9\n",
    "bin(a)"
   ]
  },
  {
   "cell_type": "code",
   "execution_count": 10,
   "id": "97f9ccf9",
   "metadata": {},
   "outputs": [
    {
     "data": {
      "text/plain": [
       "'0b1011001'"
      ]
     },
     "execution_count": 10,
     "metadata": {},
     "output_type": "execute_result"
    }
   ],
   "source": [
    "a=89\n",
    "bin(a)"
   ]
  },
  {
   "cell_type": "code",
   "execution_count": null,
   "id": "c76f63a7",
   "metadata": {},
   "outputs": [],
   "source": []
  },
  {
   "cell_type": "markdown",
   "id": "32574520",
   "metadata": {},
   "source": [
    "# 2 . Octal Form\n",
    "### Base-8\n",
    "#### 0 to 7"
   ]
  },
  {
   "cell_type": "code",
   "execution_count": 11,
   "id": "270d0b49",
   "metadata": {},
   "outputs": [
    {
     "data": {
      "text/plain": [
       "'0o11'"
      ]
     },
     "execution_count": 11,
     "metadata": {},
     "output_type": "execute_result"
    }
   ],
   "source": [
    "a=9\n",
    "oct(a)"
   ]
  },
  {
   "cell_type": "code",
   "execution_count": 12,
   "id": "a125c8f0",
   "metadata": {},
   "outputs": [
    {
     "data": {
      "text/plain": [
       "'0o116'"
      ]
     },
     "execution_count": 12,
     "metadata": {},
     "output_type": "execute_result"
    }
   ],
   "source": [
    "a=78\n",
    "oct(a)"
   ]
  },
  {
   "cell_type": "code",
   "execution_count": null,
   "id": "2cee4d9d",
   "metadata": {},
   "outputs": [],
   "source": []
  },
  {
   "cell_type": "markdown",
   "id": "478a8d03",
   "metadata": {},
   "source": [
    "# \n",
    "## 3 . Decimal Form\n",
    "### Base-10\n",
    "#### 0 to 9"
   ]
  },
  {
   "cell_type": "code",
   "execution_count": 13,
   "id": "939bb7b2",
   "metadata": {},
   "outputs": [
    {
     "data": {
      "text/plain": [
       "7878"
      ]
     },
     "execution_count": 13,
     "metadata": {},
     "output_type": "execute_result"
    }
   ],
   "source": [
    "a=7878\n",
    "a"
   ]
  },
  {
   "cell_type": "code",
   "execution_count": null,
   "id": "ee88bdb6",
   "metadata": {},
   "outputs": [],
   "source": []
  },
  {
   "cell_type": "markdown",
   "id": "65714d4b",
   "metadata": {},
   "source": [
    "# 4 . Hexadecimal Form\n",
    "### Base-16\n",
    "#### 0 to 9 , a to f , A to F"
   ]
  },
  {
   "cell_type": "code",
   "execution_count": 14,
   "id": "a72fe1dc",
   "metadata": {},
   "outputs": [
    {
     "data": {
      "text/plain": [
       "'0x7'"
      ]
     },
     "execution_count": 14,
     "metadata": {},
     "output_type": "execute_result"
    }
   ],
   "source": [
    "a=7\n",
    "hex(a)"
   ]
  },
  {
   "cell_type": "code",
   "execution_count": 15,
   "id": "6f605b35",
   "metadata": {},
   "outputs": [
    {
     "data": {
      "text/plain": [
       "'0x59'"
      ]
     },
     "execution_count": 15,
     "metadata": {},
     "output_type": "execute_result"
    }
   ],
   "source": [
    "a=89\n",
    "hex(a)"
   ]
  },
  {
   "cell_type": "code",
   "execution_count": null,
   "id": "bca49e5d",
   "metadata": {},
   "outputs": [],
   "source": []
  },
  {
   "cell_type": "code",
   "execution_count": null,
   "id": "e1990b1f",
   "metadata": {},
   "outputs": [],
   "source": []
  }
 ],
 "metadata": {
  "kernelspec": {
   "display_name": "Python 3 (ipykernel)",
   "language": "python",
   "name": "python3"
  },
  "language_info": {
   "codemirror_mode": {
    "name": "ipython",
    "version": 3
   },
   "file_extension": ".py",
   "mimetype": "text/x-python",
   "name": "python",
   "nbconvert_exporter": "python",
   "pygments_lexer": "ipython3",
   "version": "3.8.10"
  }
 },
 "nbformat": 4,
 "nbformat_minor": 5
}
