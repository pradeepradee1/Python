{
 "cells": [
  {
   "cell_type": "markdown",
   "id": "d8dd7b47",
   "metadata": {},
   "source": [
    "## 1) == ---> It will return true if both content are same\n",
    "## 2) is ---> It will return true if both references are same"
   ]
  },
  {
   "cell_type": "markdown",
   "id": "44c396d3",
   "metadata": {},
   "source": [
    "### 1) == ---> Value(Content)\n",
    "### 2) is  ---> Reference(Address)"
   ]
  },
  {
   "cell_type": "code",
   "execution_count": 12,
   "id": "3c539735",
   "metadata": {},
   "outputs": [
    {
     "name": "stdout",
     "output_type": "stream",
     "text": [
      "9793344 9793344 9796224\n"
     ]
    }
   ],
   "source": [
    "x=10\n",
    "y=10\n",
    "z=100\n",
    "print(id(x),id(y),id(z))"
   ]
  },
  {
   "cell_type": "code",
   "execution_count": 13,
   "id": "81d3026f",
   "metadata": {},
   "outputs": [
    {
     "name": "stdout",
     "output_type": "stream",
     "text": [
      "True\n",
      "False\n"
     ]
    }
   ],
   "source": [
    "print(x is y)\n",
    "print(x is z)"
   ]
  },
  {
   "cell_type": "code",
   "execution_count": 14,
   "id": "d420ae65",
   "metadata": {},
   "outputs": [
    {
     "name": "stdout",
     "output_type": "stream",
     "text": [
      "True\n",
      "False\n"
     ]
    }
   ],
   "source": [
    "print(x == y)\n",
    "print(x == z)"
   ]
  },
  {
   "cell_type": "code",
   "execution_count": 15,
   "id": "931de856",
   "metadata": {},
   "outputs": [],
   "source": [
    "list1=[1,2,3]\n",
    "list2=[1,2,3]\n",
    "list3=[1]"
   ]
  },
  {
   "cell_type": "code",
   "execution_count": 16,
   "id": "af7c7ca2",
   "metadata": {},
   "outputs": [
    {
     "name": "stdout",
     "output_type": "stream",
     "text": [
      "140716693435840 140716693439488 140716693703232\n"
     ]
    }
   ],
   "source": [
    "print(id(list1),id(list2),id(list3))"
   ]
  },
  {
   "cell_type": "code",
   "execution_count": 17,
   "id": "d8c25a13",
   "metadata": {},
   "outputs": [
    {
     "name": "stdout",
     "output_type": "stream",
     "text": [
      "False\n",
      "False\n"
     ]
    }
   ],
   "source": [
    "print(list1 is list2)\n",
    "print(list1 is list3)"
   ]
  },
  {
   "cell_type": "code",
   "execution_count": 19,
   "id": "7fee26a8",
   "metadata": {},
   "outputs": [
    {
     "name": "stdout",
     "output_type": "stream",
     "text": [
      "True\n",
      "False\n"
     ]
    }
   ],
   "source": [
    "print(list1 == list2)\n",
    "print(list1 == list3)"
   ]
  },
  {
   "cell_type": "code",
   "execution_count": null,
   "id": "81b2de08",
   "metadata": {},
   "outputs": [],
   "source": []
  }
 ],
 "metadata": {
  "kernelspec": {
   "display_name": "Python 3 (ipykernel)",
   "language": "python",
   "name": "python3"
  },
  "language_info": {
   "codemirror_mode": {
    "name": "ipython",
    "version": 3
   },
   "file_extension": ".py",
   "mimetype": "text/x-python",
   "name": "python",
   "nbconvert_exporter": "python",
   "pygments_lexer": "ipython3",
   "version": "3.8.10"
  }
 },
 "nbformat": 4,
 "nbformat_minor": 5
}
