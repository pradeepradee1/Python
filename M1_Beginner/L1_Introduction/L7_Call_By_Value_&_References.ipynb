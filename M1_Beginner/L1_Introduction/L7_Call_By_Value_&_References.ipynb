{
 "cells": [
  {
   "cell_type": "markdown",
   "id": "2721fcf4",
   "metadata": {},
   "source": [
    "### Call By Value"
   ]
  },
  {
   "cell_type": "code",
   "execution_count": 16,
   "id": "df3af3bf",
   "metadata": {},
   "outputs": [
    {
     "name": "stdout",
     "output_type": "stream",
     "text": [
      "9793344 9793344\n"
     ]
    }
   ],
   "source": [
    "x=10\n",
    "y=x\n",
    "print(id(x),id(y))"
   ]
  },
  {
   "cell_type": "code",
   "execution_count": 17,
   "id": "1386febc",
   "metadata": {},
   "outputs": [
    {
     "name": "stdout",
     "output_type": "stream",
     "text": [
      "9793344 9793408\n",
      "10 12\n"
     ]
    }
   ],
   "source": [
    "#Note : Immuatable\n",
    "y+=2\n",
    "print(id(x),id(y))\n",
    "print(x,y)"
   ]
  },
  {
   "cell_type": "markdown",
   "id": "6eed7420",
   "metadata": {},
   "source": [
    "### Call By References"
   ]
  },
  {
   "cell_type": "code",
   "execution_count": 18,
   "id": "f190c764",
   "metadata": {},
   "outputs": [
    {
     "name": "stdout",
     "output_type": "stream",
     "text": [
      "140282797227072 140282797227072\n"
     ]
    }
   ],
   "source": [
    "x=[10]\n",
    "y=x\n",
    "print(id(x),id(y))"
   ]
  },
  {
   "cell_type": "code",
   "execution_count": 19,
   "id": "3f4ebbfe",
   "metadata": {},
   "outputs": [
    {
     "name": "stdout",
     "output_type": "stream",
     "text": [
      "140282797227072 140282797227072\n",
      "[2] [2]\n"
     ]
    }
   ],
   "source": [
    "#Note : muatable\n",
    "y[0]=2\n",
    "print(id(x),id(y))\n",
    "print(x,y)"
   ]
  },
  {
   "cell_type": "code",
   "execution_count": null,
   "id": "de877ae8",
   "metadata": {},
   "outputs": [],
   "source": []
  }
 ],
 "metadata": {
  "kernelspec": {
   "display_name": "Python 3 (ipykernel)",
   "language": "python",
   "name": "python3"
  },
  "language_info": {
   "codemirror_mode": {
    "name": "ipython",
    "version": 3
   },
   "file_extension": ".py",
   "mimetype": "text/x-python",
   "name": "python",
   "nbconvert_exporter": "python",
   "pygments_lexer": "ipython3",
   "version": "3.8.10"
  }
 },
 "nbformat": 4,
 "nbformat_minor": 5
}
