{
 "cells": [
  {
   "cell_type": "markdown",
   "metadata": {},
   "source": [
    "### Call By Value: (Deep Copy)\n",
    "#### Taking the copy the object\n",
    "#### if any changes done in new object \n",
    "#### if there is no impact in parent object there is called as Call By Value"
   ]
  },
  {
   "cell_type": "code",
   "execution_count": 1,
   "metadata": {},
   "outputs": [
    {
     "name": "stdout",
     "output_type": "stream",
     "text": [
      "9764672 9764672\n"
     ]
    }
   ],
   "source": [
    "x=10\n",
    "y=x\n",
    "print(id(x),id(y))"
   ]
  },
  {
   "cell_type": "code",
   "execution_count": 2,
   "metadata": {},
   "outputs": [
    {
     "name": "stdout",
     "output_type": "stream",
     "text": [
      "9764672 9764736\n",
      "10 12\n"
     ]
    }
   ],
   "source": [
    "#Note : Immuatable\n",
    "y+=2\n",
    "print(id(x),id(y))\n",
    "print(x,y)"
   ]
  },
  {
   "cell_type": "markdown",
   "metadata": {},
   "source": [
    "### Call By References (Shallow Copy)\n",
    "#### Taking the copy the object\n",
    "#### if any changes done in new object \n",
    "#### if there is  impact in parent object there is called as Call By Refernces"
   ]
  },
  {
   "cell_type": "code",
   "execution_count": 3,
   "metadata": {},
   "outputs": [
    {
     "name": "stdout",
     "output_type": "stream",
     "text": [
      "139702534967680 139702534967680\n"
     ]
    }
   ],
   "source": [
    "x=[10]\n",
    "y=x\n",
    "print(id(x),id(y))"
   ]
  },
  {
   "cell_type": "code",
   "execution_count": 4,
   "metadata": {},
   "outputs": [
    {
     "name": "stdout",
     "output_type": "stream",
     "text": [
      "139702534967680 139702534967680\n",
      "[2] [2]\n"
     ]
    }
   ],
   "source": [
    "#Note : muatable\n",
    "y[0]=2\n",
    "print(id(x),id(y))\n",
    "print(x,y)"
   ]
  },
  {
   "cell_type": "code",
   "execution_count": null,
   "metadata": {},
   "outputs": [],
   "source": []
  }
 ],
 "metadata": {
  "kernelspec": {
   "display_name": "Python 3",
   "language": "python",
   "name": "python3"
  },
  "language_info": {
   "codemirror_mode": {
    "name": "ipython",
    "version": 3
   },
   "file_extension": ".py",
   "mimetype": "text/x-python",
   "name": "python",
   "nbconvert_exporter": "python",
   "pygments_lexer": "ipython3",
   "version": "3.8.3"
  }
 },
 "nbformat": 4,
 "nbformat_minor": 5
}
