{
 "cells": [
  {
   "cell_type": "markdown",
   "id": "27724cc6",
   "metadata": {},
   "source": [
    "# Operators"
   ]
  },
  {
   "cell_type": "code",
   "execution_count": 1,
   "id": "9aac2e26",
   "metadata": {},
   "outputs": [
    {
     "name": "stdout",
     "output_type": "stream",
     "text": [
      "Addition Operator\n",
      "12\n",
      "Sub Operator\n",
      "8\n",
      "Multiply Operator\n",
      "20\n",
      "Exponent Operator\n",
      "100\n",
      "Division Operator\n",
      "5.0\n",
      "Floor Operator\n",
      "5\n",
      "modulus Opearator\n",
      "0\n"
     ]
    }
   ],
   "source": [
    "a = 10\n",
    "b = 2\n",
    "\n",
    "print('Addition Operator')\n",
    "print(a + b) \n",
    "\n",
    "print('Sub Operator')\n",
    "print(a - b) \n",
    "\n",
    "print('Multiply Operator')\n",
    "print(a * b) \n",
    "\n",
    "print('Exponent Operator')\n",
    "print(a ** b) \n",
    "\n",
    "print('Division Operator')\n",
    "print(a / b)\n",
    "\n",
    "print('Floor Operator')\n",
    "print(a // b)\n",
    "\n",
    "print('modulus Opearator')\n",
    "print( a % b)"
   ]
  },
  {
   "cell_type": "markdown",
   "id": "7220286e",
   "metadata": {},
   "source": [
    "# Modulus Operator (Focus only on Reminder Value)"
   ]
  },
  {
   "cell_type": "code",
   "execution_count": 2,
   "id": "dd1c0759",
   "metadata": {},
   "outputs": [
    {
     "name": "stdout",
     "output_type": "stream",
     "text": [
      "modulus Opearator\n",
      "5\n",
      "modulus Opearator\n",
      "9\n"
     ]
    }
   ],
   "source": [
    "a = 5\n",
    "b = 10\n",
    "\n",
    "print('modulus Opearator')\n",
    "print( a % b)\n",
    "\n",
    "a = 9\n",
    "b = 10\n",
    "\n",
    "print('modulus Opearator')\n",
    "print( a % b)"
   ]
  },
  {
   "cell_type": "code",
   "execution_count": 3,
   "id": "ecb1bed5",
   "metadata": {},
   "outputs": [
    {
     "name": "stdout",
     "output_type": "stream",
     "text": [
      "3\n",
      "12.3\n",
      "12\n"
     ]
    }
   ],
   "source": [
    "a = 123\n",
    "b = 10\n",
    "\n",
    "\n",
    "print( a % b)\n",
    "print(a / b)\n",
    "print(a // b)"
   ]
  },
  {
   "cell_type": "code",
   "execution_count": null,
   "id": "549fe33c",
   "metadata": {},
   "outputs": [],
   "source": []
  }
 ],
 "metadata": {
  "kernelspec": {
   "display_name": "Python 3 (ipykernel)",
   "language": "python",
   "name": "python3"
  },
  "language_info": {
   "codemirror_mode": {
    "name": "ipython",
    "version": 3
   },
   "file_extension": ".py",
   "mimetype": "text/x-python",
   "name": "python",
   "nbconvert_exporter": "python",
   "pygments_lexer": "ipython3",
   "version": "3.8.10"
  }
 },
 "nbformat": 4,
 "nbformat_minor": 5
}
