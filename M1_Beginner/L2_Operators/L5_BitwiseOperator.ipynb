{
 "cells": [
  {
   "cell_type": "markdown",
   "id": "a80b6d1d",
   "metadata": {},
   "source": [
    "# Bitwise Operator"
   ]
  },
  {
   "cell_type": "markdown",
   "id": "7568e4fa",
   "metadata": {},
   "source": [
    "## &\n",
    "### If both bits are 1 , then 1 otherwise 0"
   ]
  },
  {
   "cell_type": "code",
   "execution_count": 1,
   "id": "1eb62425",
   "metadata": {},
   "outputs": [
    {
     "name": "stdout",
     "output_type": "stream",
     "text": [
      "4\n"
     ]
    }
   ],
   "source": [
    "print(4 & 5) \n",
    "\n",
    "\n",
    "\n",
    "#       8421\n",
    "#      ------\n",
    "# 4 --> 0100\n",
    "# 5 --> 0101\n",
    "#      ------\n",
    "#       0100"
   ]
  },
  {
   "cell_type": "markdown",
   "id": "f37f9a39",
   "metadata": {},
   "source": [
    "## |\n",
    "### If atleast one bits is 1 , then 1 otherwise 0"
   ]
  },
  {
   "cell_type": "code",
   "execution_count": 2,
   "id": "97d8d4bb",
   "metadata": {},
   "outputs": [
    {
     "name": "stdout",
     "output_type": "stream",
     "text": [
      "5\n"
     ]
    }
   ],
   "source": [
    "print(4 | 5)\n",
    "\n",
    "\n",
    "#       8421\n",
    "#      ------\n",
    "# 4 --> 0100\n",
    "# 5 --> 0101\n",
    "#      ------\n",
    "#       0101"
   ]
  },
  {
   "cell_type": "markdown",
   "id": "fed71c35",
   "metadata": {},
   "source": [
    "# X-OR \n",
    "## If both bits are diff , then 1 otherwise 0"
   ]
  },
  {
   "cell_type": "code",
   "execution_count": 3,
   "id": "d6793a60",
   "metadata": {},
   "outputs": [
    {
     "name": "stdout",
     "output_type": "stream",
     "text": [
      "1\n"
     ]
    }
   ],
   "source": [
    "print(4 ^ 5)\n",
    "\n",
    "\n",
    "#       8421\n",
    "#      ------\n",
    "# 4 --> 0100\n",
    "# 5 --> 0101\n",
    "#      ------\n",
    "#       0001"
   ]
  },
  {
   "cell_type": "code",
   "execution_count": null,
   "id": "0191ad6a",
   "metadata": {},
   "outputs": [],
   "source": []
  },
  {
   "cell_type": "markdown",
   "id": "26d61cf4",
   "metadata": {},
   "source": [
    "# ~   = Complement Opearator\n",
    "# << = Left Shift\n",
    "# >> = Right Shift"
   ]
  },
  {
   "cell_type": "code",
   "execution_count": null,
   "id": "a672822c",
   "metadata": {},
   "outputs": [],
   "source": []
  },
  {
   "cell_type": "markdown",
   "id": "3c521b9d",
   "metadata": {},
   "source": [
    "# Difference between And (logical) and & (bitwise) Operators "
   ]
  },
  {
   "cell_type": "code",
   "execution_count": 4,
   "id": "634a1c08",
   "metadata": {},
   "outputs": [
    {
     "name": "stdout",
     "output_type": "stream",
     "text": [
      "5\n",
      "4\n"
     ]
    }
   ],
   "source": [
    "print(4 and 5) # ---> ans --> 5\n",
    "print(4 & 5) # ---> ans --> 4"
   ]
  },
  {
   "cell_type": "code",
   "execution_count": null,
   "id": "e4d547c3",
   "metadata": {},
   "outputs": [],
   "source": []
  }
 ],
 "metadata": {
  "kernelspec": {
   "display_name": "Python 3 (ipykernel)",
   "language": "python",
   "name": "python3"
  },
  "language_info": {
   "codemirror_mode": {
    "name": "ipython",
    "version": 3
   },
   "file_extension": ".py",
   "mimetype": "text/x-python",
   "name": "python",
   "nbconvert_exporter": "python",
   "pygments_lexer": "ipython3",
   "version": "3.8.10"
  }
 },
 "nbformat": 4,
 "nbformat_minor": 5
}
