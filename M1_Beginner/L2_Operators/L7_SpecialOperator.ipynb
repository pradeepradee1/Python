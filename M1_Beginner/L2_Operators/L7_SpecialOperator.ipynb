{
 "cells": [
  {
   "cell_type": "markdown",
   "id": "a1dd8d21",
   "metadata": {},
   "source": [
    "# Special Operator\n",
    "## 1.1 Identity Operator\n",
    "## 1.2 Membership Operator"
   ]
  },
  {
   "cell_type": "code",
   "execution_count": null,
   "id": "f99322ea",
   "metadata": {},
   "outputs": [],
   "source": []
  },
  {
   "cell_type": "markdown",
   "id": "0fcf7084",
   "metadata": {},
   "source": [
    "# 1.1 Identity \n",
    "##     is\n",
    "##     is not"
   ]
  },
  {
   "cell_type": "markdown",
   "id": "9f62ac13",
   "metadata": {},
   "source": [
    "# Is - Purpose of checking the address"
   ]
  },
  {
   "cell_type": "code",
   "execution_count": 1,
   "id": "9f75d090",
   "metadata": {},
   "outputs": [
    {
     "name": "stdout",
     "output_type": "stream",
     "text": [
      "140480116796848\n",
      "140480116796848\n",
      "True\n",
      "True\n",
      "-------->\n",
      "140480056046848\n",
      "140480056047296\n",
      "False\n",
      "True\n"
     ]
    }
   ],
   "source": [
    "string1 = \"10\"\n",
    "string2 = \"10\"\n",
    "print(id(string1))\n",
    "print(id(string2))\n",
    "print(string1 is string2)\n",
    "print(string1 == string2)\n",
    "print(\"-------->\")\n",
    "list1 = [1,2,3]\n",
    "list2 = [1,2,3]\n",
    "print(id(list1))\n",
    "print(id(list2))\n",
    "print(list1 is list2)\n",
    "print(list1 == list2)"
   ]
  },
  {
   "cell_type": "code",
   "execution_count": null,
   "id": "6c2ba43c",
   "metadata": {},
   "outputs": [],
   "source": []
  },
  {
   "cell_type": "markdown",
   "id": "24d69e3b",
   "metadata": {},
   "source": [
    "# Note :\n",
    "##  is ---> Memory\n",
    "## == ---> Content"
   ]
  },
  {
   "cell_type": "code",
   "execution_count": null,
   "id": "6dc82140",
   "metadata": {},
   "outputs": [],
   "source": []
  },
  {
   "cell_type": "code",
   "execution_count": null,
   "id": "b3a9957c",
   "metadata": {},
   "outputs": [],
   "source": []
  },
  {
   "cell_type": "markdown",
   "id": "c8de12f7",
   "metadata": {},
   "source": [
    "# 1.2 Membership operator"
   ]
  },
  {
   "cell_type": "code",
   "execution_count": 2,
   "id": "0237cc90",
   "metadata": {},
   "outputs": [
    {
     "name": "stdout",
     "output_type": "stream",
     "text": [
      "True\n"
     ]
    }
   ],
   "source": [
    "a = [1,2,3]\n",
    "print(1 in a)"
   ]
  },
  {
   "cell_type": "code",
   "execution_count": 3,
   "id": "8d0f8da3",
   "metadata": {},
   "outputs": [
    {
     "name": "stdout",
     "output_type": "stream",
     "text": [
      "False\n"
     ]
    }
   ],
   "source": [
    "print(10 in a)"
   ]
  },
  {
   "cell_type": "code",
   "execution_count": null,
   "id": "3f3473b4",
   "metadata": {},
   "outputs": [],
   "source": []
  },
  {
   "cell_type": "code",
   "execution_count": null,
   "id": "5b29496c",
   "metadata": {},
   "outputs": [],
   "source": []
  }
 ],
 "metadata": {
  "kernelspec": {
   "display_name": "Python 3 (ipykernel)",
   "language": "python",
   "name": "python3"
  },
  "language_info": {
   "codemirror_mode": {
    "name": "ipython",
    "version": 3
   },
   "file_extension": ".py",
   "mimetype": "text/x-python",
   "name": "python",
   "nbconvert_exporter": "python",
   "pygments_lexer": "ipython3",
   "version": "3.8.10"
  }
 },
 "nbformat": 4,
 "nbformat_minor": 5
}
