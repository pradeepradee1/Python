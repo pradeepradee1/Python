{
 "cells": [
  {
   "cell_type": "markdown",
   "id": "caed2842",
   "metadata": {},
   "source": [
    "# Operator Precendency \n",
    "## BODMAS"
   ]
  },
  {
   "cell_type": "code",
   "execution_count": 1,
   "id": "fad26f02",
   "metadata": {},
   "outputs": [
    {
     "name": "stdout",
     "output_type": "stream",
     "text": [
      "16\n"
     ]
    }
   ],
   "source": [
    "print(10+2*3)"
   ]
  },
  {
   "cell_type": "code",
   "execution_count": 2,
   "id": "647a9834",
   "metadata": {},
   "outputs": [
    {
     "name": "stdout",
     "output_type": "stream",
     "text": [
      "36\n"
     ]
    }
   ],
   "source": [
    "print((10+2)*3)"
   ]
  },
  {
   "cell_type": "markdown",
   "id": "e0040e86",
   "metadata": {},
   "source": [
    "# Opearator Precendency\n",
    "## 1) () \n",
    "## 2) **\n",
    "## 3) ~,-\n",
    "## 4) *,%,/,//\n",
    "## 5) + , -\n",
    "## 6) << ,>>\n",
    "#"
   ]
  },
  {
   "cell_type": "code",
   "execution_count": null,
   "id": "e0efa3f8",
   "metadata": {},
   "outputs": [],
   "source": []
  },
  {
   "cell_type": "code",
   "execution_count": null,
   "id": "bcf26fdf",
   "metadata": {},
   "outputs": [],
   "source": []
  }
 ],
 "metadata": {
  "kernelspec": {
   "display_name": "Python 3 (ipykernel)",
   "language": "python",
   "name": "python3"
  },
  "language_info": {
   "codemirror_mode": {
    "name": "ipython",
    "version": 3
   },
   "file_extension": ".py",
   "mimetype": "text/x-python",
   "name": "python",
   "nbconvert_exporter": "python",
   "pygments_lexer": "ipython3",
   "version": "3.8.10"
  }
 },
 "nbformat": 4,
 "nbformat_minor": 5
}
