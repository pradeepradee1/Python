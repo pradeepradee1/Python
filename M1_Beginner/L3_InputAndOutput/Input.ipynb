{
 "cells": [
  {
   "cell_type": "markdown",
   "id": "66e1e89c",
   "metadata": {},
   "source": [
    "# Input From Client"
   ]
  },
  {
   "cell_type": "code",
   "execution_count": 4,
   "id": "dba3b767",
   "metadata": {},
   "outputs": [
    {
     "name": "stdout",
     "output_type": "stream",
     "text": [
      "Enter The Number For X 5\n",
      "Enter The Number For Y 5\n"
     ]
    }
   ],
   "source": [
    "x = input(\"Enter The Number For X \")\n",
    "y = input(\"Enter The Number For Y \")"
   ]
  },
  {
   "cell_type": "code",
   "execution_count": 5,
   "id": "528d922e",
   "metadata": {},
   "outputs": [
    {
     "name": "stdout",
     "output_type": "stream",
     "text": [
      "5\n",
      "5\n"
     ]
    }
   ],
   "source": [
    "print(x)\n",
    "print(y)"
   ]
  },
  {
   "cell_type": "markdown",
   "id": "76b3b5e4",
   "metadata": {},
   "source": [
    "# Eval Function "
   ]
  },
  {
   "cell_type": "code",
   "execution_count": 6,
   "id": "0f9791e9",
   "metadata": {},
   "outputs": [
    {
     "data": {
      "text/plain": [
       "60"
      ]
     },
     "execution_count": 6,
     "metadata": {},
     "output_type": "execute_result"
    }
   ],
   "source": [
    "eval(\"10+20+30\")"
   ]
  },
  {
   "cell_type": "code",
   "execution_count": 7,
   "id": "61b8672c",
   "metadata": {},
   "outputs": [],
   "source": [
    "#eval(\"a\")#Error"
   ]
  },
  {
   "cell_type": "code",
   "execution_count": 8,
   "id": "2a3858f9",
   "metadata": {},
   "outputs": [
    {
     "name": "stdout",
     "output_type": "stream",
     "text": [
      "Enter The Number For X 4\n",
      "Enter The Number For Y 5\n"
     ]
    }
   ],
   "source": [
    "x = eval(input(\"Enter The Number For X \"))\n",
    "y = eval(input(\"Enter The Number For Y \"))"
   ]
  },
  {
   "cell_type": "code",
   "execution_count": 9,
   "id": "821fea21",
   "metadata": {},
   "outputs": [
    {
     "name": "stdout",
     "output_type": "stream",
     "text": [
      "4\n"
     ]
    }
   ],
   "source": [
    "print(x%y)"
   ]
  },
  {
   "cell_type": "code",
   "execution_count": 10,
   "id": "946118cc",
   "metadata": {},
   "outputs": [
    {
     "name": "stdout",
     "output_type": "stream",
     "text": [
      "<class 'int'>\n",
      "<class 'int'>\n"
     ]
    }
   ],
   "source": [
    "print(type(x))\n",
    "print(type(y))"
   ]
  },
  {
   "cell_type": "code",
   "execution_count": null,
   "id": "776d5676",
   "metadata": {},
   "outputs": [],
   "source": []
  },
  {
   "cell_type": "code",
   "execution_count": 12,
   "id": "451cc5b2",
   "metadata": {},
   "outputs": [
    {
     "name": "stdout",
     "output_type": "stream",
     "text": [
      "enter the three numbers:2,3,4\n"
     ]
    }
   ],
   "source": [
    "a,b,c = [eval(x) for x in input(\"enter the three numbers:\").split(\",\")]"
   ]
  },
  {
   "cell_type": "code",
   "execution_count": 13,
   "id": "6c637b8b",
   "metadata": {},
   "outputs": [
    {
     "name": "stdout",
     "output_type": "stream",
     "text": [
      "2 3 4\n"
     ]
    }
   ],
   "source": [
    "print(a,b,c)"
   ]
  },
  {
   "cell_type": "code",
   "execution_count": null,
   "id": "b5eda70b",
   "metadata": {},
   "outputs": [],
   "source": []
  }
 ],
 "metadata": {
  "kernelspec": {
   "display_name": "Python 3 (ipykernel)",
   "language": "python",
   "name": "python3"
  },
  "language_info": {
   "codemirror_mode": {
    "name": "ipython",
    "version": 3
   },
   "file_extension": ".py",
   "mimetype": "text/x-python",
   "name": "python",
   "nbconvert_exporter": "python",
   "pygments_lexer": "ipython3",
   "version": "3.8.10"
  }
 },
 "nbformat": 4,
 "nbformat_minor": 5
}
