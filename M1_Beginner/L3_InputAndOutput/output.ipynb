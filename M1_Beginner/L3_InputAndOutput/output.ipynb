{
 "cells": [
  {
   "cell_type": "markdown",
   "id": "954cf593",
   "metadata": {},
   "source": [
    "# Output"
   ]
  },
  {
   "cell_type": "code",
   "execution_count": 1,
   "id": "ade3fc23",
   "metadata": {},
   "outputs": [],
   "source": [
    "Name = \"Pradeep\"\n",
    "Tech = \"Python\"\n",
    "Framework = \"Django\""
   ]
  },
  {
   "cell_type": "code",
   "execution_count": 2,
   "id": "f7b78731",
   "metadata": {},
   "outputs": [
    {
     "name": "stdout",
     "output_type": "stream",
     "text": [
      "Hello This is Pradeep am a Python developer with knoweldge Django\n"
     ]
    }
   ],
   "source": [
    "print(\"Hello This is {} am a {} developer with knoweldge {}\" .format(Name,Tech,Framework))"
   ]
  },
  {
   "cell_type": "code",
   "execution_count": 3,
   "id": "9954c056",
   "metadata": {},
   "outputs": [
    {
     "name": "stdout",
     "output_type": "stream",
     "text": [
      "Hello This is Django am a Python developer with knoweldge Pradeep\n"
     ]
    }
   ],
   "source": [
    "print(\"Hello This is {2} am a {1} developer with knoweldge {0}\" .format(Name,Tech,Framework))"
   ]
  },
  {
   "cell_type": "code",
   "execution_count": 4,
   "id": "aa94c816",
   "metadata": {},
   "outputs": [
    {
     "name": "stdout",
     "output_type": "stream",
     "text": [
      "Hello This is Pradeep am a Python developer with knoweldge Django\n"
     ]
    }
   ],
   "source": [
    "print(\"Hello This is {x} am a {y} developer with knoweldge {z}\" .format(x=Name,y=Tech,z=Framework))"
   ]
  },
  {
   "cell_type": "code",
   "execution_count": null,
   "id": "f1503d58",
   "metadata": {},
   "outputs": [],
   "source": []
  },
  {
   "cell_type": "markdown",
   "id": "7cb74b02",
   "metadata": {},
   "source": [
    "# print() "
   ]
  },
  {
   "cell_type": "code",
   "execution_count": 5,
   "id": "442dd59b",
   "metadata": {},
   "outputs": [
    {
     "name": "stdout",
     "output_type": "stream",
     "text": [
      "Pradeep\n",
      "Python\n",
      "Django\n"
     ]
    }
   ],
   "source": [
    "print(Name)\n",
    "print(Tech)\n",
    "print(Framework)"
   ]
  },
  {
   "cell_type": "code",
   "execution_count": 12,
   "id": "d9ea817f",
   "metadata": {},
   "outputs": [
    {
     "name": "stdout",
     "output_type": "stream",
     "text": [
      "Pradeep-> Python-> Django\n"
     ]
    }
   ],
   "source": [
    "print(Name,Tech,Framework,sep='-> ')"
   ]
  },
  {
   "cell_type": "code",
   "execution_count": 13,
   "id": "2b9080cc",
   "metadata": {},
   "outputs": [
    {
     "name": "stdout",
     "output_type": "stream",
     "text": [
      "Pradeep Python Django "
     ]
    }
   ],
   "source": [
    "print(Name,end=' ')\n",
    "print(Tech,end=' ')\n",
    "print(Framework,end=' ')"
   ]
  },
  {
   "cell_type": "code",
   "execution_count": null,
   "id": "ae4c1abd",
   "metadata": {},
   "outputs": [],
   "source": []
  }
 ],
 "metadata": {
  "kernelspec": {
   "display_name": "Python 3 (ipykernel)",
   "language": "python",
   "name": "python3"
  },
  "language_info": {
   "codemirror_mode": {
    "name": "ipython",
    "version": 3
   },
   "file_extension": ".py",
   "mimetype": "text/x-python",
   "name": "python",
   "nbconvert_exporter": "python",
   "pygments_lexer": "ipython3",
   "version": "3.8.10"
  }
 },
 "nbformat": 4,
 "nbformat_minor": 5
}
