{
 "cells": [
  {
   "cell_type": "markdown",
   "id": "f3c2d890",
   "metadata": {},
   "source": [
    "# If Pattern"
   ]
  },
  {
   "cell_type": "markdown",
   "id": "2140ab26",
   "metadata": {},
   "source": [
    "## 1) if\n",
    "## 2) if else\n",
    "## 3) if elif else\n",
    "## 4) if elif"
   ]
  },
  {
   "cell_type": "code",
   "execution_count": null,
   "id": "9b753150",
   "metadata": {},
   "outputs": [],
   "source": []
  }
 ],
 "metadata": {
  "kernelspec": {
   "display_name": "Python 3 (ipykernel)",
   "language": "python",
   "name": "python3"
  },
  "language_info": {
   "codemirror_mode": {
    "name": "ipython",
    "version": 3
   },
   "file_extension": ".py",
   "mimetype": "text/x-python",
   "name": "python",
   "nbconvert_exporter": "python",
   "pygments_lexer": "ipython3",
   "version": "3.8.10"
  }
 },
 "nbformat": 4,
 "nbformat_minor": 5
}
