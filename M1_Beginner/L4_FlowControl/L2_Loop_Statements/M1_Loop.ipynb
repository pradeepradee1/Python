{
 "cells": [
  {
   "cell_type": "markdown",
   "id": "27d084ad",
   "metadata": {},
   "source": [
    "### For-Each"
   ]
  },
  {
   "cell_type": "code",
   "execution_count": 40,
   "id": "15715fbd",
   "metadata": {},
   "outputs": [
    {
     "name": "stdout",
     "output_type": "stream",
     "text": [
      "1\n",
      "2\n",
      "3\n",
      "4\n",
      "5\n",
      "10\n",
      "11\n"
     ]
    }
   ],
   "source": [
    "cart = [1,2,3,4,5,10,11]\n",
    "for i in cart:\n",
    "    print(i)"
   ]
  },
  {
   "cell_type": "markdown",
   "id": "81bb40b2",
   "metadata": {},
   "source": [
    "### For Loop"
   ]
  },
  {
   "cell_type": "code",
   "execution_count": 41,
   "id": "e412a01b",
   "metadata": {},
   "outputs": [
    {
     "name": "stdout",
     "output_type": "stream",
     "text": [
      "1\n",
      "2\n",
      "3\n",
      "4\n",
      "5\n",
      "10\n",
      "11\n"
     ]
    }
   ],
   "source": [
    "cart = [1,2,3,4,5,10,11]\n",
    "for i in range(len(cart)):\n",
    "    print(cart[i])"
   ]
  },
  {
   "cell_type": "markdown",
   "id": "0484b7cb",
   "metadata": {},
   "source": [
    "### While Loop"
   ]
  },
  {
   "cell_type": "code",
   "execution_count": 48,
   "id": "ba870ea1",
   "metadata": {},
   "outputs": [
    {
     "name": "stdout",
     "output_type": "stream",
     "text": [
      "1\n",
      "2\n",
      "3\n",
      "4\n",
      "5\n",
      "10\n",
      "11\n"
     ]
    }
   ],
   "source": [
    "cart = [1,2,3,4,5,10,11]\n",
    "i=0\n",
    "while i < len(cart):\n",
    "    print(cart[i])\n",
    "    i+=1\n",
    "\n",
    "# Syntax :\n",
    "# while True or False:\n",
    "#    print(cart[i])\n",
    "#    i+=1\n",
    "\n"
   ]
  },
  {
   "cell_type": "code",
   "execution_count": null,
   "id": "e4b12400",
   "metadata": {},
   "outputs": [],
   "source": []
  }
 ],
 "metadata": {
  "kernelspec": {
   "display_name": "Python 3 (ipykernel)",
   "language": "python",
   "name": "python3"
  },
  "language_info": {
   "codemirror_mode": {
    "name": "ipython",
    "version": 3
   },
   "file_extension": ".py",
   "mimetype": "text/x-python",
   "name": "python",
   "nbconvert_exporter": "python",
   "pygments_lexer": "ipython3",
   "version": "3.8.10"
  }
 },
 "nbformat": 4,
 "nbformat_minor": 5
}
