{
 "cells": [
  {
   "cell_type": "markdown",
   "id": "aebe14ed",
   "metadata": {},
   "source": [
    "# If Loop Executed without any interruption(break) Then it will go to else part\n",
    "# If Loop Executed with any interruption(break) Then it will not go to else part"
   ]
  },
  {
   "cell_type": "code",
   "execution_count": 5,
   "id": "680d3c92",
   "metadata": {},
   "outputs": [
    {
     "name": "stdout",
     "output_type": "stream",
     "text": [
      "else Excution\n"
     ]
    }
   ],
   "source": [
    "cart = [1,2,3,4,5,10,11]\n",
    "for i in cart:\n",
    "    if i >= 100:\n",
    "        print(\"Sorry We can't take this \")\n",
    "        print(\"Break enabled\")\n",
    "        print(i)\n",
    "        break\n",
    "else:\n",
    "    print(\"else Excution\")"
   ]
  },
  {
   "cell_type": "code",
   "execution_count": 6,
   "id": "f322b0ff",
   "metadata": {},
   "outputs": [
    {
     "name": "stdout",
     "output_type": "stream",
     "text": [
      "Sorry We can't take this \n",
      "Break Enabled\n",
      "10\n"
     ]
    }
   ],
   "source": [
    "cart = [1,2,3,4,5,10,11]\n",
    "for i in cart:\n",
    "    if i >= 10:\n",
    "        print(\"Sorry We can't take this \")\n",
    "        print(\"Break Enabled\")\n",
    "        print(i)\n",
    "        break\n",
    "else:\n",
    "    print(\"else Excution\")"
   ]
  },
  {
   "cell_type": "markdown",
   "id": "d90eddba",
   "metadata": {},
   "source": [
    "### While Loop"
   ]
  },
  {
   "cell_type": "code",
   "execution_count": 17,
   "id": "ff8fea59",
   "metadata": {},
   "outputs": [
    {
     "name": "stdout",
     "output_type": "stream",
     "text": [
      "1\n",
      "2\n",
      "3\n",
      "4\n",
      "5\n",
      "10\n",
      "Sorry We can't take this \n",
      "Break enabled\n",
      "10\n"
     ]
    }
   ],
   "source": [
    "cart = [1,2,3,4,5,10,11]\n",
    "a=0\n",
    "while a < len(cart):\n",
    "    print(cart[a])\n",
    "    if cart[a] >= 10:\n",
    "        print(\"Sorry We can't take this \")\n",
    "        print(\"Break enabled\")\n",
    "        print(i)\n",
    "        break\n",
    "    a+=1\n",
    "else:\n",
    "    print(\"else Excution\")"
   ]
  },
  {
   "cell_type": "code",
   "execution_count": 18,
   "id": "ef15c232",
   "metadata": {},
   "outputs": [
    {
     "name": "stdout",
     "output_type": "stream",
     "text": [
      "1\n",
      "2\n",
      "3\n",
      "4\n",
      "5\n",
      "6\n",
      "7\n",
      "8\n",
      "9\n",
      "Sorry can't take this number as 9\n"
     ]
    }
   ],
   "source": [
    "a=0\n",
    "while a < 20:\n",
    "    if a > 8:\n",
    "        print(\"Sorry can't take this number as {}\".format(a))\n",
    "        break\n",
    "    a+=1\n",
    "    print(a)\n",
    "else:\n",
    "    print(\"else execution\")"
   ]
  },
  {
   "cell_type": "code",
   "execution_count": 13,
   "id": "ca57e214",
   "metadata": {},
   "outputs": [
    {
     "name": "stdout",
     "output_type": "stream",
     "text": [
      "1\n",
      "2\n",
      "3\n",
      "4\n",
      "5\n",
      "6\n",
      "7\n",
      "8\n",
      "9\n",
      "10\n",
      "11\n",
      "12\n",
      "13\n",
      "14\n",
      "15\n",
      "16\n",
      "17\n",
      "18\n",
      "19\n",
      "20\n",
      "else execution\n"
     ]
    }
   ],
   "source": [
    "a=0\n",
    "while a < 20:\n",
    "    if a > 81:\n",
    "        print(\"Sorry can't take this number as {}\".format(a))\n",
    "        break\n",
    "    a+=1\n",
    "    print(a)\n",
    "else:\n",
    "    print(\"else execution\")"
   ]
  },
  {
   "cell_type": "code",
   "execution_count": null,
   "id": "8e95f951",
   "metadata": {},
   "outputs": [],
   "source": []
  },
  {
   "cell_type": "code",
   "execution_count": null,
   "id": "a4b19657",
   "metadata": {},
   "outputs": [],
   "source": []
  },
  {
   "cell_type": "code",
   "execution_count": null,
   "id": "1269e1fb",
   "metadata": {},
   "outputs": [],
   "source": []
  }
 ],
 "metadata": {
  "kernelspec": {
   "display_name": "Python 3 (ipykernel)",
   "language": "python",
   "name": "python3"
  },
  "language_info": {
   "codemirror_mode": {
    "name": "ipython",
    "version": 3
   },
   "file_extension": ".py",
   "mimetype": "text/x-python",
   "name": "python",
   "nbconvert_exporter": "python",
   "pygments_lexer": "ipython3",
   "version": "3.8.10"
  }
 },
 "nbformat": 4,
 "nbformat_minor": 5
}
