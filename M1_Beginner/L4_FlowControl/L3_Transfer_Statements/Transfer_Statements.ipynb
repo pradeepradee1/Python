{
 "cells": [
  {
   "cell_type": "markdown",
   "id": "d1a3b54f",
   "metadata": {},
   "source": [
    "# 1) Break"
   ]
  },
  {
   "cell_type": "markdown",
   "id": "3c619d7c",
   "metadata": {},
   "source": [
    "## Break is keyword"
   ]
  },
  {
   "cell_type": "markdown",
   "id": "955e890d",
   "metadata": {},
   "source": [
    "## We can use Break Statement in the inside loops to break loop execution based on the some conditions."
   ]
  },
  {
   "cell_type": "code",
   "execution_count": 2,
   "id": "214fdbf7",
   "metadata": {},
   "outputs": [
    {
     "name": "stdout",
     "output_type": "stream",
     "text": [
      "0\n",
      "1\n",
      "2\n",
      "3\n",
      "4\n",
      "5\n",
      "6\n",
      "7\n",
      "Break loop execution\n"
     ]
    }
   ],
   "source": [
    "# EX : 1\n",
    "for i in range(10):\n",
    "    if i==7:\n",
    "        print(i)\n",
    "        print(\"Break loop execution\")\n",
    "        break\n",
    "    print(i)"
   ]
  },
  {
   "cell_type": "code",
   "execution_count": null,
   "id": "d46ee0f0",
   "metadata": {},
   "outputs": [],
   "source": []
  },
  {
   "cell_type": "markdown",
   "id": "9ee44d70",
   "metadata": {},
   "source": [
    "# 2) Continue"
   ]
  },
  {
   "cell_type": "markdown",
   "id": "184b1845",
   "metadata": {},
   "source": [
    "# Continue is keyword"
   ]
  },
  {
   "cell_type": "markdown",
   "id": "d945713b",
   "metadata": {},
   "source": [
    "## We can use continue statement in inside loops to skip current iterations and continue with next iterations"
   ]
  },
  {
   "cell_type": "code",
   "execution_count": 3,
   "id": "5fac33e8",
   "metadata": {},
   "outputs": [
    {
     "name": "stdout",
     "output_type": "stream",
     "text": [
      "0\n",
      "2\n",
      "4\n",
      "6\n",
      "8\n"
     ]
    }
   ],
   "source": [
    "for i in range(10):\n",
    "    if i % 2 == 0:\n",
    "        print(i)\n",
    "        continue"
   ]
  },
  {
   "cell_type": "code",
   "execution_count": 4,
   "id": "d4b71c19",
   "metadata": {},
   "outputs": [
    {
     "name": "stdout",
     "output_type": "stream",
     "text": [
      "10\n",
      "Sorry can't take this \n",
      "11\n",
      "Sorry can't take this \n"
     ]
    }
   ],
   "source": [
    "cart = [1,2,3,10,11]\n",
    "for i in cart:\n",
    "    if i >= 10:\n",
    "        print(i)\n",
    "        print(\"Sorry can't take this \")\n",
    "        continue"
   ]
  },
  {
   "cell_type": "code",
   "execution_count": null,
   "id": "944c1ed1",
   "metadata": {},
   "outputs": [],
   "source": []
  },
  {
   "cell_type": "markdown",
   "id": "bbb6fa9b",
   "metadata": {},
   "source": [
    "# 3) Pass\n",
    "\n",
    "## Pass is keyword\n",
    "\n",
    "## We can define pass for won't do anything or Empty block Statements"
   ]
  },
  {
   "cell_type": "code",
   "execution_count": 5,
   "id": "bc7be1a5",
   "metadata": {},
   "outputs": [
    {
     "name": "stdout",
     "output_type": "stream",
     "text": [
      "0\n",
      "1\n",
      "2\n",
      "3\n",
      "4\n",
      "5\n",
      "6\n",
      "7\n",
      "8\n"
     ]
    }
   ],
   "source": [
    "# Ex:\n",
    "for i in range(10):\n",
    "    if i > 8 :pass\n",
    "    else:\n",
    "        print(i)\n"
   ]
  },
  {
   "cell_type": "code",
   "execution_count": 6,
   "id": "36577ac2",
   "metadata": {},
   "outputs": [],
   "source": [
    "def a():pass"
   ]
  },
  {
   "cell_type": "code",
   "execution_count": 7,
   "id": "f376dad1",
   "metadata": {},
   "outputs": [],
   "source": [
    "if True:pass"
   ]
  },
  {
   "cell_type": "code",
   "execution_count": null,
   "id": "96b418f5",
   "metadata": {},
   "outputs": [],
   "source": []
  },
  {
   "cell_type": "markdown",
   "id": "c1ff1bb6",
   "metadata": {},
   "source": [
    "# 4) Del\n",
    "\n",
    "## Del is keyword\n",
    "\n",
    "## After using a variable , it is highly recommended to delete that variable if it it no longer required\n",
    "## so that object is eligible for garbage collection \n",
    "\n",
    "## we can delete variable by using del keyword"
   ]
  },
  {
   "cell_type": "code",
   "execution_count": 8,
   "id": "4fd8eb03",
   "metadata": {},
   "outputs": [
    {
     "name": "stdout",
     "output_type": "stream",
     "text": [
      "10\n"
     ]
    },
    {
     "ename": "NameError",
     "evalue": "name 'a' is not defined",
     "output_type": "error",
     "traceback": [
      "\u001b[0;31m---------------------------------------------------------------------------\u001b[0m",
      "\u001b[0;31mNameError\u001b[0m                                 Traceback (most recent call last)",
      "Input \u001b[0;32mIn [8]\u001b[0m, in \u001b[0;36m<module>\u001b[0;34m\u001b[0m\n\u001b[1;32m      2\u001b[0m \u001b[38;5;28mprint\u001b[39m(a)\n\u001b[1;32m      3\u001b[0m \u001b[38;5;28;01mdel\u001b[39;00m a\n\u001b[0;32m----> 4\u001b[0m \u001b[38;5;28mprint\u001b[39m(\u001b[43ma\u001b[49m)\n",
      "\u001b[0;31mNameError\u001b[0m: name 'a' is not defined"
     ]
    }
   ],
   "source": [
    "a=10\n",
    "print(a)\n",
    "del a\n",
    "print(a)"
   ]
  },
  {
   "cell_type": "code",
   "execution_count": null,
   "id": "1fe3b86f",
   "metadata": {},
   "outputs": [],
   "source": []
  }
 ],
 "metadata": {
  "kernelspec": {
   "display_name": "Python 3 (ipykernel)",
   "language": "python",
   "name": "python3"
  },
  "language_info": {
   "codemirror_mode": {
    "name": "ipython",
    "version": 3
   },
   "file_extension": ".py",
   "mimetype": "text/x-python",
   "name": "python",
   "nbconvert_exporter": "python",
   "pygments_lexer": "ipython3",
   "version": "3.8.10"
  }
 },
 "nbformat": 4,
 "nbformat_minor": 5
}
