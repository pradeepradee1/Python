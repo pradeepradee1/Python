{
 "cells": [
  {
   "cell_type": "code",
   "execution_count": 4,
   "id": "b24f5672",
   "metadata": {},
   "outputs": [
    {
     "name": "stdout",
     "output_type": "stream",
     "text": [
      "0 0 0 0 0 \n",
      "1 1 1 1 1 \n",
      "2 2 2 2 2 \n",
      "3 3 3 3 3 \n",
      "4 4 4 4 4 \n"
     ]
    }
   ],
   "source": [
    "for i in range(0,5):\n",
    "    for j in range(0,5):\n",
    "        print(i,end=\" \")\n",
    "    print()"
   ]
  },
  {
   "cell_type": "code",
   "execution_count": 6,
   "id": "37d1bab7",
   "metadata": {},
   "outputs": [
    {
     "name": "stdout",
     "output_type": "stream",
     "text": [
      "0 1 2 3 4 \n",
      "0 1 2 3 4 \n",
      "0 1 2 3 4 \n",
      "0 1 2 3 4 \n",
      "0 1 2 3 4 \n"
     ]
    }
   ],
   "source": [
    "for i in range(0,5):\n",
    "    for j in range(0,5):\n",
    "        print(j,end=' ')\n",
    "    print()"
   ]
  },
  {
   "cell_type": "code",
   "execution_count": 15,
   "id": "a8011360",
   "metadata": {},
   "outputs": [
    {
     "name": "stdout",
     "output_type": "stream",
     "text": [
      "1 2 3 4 5 \n",
      "6 1 2 3 4 \n",
      "5 6 1 2 3 \n",
      "4 5 6 1 2 \n",
      "3 4 5 6 1 \n",
      "\n",
      "second approch\n",
      "\n",
      "1 2 3 4 5 \n",
      "6 1 2 3 4 \n",
      "5 6 1 2 3 \n",
      "4 5 6 1 2 \n",
      "3 4 5 6 1 \n"
     ]
    }
   ],
   "source": [
    "for i in range(1,6):\n",
    "    for j in range(1,6):\n",
    "        if i == j:\n",
    "            Thirdvariable=1\n",
    "        print(Thirdvariable,end=\" \")\n",
    "        Thirdvariable+=1\n",
    "    print()\n",
    "print()\n",
    "print(\"second approch\")\n",
    "print()\n",
    "Thirdvariable=0\n",
    "for i in range(1,6):\n",
    "    for j in range(1,6):\n",
    "        Thirdvariable+=1\n",
    "        if Thirdvariable < 7:\n",
    "            print(Thirdvariable,end=\" \")\n",
    "        else:\n",
    "            Thirdvariable=1\n",
    "            print(Thirdvariable,end=\" \")\n",
    "        \n",
    "    print()"
   ]
  },
  {
   "cell_type": "code",
   "execution_count": 17,
   "id": "5868df23",
   "metadata": {},
   "outputs": [
    {
     "name": "stdout",
     "output_type": "stream",
     "text": [
      "1 2 3 4 5 \n",
      "6 7 1 2 3 \n",
      "4 5 6 1 2 \n",
      "3 4 5 1 2 \n",
      "3 4 1 2 3 \n"
     ]
    }
   ],
   "source": [
    "Thirdvariable=0\n",
    "Reducevariable=7\n",
    "for i in range(1,6):\n",
    "    for j in range(1,6):\n",
    "        Thirdvariable+=1\n",
    "        if Thirdvariable >= Reducevariable:\n",
    "            Reducevariable -= 1\n",
    "            print(Thirdvariable,end = \" \")\n",
    "            Thirdvariable=0\n",
    "        else:\n",
    "            print(Thirdvariable,end = \" \")\n",
    "    print()"
   ]
  },
  {
   "cell_type": "code",
   "execution_count": 47,
   "id": "1f7d2d07",
   "metadata": {},
   "outputs": [
    {
     "name": "stdout",
     "output_type": "stream",
     "text": [
      "    1     \n",
      "    2     \n",
      "1 2 3 4 5 \n",
      "    4     \n",
      "    5     \n"
     ]
    }
   ],
   "source": [
    "for i in range(1,6):\n",
    "    for j in range(1,6):\n",
    "        if j==3:\n",
    "            print(i,end=\" \")\n",
    "        elif i==3:\n",
    "            print(j,end=\" \")\n",
    "        else:\n",
    "            print(\" \",end=\" \")\n",
    "    print()"
   ]
  },
  {
   "cell_type": "code",
   "execution_count": 48,
   "id": "d969f68d",
   "metadata": {},
   "outputs": [
    {
     "name": "stdout",
     "output_type": "stream",
     "text": [
      "1         \n",
      "  2       \n",
      "    3     \n",
      "      4   \n",
      "        5 \n"
     ]
    }
   ],
   "source": [
    "for i in range(1,6):\n",
    "    for j in range(1,6):\n",
    "        if i==j:\n",
    "            print(i,end=\" \")\n",
    "        else:\n",
    "            print(\" \",end=\" \")\n",
    "    print()"
   ]
  },
  {
   "cell_type": "code",
   "execution_count": 51,
   "id": "5fe8734d",
   "metadata": {},
   "outputs": [
    {
     "name": "stdout",
     "output_type": "stream",
     "text": [
      "        1 \n",
      "      2   \n",
      "    3     \n",
      "  4       \n",
      "5         \n"
     ]
    }
   ],
   "source": [
    "for row in range(1,6):\n",
    "    for column in range(5,0,-1):\n",
    "        if row==column:\n",
    "            print(row,end=\" \")\n",
    "        else:\n",
    "            print(\" \",end=\" \")\n",
    "    print()"
   ]
  },
  {
   "cell_type": "code",
   "execution_count": 78,
   "id": "ca484ffd",
   "metadata": {},
   "outputs": [
    {
     "name": "stdout",
     "output_type": "stream",
     "text": [
      "1       2 \n",
      "  3   4   \n",
      "    5     \n",
      "  6   7   \n",
      "8       9 \n"
     ]
    }
   ],
   "source": [
    "a=1\n",
    "for i in range(1,6):\n",
    "    for j in range(1,6):\n",
    "        if i==j or j==6-i:\n",
    "            print(a,end=\" \")\n",
    "            a+=1\n",
    "        else:\n",
    "            print(\" \",end=\" \")\n",
    "    print()"
   ]
  },
  {
   "cell_type": "code",
   "execution_count": null,
   "id": "df9bdb86",
   "metadata": {},
   "outputs": [],
   "source": []
  }
 ],
 "metadata": {
  "kernelspec": {
   "display_name": "Python 3 (ipykernel)",
   "language": "python",
   "name": "python3"
  },
  "language_info": {
   "codemirror_mode": {
    "name": "ipython",
    "version": 3
   },
   "file_extension": ".py",
   "mimetype": "text/x-python",
   "name": "python",
   "nbconvert_exporter": "python",
   "pygments_lexer": "ipython3",
   "version": "3.8.10"
  }
 },
 "nbformat": 4,
 "nbformat_minor": 5
}
