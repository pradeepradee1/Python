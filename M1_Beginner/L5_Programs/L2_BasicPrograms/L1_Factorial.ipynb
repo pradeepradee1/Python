{
 "cells": [
  {
   "cell_type": "markdown",
   "id": "64bf86f9",
   "metadata": {},
   "source": [
    "# Factorial\n",
    "## n! = n* (n-1)* (n-2)* ...*1\n",
    "## for ex : 5! = 5* 4* 3* 2* 1"
   ]
  },
  {
   "cell_type": "code",
   "execution_count": 6,
   "id": "8695fe53",
   "metadata": {},
   "outputs": [
    {
     "data": {
      "text/plain": [
       "120"
      ]
     },
     "execution_count": 6,
     "metadata": {},
     "output_type": "execute_result"
    }
   ],
   "source": [
    "fact=5\n",
    "number=1\n",
    "while fact != 1:\n",
    "    number = number * fact\n",
    "    fact-=1\n",
    "number"
   ]
  },
  {
   "cell_type": "code",
   "execution_count": null,
   "id": "bce37e2b",
   "metadata": {},
   "outputs": [],
   "source": []
  }
 ],
 "metadata": {
  "kernelspec": {
   "display_name": "Python 3 (ipykernel)",
   "language": "python",
   "name": "python3"
  },
  "language_info": {
   "codemirror_mode": {
    "name": "ipython",
    "version": 3
   },
   "file_extension": ".py",
   "mimetype": "text/x-python",
   "name": "python",
   "nbconvert_exporter": "python",
   "pygments_lexer": "ipython3",
   "version": "3.8.10"
  }
 },
 "nbformat": 4,
 "nbformat_minor": 5
}
