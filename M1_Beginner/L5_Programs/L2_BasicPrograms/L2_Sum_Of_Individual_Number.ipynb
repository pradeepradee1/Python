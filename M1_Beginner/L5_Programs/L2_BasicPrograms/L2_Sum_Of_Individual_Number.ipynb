{
 "cells": [
  {
   "cell_type": "markdown",
   "id": "99131e1d",
   "metadata": {},
   "source": [
    "# 123 = 6"
   ]
  },
  {
   "cell_type": "code",
   "execution_count": 23,
   "id": "b6c2f087",
   "metadata": {},
   "outputs": [
    {
     "name": "stdout",
     "output_type": "stream",
     "text": [
      "6\n"
     ]
    }
   ],
   "source": [
    "number = 123\n",
    "result = 0\n",
    "while number!=0 :\n",
    "    reminder=number % 10\n",
    "    number=number // 10\n",
    "    result+=reminder\n",
    "print(result)"
   ]
  },
  {
   "cell_type": "code",
   "execution_count": null,
   "id": "b6bdc778",
   "metadata": {},
   "outputs": [],
   "source": []
  },
  {
   "cell_type": "code",
   "execution_count": null,
   "id": "fbabeb4c",
   "metadata": {},
   "outputs": [],
   "source": []
  }
 ],
 "metadata": {
  "kernelspec": {
   "display_name": "Python 3 (ipykernel)",
   "language": "python",
   "name": "python3"
  },
  "language_info": {
   "codemirror_mode": {
    "name": "ipython",
    "version": 3
   },
   "file_extension": ".py",
   "mimetype": "text/x-python",
   "name": "python",
   "nbconvert_exporter": "python",
   "pygments_lexer": "ipython3",
   "version": "3.8.10"
  }
 },
 "nbformat": 4,
 "nbformat_minor": 5
}
