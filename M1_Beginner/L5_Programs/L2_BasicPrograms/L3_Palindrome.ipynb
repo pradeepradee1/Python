{
 "cells": [
  {
   "cell_type": "markdown",
   "metadata": {},
   "source": [
    "# 121 == 121"
   ]
  },
  {
   "cell_type": "code",
   "execution_count": 1,
   "metadata": {},
   "outputs": [
    {
     "name": "stdout",
     "output_type": "stream",
     "text": [
      "Number 121 and 121 is palindrome_number\n"
     ]
    }
   ],
   "source": [
    "number = 121\n",
    "palindrome_number = number\n",
    "result=''\n",
    "while number != 0:\n",
    "    temp=number % 10\n",
    "    number=number // 10\n",
    "    result+=str(temp)\n",
    "\n",
    "result=eval(result)\n",
    "if result == palindrome_number :\n",
    "    print(\"Number {0} and {1} is palindrome_number\".format(palindrome_number,result))\n",
    "else:\n",
    "    print(\"Number {0} and {1} is NOT a palindrome_number\".format(palindrome_number,result))"
   ]
  },
  {
   "cell_type": "markdown",
   "metadata": {},
   "source": [
    "### Another  Method"
   ]
  },
  {
   "cell_type": "code",
   "execution_count": 24,
   "metadata": {},
   "outputs": [
    {
     "name": "stdout",
     "output_type": "stream",
     "text": [
      "Not a Palindrome\n"
     ]
    }
   ],
   "source": [
    "num=str(123)\n",
    "result=num[::-1]\n",
    "if result == num :\n",
    "    print(\"Palindrome\")\n",
    "else:\n",
    "    print(\"Not a Palindrome\")"
   ]
  },
  {
   "cell_type": "code",
   "execution_count": null,
   "metadata": {},
   "outputs": [],
   "source": []
  }
 ],
 "metadata": {
  "kernelspec": {
   "display_name": "Python 3",
   "language": "python",
   "name": "python3"
  },
  "language_info": {
   "codemirror_mode": {
    "name": "ipython",
    "version": 3
   },
   "file_extension": ".py",
   "mimetype": "text/x-python",
   "name": "python",
   "nbconvert_exporter": "python",
   "pygments_lexer": "ipython3",
   "version": "3.8.3"
  }
 },
 "nbformat": 4,
 "nbformat_minor": 5
}
