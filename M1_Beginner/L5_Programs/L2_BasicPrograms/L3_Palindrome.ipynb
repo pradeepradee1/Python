{
 "cells": [
  {
   "cell_type": "markdown",
   "id": "52d93553",
   "metadata": {},
   "source": [
    "# 121 == 121"
   ]
  },
  {
   "cell_type": "code",
   "execution_count": 32,
   "id": "e591624b",
   "metadata": {},
   "outputs": [
    {
     "name": "stdout",
     "output_type": "stream",
     "text": [
      "Number 121 and 121 is palindrome_number\n"
     ]
    }
   ],
   "source": [
    "number = 121\n",
    "palindrome_number = number\n",
    "result=''\n",
    "while number != 0:\n",
    "    temp=number % 10\n",
    "    number=number // 10\n",
    "    result+=str(temp)\n",
    "\n",
    "result=eval(result)\n",
    "if result == palindrome_number :\n",
    "    print(\"Number {0} and {1} is palindrome_number\".format(palindrome_number,result))\n",
    "else:\n",
    "    print(\"Number {0} and {1} is NOT a palindrome_number\".format(palindrome_number,result))"
   ]
  },
  {
   "cell_type": "code",
   "execution_count": null,
   "id": "cc20158a",
   "metadata": {},
   "outputs": [],
   "source": []
  },
  {
   "cell_type": "code",
   "execution_count": null,
   "id": "9f9dd85e",
   "metadata": {},
   "outputs": [],
   "source": []
  },
  {
   "cell_type": "code",
   "execution_count": null,
   "id": "44cf4d1e",
   "metadata": {},
   "outputs": [],
   "source": []
  }
 ],
 "metadata": {
  "kernelspec": {
   "display_name": "Python 3 (ipykernel)",
   "language": "python",
   "name": "python3"
  },
  "language_info": {
   "codemirror_mode": {
    "name": "ipython",
    "version": 3
   },
   "file_extension": ".py",
   "mimetype": "text/x-python",
   "name": "python",
   "nbconvert_exporter": "python",
   "pygments_lexer": "ipython3",
   "version": "3.8.10"
  }
 },
 "nbformat": 4,
 "nbformat_minor": 5
}
