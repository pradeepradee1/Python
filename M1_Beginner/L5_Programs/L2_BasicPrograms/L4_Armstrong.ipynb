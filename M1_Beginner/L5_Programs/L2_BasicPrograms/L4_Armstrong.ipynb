{
 "cells": [
  {
   "cell_type": "markdown",
   "id": "636f82c9",
   "metadata": {},
   "source": [
    "# 153   = (1* 1* 1) + (5* 5* 5) + (3*  3* 3)\n",
    "\n",
    "# 1634 = (1* 1* 1* 1) + (6* 6* 6* 6) + (3* 3* 3* 3) + (4* 4* 4* 4)"
   ]
  },
  {
   "cell_type": "code",
   "execution_count": 28,
   "id": "9b688af2",
   "metadata": {},
   "outputs": [
    {
     "name": "stdout",
     "output_type": "stream",
     "text": [
      "Number 153 and 153 is Armstrong \n"
     ]
    }
   ],
   "source": [
    "number = 153\n",
    "Armstrongnumber = str(number)\n",
    "result = 0\n",
    "while number != 0:\n",
    "    reminder = number % 10\n",
    "    number = number // 10\n",
    "    result += reminder ** len(Armstrongnumber)\n",
    "\n",
    "if result == eval(Armstrongnumber):\n",
    "    print(\"Number {} and {} is Armstrong \".format(Armstrongnumber,result))\n",
    "else :\n",
    "    print(\"Number {} and {} is Not Armstrong \".format(Armstrongnumber,result))"
   ]
  },
  {
   "cell_type": "code",
   "execution_count": null,
   "id": "1591b262",
   "metadata": {},
   "outputs": [],
   "source": []
  }
 ],
 "metadata": {
  "kernelspec": {
   "display_name": "Python 3 (ipykernel)",
   "language": "python",
   "name": "python3"
  },
  "language_info": {
   "codemirror_mode": {
    "name": "ipython",
    "version": 3
   },
   "file_extension": ".py",
   "mimetype": "text/x-python",
   "name": "python",
   "nbconvert_exporter": "python",
   "pygments_lexer": "ipython3",
   "version": "3.8.10"
  }
 },
 "nbformat": 4,
 "nbformat_minor": 5
}
