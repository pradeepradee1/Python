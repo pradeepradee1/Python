{
 "cells": [
  {
   "cell_type": "markdown",
   "id": "8049a9c7",
   "metadata": {},
   "source": [
    "# 145 = 1!  +  4! + 5!"
   ]
  },
  {
   "cell_type": "code",
   "execution_count": 10,
   "id": "c70e6c05",
   "metadata": {},
   "outputs": [
    {
     "name": "stdout",
     "output_type": "stream",
     "text": [
      "Number 145 and 145 is StrongNumber\n"
     ]
    }
   ],
   "source": [
    "def fact(fact_number):\n",
    "    fact_temp_number = 1\n",
    "    while fact_number != 0 :\n",
    "        fact_temp_number = fact_number * fact_temp_number\n",
    "        fact_number-=1\n",
    "    return fact_temp_number\n",
    "\n",
    "result=0\n",
    "number=145\n",
    "strongnumber=number\n",
    "while number != 0:\n",
    "    reminder = number % 10\n",
    "    number = number // 10\n",
    "    factorial_number=fact(reminder)\n",
    "    result+=factorial_number\n",
    "\n",
    "if strongnumber == result:\n",
    "    print(\"Number {} and {} is StrongNumber\".format(strongnumber,result))\n",
    "else :\n",
    "    print(\"Number {} and {} is not StrongNumber\".format(strongnumber,result))"
   ]
  },
  {
   "cell_type": "code",
   "execution_count": null,
   "id": "e776f567",
   "metadata": {},
   "outputs": [],
   "source": []
  }
 ],
 "metadata": {
  "kernelspec": {
   "display_name": "Python 3 (ipykernel)",
   "language": "python",
   "name": "python3"
  },
  "language_info": {
   "codemirror_mode": {
    "name": "ipython",
    "version": 3
   },
   "file_extension": ".py",
   "mimetype": "text/x-python",
   "name": "python",
   "nbconvert_exporter": "python",
   "pygments_lexer": "ipython3",
   "version": "3.8.10"
  }
 },
 "nbformat": 4,
 "nbformat_minor": 5
}
