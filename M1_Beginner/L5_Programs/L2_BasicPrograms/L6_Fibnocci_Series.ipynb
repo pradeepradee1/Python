{
 "cells": [
  {
   "cell_type": "markdown",
   "id": "c854eaed",
   "metadata": {},
   "source": [
    "# 0 + 1 + 1 + 2 + 3 + 5 + 8 + 13 + 21 + 34 + 55 + 89"
   ]
  },
  {
   "cell_type": "code",
   "execution_count": 10,
   "id": "398a2487",
   "metadata": {},
   "outputs": [
    {
     "name": "stdout",
     "output_type": "stream",
     "text": [
      "Fibnocci Series 89\n"
     ]
    }
   ],
   "source": [
    "fibnocciseries = 10\n",
    "count = 0\n",
    "first_var=0\n",
    "second_var=1\n",
    "result=0\n",
    "while count < fibnocciseries :\n",
    "    first_var,second_var = second_var , first_var+second_var\n",
    "    count+=1\n",
    "\n",
    "print(\"Fibnocci Series {}\".format(second_var))\n"
   ]
  },
  {
   "cell_type": "code",
   "execution_count": null,
   "id": "0363d27d",
   "metadata": {},
   "outputs": [],
   "source": []
  }
 ],
 "metadata": {
  "kernelspec": {
   "display_name": "Python 3 (ipykernel)",
   "language": "python",
   "name": "python3"
  },
  "language_info": {
   "codemirror_mode": {
    "name": "ipython",
    "version": 3
   },
   "file_extension": ".py",
   "mimetype": "text/x-python",
   "name": "python",
   "nbconvert_exporter": "python",
   "pygments_lexer": "ipython3",
   "version": "3.8.10"
  }
 },
 "nbformat": 4,
 "nbformat_minor": 5
}
