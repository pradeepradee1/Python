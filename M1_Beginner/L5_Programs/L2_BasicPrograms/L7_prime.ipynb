{
 "cells": [
  {
   "cell_type": "markdown",
   "id": "b42a5798",
   "metadata": {},
   "source": [
    "# Number which is divisiable by its own"
   ]
  },
  {
   "cell_type": "code",
   "execution_count": 12,
   "id": "e140b68c",
   "metadata": {},
   "outputs": [
    {
     "name": "stdout",
     "output_type": "stream",
     "text": [
      "enter the prime number to find : 6\n"
     ]
    },
    {
     "data": {
      "text/plain": [
       "6"
      ]
     },
     "execution_count": 12,
     "metadata": {},
     "output_type": "execute_result"
    }
   ],
   "source": [
    "number=eval(input(\"enter the prime number to find : \"))\n",
    "number"
   ]
  },
  {
   "cell_type": "code",
   "execution_count": 13,
   "id": "9f2a9aa6",
   "metadata": {},
   "outputs": [
    {
     "name": "stdout",
     "output_type": "stream",
     "text": [
      "The number 6 is Not prime number\n"
     ]
    }
   ],
   "source": [
    "iterationcount=1\n",
    "check=0\n",
    "while iterationcount < number :\n",
    "    if number % iterationcount == 0:\n",
    "        check+=1\n",
    "    iterationcount+=1\n",
    "else:\n",
    "    if check <= 1 :\n",
    "        print(\"The number {} is prime number\".format(number))\n",
    "    else :\n",
    "        print(\"The number {} is Not prime number\".format(number))\n",
    "    "
   ]
  },
  {
   "cell_type": "code",
   "execution_count": null,
   "id": "693eec2f",
   "metadata": {},
   "outputs": [],
   "source": []
  }
 ],
 "metadata": {
  "kernelspec": {
   "display_name": "Python 3 (ipykernel)",
   "language": "python",
   "name": "python3"
  },
  "language_info": {
   "codemirror_mode": {
    "name": "ipython",
    "version": 3
   },
   "file_extension": ".py",
   "mimetype": "text/x-python",
   "name": "python",
   "nbconvert_exporter": "python",
   "pygments_lexer": "ipython3",
   "version": "3.8.10"
  }
 },
 "nbformat": 4,
 "nbformat_minor": 5
}
