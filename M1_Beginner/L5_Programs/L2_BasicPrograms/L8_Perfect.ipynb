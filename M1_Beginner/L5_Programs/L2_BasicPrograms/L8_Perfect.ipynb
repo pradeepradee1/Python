{
 "cells": [
  {
   "cell_type": "markdown",
   "id": "3bbb3428",
   "metadata": {},
   "source": [
    "# Logic : Need to find the factor of within the number\n",
    "## For ex \n",
    "##             : 1 is factor of 6 (1 * 6 = 6) \n",
    "##             : 2 is factor of 6 (2 * 3 = 6)\n",
    "##             : 3 is factor of 6 (3 * 2 = 6)\n",
    "##             : 4 is not factor of 6\n",
    "##             : 5 is not factor of 6\n",
    "##             : 6 is factor of 6 (6 * 1 = 6)"
   ]
  },
  {
   "cell_type": "code",
   "execution_count": null,
   "id": "9048cb7c",
   "metadata": {},
   "outputs": [],
   "source": []
  },
  {
   "cell_type": "code",
   "execution_count": 1,
   "id": "909641b9",
   "metadata": {},
   "outputs": [
    {
     "name": "stdout",
     "output_type": "stream",
     "text": [
      "enter the numbers to find out for perfect number : 6\n"
     ]
    },
    {
     "data": {
      "text/plain": [
       "6"
      ]
     },
     "execution_count": 1,
     "metadata": {},
     "output_type": "execute_result"
    }
   ],
   "source": [
    "numbers = eval(input(\"enter the numbers to find out for perfect number : \"))\n",
    "numbers"
   ]
  },
  {
   "cell_type": "code",
   "execution_count": 2,
   "id": "01724d72",
   "metadata": {},
   "outputs": [
    {
     "name": "stdout",
     "output_type": "stream",
     "text": [
      "The Numbers 6 is perfect number\n"
     ]
    }
   ],
   "source": [
    "Iterationcount = 1\n",
    "resultnumbers=0\n",
    "while Iterationcount < numbers:\n",
    "    if numbers % Iterationcount == 0:\n",
    "        resultnumbers+=Iterationcount\n",
    "    Iterationcount+=1\n",
    "else:\n",
    "    if resultnumbers == numbers:\n",
    "        print(\"The Numbers {} is perfect number\".format(numbers))\n",
    "    else:\n",
    "        print(\"The Numbers {} is Not a perfect number\".format(numbers))"
   ]
  },
  {
   "cell_type": "code",
   "execution_count": null,
   "id": "ecba7553",
   "metadata": {},
   "outputs": [],
   "source": []
  }
 ],
 "metadata": {
  "kernelspec": {
   "display_name": "Python 3 (ipykernel)",
   "language": "python",
   "name": "python3"
  },
  "language_info": {
   "codemirror_mode": {
    "name": "ipython",
    "version": 3
   },
   "file_extension": ".py",
   "mimetype": "text/x-python",
   "name": "python",
   "nbconvert_exporter": "python",
   "pygments_lexer": "ipython3",
   "version": "3.8.10"
  }
 },
 "nbformat": 4,
 "nbformat_minor": 5
}
