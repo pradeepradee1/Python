{
 "cells": [
  {
   "cell_type": "markdown",
   "id": "20960b03",
   "metadata": {},
   "source": [
    "### Convert Character To Number"
   ]
  },
  {
   "cell_type": "code",
   "execution_count": 1,
   "id": "15f9e8c4",
   "metadata": {},
   "outputs": [
    {
     "data": {
      "text/plain": [
       "98"
      ]
     },
     "execution_count": 1,
     "metadata": {},
     "output_type": "execute_result"
    }
   ],
   "source": [
    "a=\"b\"\n",
    "ord(a)"
   ]
  },
  {
   "cell_type": "markdown",
   "id": "d5621580",
   "metadata": {},
   "source": [
    "### Number To Character"
   ]
  },
  {
   "cell_type": "code",
   "execution_count": 2,
   "id": "2a773b5e",
   "metadata": {},
   "outputs": [
    {
     "data": {
      "text/plain": [
       "'b'"
      ]
     },
     "execution_count": 2,
     "metadata": {},
     "output_type": "execute_result"
    }
   ],
   "source": [
    "chr(98)"
   ]
  },
  {
   "cell_type": "code",
   "execution_count": 1,
   "id": "bb39d039",
   "metadata": {},
   "outputs": [
    {
     "name": "stdout",
     "output_type": "stream",
     "text": [
      "{[+*(-)]+}\n",
      "abcd5\n",
      "{[[)()]}\n",
      "6 8 Not Balance Operator\n"
     ]
    }
   ],
   "source": [
    "import re\n",
    "a=\"{[a+b*(c-d)]+5}\"\n",
    "string=\"\"\n",
    "symbol=\"\"\n",
    "for i in range(len(a)):\n",
    "    if a[i].isalnum():\n",
    "        string+=a[i]\n",
    "    else:\n",
    "        symbol+=a[i]\n",
    "print(symbol)\n",
    "print(string)\n",
    "s=re.sub(\"[+-/\\*]\",\"\",symbol)\n",
    "s='{[[)()]}'\n",
    "print(s)\n",
    "\n",
    "dict={}\n",
    "for i in s:\n",
    "    dict[i]=s.count(i)\n",
    "\n",
    "if len(dict) == len(s):\n",
    "    print(len(dict),len(s),\"Balance Operator\")\n",
    "else:\n",
    "    print(len(dict),len(s),\"Not Balance Operator\")"
   ]
  },
  {
   "cell_type": "code",
   "execution_count": null,
   "id": "31a490d5",
   "metadata": {},
   "outputs": [],
   "source": []
  }
 ],
 "metadata": {
  "kernelspec": {
   "display_name": "Python 3 (ipykernel)",
   "language": "python",
   "name": "python3"
  },
  "language_info": {
   "codemirror_mode": {
    "name": "ipython",
    "version": 3
   },
   "file_extension": ".py",
   "mimetype": "text/x-python",
   "name": "python",
   "nbconvert_exporter": "python",
   "pygments_lexer": "ipython3",
   "version": "3.8.10"
  }
 },
 "nbformat": 4,
 "nbformat_minor": 5
}
