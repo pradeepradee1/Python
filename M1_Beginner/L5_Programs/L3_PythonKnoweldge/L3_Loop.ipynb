{
 "cells": [
  {
   "cell_type": "code",
   "execution_count": 31,
   "id": "9b8f8b89",
   "metadata": {},
   "outputs": [
    {
     "data": {
      "text/plain": [
       "[1, 2, 3, 4, 5, 6, 7, 8, 9, 10]"
      ]
     },
     "execution_count": 31,
     "metadata": {},
     "output_type": "execute_result"
    }
   ],
   "source": [
    "# 1) \n",
    "a = [1,2,3,4,5,6,7,8,9,10]\n",
    "a\n",
    "\n",
    "# Sample OP \n",
    "# [1,2,3,4,5,6,7,8,9,10] --> 1 has sword and 2 is consuming and dead so on\n",
    "# [1,3,5,7,9]\n",
    "# [1,5,9]\n",
    "# [5,9]\n",
    "# [5]"
   ]
  },
  {
   "cell_type": "code",
   "execution_count": 32,
   "id": "6ad47677",
   "metadata": {},
   "outputs": [
    {
     "name": "stdout",
     "output_type": "stream",
     "text": [
      "1\n",
      "3\n",
      "5\n",
      "7\n",
      "9\n"
     ]
    }
   ],
   "source": [
    "# a = [1,2,3,4,5,6,7,8,9,10]\n",
    "i=0\n",
    "a=1\n",
    "while (i < len(a)):\n",
    "    print(a[i])\n",
    "    if i+1 < len(a):\n",
    "        a.remove(a[i+a])\n",
    "    i+=1\n",
    "#     print(a)\n",
    "#     print(len(a))"
   ]
  },
  {
   "cell_type": "code",
   "execution_count": null,
   "id": "c6ccd3a1",
   "metadata": {},
   "outputs": [],
   "source": []
  },
  {
   "cell_type": "code",
   "execution_count": null,
   "id": "2ce6a04e",
   "metadata": {},
   "outputs": [],
   "source": []
  }
 ],
 "metadata": {
  "kernelspec": {
   "display_name": "Python 3 (ipykernel)",
   "language": "python",
   "name": "python3"
  },
  "language_info": {
   "codemirror_mode": {
    "name": "ipython",
    "version": 3
   },
   "file_extension": ".py",
   "mimetype": "text/x-python",
   "name": "python",
   "nbconvert_exporter": "python",
   "pygments_lexer": "ipython3",
   "version": "3.8.10"
  }
 },
 "nbformat": 4,
 "nbformat_minor": 5
}
