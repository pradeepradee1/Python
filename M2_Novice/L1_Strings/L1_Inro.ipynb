{
 "cells": [
  {
   "cell_type": "markdown",
   "id": "965359db",
   "metadata": {},
   "source": [
    "# Strings are immutable"
   ]
  },
  {
   "cell_type": "code",
   "execution_count": 1,
   "id": "365cef7d",
   "metadata": {},
   "outputs": [],
   "source": [
    "s=\"this is ' Single Quote symbol\""
   ]
  },
  {
   "cell_type": "code",
   "execution_count": 2,
   "id": "a68fc8f7",
   "metadata": {},
   "outputs": [
    {
     "ename": "SyntaxError",
     "evalue": "invalid syntax (115861561.py, line 1)",
     "output_type": "error",
     "traceback": [
      "\u001b[0;36m  Input \u001b[0;32mIn [2]\u001b[0;36m\u001b[0m\n\u001b[0;31m    s='this is ' Single Quote symbol'\u001b[0m\n\u001b[0m                 ^\u001b[0m\n\u001b[0;31mSyntaxError\u001b[0m\u001b[0;31m:\u001b[0m invalid syntax\n"
     ]
    }
   ],
   "source": [
    "s='this is ' Single Quote symbol'"
   ]
  },
  {
   "cell_type": "code",
   "execution_count": 3,
   "id": "c6d33956",
   "metadata": {},
   "outputs": [],
   "source": [
    "s='this is \\' Single Quote symbol'"
   ]
  },
  {
   "cell_type": "code",
   "execution_count": null,
   "id": "10746412",
   "metadata": {},
   "outputs": [],
   "source": []
  },
  {
   "cell_type": "code",
   "execution_count": 4,
   "id": "27b02b2e",
   "metadata": {},
   "outputs": [],
   "source": [
    "s='this is \" Double Quote symbol'"
   ]
  },
  {
   "cell_type": "code",
   "execution_count": 5,
   "id": "cb927bac",
   "metadata": {},
   "outputs": [
    {
     "ename": "SyntaxError",
     "evalue": "invalid syntax (527388997.py, line 1)",
     "output_type": "error",
     "traceback": [
      "\u001b[0;36m  Input \u001b[0;32mIn [5]\u001b[0;36m\u001b[0m\n\u001b[0;31m    s=\"this is \" Double Quote symbol\"\u001b[0m\n\u001b[0m                 ^\u001b[0m\n\u001b[0;31mSyntaxError\u001b[0m\u001b[0;31m:\u001b[0m invalid syntax\n"
     ]
    }
   ],
   "source": [
    "s=\"this is \" Double Quote symbol\""
   ]
  },
  {
   "cell_type": "code",
   "execution_count": 6,
   "id": "3bf90944",
   "metadata": {},
   "outputs": [],
   "source": [
    "s=\"this is \\\" Double Quote symbol\""
   ]
  },
  {
   "cell_type": "code",
   "execution_count": null,
   "id": "56df6779",
   "metadata": {},
   "outputs": [],
   "source": []
  }
 ],
 "metadata": {
  "kernelspec": {
   "display_name": "Python 3 (ipykernel)",
   "language": "python",
   "name": "python3"
  },
  "language_info": {
   "codemirror_mode": {
    "name": "ipython",
    "version": 3
   },
   "file_extension": ".py",
   "mimetype": "text/x-python",
   "name": "python",
   "nbconvert_exporter": "python",
   "pygments_lexer": "ipython3",
   "version": "3.8.10"
  }
 },
 "nbformat": 4,
 "nbformat_minor": 5
}
