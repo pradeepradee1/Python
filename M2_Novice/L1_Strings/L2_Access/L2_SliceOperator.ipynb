{
 "cells": [
  {
   "cell_type": "markdown",
   "id": "6fd7ef45",
   "metadata": {},
   "source": [
    "# Syntax \n",
    "# [ start : end : Direction (or ) Step ]"
   ]
  },
  {
   "cell_type": "markdown",
   "id": "06325234",
   "metadata": {},
   "source": [
    "[ Inclusive : Exclusive : Direction ]"
   ]
  },
  {
   "cell_type": "code",
   "execution_count": 3,
   "id": "190cd33f",
   "metadata": {},
   "outputs": [],
   "source": [
    "s='0123456789'"
   ]
  },
  {
   "cell_type": "markdown",
   "id": "c15ce69c",
   "metadata": {},
   "source": [
    "# Forward direction"
   ]
  },
  {
   "cell_type": "code",
   "execution_count": 4,
   "id": "be21e238",
   "metadata": {},
   "outputs": [
    {
     "data": {
      "text/plain": [
       "'0123456789'"
      ]
     },
     "execution_count": 4,
     "metadata": {},
     "output_type": "execute_result"
    }
   ],
   "source": [
    "s[::]"
   ]
  },
  {
   "cell_type": "code",
   "execution_count": 5,
   "id": "7ccabbd0",
   "metadata": {},
   "outputs": [
    {
     "data": {
      "text/plain": [
       "'0123456'"
      ]
     },
     "execution_count": 5,
     "metadata": {},
     "output_type": "execute_result"
    }
   ],
   "source": [
    "s[0:7:1]"
   ]
  },
  {
   "cell_type": "code",
   "execution_count": 6,
   "id": "6de8d078",
   "metadata": {},
   "outputs": [
    {
     "data": {
      "text/plain": [
       "'0246'"
      ]
     },
     "execution_count": 6,
     "metadata": {},
     "output_type": "execute_result"
    }
   ],
   "source": [
    "s[0:7:2]"
   ]
  },
  {
   "cell_type": "code",
   "execution_count": 7,
   "id": "42db0ffe",
   "metadata": {},
   "outputs": [
    {
     "ename": "ValueError",
     "evalue": "slice step cannot be zero",
     "output_type": "error",
     "traceback": [
      "\u001b[0;31m---------------------------------------------------------------------------\u001b[0m",
      "\u001b[0;31mValueError\u001b[0m                                Traceback (most recent call last)",
      "\u001b[0;32m/tmp/ipykernel_140621/432886965.py\u001b[0m in \u001b[0;36m<module>\u001b[0;34m\u001b[0m\n\u001b[0;32m----> 1\u001b[0;31m \u001b[0ms\u001b[0m\u001b[0;34m[\u001b[0m\u001b[0;36m0\u001b[0m\u001b[0;34m:\u001b[0m\u001b[0;36m7\u001b[0m\u001b[0;34m:\u001b[0m\u001b[0;36m0\u001b[0m\u001b[0;34m]\u001b[0m\u001b[0;34m\u001b[0m\u001b[0;34m\u001b[0m\u001b[0m\n\u001b[0m",
      "\u001b[0;31mValueError\u001b[0m: slice step cannot be zero"
     ]
    }
   ],
   "source": [
    "s[0:7:0]"
   ]
  },
  {
   "cell_type": "code",
   "execution_count": 8,
   "id": "771982c9",
   "metadata": {},
   "outputs": [
    {
     "name": "stdout",
     "output_type": "stream",
     "text": [
      "01234\n",
      "024\n",
      "03\n",
      "04\n",
      "0\n",
      "0\n",
      "0\n"
     ]
    }
   ],
   "source": [
    "print(s[0:5:1])\n",
    "print(s[0:5:2])\n",
    "print(s[0:5:3])\n",
    "print(s[0:5:4])\n",
    "print(s[0:5:5])\n",
    "print(s[0:5:6])\n",
    "print(s[0:5:9])"
   ]
  },
  {
   "cell_type": "code",
   "execution_count": null,
   "id": "2f87c118",
   "metadata": {},
   "outputs": [],
   "source": []
  },
  {
   "cell_type": "markdown",
   "id": "a70c4835",
   "metadata": {},
   "source": [
    "# Backward Direction"
   ]
  },
  {
   "cell_type": "code",
   "execution_count": 9,
   "id": "b1a31583",
   "metadata": {},
   "outputs": [
    {
     "data": {
      "text/plain": [
       "'9876543210'"
      ]
     },
     "execution_count": 9,
     "metadata": {},
     "output_type": "execute_result"
    }
   ],
   "source": [
    "s[::-1]"
   ]
  },
  {
   "cell_type": "code",
   "execution_count": 10,
   "id": "a43cfa57",
   "metadata": {},
   "outputs": [
    {
     "data": {
      "text/plain": [
       "'98765'"
      ]
     },
     "execution_count": 10,
     "metadata": {},
     "output_type": "execute_result"
    }
   ],
   "source": [
    "s[-1:-6:-1]"
   ]
  },
  {
   "cell_type": "code",
   "execution_count": 11,
   "id": "87ebc032",
   "metadata": {},
   "outputs": [
    {
     "name": "stdout",
     "output_type": "stream",
     "text": [
      "987654321\n",
      "9876543210\n"
     ]
    }
   ],
   "source": [
    "print(s[:0:-1])\n",
    "print(s[::-1])"
   ]
  },
  {
   "cell_type": "code",
   "execution_count": 12,
   "id": "40432fcf",
   "metadata": {},
   "outputs": [
    {
     "name": "stdout",
     "output_type": "stream",
     "text": [
      "54321\n",
      "531\n",
      "52\n",
      "51\n",
      "5\n",
      "5\n",
      "5\n",
      "5\n"
     ]
    }
   ],
   "source": [
    "print(s[-5:0:-1])\n",
    "print(s[-5:0:-2])\n",
    "print(s[-5:0:-3])\n",
    "print(s[-5:0:-4])\n",
    "print(s[-5:0:-5])\n",
    "print(s[-5:0:-6])\n",
    "print(s[-5:0:-7])\n",
    "print(s[-5:0:-9])"
   ]
  },
  {
   "cell_type": "code",
   "execution_count": null,
   "id": "a2265492",
   "metadata": {},
   "outputs": [],
   "source": []
  },
  {
   "cell_type": "code",
   "execution_count": null,
   "id": "a7e87897",
   "metadata": {},
   "outputs": [],
   "source": []
  },
  {
   "cell_type": "code",
   "execution_count": null,
   "id": "a79c3d08",
   "metadata": {},
   "outputs": [],
   "source": []
  }
 ],
 "metadata": {
  "kernelspec": {
   "display_name": "Python 3 (ipykernel)",
   "language": "python",
   "name": "python3"
  },
  "language_info": {
   "codemirror_mode": {
    "name": "ipython",
    "version": 3
   },
   "file_extension": ".py",
   "mimetype": "text/x-python",
   "name": "python",
   "nbconvert_exporter": "python",
   "pygments_lexer": "ipython3",
   "version": "3.8.10"
  }
 },
 "nbformat": 4,
 "nbformat_minor": 5
}
