{
 "cells": [
  {
   "cell_type": "markdown",
   "id": "8d29408b",
   "metadata": {},
   "source": [
    "# "
   ]
  },
  {
   "cell_type": "code",
   "execution_count": 1,
   "id": "896f42a1",
   "metadata": {},
   "outputs": [
    {
     "data": {
      "text/plain": [
       "'This is a string example'"
      ]
     },
     "execution_count": 1,
     "metadata": {},
     "output_type": "execute_result"
    }
   ],
   "source": [
    "String=\"this is a string example\"\n",
    "String.capitalize()"
   ]
  },
  {
   "cell_type": "code",
   "execution_count": 2,
   "id": "04fb8acd",
   "metadata": {},
   "outputs": [
    {
     "data": {
      "text/plain": [
       "'This Is A String Example'"
      ]
     },
     "execution_count": 2,
     "metadata": {},
     "output_type": "execute_result"
    }
   ],
   "source": [
    "String.title()"
   ]
  },
  {
   "cell_type": "code",
   "execution_count": 3,
   "id": "6feae9f9",
   "metadata": {},
   "outputs": [
    {
     "data": {
      "text/plain": [
       "'python'"
      ]
     },
     "execution_count": 3,
     "metadata": {},
     "output_type": "execute_result"
    }
   ],
   "source": [
    "String=\"PythoN\"\n",
    "String.lower()"
   ]
  },
  {
   "cell_type": "code",
   "execution_count": 4,
   "id": "24e6544e",
   "metadata": {},
   "outputs": [
    {
     "data": {
      "text/plain": [
       "'PYTHON'"
      ]
     },
     "execution_count": 4,
     "metadata": {},
     "output_type": "execute_result"
    }
   ],
   "source": [
    "String.upper()"
   ]
  },
  {
   "cell_type": "code",
   "execution_count": 5,
   "id": "418b549b",
   "metadata": {},
   "outputs": [
    {
     "data": {
      "text/plain": [
       "'this is a string example'"
      ]
     },
     "execution_count": 5,
     "metadata": {},
     "output_type": "execute_result"
    }
   ],
   "source": [
    "#Everything will be converted into lowercase\n",
    "String=\"This iS a sTrinG eXample\"\n",
    "String.casefold()"
   ]
  },
  {
   "cell_type": "code",
   "execution_count": 6,
   "id": "e84e8955",
   "metadata": {},
   "outputs": [
    {
     "data": {
      "text/plain": [
       "'tHIS Is A StRINg ExAMPLE'"
      ]
     },
     "execution_count": 6,
     "metadata": {},
     "output_type": "execute_result"
    }
   ],
   "source": [
    "String.swapcase()"
   ]
  },
  {
   "cell_type": "code",
   "execution_count": null,
   "id": "506cd83f",
   "metadata": {},
   "outputs": [],
   "source": []
  },
  {
   "cell_type": "code",
   "execution_count": null,
   "id": "8980bf46",
   "metadata": {},
   "outputs": [],
   "source": []
  },
  {
   "cell_type": "code",
   "execution_count": null,
   "id": "42950101",
   "metadata": {},
   "outputs": [],
   "source": []
  },
  {
   "cell_type": "code",
   "execution_count": 7,
   "id": "5b05fd83",
   "metadata": {},
   "outputs": [
    {
     "name": "stdout",
     "output_type": "stream",
     "text": [
      "        This iS a sTrinG eXample        \n",
      "########This iS a sTrinG eXample########\n"
     ]
    }
   ],
   "source": [
    "print(String.center(40))\n",
    "print(String.center(40,\"#\"))"
   ]
  },
  {
   "cell_type": "code",
   "execution_count": 8,
   "id": "0660b3d6",
   "metadata": {},
   "outputs": [
    {
     "data": {
      "text/plain": [
       "'This iS          a sTrinG eXample'"
      ]
     },
     "execution_count": 8,
     "metadata": {},
     "output_type": "execute_result"
    }
   ],
   "source": [
    "String = \"This iS \\t a sTrinG eXample\"\n",
    "String.expandtabs(8)"
   ]
  },
  {
   "cell_type": "code",
   "execution_count": 9,
   "id": "07368980",
   "metadata": {},
   "outputs": [
    {
     "name": "stdout",
     "output_type": "stream",
     "text": [
      "True\n",
      "False\n",
      "True\n"
     ]
    }
   ],
   "source": [
    "String=\"This iS a sTrinG eXample\"\n",
    "print(String.endswith(\"e\"))\n",
    "print(String.endswith(\"T\",8))\n",
    "print(String.endswith(\"e\",8,24))"
   ]
  },
  {
   "cell_type": "code",
   "execution_count": 10,
   "id": "b6d48265",
   "metadata": {},
   "outputs": [
    {
     "name": "stdout",
     "output_type": "stream",
     "text": [
      "True\n",
      "True\n",
      "False\n"
     ]
    }
   ],
   "source": [
    "print(String.startswith(\"T\"))\n",
    "print(String.startswith(\"T\",0))\n",
    "print(String.startswith(\"T\",1,24))"
   ]
  },
  {
   "cell_type": "code",
   "execution_count": null,
   "id": "f33efa22",
   "metadata": {},
   "outputs": [],
   "source": []
  },
  {
   "cell_type": "code",
   "execution_count": null,
   "id": "f155f4e4",
   "metadata": {},
   "outputs": [],
   "source": []
  },
  {
   "cell_type": "code",
   "execution_count": 11,
   "id": "937f104a",
   "metadata": {},
   "outputs": [
    {
     "data": {
      "text/plain": [
       "b'This iS a sTrinG eXample'"
      ]
     },
     "execution_count": 11,
     "metadata": {},
     "output_type": "execute_result"
    }
   ],
   "source": [
    "String.encode()"
   ]
  },
  {
   "cell_type": "code",
   "execution_count": null,
   "id": "feea7bde",
   "metadata": {},
   "outputs": [],
   "source": []
  },
  {
   "cell_type": "code",
   "execution_count": null,
   "id": "391719e2",
   "metadata": {},
   "outputs": [],
   "source": []
  },
  {
   "cell_type": "code",
   "execution_count": 12,
   "id": "99db2c0b",
   "metadata": {},
   "outputs": [
    {
     "name": "stdout",
     "output_type": "stream",
     "text": [
      "This iS a sTrinG eXample\n",
      "2\n",
      "4\n"
     ]
    }
   ],
   "source": [
    "print(String)\n",
    "print(String.count(\"s\"))\n",
    "print(String.count(\" \")) #space"
   ]
  },
  {
   "cell_type": "code",
   "execution_count": null,
   "id": "112f4add",
   "metadata": {},
   "outputs": [],
   "source": []
  },
  {
   "cell_type": "code",
   "execution_count": null,
   "id": "e660e4d7",
   "metadata": {},
   "outputs": [],
   "source": []
  },
  {
   "cell_type": "code",
   "execution_count": 13,
   "id": "9d522e9d",
   "metadata": {},
   "outputs": [
    {
     "name": "stdout",
     "output_type": "stream",
     "text": [
      "This iS a sTrinG eXample\n",
      "2\n",
      "-1\n"
     ]
    }
   ],
   "source": [
    "print(String)\n",
    "print(String.find(\"i\"))\n",
    "print(String.find(\"A\")) #Not Found"
   ]
  },
  {
   "cell_type": "code",
   "execution_count": 14,
   "id": "146dab83",
   "metadata": {},
   "outputs": [
    {
     "name": "stdout",
     "output_type": "stream",
     "text": [
      "13\n"
     ]
    }
   ],
   "source": [
    "print(String.rfind(\"i\"))"
   ]
  },
  {
   "cell_type": "code",
   "execution_count": 15,
   "id": "5e8188cd",
   "metadata": {},
   "outputs": [
    {
     "name": "stdout",
     "output_type": "stream",
     "text": [
      "2\n"
     ]
    },
    {
     "ename": "ValueError",
     "evalue": "substring not found",
     "output_type": "error",
     "traceback": [
      "\u001b[0;31m---------------------------------------------------------------------------\u001b[0m",
      "\u001b[0;31mValueError\u001b[0m                                Traceback (most recent call last)",
      "Input \u001b[0;32mIn [15]\u001b[0m, in \u001b[0;36m<module>\u001b[0;34m\u001b[0m\n\u001b[1;32m      1\u001b[0m \u001b[38;5;28mprint\u001b[39m(String\u001b[38;5;241m.\u001b[39mindex(\u001b[38;5;124m\"\u001b[39m\u001b[38;5;124mi\u001b[39m\u001b[38;5;124m\"\u001b[39m))\n\u001b[0;32m----> 2\u001b[0m \u001b[38;5;28mprint\u001b[39m(\u001b[43mString\u001b[49m\u001b[38;5;241;43m.\u001b[39;49m\u001b[43mindex\u001b[49m\u001b[43m(\u001b[49m\u001b[38;5;124;43m\"\u001b[39;49m\u001b[38;5;124;43mA\u001b[39;49m\u001b[38;5;124;43m\"\u001b[39;49m\u001b[43m)\u001b[49m)\n",
      "\u001b[0;31mValueError\u001b[0m: substring not found"
     ]
    }
   ],
   "source": [
    "print(String.index(\"i\"))\n",
    "print(String.index(\"A\")) # Error will raise Not Found"
   ]
  },
  {
   "cell_type": "code",
   "execution_count": null,
   "id": "55c5cf4d",
   "metadata": {},
   "outputs": [],
   "source": [
    "print(String.rindex(\"i\"))"
   ]
  },
  {
   "cell_type": "code",
   "execution_count": null,
   "id": "9fcfa3d2",
   "metadata": {},
   "outputs": [],
   "source": []
  },
  {
   "cell_type": "code",
   "execution_count": null,
   "id": "8ce2eead",
   "metadata": {},
   "outputs": [],
   "source": []
  },
  {
   "cell_type": "code",
   "execution_count": 16,
   "id": "bae2d9ee",
   "metadata": {},
   "outputs": [
    {
     "name": "stdout",
     "output_type": "stream",
     "text": [
      "1 2 3\n",
      "key1 key2\n"
     ]
    }
   ],
   "source": [
    "#list=[1,2,3] # This would be error\n",
    "list=['1','2','3']\n",
    "string=\" \"\n",
    "print(string.join(list))\n",
    "dict={'key1':1,'key2':2}\n",
    "print(string.join(dict))"
   ]
  },
  {
   "cell_type": "code",
   "execution_count": 17,
   "id": "660ad266",
   "metadata": {},
   "outputs": [
    {
     "name": "stdout",
     "output_type": "stream",
     "text": [
      "['This', 'is', 'string', 'Data', 'structures']\n",
      "['Th', ' ', ' string Data structures']\n"
     ]
    }
   ],
   "source": [
    "string=\"This is string Data structures\"\n",
    "print(string.split())\n",
    "print(string.split(\"is\"))"
   ]
  },
  {
   "cell_type": "code",
   "execution_count": 18,
   "id": "4b8beb7a",
   "metadata": {},
   "outputs": [
    {
     "name": "stdout",
     "output_type": "stream",
     "text": [
      "['This', 'is', 'string', 'Data', 'is', 'structures']\n",
      "['Th', ' ', ' string Data ', ' structures']\n"
     ]
    }
   ],
   "source": [
    "string=\"This is string Data is structures\"\n",
    "print(string.rsplit())\n",
    "print(string.rsplit(\"is\"))"
   ]
  },
  {
   "cell_type": "code",
   "execution_count": 19,
   "id": "5819dc1f",
   "metadata": {},
   "outputs": [
    {
     "name": "stdout",
     "output_type": "stream",
     "text": [
      "This is string Data \n",
      " structures\n",
      "['This is string Data ', ' structures']\n"
     ]
    }
   ],
   "source": [
    "string=\"This is string Data \\n structures\"\n",
    "print(string)\n",
    "print(string.splitlines())"
   ]
  },
  {
   "cell_type": "code",
   "execution_count": 20,
   "id": "20e1204d",
   "metadata": {},
   "outputs": [
    {
     "name": "stdout",
     "output_type": "stream",
     "text": [
      "('Th', 'is', ' is string Data structures')\n"
     ]
    }
   ],
   "source": [
    "string=\"This is string Data structures\"\n",
    "print(string.partition(\"is\"))"
   ]
  },
  {
   "cell_type": "code",
   "execution_count": 21,
   "id": "65e3ac3e",
   "metadata": {},
   "outputs": [
    {
     "name": "stdout",
     "output_type": "stream",
     "text": [
      "('This is string Data ', 'is', ' structures')\n"
     ]
    }
   ],
   "source": [
    "string=\"This is string Data is structures\"\n",
    "print(string.rpartition(\"is\"))"
   ]
  },
  {
   "cell_type": "code",
   "execution_count": null,
   "id": "6748b415",
   "metadata": {},
   "outputs": [],
   "source": []
  },
  {
   "cell_type": "code",
   "execution_count": null,
   "id": "98e287fd",
   "metadata": {},
   "outputs": [],
   "source": []
  },
  {
   "cell_type": "code",
   "execution_count": 22,
   "id": "812a3831",
   "metadata": {},
   "outputs": [
    {
     "name": "stdout",
     "output_type": "stream",
     "text": [
      "This is string Data is structures\n",
      "This is string inbuilt is structures\n"
     ]
    }
   ],
   "source": [
    "print(string)\n",
    "print(string.replace(\"Data\",\"inbuilt\"))"
   ]
  },
  {
   "cell_type": "code",
   "execution_count": 23,
   "id": "3d660a1c",
   "metadata": {},
   "outputs": [
    {
     "name": "stdout",
     "output_type": "stream",
     "text": [
      "This is string Data is structures\n"
     ]
    },
    {
     "data": {
      "text/plain": [
       "'Th3s 3s str3ng D1t1 3s str5ct5r2s'"
      ]
     },
     "execution_count": 23,
     "metadata": {},
     "output_type": "execute_result"
    }
   ],
   "source": [
    "print(string)\n",
    "#transtab=string.maketrans(\"aeiou\",\"123\")# Error Len should be equals\n",
    "transtab=string.maketrans(\"aeiou\",\"12345\")\n",
    "string.translate(transtab)"
   ]
  },
  {
   "cell_type": "code",
   "execution_count": null,
   "id": "6384f4ed",
   "metadata": {},
   "outputs": [],
   "source": []
  },
  {
   "cell_type": "code",
   "execution_count": null,
   "id": "7505deb7",
   "metadata": {},
   "outputs": [],
   "source": []
  },
  {
   "cell_type": "code",
   "execution_count": 24,
   "id": "ab843400",
   "metadata": {},
   "outputs": [
    {
     "name": "stdout",
     "output_type": "stream",
     "text": [
      "           This is string   \n",
      "This is string\n"
     ]
    }
   ],
   "source": [
    "string=\"           This is string   \"\n",
    "print(string)\n",
    "print(string.strip())"
   ]
  },
  {
   "cell_type": "code",
   "execution_count": 25,
   "id": "234267c5",
   "metadata": {},
   "outputs": [
    {
     "name": "stdout",
     "output_type": "stream",
     "text": [
      "This is string   \n"
     ]
    }
   ],
   "source": [
    "print(string.lstrip())"
   ]
  },
  {
   "cell_type": "code",
   "execution_count": 26,
   "id": "533778ff",
   "metadata": {},
   "outputs": [
    {
     "name": "stdout",
     "output_type": "stream",
     "text": [
      "           This is string\n"
     ]
    }
   ],
   "source": [
    "print(string.rstrip())"
   ]
  },
  {
   "cell_type": "code",
   "execution_count": null,
   "id": "9f7e8458",
   "metadata": {},
   "outputs": [],
   "source": []
  },
  {
   "cell_type": "code",
   "execution_count": null,
   "id": "6e05b824",
   "metadata": {},
   "outputs": [],
   "source": []
  },
  {
   "cell_type": "code",
   "execution_count": 27,
   "id": "5f07a7a9",
   "metadata": {},
   "outputs": [
    {
     "name": "stdout",
     "output_type": "stream",
     "text": [
      "This is string\n"
     ]
    },
    {
     "data": {
      "text/plain": [
       "'This is string######'"
      ]
     },
     "execution_count": 27,
     "metadata": {},
     "output_type": "execute_result"
    }
   ],
   "source": [
    "string = string.strip()\n",
    "print(string)\n",
    "string.ljust(20,\"#\")"
   ]
  },
  {
   "cell_type": "code",
   "execution_count": 28,
   "id": "47d38f88",
   "metadata": {},
   "outputs": [
    {
     "data": {
      "text/plain": [
       "'######This is string'"
      ]
     },
     "execution_count": 28,
     "metadata": {},
     "output_type": "execute_result"
    }
   ],
   "source": [
    "string.rjust(20,\"#\")"
   ]
  },
  {
   "cell_type": "code",
   "execution_count": 29,
   "id": "0569ef1e",
   "metadata": {},
   "outputs": [
    {
     "data": {
      "text/plain": [
       "'00000000000000000000000000This is string'"
      ]
     },
     "execution_count": 29,
     "metadata": {},
     "output_type": "execute_result"
    }
   ],
   "source": [
    "string.zfill(40)"
   ]
  },
  {
   "cell_type": "code",
   "execution_count": null,
   "id": "e476e430",
   "metadata": {},
   "outputs": [],
   "source": []
  },
  {
   "cell_type": "code",
   "execution_count": 30,
   "id": "f7b213af",
   "metadata": {},
   "outputs": [
    {
     "name": "stdout",
     "output_type": "stream",
     "text": [
      "True\n",
      "False\n"
     ]
    }
   ],
   "source": [
    "str=\"This Is A Change Pint\"\n",
    "print(str.istitle())\n",
    "str=\"This Is A Change pint\"\n",
    "print(str.istitle())"
   ]
  },
  {
   "cell_type": "code",
   "execution_count": 31,
   "id": "8743d34e",
   "metadata": {},
   "outputs": [
    {
     "name": "stdout",
     "output_type": "stream",
     "text": [
      "True\n",
      "False\n"
     ]
    }
   ],
   "source": [
    "str=\"javatpoint\"\n",
    "print(str.islower())\n",
    "str=\"JavaTpoint\"\n",
    "print(str.islower())"
   ]
  },
  {
   "cell_type": "code",
   "execution_count": 32,
   "id": "d273350d",
   "metadata": {},
   "outputs": [
    {
     "name": "stdout",
     "output_type": "stream",
     "text": [
      "True\n",
      "False\n"
     ]
    }
   ],
   "source": [
    "str=\"JAVATPOINT\"\n",
    "print(str.isupper())\n",
    "str=\"JavaTpoint\"\n",
    "print(str.isupper())"
   ]
  },
  {
   "cell_type": "code",
   "execution_count": null,
   "id": "dcf7686a",
   "metadata": {},
   "outputs": [],
   "source": []
  },
  {
   "cell_type": "code",
   "execution_count": null,
   "id": "02034197",
   "metadata": {},
   "outputs": [],
   "source": []
  },
  {
   "cell_type": "code",
   "execution_count": 33,
   "id": "bab4d5cd",
   "metadata": {},
   "outputs": [
    {
     "name": "stdout",
     "output_type": "stream",
     "text": [
      "True\n",
      "False\n",
      "True\n"
     ]
    }
   ],
   "source": [
    "str=\" \"\n",
    "print(str.isspace())\n",
    "str=\" asd sd\"\n",
    "print(str.isspace())\n",
    "str=\"\\t\\n\"\n",
    "print(str.isspace())"
   ]
  },
  {
   "cell_type": "code",
   "execution_count": 34,
   "id": "19287723",
   "metadata": {},
   "outputs": [
    {
     "name": "stdout",
     "output_type": "stream",
     "text": [
      "True\n",
      "False\n",
      "False\n"
     ]
    }
   ],
   "source": [
    "str=\"abcdef\"\n",
    "print(str.isprintable())\n",
    "str=\"abcdef\\n\"\n",
    "# print(str)\n",
    "print(str.isprintable())\n",
    "str=\"Hello \\t point\"\n",
    "# print(str)\n",
    "print(str.isprintable())"
   ]
  },
  {
   "cell_type": "code",
   "execution_count": 35,
   "id": "213e1674",
   "metadata": {},
   "outputs": [
    {
     "name": "stdout",
     "output_type": "stream",
     "text": [
      "True\n",
      "False\n",
      "False\n",
      "False\n"
     ]
    }
   ],
   "source": [
    "str=\"abcdef\"\n",
    "print(str.isidentifier())\n",
    "str=\"20abcdef\"\n",
    "print(str.isidentifier())\n",
    "str=\"#abcdef\"\n",
    "print(str.isidentifier())\n",
    "str=\"abcdef \"\n",
    "print(str.isidentifier())"
   ]
  },
  {
   "cell_type": "code",
   "execution_count": null,
   "id": "90172ec8",
   "metadata": {},
   "outputs": [],
   "source": []
  },
  {
   "cell_type": "code",
   "execution_count": null,
   "id": "02a80c13",
   "metadata": {},
   "outputs": [],
   "source": []
  },
  {
   "cell_type": "code",
   "execution_count": null,
   "id": "2c095bdc",
   "metadata": {},
   "outputs": [],
   "source": []
  },
  {
   "cell_type": "code",
   "execution_count": 36,
   "id": "f70c1ead",
   "metadata": {},
   "outputs": [
    {
     "name": "stdout",
     "output_type": "stream",
     "text": [
      "True\n",
      "True\n",
      "True\n",
      "False\n",
      "False\n"
     ]
    }
   ],
   "source": [
    "str=\"asdds\"\n",
    "print(str.isalnum())\n",
    "str=\"123\"\n",
    "print(str.isalnum())\n",
    "str=\"asdds123\"\n",
    "print(str.isalnum())\n",
    "str=\"asdds_123\"\n",
    "print(str.isalnum())\n",
    "str=\"asdds@23\"\n",
    "print(str.isalnum())"
   ]
  },
  {
   "cell_type": "code",
   "execution_count": 37,
   "id": "f7f605c2",
   "metadata": {},
   "outputs": [
    {
     "name": "stdout",
     "output_type": "stream",
     "text": [
      "True\n",
      "False\n",
      "False\n",
      "False\n"
     ]
    }
   ],
   "source": [
    "str=\"asdds\"\n",
    "print(str.isalpha())\n",
    "str=\"asdds123\"\n",
    "print(str.isalpha())\n",
    "str=\"111\"\n",
    "print(str.isalpha())\n",
    "str=\"asdds#\"\n",
    "print(str.isalpha())"
   ]
  },
  {
   "cell_type": "code",
   "execution_count": 38,
   "id": "8ebdbe1b",
   "metadata": {},
   "outputs": [
    {
     "name": "stdout",
     "output_type": "stream",
     "text": [
      "True\n",
      "False\n",
      "False\n"
     ]
    }
   ],
   "source": [
    "str=\"1234\"\n",
    "print(str.isnumeric())\n",
    "str=\"asd\"\n",
    "print(str.isnumeric())\n",
    "str=\"asd1234\"\n",
    "print(str.isnumeric())"
   ]
  },
  {
   "cell_type": "code",
   "execution_count": 39,
   "id": "483c077f",
   "metadata": {},
   "outputs": [
    {
     "name": "stdout",
     "output_type": "stream",
     "text": [
      "True\n",
      "False\n",
      "False\n"
     ]
    }
   ],
   "source": [
    "str=\"1234\"\n",
    "print(str.isdecimal())\n",
    "str=\"123.23\"\n",
    "print(str.isdecimal())\n",
    "str=\"A123\"\n",
    "print(str.isdecimal())"
   ]
  },
  {
   "cell_type": "code",
   "execution_count": 40,
   "id": "9bd622d4",
   "metadata": {},
   "outputs": [
    {
     "name": "stdout",
     "output_type": "stream",
     "text": [
      "True\n",
      "False\n",
      "False\n"
     ]
    }
   ],
   "source": [
    "str=\"1234\"\n",
    "print(str.isdigit())\n",
    "str=\"123.23\"\n",
    "print(str.isdigit())\n",
    "str=\"A123\"\n",
    "print(str.isdigit())"
   ]
  },
  {
   "cell_type": "code",
   "execution_count": null,
   "id": "847433ff",
   "metadata": {},
   "outputs": [],
   "source": []
  },
  {
   "cell_type": "code",
   "execution_count": null,
   "id": "d4f63c6f",
   "metadata": {},
   "outputs": [],
   "source": []
  },
  {
   "cell_type": "code",
   "execution_count": null,
   "id": "9322d21b",
   "metadata": {},
   "outputs": [],
   "source": []
  },
  {
   "cell_type": "code",
   "execution_count": null,
   "id": "4c1cec58",
   "metadata": {},
   "outputs": [],
   "source": []
  },
  {
   "cell_type": "code",
   "execution_count": null,
   "id": "806289c2",
   "metadata": {},
   "outputs": [],
   "source": []
  },
  {
   "cell_type": "code",
   "execution_count": null,
   "id": "a2e77149",
   "metadata": {},
   "outputs": [],
   "source": []
  },
  {
   "cell_type": "code",
   "execution_count": null,
   "id": "31f52815",
   "metadata": {},
   "outputs": [],
   "source": []
  },
  {
   "cell_type": "code",
   "execution_count": null,
   "id": "9d28869b",
   "metadata": {},
   "outputs": [],
   "source": []
  },
  {
   "cell_type": "code",
   "execution_count": null,
   "id": "5c7dc450",
   "metadata": {},
   "outputs": [],
   "source": []
  },
  {
   "cell_type": "code",
   "execution_count": null,
   "id": "382e1d2d",
   "metadata": {},
   "outputs": [],
   "source": []
  },
  {
   "cell_type": "code",
   "execution_count": null,
   "id": "2186a435",
   "metadata": {},
   "outputs": [],
   "source": []
  },
  {
   "cell_type": "code",
   "execution_count": null,
   "id": "48506066",
   "metadata": {},
   "outputs": [],
   "source": []
  },
  {
   "cell_type": "code",
   "execution_count": null,
   "id": "d41a22fe",
   "metadata": {},
   "outputs": [],
   "source": []
  },
  {
   "cell_type": "code",
   "execution_count": null,
   "id": "95ff773e",
   "metadata": {},
   "outputs": [],
   "source": []
  },
  {
   "cell_type": "code",
   "execution_count": null,
   "id": "a7c4bb43",
   "metadata": {},
   "outputs": [],
   "source": []
  }
 ],
 "metadata": {
  "kernelspec": {
   "display_name": "Python 3 (ipykernel)",
   "language": "python",
   "name": "python3"
  },
  "language_info": {
   "codemirror_mode": {
    "name": "ipython",
    "version": 3
   },
   "file_extension": ".py",
   "mimetype": "text/x-python",
   "name": "python",
   "nbconvert_exporter": "python",
   "pygments_lexer": "ipython3",
   "version": "3.8.10"
  }
 },
 "nbformat": 4,
 "nbformat_minor": 5
}
