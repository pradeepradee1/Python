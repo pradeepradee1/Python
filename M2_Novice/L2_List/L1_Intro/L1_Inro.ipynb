{
 "cells": [
  {
   "cell_type": "markdown",
   "id": "47fdd1c4",
   "metadata": {},
   "source": [
    "# List"
   ]
  },
  {
   "cell_type": "markdown",
   "id": "4e0117a3",
   "metadata": {},
   "source": [
    "### 1) Insertion Order will be maintained\n",
    "### 2) Duplicates will be allowed\n",
    "### 3) It Supports the Hetrogenious object\n",
    "### 4) It is mutable"
   ]
  },
  {
   "cell_type": "code",
   "execution_count": null,
   "id": "74eb384b",
   "metadata": {},
   "outputs": [],
   "source": [
    "\n"
   ]
  },
  {
   "cell_type": "code",
   "execution_count": null,
   "id": "2ee456af",
   "metadata": {},
   "outputs": [],
   "source": []
  }
 ],
 "metadata": {
  "kernelspec": {
   "display_name": "Python 3 (ipykernel)",
   "language": "python",
   "name": "python3"
  },
  "language_info": {
   "codemirror_mode": {
    "name": "ipython",
    "version": 3
   },
   "file_extension": ".py",
   "mimetype": "text/x-python",
   "name": "python",
   "nbconvert_exporter": "python",
   "pygments_lexer": "ipython3",
   "version": "3.8.10"
  }
 },
 "nbformat": 4,
 "nbformat_minor": 5
}
