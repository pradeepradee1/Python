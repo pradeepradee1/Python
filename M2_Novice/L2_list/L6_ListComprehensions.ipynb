{
 "cells": [
  {
   "cell_type": "markdown",
   "id": "01f4d8fc",
   "metadata": {},
   "source": [
    "# SYNTAX:"
   ]
  },
  {
   "cell_type": "markdown",
   "id": "d2f9d3b9",
   "metadata": {},
   "source": []
  },
  {
   "cell_type": "markdown",
   "id": "fcc18f1c",
   "metadata": {},
   "source": [
    "### list = [ expression         for loop (or) for each        if Condition ]"
   ]
  },
  {
   "cell_type": "code",
   "execution_count": 4,
   "id": "7dfa630a",
   "metadata": {},
   "outputs": [
    {
     "data": {
      "text/plain": [
       "[1, 4, 9, 16, 25, 36, 49, 64, 81, 100]"
      ]
     },
     "execution_count": 4,
     "metadata": {},
     "output_type": "execute_result"
    }
   ],
   "source": [
    "list = [ x*x for x in range(1,11)]\n",
    "list"
   ]
  },
  {
   "cell_type": "code",
   "execution_count": 5,
   "id": "e5f6a90c",
   "metadata": {},
   "outputs": [
    {
     "data": {
      "text/plain": [
       "[4, 16, 36, 64, 100]"
      ]
     },
     "execution_count": 5,
     "metadata": {},
     "output_type": "execute_result"
    }
   ],
   "source": [
    "list = [ x for x in list if x%2 == 0 ]\n",
    "list"
   ]
  },
  {
   "cell_type": "code",
   "execution_count": 6,
   "id": "f8925e43",
   "metadata": {},
   "outputs": [
    {
     "name": "stdout",
     "output_type": "stream",
     "text": [
      "['a', 'b', 'c']\n",
      "['A', 'B']\n"
     ]
    }
   ],
   "source": [
    "words = [\"a\",\"b\",\"c\"]\n",
    "print(words)\n",
    "words = [ i.upper() for i in words if i != \"c\"]\n",
    "print(words)"
   ]
  },
  {
   "cell_type": "code",
   "execution_count": 7,
   "id": "989f4794",
   "metadata": {},
   "outputs": [
    {
     "name": "stdout",
     "output_type": "stream",
     "text": [
      "['A', 'B']\n",
      "[['A', 1], ['B', 1]]\n"
     ]
    }
   ],
   "source": [
    "print(words)\n",
    "words = [ [i.upper(),len(i)] for i in words if i != \"c\"]\n",
    "print(words)"
   ]
  },
  {
   "cell_type": "code",
   "execution_count": null,
   "id": "e981761b",
   "metadata": {},
   "outputs": [],
   "source": []
  },
  {
   "cell_type": "code",
   "execution_count": null,
   "id": "8bb009da",
   "metadata": {},
   "outputs": [],
   "source": []
  },
  {
   "cell_type": "code",
   "execution_count": null,
   "id": "6067f92b",
   "metadata": {},
   "outputs": [],
   "source": []
  },
  {
   "cell_type": "code",
   "execution_count": null,
   "id": "dacce398",
   "metadata": {},
   "outputs": [],
   "source": []
  }
 ],
 "metadata": {
  "kernelspec": {
   "display_name": "Python 3 (ipykernel)",
   "language": "python",
   "name": "python3"
  },
  "language_info": {
   "codemirror_mode": {
    "name": "ipython",
    "version": 3
   },
   "file_extension": ".py",
   "mimetype": "text/x-python",
   "name": "python",
   "nbconvert_exporter": "python",
   "pygments_lexer": "ipython3",
   "version": "3.8.10"
  }
 },
 "nbformat": 4,
 "nbformat_minor": 5
}
