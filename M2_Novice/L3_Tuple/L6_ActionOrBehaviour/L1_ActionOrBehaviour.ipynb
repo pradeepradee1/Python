{
 "cells": [
  {
   "cell_type": "code",
   "execution_count": 1,
   "id": "5cddc172",
   "metadata": {},
   "outputs": [
    {
     "data": {
      "text/plain": [
       "['count', 'index']"
      ]
     },
     "execution_count": 1,
     "metadata": {},
     "output_type": "execute_result"
    }
   ],
   "source": [
    "actionsORbehaviour=dir(tuple)\n",
    "actionsORbehaviour=[i for i in actionsORbehaviour if \"_\" not in i]\n",
    "actionsORbehaviour"
   ]
  },
  {
   "cell_type": "code",
   "execution_count": 2,
   "id": "5a259e7a",
   "metadata": {},
   "outputs": [
    {
     "data": {
      "text/plain": [
       "2"
      ]
     },
     "execution_count": 2,
     "metadata": {},
     "output_type": "execute_result"
    }
   ],
   "source": [
    "len(actionsORbehaviour)"
   ]
  },
  {
   "cell_type": "code",
   "execution_count": null,
   "id": "e7a03b84",
   "metadata": {},
   "outputs": [],
   "source": []
  }
 ],
 "metadata": {
  "kernelspec": {
   "display_name": "Python 3 (ipykernel)",
   "language": "python",
   "name": "python3"
  },
  "language_info": {
   "codemirror_mode": {
    "name": "ipython",
    "version": 3
   },
   "file_extension": ".py",
   "mimetype": "text/x-python",
   "name": "python",
   "nbconvert_exporter": "python",
   "pygments_lexer": "ipython3",
   "version": "3.8.10"
  }
 },
 "nbformat": 4,
 "nbformat_minor": 5
}
