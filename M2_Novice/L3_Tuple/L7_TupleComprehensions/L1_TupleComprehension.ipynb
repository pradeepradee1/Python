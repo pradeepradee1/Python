{
 "cells": [
  {
   "cell_type": "markdown",
   "id": "247e2bf8",
   "metadata": {},
   "source": [
    "# Note : There is no tuple comprehension"
   ]
  },
  {
   "cell_type": "markdown",
   "id": "28a14fa1",
   "metadata": {},
   "source": [
    "# There is generator"
   ]
  },
  {
   "cell_type": "markdown",
   "id": "01f4d8fc",
   "metadata": {},
   "source": [
    "# SYNTAX:"
   ]
  },
  {
   "cell_type": "markdown",
   "id": "fcc18f1c",
   "metadata": {},
   "source": [
    "### Generator = ( expression  | for loop (or) for each )\n",
    "#### essential steps"
   ]
  },
  {
   "cell_type": "markdown",
   "id": "f99d361b",
   "metadata": {},
   "source": [
    "# Note :\n",
    "### tuple = ( expression  | for loop (or) for each      |  if Condition )\n",
    "#### 1) Single For Loop\n",
    "#### 2) if Conditions\n",
    "#### 3) Multi If Conditions\n",
    "#### 4) Ternary Operator\n",
    "#### 5) Ternary Operator and If Conditions\n",
    "#### 6) Nested for loop\n",
    "#### 7) Nested for loop anf if Conditions\n",
    "#### 8) Nested for loop anf Multi if Conditions"
   ]
  },
  {
   "cell_type": "code",
   "execution_count": null,
   "id": "79641371",
   "metadata": {},
   "outputs": [],
   "source": []
  },
  {
   "cell_type": "markdown",
   "id": "1f9ed5cb",
   "metadata": {},
   "source": [
    "#### 1) Single For Loop"
   ]
  },
  {
   "cell_type": "code",
   "execution_count": 1,
   "id": "7dfa630a",
   "metadata": {},
   "outputs": [
    {
     "data": {
      "text/plain": [
       "<generator object <genexpr> at 0x7f41d5ee1b30>"
      ]
     },
     "execution_count": 1,
     "metadata": {},
     "output_type": "execute_result"
    }
   ],
   "source": [
    "generator = ( x*x for x in range(1,11))\n",
    "generator"
   ]
  },
  {
   "cell_type": "code",
   "execution_count": 2,
   "id": "f79426b8",
   "metadata": {},
   "outputs": [
    {
     "name": "stdout",
     "output_type": "stream",
     "text": [
      "1\n",
      "4\n",
      "9\n",
      "16\n",
      "25\n",
      "36\n",
      "49\n",
      "64\n",
      "81\n",
      "100\n"
     ]
    }
   ],
   "source": [
    "for i in generator:\n",
    "    print(i)"
   ]
  },
  {
   "cell_type": "markdown",
   "id": "ba84a1c2",
   "metadata": {},
   "source": [
    "#### 2) If conditions"
   ]
  },
  {
   "cell_type": "code",
   "execution_count": 3,
   "id": "e5f6a90c",
   "metadata": {},
   "outputs": [
    {
     "name": "stdout",
     "output_type": "stream",
     "text": [
      "<generator object <genexpr> at 0x7f41d4d484a0>\n",
      "2\n",
      "4\n",
      "6\n",
      "8\n",
      "10\n"
     ]
    }
   ],
   "source": [
    "li=[1,2,3,4,5,6,7,8,9,10]\n",
    "generator = ( x for x in li if x%2 == 0 )\n",
    "print(generator)\n",
    "for i in generator:\n",
    "    print(i)"
   ]
  },
  {
   "cell_type": "code",
   "execution_count": 4,
   "id": "f8925e43",
   "metadata": {},
   "outputs": [
    {
     "name": "stdout",
     "output_type": "stream",
     "text": [
      "('a', 'b', 'c')\n",
      "<generator object <genexpr> at 0x7f41d4d48510>\n",
      "A\n",
      "B\n"
     ]
    }
   ],
   "source": [
    "words = (\"a\",\"b\",\"c\")\n",
    "print(words)\n",
    "words = ( i.upper() for i in words if i != \"c\")\n",
    "print(words)\n",
    "for i in words:\n",
    "    print(i)"
   ]
  },
  {
   "cell_type": "code",
   "execution_count": 5,
   "id": "989f4794",
   "metadata": {},
   "outputs": [
    {
     "name": "stdout",
     "output_type": "stream",
     "text": [
      "('a', 'b', 'c')\n",
      "<generator object <genexpr> at 0x7f41d4d48510>\n",
      "['A', 1]\n",
      "['B', 1]\n"
     ]
    }
   ],
   "source": [
    "words = (\"a\",\"b\",\"c\")\n",
    "print(words)\n",
    "words = ( [i.upper(),len(i)] for i in words if i != \"c\")\n",
    "print(words)\n",
    "for i in words:\n",
    "    print(i)"
   ]
  },
  {
   "cell_type": "markdown",
   "id": "aa85ffe1",
   "metadata": {},
   "source": [
    "#### 3) Multi If  conditions"
   ]
  },
  {
   "cell_type": "code",
   "execution_count": 6,
   "id": "5fe4f514",
   "metadata": {},
   "outputs": [
    {
     "name": "stdout",
     "output_type": "stream",
     "text": [
      "<generator object <genexpr> at 0x7f41d4d48660>\n",
      "2\n",
      "3\n",
      "4\n"
     ]
    }
   ],
   "source": [
    "tuple=(1,2,3,4,5)\n",
    "words = ( i for i in tuple if i != 1 if i != 5)\n",
    "print(words)\n",
    "for i in words:\n",
    "    print(i)"
   ]
  },
  {
   "cell_type": "markdown",
   "id": "4aa4d588",
   "metadata": {},
   "source": [
    "#### 4 ) Ternary Operator"
   ]
  },
  {
   "cell_type": "code",
   "execution_count": 7,
   "id": "e981761b",
   "metadata": {},
   "outputs": [
    {
     "name": "stdout",
     "output_type": "stream",
     "text": [
      "<generator object <genexpr> at 0x7f41d4d48740>\n",
      "{0: 'even'}\n",
      "{1: 'odd'}\n",
      "{2: 'even'}\n",
      "{3: 'odd'}\n",
      "{4: 'even'}\n",
      "{5: 'odd'}\n",
      "{6: 'even'}\n",
      "{7: 'odd'}\n",
      "{8: 'even'}\n",
      "{9: 'odd'}\n",
      "{10: 'even'}\n"
     ]
    }
   ],
   "source": [
    "generator=({x:\"odd\" if x%2 !=0 else \"even\"} for x in range(11))\n",
    "print(generator)\n",
    "for i in generator:\n",
    "    print(i)"
   ]
  },
  {
   "cell_type": "markdown",
   "id": "7a5b22b0",
   "metadata": {},
   "source": [
    "#### 5) Ternary operators and If conditions"
   ]
  },
  {
   "cell_type": "code",
   "execution_count": 8,
   "id": "8bb009da",
   "metadata": {},
   "outputs": [
    {
     "name": "stdout",
     "output_type": "stream",
     "text": [
      "<generator object <genexpr> at 0x7f41d4d48510>\n",
      "{1: 'odd'}\n",
      "{2: 'even'}\n",
      "{3: 'odd'}\n",
      "{4: 'even'}\n",
      "{5: 'odd'}\n",
      "{6: 'even'}\n",
      "{7: 'odd'}\n",
      "{8: 'even'}\n",
      "{9: 'odd'}\n",
      "{10: 'even'}\n"
     ]
    }
   ],
   "source": [
    "generator=( {x:\"odd\" if x%2 !=0 else \"even\"} for x in range(11) if x != 0 )\n",
    "print(generator)\n",
    "for i in generator:\n",
    "    print(i)"
   ]
  },
  {
   "cell_type": "markdown",
   "id": "5ed1418f",
   "metadata": {},
   "source": [
    "#### 6) Nested loops "
   ]
  },
  {
   "cell_type": "code",
   "execution_count": 9,
   "id": "f8dc1828",
   "metadata": {},
   "outputs": [
    {
     "name": "stdout",
     "output_type": "stream",
     "text": [
      "<generator object <genexpr> at 0x7f41d4d487b0>\n",
      "a1\n",
      "a2\n",
      "b1\n",
      "b2\n"
     ]
    }
   ],
   "source": [
    "l1=(\"a\",\"b\")\n",
    "l2=(1,2)\n",
    "generator=(i+str(j) for i in l1 for j in l2)\n",
    "print(generator)\n",
    "for i in generator:\n",
    "    print(i)"
   ]
  },
  {
   "cell_type": "markdown",
   "id": "915e5aae",
   "metadata": {},
   "source": [
    "#### 7) Nested for loop anf if Conditions"
   ]
  },
  {
   "cell_type": "code",
   "execution_count": 10,
   "id": "078229ee",
   "metadata": {},
   "outputs": [
    {
     "name": "stdout",
     "output_type": "stream",
     "text": [
      "<generator object <genexpr> at 0x7f41d4d48740>\n",
      "b1\n",
      "b2\n"
     ]
    }
   ],
   "source": [
    "l1=(\"a\",\"b\")\n",
    "l2=(1,2)\n",
    "generator=(i+str(j) for i in l1 for j in l2 if i != \"a\")\n",
    "print(generator)\n",
    "for i in generator:\n",
    "    print(i)"
   ]
  },
  {
   "cell_type": "code",
   "execution_count": null,
   "id": "8fa2e3a0",
   "metadata": {},
   "outputs": [],
   "source": []
  },
  {
   "cell_type": "markdown",
   "id": "632c653b",
   "metadata": {},
   "source": [
    "#### 8) Nested for loop anf Multi if Conditions "
   ]
  },
  {
   "cell_type": "code",
   "execution_count": 11,
   "id": "44172fbb",
   "metadata": {},
   "outputs": [
    {
     "name": "stdout",
     "output_type": "stream",
     "text": [
      "<generator object <genexpr> at 0x7f41d4d48a50>\n",
      "b2\n"
     ]
    }
   ],
   "source": [
    "l1=[\"a\",\"b\"]\n",
    "l2=[1,2]\n",
    "generator=(i+str(j) for i in l1 for j in l2 if i != \"a\" if j != 1)\n",
    "generator\n",
    "print(generator)\n",
    "for i in generator:\n",
    "    print(i)"
   ]
  },
  {
   "cell_type": "code",
   "execution_count": null,
   "id": "883a1fe2",
   "metadata": {},
   "outputs": [],
   "source": []
  },
  {
   "cell_type": "code",
   "execution_count": null,
   "id": "03d13962",
   "metadata": {},
   "outputs": [],
   "source": []
  },
  {
   "cell_type": "code",
   "execution_count": null,
   "id": "8012ff69",
   "metadata": {},
   "outputs": [],
   "source": []
  }
 ],
 "metadata": {
  "kernelspec": {
   "display_name": "Python 3 (ipykernel)",
   "language": "python",
   "name": "python3"
  },
  "language_info": {
   "codemirror_mode": {
    "name": "ipython",
    "version": 3
   },
   "file_extension": ".py",
   "mimetype": "text/x-python",
   "name": "python",
   "nbconvert_exporter": "python",
   "pygments_lexer": "ipython3",
   "version": "3.8.10"
  }
 },
 "nbformat": 4,
 "nbformat_minor": 5
}
