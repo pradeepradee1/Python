{
 "cells": [
  {
   "cell_type": "code",
   "execution_count": 2,
   "id": "78587d01",
   "metadata": {},
   "outputs": [
    {
     "data": {
      "text/plain": [
       "{1, 2, 3, 4, 5}"
      ]
     },
     "execution_count": 2,
     "metadata": {},
     "output_type": "execute_result"
    }
   ],
   "source": [
    "set={1,2,3,4,5}\n",
    "set"
   ]
  },
  {
   "cell_type": "code",
   "execution_count": 3,
   "id": "4176fd5f",
   "metadata": {},
   "outputs": [
    {
     "data": {
      "text/plain": [
       "{1, 2, 3, 4, 5, 9}"
      ]
     },
     "execution_count": 3,
     "metadata": {},
     "output_type": "execute_result"
    }
   ],
   "source": [
    "set.add(9)\n",
    "set"
   ]
  },
  {
   "cell_type": "code",
   "execution_count": 4,
   "id": "0557e7f8",
   "metadata": {},
   "outputs": [
    {
     "data": {
      "text/plain": [
       "{1, 2, 3, 4, 5, 6}"
      ]
     },
     "execution_count": 4,
     "metadata": {},
     "output_type": "execute_result"
    }
   ],
   "source": [
    "set1={1,2,3}\n",
    "set2={4,5,6}\n",
    "set1.update(set2)\n",
    "set1"
   ]
  },
  {
   "cell_type": "code",
   "execution_count": null,
   "id": "1de00069",
   "metadata": {},
   "outputs": [],
   "source": []
  },
  {
   "cell_type": "code",
   "execution_count": null,
   "id": "063e3e93",
   "metadata": {},
   "outputs": [],
   "source": []
  },
  {
   "cell_type": "code",
   "execution_count": 5,
   "id": "7d1ed1b3",
   "metadata": {},
   "outputs": [
    {
     "name": "stdout",
     "output_type": "stream",
     "text": [
      "{1, 2, 3, 4, 5, 9}\n",
      "{1, 2, 3, 4, 5}\n"
     ]
    },
    {
     "ename": "KeyError",
     "evalue": "9",
     "output_type": "error",
     "traceback": [
      "\u001b[0;31m---------------------------------------------------------------------------\u001b[0m",
      "\u001b[0;31mKeyError\u001b[0m                                  Traceback (most recent call last)",
      "Input \u001b[0;32mIn [5]\u001b[0m, in \u001b[0;36m<module>\u001b[0;34m\u001b[0m\n\u001b[1;32m      2\u001b[0m \u001b[38;5;28mset\u001b[39m\u001b[38;5;241m.\u001b[39mremove(\u001b[38;5;241m9\u001b[39m)\n\u001b[1;32m      3\u001b[0m \u001b[38;5;28mprint\u001b[39m(\u001b[38;5;28mset\u001b[39m)\n\u001b[0;32m----> 4\u001b[0m \u001b[38;5;28;43mset\u001b[39;49m\u001b[38;5;241;43m.\u001b[39;49m\u001b[43mremove\u001b[49m\u001b[43m(\u001b[49m\u001b[38;5;241;43m9\u001b[39;49m\u001b[43m)\u001b[49m\n\u001b[1;32m      5\u001b[0m \u001b[38;5;28mprint\u001b[39m(\u001b[38;5;28mset\u001b[39m)\n",
      "\u001b[0;31mKeyError\u001b[0m: 9"
     ]
    }
   ],
   "source": [
    "print(set)\n",
    "set.remove(9)\n",
    "print(set)\n",
    "set.remove(9)\n",
    "print(set)"
   ]
  },
  {
   "cell_type": "code",
   "execution_count": 6,
   "id": "8a8b9a6a",
   "metadata": {},
   "outputs": [
    {
     "name": "stdout",
     "output_type": "stream",
     "text": [
      "{1, 2, 3, 4, 5}\n",
      "{1, 2, 3, 4}\n",
      "{1, 2, 3, 4}\n"
     ]
    }
   ],
   "source": [
    "print(set)\n",
    "set.discard(5)\n",
    "print(set)\n",
    "set.discard(5)\n",
    "print(set)"
   ]
  },
  {
   "cell_type": "code",
   "execution_count": 7,
   "id": "e46a7a72",
   "metadata": {},
   "outputs": [
    {
     "name": "stdout",
     "output_type": "stream",
     "text": [
      "{1, 2, 3, 4}\n",
      "{2, 3, 4}\n"
     ]
    }
   ],
   "source": [
    "print(set)\n",
    "set.pop()\n",
    "print(set)\n",
    "#Because Order Will Not Be Maintained"
   ]
  },
  {
   "cell_type": "code",
   "execution_count": 8,
   "id": "d0f92c79",
   "metadata": {},
   "outputs": [
    {
     "name": "stdout",
     "output_type": "stream",
     "text": [
      "{2, 3, 4}\n",
      "set()\n"
     ]
    }
   ],
   "source": [
    "print(set)\n",
    "set.clear()\n",
    "print(set)"
   ]
  },
  {
   "cell_type": "code",
   "execution_count": null,
   "id": "62ae5fe2",
   "metadata": {},
   "outputs": [],
   "source": []
  },
  {
   "cell_type": "code",
   "execution_count": null,
   "id": "b3804cf6",
   "metadata": {},
   "outputs": [],
   "source": []
  },
  {
   "cell_type": "code",
   "execution_count": 7,
   "id": "f159d226",
   "metadata": {},
   "outputs": [
    {
     "name": "stdout",
     "output_type": "stream",
     "text": [
      "{1, 2, 3, 4, 5} 139860605480064\n",
      "{1, 2, 3, 4, 5} 139860446256256\n",
      "{1, 2, 3, 4, 5} 139860605480064\n"
     ]
    }
   ],
   "source": [
    "set1={1,2,3,4,5}\n",
    "set2=set1.copy()\n",
    "set3=set1\n",
    "print(set1,id(set1))\n",
    "print(set2,id(set2))\n",
    "print(set3,id(set3))"
   ]
  },
  {
   "cell_type": "code",
   "execution_count": null,
   "id": "63f96449",
   "metadata": {},
   "outputs": [],
   "source": []
  },
  {
   "cell_type": "code",
   "execution_count": null,
   "id": "d88f496d",
   "metadata": {},
   "outputs": [],
   "source": []
  },
  {
   "cell_type": "code",
   "execution_count": null,
   "id": "488b3747",
   "metadata": {},
   "outputs": [],
   "source": []
  },
  {
   "cell_type": "code",
   "execution_count": 8,
   "id": "976a7afc",
   "metadata": {},
   "outputs": [
    {
     "data": {
      "text/plain": [
       "{'Mon', 'Tue', 'fri', 'thur', 'wed'}"
      ]
     },
     "execution_count": 8,
     "metadata": {},
     "output_type": "execute_result"
    }
   ],
   "source": [
    "#Union = matching and unmatching(outer join)\n",
    "day1={\"Mon\",\"Tue\",\"wed\"}\n",
    "day2={\"thur\",\"fri\"}\n",
    "finalset=day1.union(day2)\n",
    "finalset"
   ]
  },
  {
   "cell_type": "code",
   "execution_count": 9,
   "id": "604ec0a4",
   "metadata": {},
   "outputs": [
    {
     "data": {
      "text/plain": [
       "{'Mon'}"
      ]
     },
     "execution_count": 9,
     "metadata": {},
     "output_type": "execute_result"
    }
   ],
   "source": [
    "#Intersection = matching(innner join)\n",
    "day1={\"Mon\",\"Tue\",\"wed\"}\n",
    "day2={\"Mon\",\"fri\"}\n",
    "finalset=day1.intersection(day2)\n",
    "finalset"
   ]
  },
  {
   "cell_type": "code",
   "execution_count": 10,
   "id": "2b8fe46e",
   "metadata": {},
   "outputs": [
    {
     "data": {
      "text/plain": [
       "{'M', 'w'}"
      ]
     },
     "execution_count": 10,
     "metadata": {},
     "output_type": "execute_result"
    }
   ],
   "source": [
    "day1={\"M\",\"T\",\"w\"}\n",
    "day2={\"M\",\"f\",\"w\"}\n",
    "day3={\"M\",\"z\",\"w\"}\n",
    "day1.intersection_update(day2,day3)\n",
    "day1\n",
    "#Note : we can also use three set"
   ]
  },
  {
   "cell_type": "code",
   "execution_count": 11,
   "id": "41805f8a",
   "metadata": {},
   "outputs": [
    {
     "name": "stdout",
     "output_type": "stream",
     "text": [
      "{'T'}\n",
      "{'f'}\n",
      "{'w', 'M', 'T'}\n"
     ]
    }
   ],
   "source": [
    "day1={\"M\",\"T\",\"w\"}\n",
    "day2={\"M\",\"f\",\"w\"}\n",
    "day3={\"M\",\"z\",\"w\"}\n",
    "print(day1.difference(day2))\n",
    "print(day2.difference(day3))\n",
    "print(day1)"
   ]
  },
  {
   "cell_type": "code",
   "execution_count": 12,
   "id": "5f2460b5",
   "metadata": {},
   "outputs": [
    {
     "data": {
      "text/plain": [
       "{'T'}"
      ]
     },
     "execution_count": 12,
     "metadata": {},
     "output_type": "execute_result"
    }
   ],
   "source": [
    "day1={\"M\",\"T\",\"w\"}\n",
    "day2={\"M\",\"f\",\"w\"}\n",
    "day1.difference_update(day2)\n",
    "day1"
   ]
  },
  {
   "cell_type": "code",
   "execution_count": null,
   "id": "e7cd96e2",
   "metadata": {},
   "outputs": [],
   "source": []
  },
  {
   "cell_type": "code",
   "execution_count": 13,
   "id": "9ae824ed",
   "metadata": {},
   "outputs": [
    {
     "name": "stdout",
     "output_type": "stream",
     "text": [
      "{'f', 'T'}\n",
      "Completing\n",
      "{'w', 'M', 'T'}\n"
     ]
    }
   ],
   "source": [
    "day1={\"M\",\"T\",\"w\"}\n",
    "day2={\"M\",\"f\",\"w\"}\n",
    "print(day1.symmetric_difference(day2))\n",
    "print(\"Completing\")\n",
    "print(day1)"
   ]
  },
  {
   "cell_type": "code",
   "execution_count": 14,
   "id": "35373150",
   "metadata": {},
   "outputs": [
    {
     "name": "stdout",
     "output_type": "stream",
     "text": [
      "{'f', 'T'}\n"
     ]
    }
   ],
   "source": [
    "day1={\"M\",\"T\",\"w\"}\n",
    "day2={\"M\",\"f\",\"w\"}\n",
    "day1.symmetric_difference_update(day2)\n",
    "print(day1)"
   ]
  },
  {
   "cell_type": "code",
   "execution_count": null,
   "id": "170339df",
   "metadata": {},
   "outputs": [],
   "source": []
  },
  {
   "cell_type": "code",
   "execution_count": null,
   "id": "d2678ed3",
   "metadata": {},
   "outputs": [],
   "source": []
  },
  {
   "cell_type": "code",
   "execution_count": null,
   "id": "6b74f538",
   "metadata": {},
   "outputs": [],
   "source": []
  },
  {
   "cell_type": "code",
   "execution_count": 15,
   "id": "71b40f19",
   "metadata": {},
   "outputs": [
    {
     "name": "stdout",
     "output_type": "stream",
     "text": [
      "True\n",
      "False\n"
     ]
    }
   ],
   "source": [
    "# disjoint = No Element Should Not Common\n",
    "A = {1, 2, 3, 4}\n",
    "B = {5, 6, 7}\n",
    "C = {4, 5, 6}\n",
    "print(A.isdisjoint(B))\n",
    "print(A.isdisjoint(C))"
   ]
  },
  {
   "cell_type": "code",
   "execution_count": 16,
   "id": "97c21c34",
   "metadata": {},
   "outputs": [
    {
     "name": "stdout",
     "output_type": "stream",
     "text": [
      "True\n",
      "False\n",
      "True\n",
      "False\n"
     ]
    }
   ],
   "source": [
    "# SUB\n",
    "A = {1, 2, 3}\n",
    "B = {1, 2, 3, 4, 5}\n",
    "C = {1, 2, 4, 5}\n",
    "print(A.issubset(B))\n",
    "print(A.issubset(C))\n",
    "print(C.issubset(B))\n",
    "print(B.issubset(A))"
   ]
  },
  {
   "cell_type": "code",
   "execution_count": 17,
   "id": "b10fde53",
   "metadata": {},
   "outputs": [
    {
     "name": "stdout",
     "output_type": "stream",
     "text": [
      "False\n",
      "True\n",
      "True\n",
      "False\n"
     ]
    }
   ],
   "source": [
    "# SUPER\n",
    "A = {1, 2, 3}\n",
    "B = {1, 2, 3, 4, 5}\n",
    "C = {1, 2, 4, 5}\n",
    "D = {6}\n",
    "print(A.issuperset(B))\n",
    "print(B.issuperset(A))\n",
    "print(B.issuperset(C))\n",
    "print(B.issuperset(D))"
   ]
  },
  {
   "cell_type": "code",
   "execution_count": null,
   "id": "d0679a97",
   "metadata": {},
   "outputs": [],
   "source": []
  },
  {
   "cell_type": "code",
   "execution_count": null,
   "id": "457cfb0f",
   "metadata": {},
   "outputs": [],
   "source": []
  },
  {
   "cell_type": "code",
   "execution_count": null,
   "id": "fd323c9d",
   "metadata": {},
   "outputs": [],
   "source": []
  },
  {
   "cell_type": "code",
   "execution_count": null,
   "id": "0f904046",
   "metadata": {},
   "outputs": [],
   "source": []
  }
 ],
 "metadata": {
  "kernelspec": {
   "display_name": "Python 3 (ipykernel)",
   "language": "python",
   "name": "python3"
  },
  "language_info": {
   "codemirror_mode": {
    "name": "ipython",
    "version": 3
   },
   "file_extension": ".py",
   "mimetype": "text/x-python",
   "name": "python",
   "nbconvert_exporter": "python",
   "pygments_lexer": "ipython3",
   "version": "3.8.10"
  }
 },
 "nbformat": 4,
 "nbformat_minor": 5
}
