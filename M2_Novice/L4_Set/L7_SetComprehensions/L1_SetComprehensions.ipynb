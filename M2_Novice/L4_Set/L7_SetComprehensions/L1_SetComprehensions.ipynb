{
 "cells": [
  {
   "cell_type": "markdown",
   "id": "01f4d8fc",
   "metadata": {},
   "source": [
    "# SYNTAX:"
   ]
  },
  {
   "cell_type": "markdown",
   "id": "fcc18f1c",
   "metadata": {},
   "source": [
    "### set = { expression  | for loop (or) for each }\n",
    "#### essential steps"
   ]
  },
  {
   "cell_type": "markdown",
   "id": "f99d361b",
   "metadata": {},
   "source": [
    "# Note :\n",
    "### set = { expression  | for loop (or) for each      |  if Condition }\n",
    "#### 1) Single For Loop\n",
    "#### 2) if Conditions\n",
    "#### 3) Multi If Conditions\n",
    "#### 4) Ternary Operator\n",
    "#### 5) Ternary Operator and If Conditions\n",
    "#### 6) Nested for loop\n",
    "#### 7) Nested for loop anf if Conditions\n",
    "#### 8) Nested for loop anf Multi if Conditions"
   ]
  },
  {
   "cell_type": "code",
   "execution_count": null,
   "id": "79641371",
   "metadata": {},
   "outputs": [],
   "source": []
  },
  {
   "cell_type": "markdown",
   "id": "1f9ed5cb",
   "metadata": {},
   "source": [
    "#### 1) Single For Loop"
   ]
  },
  {
   "cell_type": "code",
   "execution_count": 6,
   "id": "7dfa630a",
   "metadata": {},
   "outputs": [
    {
     "data": {
      "text/plain": [
       "{1, 4, 9, 16, 25, 36, 49, 64, 81, 100}"
      ]
     },
     "execution_count": 6,
     "metadata": {},
     "output_type": "execute_result"
    }
   ],
   "source": [
    "set = { x*x for x in range(1,11)}\n",
    "set"
   ]
  },
  {
   "cell_type": "markdown",
   "id": "ba84a1c2",
   "metadata": {},
   "source": [
    "#### 2) If conditions"
   ]
  },
  {
   "cell_type": "code",
   "execution_count": 7,
   "id": "e5f6a90c",
   "metadata": {},
   "outputs": [
    {
     "data": {
      "text/plain": [
       "{4, 16, 36, 64, 100}"
      ]
     },
     "execution_count": 7,
     "metadata": {},
     "output_type": "execute_result"
    }
   ],
   "source": [
    "set = { x for x in set if x%2 == 0 }\n",
    "set"
   ]
  },
  {
   "cell_type": "code",
   "execution_count": 10,
   "id": "f8925e43",
   "metadata": {},
   "outputs": [
    {
     "name": "stdout",
     "output_type": "stream",
     "text": [
      "{'c', 'a', 'b'}\n",
      "{'B', 'A'}\n"
     ]
    }
   ],
   "source": [
    "words = {\"a\",\"b\",\"c\"}\n",
    "print(words)\n",
    "words = { i.upper() for i in words if i != \"c\"}\n",
    "print(words)"
   ]
  },
  {
   "cell_type": "code",
   "execution_count": 11,
   "id": "42bbc3d8",
   "metadata": {},
   "outputs": [
    {
     "name": "stdout",
     "output_type": "stream",
     "text": [
      "{'B', 'A'}\n",
      "{'A'}\n",
      "<class 'set'>\n"
     ]
    }
   ],
   "source": [
    "print(words)\n",
    "words = { i.upper() for i in words if i != \"B\"}\n",
    "print(words)\n",
    "print(type(words))"
   ]
  },
  {
   "cell_type": "markdown",
   "id": "aa85ffe1",
   "metadata": {},
   "source": [
    "#### 3) Multi If  conditions"
   ]
  },
  {
   "cell_type": "code",
   "execution_count": 12,
   "id": "5fe4f514",
   "metadata": {},
   "outputs": [
    {
     "name": "stdout",
     "output_type": "stream",
     "text": [
      "{2, 3, 4}\n"
     ]
    }
   ],
   "source": [
    "set={1,2,3,4,5}\n",
    "words = { i for i in set if i != 1 if i != 5}\n",
    "print(words)"
   ]
  },
  {
   "cell_type": "markdown",
   "id": "4aa4d588",
   "metadata": {},
   "source": [
    "#### 4 ) Ternary Operator"
   ]
  },
  {
   "cell_type": "code",
   "execution_count": 18,
   "id": "e981761b",
   "metadata": {},
   "outputs": [
    {
     "data": {
      "text/plain": [
       "{'0 even',\n",
       " '1 odd',\n",
       " '10 even',\n",
       " '2 even',\n",
       " '3 odd',\n",
       " '4 even',\n",
       " '5 odd',\n",
       " '6 even',\n",
       " '7 odd',\n",
       " '8 even',\n",
       " '9 odd'}"
      ]
     },
     "execution_count": 18,
     "metadata": {},
     "output_type": "execute_result"
    }
   ],
   "source": [
    "set={ (str(x)+\" odd\" if x%2 !=0 else str(x)+\" even\") for x in range(11)}\n",
    "set"
   ]
  },
  {
   "cell_type": "markdown",
   "id": "7a5b22b0",
   "metadata": {},
   "source": [
    "#### 5) Ternary operators and If conditions"
   ]
  },
  {
   "cell_type": "code",
   "execution_count": 19,
   "id": "8bb009da",
   "metadata": {},
   "outputs": [
    {
     "data": {
      "text/plain": [
       "{'1 odd',\n",
       " '10 even',\n",
       " '2 even',\n",
       " '3 odd',\n",
       " '4 even',\n",
       " '5 odd',\n",
       " '6 even',\n",
       " '7 odd',\n",
       " '8 even',\n",
       " '9 odd'}"
      ]
     },
     "execution_count": 19,
     "metadata": {},
     "output_type": "execute_result"
    }
   ],
   "source": [
    "set={ (str(x)+\" odd\" if x%2 !=0 else str(x)+\" even\") for x in range(11) if x != 0}\n",
    "set"
   ]
  },
  {
   "cell_type": "markdown",
   "id": "5ed1418f",
   "metadata": {},
   "source": [
    "#### 6) Nested loops "
   ]
  },
  {
   "cell_type": "code",
   "execution_count": 20,
   "id": "f8dc1828",
   "metadata": {},
   "outputs": [
    {
     "data": {
      "text/plain": [
       "{'a1', 'a2', 'b1', 'b2'}"
      ]
     },
     "execution_count": 20,
     "metadata": {},
     "output_type": "execute_result"
    }
   ],
   "source": [
    "l1={\"a\",\"b\"}\n",
    "l2={1,2}\n",
    "set={i+str(j) for i in l1 for j in l2}\n",
    "set"
   ]
  },
  {
   "cell_type": "markdown",
   "id": "915e5aae",
   "metadata": {},
   "source": [
    "#### 7) Nested for loop anf if Conditions"
   ]
  },
  {
   "cell_type": "code",
   "execution_count": 21,
   "id": "078229ee",
   "metadata": {},
   "outputs": [
    {
     "data": {
      "text/plain": [
       "{'b1', 'b2'}"
      ]
     },
     "execution_count": 21,
     "metadata": {},
     "output_type": "execute_result"
    }
   ],
   "source": [
    "l1=[\"a\",\"b\"]\n",
    "l2=[1,2]\n",
    "set={i+str(j) for i in l1 for j in l2 if i != \"a\"}\n",
    "set"
   ]
  },
  {
   "cell_type": "code",
   "execution_count": null,
   "id": "8fa2e3a0",
   "metadata": {},
   "outputs": [],
   "source": []
  },
  {
   "cell_type": "markdown",
   "id": "632c653b",
   "metadata": {},
   "source": [
    "#### 8) Nested for loop anf Multi if Conditions "
   ]
  },
  {
   "cell_type": "code",
   "execution_count": 22,
   "id": "44172fbb",
   "metadata": {},
   "outputs": [
    {
     "data": {
      "text/plain": [
       "{'b2'}"
      ]
     },
     "execution_count": 22,
     "metadata": {},
     "output_type": "execute_result"
    }
   ],
   "source": [
    "l1={\"a\",\"b\"}\n",
    "l2={1,2}\n",
    "set={i+str(j) for i in l1 for j in l2 if i != \"a\" if j != 1}\n",
    "set"
   ]
  },
  {
   "cell_type": "code",
   "execution_count": null,
   "id": "883a1fe2",
   "metadata": {},
   "outputs": [],
   "source": []
  },
  {
   "cell_type": "code",
   "execution_count": null,
   "id": "03d13962",
   "metadata": {},
   "outputs": [],
   "source": []
  },
  {
   "cell_type": "code",
   "execution_count": null,
   "id": "68db2e68",
   "metadata": {},
   "outputs": [],
   "source": []
  }
 ],
 "metadata": {
  "kernelspec": {
   "display_name": "Python 3 (ipykernel)",
   "language": "python",
   "name": "python3"
  },
  "language_info": {
   "codemirror_mode": {
    "name": "ipython",
    "version": 3
   },
   "file_extension": ".py",
   "mimetype": "text/x-python",
   "name": "python",
   "nbconvert_exporter": "python",
   "pygments_lexer": "ipython3",
   "version": "3.8.10"
  }
 },
 "nbformat": 4,
 "nbformat_minor": 5
}
