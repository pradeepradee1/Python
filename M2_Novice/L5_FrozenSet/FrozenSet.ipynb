{
 "cells": [
  {
   "cell_type": "markdown",
   "id": "dfab4c5a",
   "metadata": {},
   "source": [
    "# FrozenSet\n",
    "### 1) Insertion Order will not be maintained\n",
    "### 2) Duplicates will not be allowed\n",
    "### 3) It Supports the Hetrogenious object\n",
    "### 4) It is immutable (Frozen)\n",
    "### 5) We Can't able to access by using index or slice operator"
   ]
  },
  {
   "cell_type": "code",
   "execution_count": 2,
   "id": "fe788c7e",
   "metadata": {},
   "outputs": [
    {
     "data": {
      "text/plain": [
       "frozenset({1, 2, 3, 4})"
      ]
     },
     "execution_count": 2,
     "metadata": {},
     "output_type": "execute_result"
    }
   ],
   "source": [
    "Frozenset=frozenset((1,2,3,4))\n",
    "Frozenset"
   ]
  },
  {
   "cell_type": "code",
   "execution_count": 3,
   "id": "3f3ccdde",
   "metadata": {},
   "outputs": [
    {
     "data": {
      "text/plain": [
       "frozenset"
      ]
     },
     "execution_count": 3,
     "metadata": {},
     "output_type": "execute_result"
    }
   ],
   "source": [
    "type(Frozenset)"
   ]
  },
  {
   "cell_type": "code",
   "execution_count": null,
   "id": "b7eace8f",
   "metadata": {},
   "outputs": [],
   "source": []
  }
 ],
 "metadata": {
  "kernelspec": {
   "display_name": "Python 3 (ipykernel)",
   "language": "python",
   "name": "python3"
  },
  "language_info": {
   "codemirror_mode": {
    "name": "ipython",
    "version": 3
   },
   "file_extension": ".py",
   "mimetype": "text/x-python",
   "name": "python",
   "nbconvert_exporter": "python",
   "pygments_lexer": "ipython3",
   "version": "3.8.10"
  }
 },
 "nbformat": 4,
 "nbformat_minor": 5
}
