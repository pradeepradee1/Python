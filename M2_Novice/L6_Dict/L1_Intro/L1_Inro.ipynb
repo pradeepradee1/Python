{
 "cells": [
  {
   "cell_type": "markdown",
   "id": "47fdd1c4",
   "metadata": {},
   "source": [
    "# Dict"
   ]
  },
  {
   "cell_type": "markdown",
   "id": "4e0117a3",
   "metadata": {},
   "source": [
    "### 1) Dictinory is the collection if key-value pairs\n",
    "### 2) Insertion Order will not  be maintained\n",
    "### 3) Duplicates will not be allowed in key and allowed in values\n",
    "### 4) It Supports the Hetrogenious object\n",
    "### 5) Key is immutable\n",
    "### 6) We can't able access by using index and slice operator"
   ]
  },
  {
   "cell_type": "code",
   "execution_count": null,
   "id": "74eb384b",
   "metadata": {},
   "outputs": [],
   "source": [
    "\n"
   ]
  },
  {
   "cell_type": "code",
   "execution_count": null,
   "id": "2ee456af",
   "metadata": {},
   "outputs": [],
   "source": []
  }
 ],
 "metadata": {
  "kernelspec": {
   "display_name": "Python 3 (ipykernel)",
   "language": "python",
   "name": "python3"
  },
  "language_info": {
   "codemirror_mode": {
    "name": "ipython",
    "version": 3
   },
   "file_extension": ".py",
   "mimetype": "text/x-python",
   "name": "python",
   "nbconvert_exporter": "python",
   "pygments_lexer": "ipython3",
   "version": "3.8.10"
  }
 },
 "nbformat": 4,
 "nbformat_minor": 5
}
