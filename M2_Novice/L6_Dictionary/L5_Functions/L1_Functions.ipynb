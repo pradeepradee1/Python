{
 "cells": [
  {
   "cell_type": "code",
   "execution_count": 1,
   "id": "dc145b4d",
   "metadata": {},
   "outputs": [
    {
     "name": "stdout",
     "output_type": "stream",
     "text": [
      "{'Name': 'John', 'Age': 27, 'Sal': 27000}\n",
      "<class 'dict'>\n"
     ]
    }
   ],
   "source": [
    "dict={\"Name\":\"John\",\"Age\":27,\"Sal\":27000}\n",
    "print(dict)\n",
    "print(type(dict))"
   ]
  },
  {
   "cell_type": "code",
   "execution_count": 2,
   "id": "e13a8cdd",
   "metadata": {},
   "outputs": [
    {
     "name": "stdout",
     "output_type": "stream",
     "text": [
      "{1: 'name', 2: 'age', 3: 'weight'}\n"
     ]
    }
   ],
   "source": [
    "dict1={1:\"name\",2:\"age\",3:\"weight\"}\n",
    "print(dict1)"
   ]
  },
  {
   "cell_type": "code",
   "execution_count": 3,
   "id": "f3d8928a",
   "metadata": {},
   "outputs": [
    {
     "name": "stdout",
     "output_type": "stream",
     "text": [
      "3\n"
     ]
    }
   ],
   "source": [
    "print(max(dict1))"
   ]
  },
  {
   "cell_type": "code",
   "execution_count": 7,
   "id": "42c978a8",
   "metadata": {},
   "outputs": [
    {
     "name": "stdout",
     "output_type": "stream",
     "text": [
      "1\n"
     ]
    }
   ],
   "source": [
    "print(min(dict1))"
   ]
  },
  {
   "cell_type": "code",
   "execution_count": 8,
   "id": "dc258508",
   "metadata": {},
   "outputs": [
    {
     "name": "stdout",
     "output_type": "stream",
     "text": [
      "3\n"
     ]
    }
   ],
   "source": [
    "print(len(dict1))"
   ]
  },
  {
   "cell_type": "code",
   "execution_count": 9,
   "id": "0c117dcf",
   "metadata": {},
   "outputs": [
    {
     "name": "stdout",
     "output_type": "stream",
     "text": [
      "6\n"
     ]
    }
   ],
   "source": [
    "print(sum(dict1))"
   ]
  },
  {
   "cell_type": "code",
   "execution_count": 10,
   "id": "8f4132e8",
   "metadata": {},
   "outputs": [
    {
     "name": "stdout",
     "output_type": "stream",
     "text": [
      "{1: 'name', 2: 'age', 3: 'weight'}\n",
      "[1, 2, 3]\n",
      "[3, 2, 1]\n"
     ]
    }
   ],
   "source": [
    "print(dict1)\n",
    "print(sorted(dict1))\n",
    "print(sorted(dict1,reverse=True))"
   ]
  },
  {
   "cell_type": "code",
   "execution_count": null,
   "id": "bf6a9c12",
   "metadata": {},
   "outputs": [],
   "source": []
  }
 ],
 "metadata": {
  "kernelspec": {
   "display_name": "Python 3 (ipykernel)",
   "language": "python",
   "name": "python3"
  },
  "language_info": {
   "codemirror_mode": {
    "name": "ipython",
    "version": 3
   },
   "file_extension": ".py",
   "mimetype": "text/x-python",
   "name": "python",
   "nbconvert_exporter": "python",
   "pygments_lexer": "ipython3",
   "version": "3.8.10"
  }
 },
 "nbformat": 4,
 "nbformat_minor": 5
}
