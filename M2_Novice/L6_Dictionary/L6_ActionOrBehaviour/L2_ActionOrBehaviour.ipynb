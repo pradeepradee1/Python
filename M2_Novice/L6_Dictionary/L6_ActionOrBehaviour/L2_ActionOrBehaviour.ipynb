{
 "cells": [
  {
   "cell_type": "code",
   "execution_count": 2,
   "id": "78587d01",
   "metadata": {},
   "outputs": [
    {
     "name": "stdout",
     "output_type": "stream",
     "text": [
      "{'Name': 'John', 'Age': 27, 'Sal': 27000}\n",
      "<class 'dict'>\n"
     ]
    }
   ],
   "source": [
    "dict={\"Name\":\"John\",\"Age\":27,\"Sal\":27000}\n",
    "print(dict)\n",
    "print(type(dict))"
   ]
  },
  {
   "cell_type": "code",
   "execution_count": null,
   "id": "ec696e87",
   "metadata": {},
   "outputs": [],
   "source": []
  },
  {
   "cell_type": "code",
   "execution_count": 3,
   "id": "457cfb0f",
   "metadata": {},
   "outputs": [
    {
     "name": "stdout",
     "output_type": "stream",
     "text": [
      "{'age': None, 'name': None, 'weight': None}\n",
      "{'name': 10, 'age': 10, 'weight': 10}\n"
     ]
    }
   ],
   "source": [
    "set={\"name\",\"age\",\"weight\"}\n",
    "dict1=dict.fromkeys(set)\n",
    "print(dict1)\n",
    "list=[\"name\",\"age\",\"weight\"]\n",
    "dict1=dict.fromkeys(list,10)\n",
    "print(dict1)"
   ]
  },
  {
   "cell_type": "code",
   "execution_count": 4,
   "id": "797d3df8",
   "metadata": {},
   "outputs": [
    {
     "name": "stdout",
     "output_type": "stream",
     "text": [
      "{'Name': 'John', 'Age': 27, 'Sal': 27000}\n",
      "{'weight': 100}\n",
      "{'Name': 'John', 'Age': 27, 'Sal': 27000, 'weight': 100}\n"
     ]
    }
   ],
   "source": [
    "dict1={\"weight\":100}\n",
    "print(dict)\n",
    "print(dict1)\n",
    "dict.update(dict1)\n",
    "print(dict)"
   ]
  },
  {
   "cell_type": "code",
   "execution_count": null,
   "id": "f3976fd6",
   "metadata": {},
   "outputs": [],
   "source": []
  },
  {
   "cell_type": "code",
   "execution_count": 5,
   "id": "f44f23ca",
   "metadata": {},
   "outputs": [
    {
     "name": "stdout",
     "output_type": "stream",
     "text": [
      "{'Name': 'John', 'Age': 27, 'Sal': 27000, 'weight': 100}\n",
      "{'Name': 'John', 'Age': 27, 'weight': 100}\n",
      "27000\n"
     ]
    }
   ],
   "source": [
    "print(dict)\n",
    "removevalue=dict.pop(\"Sal\")\n",
    "print(dict)\n",
    "print(removevalue)"
   ]
  },
  {
   "cell_type": "code",
   "execution_count": 6,
   "id": "d26deede",
   "metadata": {},
   "outputs": [
    {
     "name": "stdout",
     "output_type": "stream",
     "text": [
      "{'Name': 'John', 'Age': 27, 'weight': 100}\n",
      "{'Name': 'John', 'Age': 27}\n"
     ]
    }
   ],
   "source": [
    "print(dict)\n",
    "dict.popitem()\n",
    "print(dict)"
   ]
  },
  {
   "cell_type": "code",
   "execution_count": 7,
   "id": "42df0b6c",
   "metadata": {},
   "outputs": [
    {
     "name": "stdout",
     "output_type": "stream",
     "text": [
      "{'Name': 'John', 'Age': 27}\n",
      "{}\n"
     ]
    }
   ],
   "source": [
    "print(dict)\n",
    "dict.clear()\n",
    "print(dict)"
   ]
  },
  {
   "cell_type": "code",
   "execution_count": null,
   "id": "527c85dd",
   "metadata": {},
   "outputs": [],
   "source": []
  },
  {
   "cell_type": "code",
   "execution_count": null,
   "id": "b2683a4a",
   "metadata": {},
   "outputs": [],
   "source": []
  },
  {
   "cell_type": "code",
   "execution_count": null,
   "id": "aecce094",
   "metadata": {},
   "outputs": [],
   "source": []
  },
  {
   "cell_type": "code",
   "execution_count": 8,
   "id": "9853674b",
   "metadata": {},
   "outputs": [
    {
     "name": "stdout",
     "output_type": "stream",
     "text": [
      "{'Name': 'John', 'Age': 27, 'Sal': 27000}\n"
     ]
    }
   ],
   "source": [
    "dict={\"Name\":\"John\",\"Age\":27,\"Sal\":27000}\n",
    "dict2=dict.copy()\n",
    "print(dict2)"
   ]
  },
  {
   "cell_type": "code",
   "execution_count": null,
   "id": "247b56df",
   "metadata": {},
   "outputs": [],
   "source": []
  },
  {
   "cell_type": "code",
   "execution_count": null,
   "id": "7aa38f2e",
   "metadata": {},
   "outputs": [],
   "source": []
  },
  {
   "cell_type": "code",
   "execution_count": 9,
   "id": "8bb63cf4",
   "metadata": {},
   "outputs": [
    {
     "name": "stdout",
     "output_type": "stream",
     "text": [
      "{'Name': 'John', 'Age': 27, 'Sal': 27000}\n",
      "dict_items([('Name', 'John'), ('Age', 27), ('Sal', 27000)])\n",
      "Key Name Value John\n",
      "Key Age Value 27\n",
      "Key Sal Value 27000\n"
     ]
    }
   ],
   "source": [
    "print(dict)\n",
    "print(dict.items())\n",
    "for key,value in dict.items():\n",
    "    print(\"Key {} Value {}\".format(key,value))"
   ]
  },
  {
   "cell_type": "code",
   "execution_count": 16,
   "id": "0df46449",
   "metadata": {},
   "outputs": [
    {
     "name": "stdout",
     "output_type": "stream",
     "text": [
      "{'Name': 'John', 'Age': 27, 'Sal': 27000}\n",
      "dict_keys(['Name', 'Age', 'Sal'])\n"
     ]
    }
   ],
   "source": [
    "print(dict)\n",
    "key=dict.keys()\n",
    "print(key)"
   ]
  },
  {
   "cell_type": "code",
   "execution_count": 17,
   "id": "9d63796e",
   "metadata": {},
   "outputs": [
    {
     "name": "stdout",
     "output_type": "stream",
     "text": [
      "{'Name': 'John', 'Age': 27, 'Sal': 27000}\n",
      "dict_values(['John', 27, 27000])\n"
     ]
    }
   ],
   "source": [
    "print(dict)\n",
    "value=dict.values()\n",
    "print(value)"
   ]
  },
  {
   "cell_type": "code",
   "execution_count": 18,
   "id": "f1d1685c",
   "metadata": {},
   "outputs": [
    {
     "name": "stdout",
     "output_type": "stream",
     "text": [
      "{'Name': 'John', 'Age': 27, 'Sal': 27000}\n",
      "John\n",
      "27\n",
      "27000\n",
      "None\n",
      "{'Name': 'John', 'Age': 27, 'Sal': 27000}\n"
     ]
    }
   ],
   "source": [
    "print(dict)\n",
    "print(dict.get('Name'))\n",
    "print(dict.get('Age'))\n",
    "print(dict.get('Sal'))\n",
    "print(dict.get('Weight'))\n",
    "print(dict)"
   ]
  },
  {
   "cell_type": "code",
   "execution_count": 19,
   "id": "af965f56",
   "metadata": {},
   "outputs": [
    {
     "name": "stdout",
     "output_type": "stream",
     "text": [
      "{'Name': 'John', 'Age': 27, 'Sal': 27000}\n",
      "{'Name': 'John', 'Age': 27, 'Sal': 27000, 'Weight': None}\n"
     ]
    }
   ],
   "source": [
    "print(dict)\n",
    "dict.setdefault('Age',None)\n",
    "dict.setdefault('Weight',None)\n",
    "print(dict)"
   ]
  },
  {
   "cell_type": "code",
   "execution_count": null,
   "id": "a7bfddab",
   "metadata": {},
   "outputs": [],
   "source": []
  },
  {
   "cell_type": "code",
   "execution_count": null,
   "id": "cf238ece",
   "metadata": {},
   "outputs": [],
   "source": []
  },
  {
   "cell_type": "code",
   "execution_count": null,
   "id": "55891123",
   "metadata": {},
   "outputs": [],
   "source": []
  }
 ],
 "metadata": {
  "kernelspec": {
   "display_name": "Python 3 (ipykernel)",
   "language": "python",
   "name": "python3"
  },
  "language_info": {
   "codemirror_mode": {
    "name": "ipython",
    "version": 3
   },
   "file_extension": ".py",
   "mimetype": "text/x-python",
   "name": "python",
   "nbconvert_exporter": "python",
   "pygments_lexer": "ipython3",
   "version": "3.8.10"
  }
 },
 "nbformat": 4,
 "nbformat_minor": 5
}
