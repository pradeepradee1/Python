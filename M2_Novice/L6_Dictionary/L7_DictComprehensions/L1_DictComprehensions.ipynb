{
 "cells": [
  {
   "cell_type": "markdown",
   "id": "01f4d8fc",
   "metadata": {},
   "source": [
    "# SYNTAX:"
   ]
  },
  {
   "cell_type": "markdown",
   "id": "fcc18f1c",
   "metadata": {},
   "source": [
    "### dict = { x : expression  | for loop (or) for each }\n",
    "#### essential steps"
   ]
  },
  {
   "cell_type": "markdown",
   "id": "f99d361b",
   "metadata": {},
   "source": [
    "# Note :\n",
    "### dict = { x : expression  | for loop (or) for each      |  if Condition }\n",
    "#### 1) Single For Loop\n",
    "#### 2) if Conditions\n",
    "#### 3) Multi If Conditions\n",
    "#### 4) Ternary Operator\n",
    "#### 5) Ternary Operator and If Conditions\n",
    "#### 6) Nested for loop\n",
    "#### 7) Nested for loop anf if Conditions\n",
    "#### 8) Nested for loop anf Multi if Conditions"
   ]
  },
  {
   "cell_type": "code",
   "execution_count": null,
   "id": "79641371",
   "metadata": {},
   "outputs": [],
   "source": []
  },
  {
   "cell_type": "markdown",
   "id": "1f9ed5cb",
   "metadata": {},
   "source": [
    "#### 1) Single For Loop"
   ]
  },
  {
   "cell_type": "code",
   "execution_count": 1,
   "id": "7dfa630a",
   "metadata": {},
   "outputs": [
    {
     "data": {
      "text/plain": [
       "{1: 1, 2: 4, 3: 9, 4: 16, 5: 25, 6: 36, 7: 49, 8: 64, 9: 81, 10: 100}"
      ]
     },
     "execution_count": 1,
     "metadata": {},
     "output_type": "execute_result"
    }
   ],
   "source": [
    "dict = { x : x*x for x in range(1,11)}\n",
    "dict"
   ]
  },
  {
   "cell_type": "markdown",
   "id": "ba84a1c2",
   "metadata": {},
   "source": [
    "#### 2) If conditions"
   ]
  },
  {
   "cell_type": "code",
   "execution_count": 3,
   "id": "e5f6a90c",
   "metadata": {},
   "outputs": [
    {
     "data": {
      "text/plain": [
       "{2: 2, 4: 4, 6: 6, 8: 8, 10: 10}"
      ]
     },
     "execution_count": 3,
     "metadata": {},
     "output_type": "execute_result"
    }
   ],
   "source": [
    "dict = {x : x for x in dict if x%2 == 0 }\n",
    "dict"
   ]
  },
  {
   "cell_type": "code",
   "execution_count": 4,
   "id": "f8925e43",
   "metadata": {},
   "outputs": [
    {
     "name": "stdout",
     "output_type": "stream",
     "text": [
      "{'a': 1, 'b': 2, 'c': 3}\n",
      "{'a': 'A', 'b': 'B'}\n"
     ]
    }
   ],
   "source": [
    "words = {\"a\":1,\"b\":2,\"c\":3}\n",
    "print(words)\n",
    "words = { i:i.upper() for i in words if i != \"c\"}\n",
    "print(words)"
   ]
  },
  {
   "cell_type": "code",
   "execution_count": 6,
   "id": "42bbc3d8",
   "metadata": {},
   "outputs": [
    {
     "name": "stdout",
     "output_type": "stream",
     "text": [
      "{'a': 'A', 'b': 'B'}\n",
      "{'a': 'A'}\n",
      "<class 'dict'>\n"
     ]
    }
   ],
   "source": [
    "print(words)\n",
    "words = {i: i.upper() for i in words if i != \"b\"}\n",
    "print(words)\n",
    "print(type(words))"
   ]
  },
  {
   "cell_type": "markdown",
   "id": "aa85ffe1",
   "metadata": {},
   "source": [
    "#### 3) Multi If  conditions"
   ]
  },
  {
   "cell_type": "code",
   "execution_count": 9,
   "id": "5fe4f514",
   "metadata": {},
   "outputs": [
    {
     "name": "stdout",
     "output_type": "stream",
     "text": [
      "{2: 'two', 3: 'three', 4: 'four'}\n"
     ]
    }
   ],
   "source": [
    "dict={1:\"one\",2:\"two\",3:\"three\",4:\"four\",5:\"five\"}\n",
    "words = { i : dict[i] for i in dict if i != 1 if i != 5}\n",
    "print(words)"
   ]
  },
  {
   "cell_type": "markdown",
   "id": "4aa4d588",
   "metadata": {},
   "source": [
    "#### 4 ) Ternary Operator"
   ]
  },
  {
   "cell_type": "code",
   "execution_count": 13,
   "id": "e981761b",
   "metadata": {},
   "outputs": [
    {
     "data": {
      "text/plain": [
       "{'0': 'even',\n",
       " '1': 'odd',\n",
       " '2': 'even',\n",
       " '3': 'odd',\n",
       " '4': 'even',\n",
       " '5': 'odd',\n",
       " '6': 'even',\n",
       " '7': 'odd',\n",
       " '8': 'even',\n",
       " '9': 'odd',\n",
       " '10': 'even'}"
      ]
     },
     "execution_count": 13,
     "metadata": {},
     "output_type": "execute_result"
    }
   ],
   "source": [
    "dict={ str(x) : \"odd\" if x%2 !=0 else \"even\" for x in range(11)}\n",
    "dict"
   ]
  },
  {
   "cell_type": "markdown",
   "id": "7a5b22b0",
   "metadata": {},
   "source": [
    "#### 5) Ternary operators and If conditions"
   ]
  },
  {
   "cell_type": "code",
   "execution_count": 17,
   "id": "8bb009da",
   "metadata": {},
   "outputs": [
    {
     "data": {
      "text/plain": [
       "{'1': ' odd',\n",
       " '2': ' even',\n",
       " '3': ' odd',\n",
       " '4': ' even',\n",
       " '5': ' odd',\n",
       " '6': ' even',\n",
       " '7': ' odd',\n",
       " '8': ' even',\n",
       " '9': ' odd',\n",
       " '10': ' even'}"
      ]
     },
     "execution_count": 17,
     "metadata": {},
     "output_type": "execute_result"
    }
   ],
   "source": [
    "dict={ str(x) : \" odd\" if x%2 !=0 else \" even\" for x in range(11) if x != 0}\n",
    "dict"
   ]
  },
  {
   "cell_type": "markdown",
   "id": "5ed1418f",
   "metadata": {},
   "source": [
    "#### 6) Nested loops "
   ]
  },
  {
   "cell_type": "code",
   "execution_count": 18,
   "id": "f8dc1828",
   "metadata": {},
   "outputs": [
    {
     "data": {
      "text/plain": [
       "{'b': '2', 'a': '2'}"
      ]
     },
     "execution_count": 18,
     "metadata": {},
     "output_type": "execute_result"
    }
   ],
   "source": [
    "l1={\"a\",\"b\"}\n",
    "l2={1,2}\n",
    "dict={i:str(j) for i in l1 for j in l2}\n",
    "dict"
   ]
  },
  {
   "cell_type": "markdown",
   "id": "915e5aae",
   "metadata": {},
   "source": [
    "#### 7) Nested for loop anf if Conditions"
   ]
  },
  {
   "cell_type": "code",
   "execution_count": 19,
   "id": "078229ee",
   "metadata": {},
   "outputs": [
    {
     "data": {
      "text/plain": [
       "{'b': '2'}"
      ]
     },
     "execution_count": 19,
     "metadata": {},
     "output_type": "execute_result"
    }
   ],
   "source": [
    "l1=[\"a\",\"b\"]\n",
    "l2=[1,2]\n",
    "dict={i : str(j) for i in l1 for j in l2 if i != \"a\"}\n",
    "dict"
   ]
  },
  {
   "cell_type": "code",
   "execution_count": null,
   "id": "8fa2e3a0",
   "metadata": {},
   "outputs": [],
   "source": []
  },
  {
   "cell_type": "markdown",
   "id": "632c653b",
   "metadata": {},
   "source": [
    "#### 8) Nested for loop anf Multi if Conditions "
   ]
  },
  {
   "cell_type": "code",
   "execution_count": 20,
   "id": "44172fbb",
   "metadata": {},
   "outputs": [
    {
     "data": {
      "text/plain": [
       "{'b': 2}"
      ]
     },
     "execution_count": 20,
     "metadata": {},
     "output_type": "execute_result"
    }
   ],
   "source": [
    "l1={\"a\",\"b\"}\n",
    "l2={1,2}\n",
    "dict={i:j for i in l1 for j in l2 if i != \"a\" if j != 1}\n",
    "dict"
   ]
  },
  {
   "cell_type": "code",
   "execution_count": null,
   "id": "883a1fe2",
   "metadata": {},
   "outputs": [],
   "source": []
  },
  {
   "cell_type": "code",
   "execution_count": null,
   "id": "03d13962",
   "metadata": {},
   "outputs": [],
   "source": []
  },
  {
   "cell_type": "code",
   "execution_count": null,
   "id": "68db2e68",
   "metadata": {},
   "outputs": [],
   "source": []
  }
 ],
 "metadata": {
  "kernelspec": {
   "display_name": "Python 3 (ipykernel)",
   "language": "python",
   "name": "python3"
  },
  "language_info": {
   "codemirror_mode": {
    "name": "ipython",
    "version": 3
   },
   "file_extension": ".py",
   "mimetype": "text/x-python",
   "name": "python",
   "nbconvert_exporter": "python",
   "pygments_lexer": "ipython3",
   "version": "3.8.10"
  }
 },
 "nbformat": 4,
 "nbformat_minor": 5
}
