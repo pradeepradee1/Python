{
 "cells": [
  {
   "cell_type": "markdown",
   "id": "7952c3f4",
   "metadata": {},
   "source": [
    "### 1) Find The target word Occurance with index"
   ]
  },
  {
   "cell_type": "code",
   "execution_count": 92,
   "id": "14e23cbd",
   "metadata": {},
   "outputs": [
    {
     "data": {
      "text/plain": [
       "'This is game called as game again with terrific game ending the sentences'"
      ]
     },
     "execution_count": 92,
     "metadata": {},
     "output_type": "execute_result"
    }
   ],
   "source": [
    "str=\"This is game called as game again with terrific game ending the sentences\"\n",
    "str"
   ]
  },
  {
   "cell_type": "code",
   "execution_count": 93,
   "id": "b3e7c8b1",
   "metadata": {},
   "outputs": [
    {
     "name": "stdout",
     "output_type": "stream",
     "text": [
      "8\n",
      "23\n",
      "48\n"
     ]
    }
   ],
   "source": [
    "count=str.count(\"game\")\n",
    "startindex=0\n",
    "for i in range(count):\n",
    "    startindex=str.find(\"game\",startindex)\n",
    "    print(startindex)\n",
    "    startindex+=1"
   ]
  },
  {
   "cell_type": "markdown",
   "id": "4e9d9b0d",
   "metadata": {},
   "source": [
    "### Aternate Methods Using RE"
   ]
  },
  {
   "cell_type": "code",
   "execution_count": 94,
   "id": "7c92fa6b",
   "metadata": {},
   "outputs": [
    {
     "data": {
      "text/plain": [
       "[8, 23, 48]"
      ]
     },
     "execution_count": 94,
     "metadata": {},
     "output_type": "execute_result"
    }
   ],
   "source": [
    "import re\n",
    "[m.start() for m in re.finditer(\"game\",str)]"
   ]
  },
  {
   "cell_type": "markdown",
   "id": "a806c25b",
   "metadata": {},
   "source": [
    "### 2) Split based on the > without losing the > "
   ]
  },
  {
   "cell_type": "code",
   "execution_count": 95,
   "id": "7e1f24e5",
   "metadata": {},
   "outputs": [
    {
     "data": {
      "text/plain": [
       "'This > is a game > called game'"
      ]
     },
     "execution_count": 95,
     "metadata": {},
     "output_type": "execute_result"
    }
   ],
   "source": [
    "str1=\"This > is a game > called game\"\n",
    "str1"
   ]
  },
  {
   "cell_type": "code",
   "execution_count": 96,
   "id": "365698ab",
   "metadata": {},
   "outputs": [
    {
     "data": {
      "text/plain": [
       "['This ', ' is a game ', ' called game']"
      ]
     },
     "execution_count": 96,
     "metadata": {},
     "output_type": "execute_result"
    }
   ],
   "source": [
    "# Approch 1\n",
    "str1.split(\">\")"
   ]
  },
  {
   "cell_type": "code",
   "execution_count": 97,
   "id": "ae30fac5",
   "metadata": {},
   "outputs": [
    {
     "data": {
      "text/plain": [
       "('This ', '>', ' is a game > called game')"
      ]
     },
     "execution_count": 97,
     "metadata": {},
     "output_type": "execute_result"
    }
   ],
   "source": [
    "# Approch 2\n",
    "str1.partition(\">\")"
   ]
  },
  {
   "cell_type": "code",
   "execution_count": 98,
   "id": "1f079a23",
   "metadata": {},
   "outputs": [
    {
     "data": {
      "text/plain": [
       "['This >', ' is a game >', ' called game>']"
      ]
     },
     "execution_count": 98,
     "metadata": {},
     "output_type": "execute_result"
    }
   ],
   "source": [
    "# Approch 3\n",
    "[i+\">\" for i in str1.split(\">\")]"
   ]
  },
  {
   "cell_type": "code",
   "execution_count": 99,
   "id": "303781b3",
   "metadata": {},
   "outputs": [
    {
     "name": "stdout",
     "output_type": "stream",
     "text": [
      "['This >', ' is a game >', ' called game']\n"
     ]
    }
   ],
   "source": [
    "# Final Approch \n",
    "count=str1.count(\">\")\n",
    "a=0\n",
    "resultstring=[]\n",
    "for i in str1.split(\">\"):\n",
    "    if a < count:\n",
    "        i=i+\">\"\n",
    "        resultstring.append(i)\n",
    "    else:\n",
    "        resultstring.append(i)\n",
    "    a+=1\n",
    "\n",
    "print(resultstring)"
   ]
  },
  {
   "cell_type": "markdown",
   "id": "5e16d186",
   "metadata": {},
   "source": [
    "### 3) Reverse String\n",
    "#### Sample Input      : \"Python Programming\"\n",
    "#### Sample Output   : \"gnimmargorP nohtyP\""
   ]
  },
  {
   "cell_type": "code",
   "execution_count": 164,
   "id": "5d930d10",
   "metadata": {},
   "outputs": [],
   "source": [
    "string=\"Python Programming\""
   ]
  },
  {
   "cell_type": "code",
   "execution_count": 165,
   "id": "0e585e08",
   "metadata": {},
   "outputs": [
    {
     "name": "stdout",
     "output_type": "stream",
     "text": [
      "gnimmargorP nohtyP"
     ]
    }
   ],
   "source": [
    "#Approch 1\n",
    "for i in range(len(string)-1,-1,-1):\n",
    "    print(string[i],end=\"\")"
   ]
  },
  {
   "cell_type": "code",
   "execution_count": 166,
   "id": "82861d0f",
   "metadata": {},
   "outputs": [
    {
     "data": {
      "text/plain": [
       "'gnimmargorP nohtyP'"
      ]
     },
     "execution_count": 166,
     "metadata": {},
     "output_type": "execute_result"
    }
   ],
   "source": [
    "#Approch 2\n",
    "string[::-1]"
   ]
  },
  {
   "cell_type": "markdown",
   "id": "e7821677",
   "metadata": {},
   "source": [
    "### 4) Reverse order of words\n",
    "#### Sample Input : \"Learning Python is very easy\"\n",
    "#### Sample Output : \"easy very is Python Learning"
   ]
  },
  {
   "cell_type": "code",
   "execution_count": 177,
   "id": "5995ebe7",
   "metadata": {},
   "outputs": [
    {
     "name": "stdout",
     "output_type": "stream",
     "text": [
      "Learning Python is very easy\n",
      "easy very is Python Learning\n"
     ]
    }
   ],
   "source": [
    "str1=\"Learning Python is very easy\"\n",
    "print(str1)\n",
    "resultstring=str1.split()\n",
    "resultstring.reverse()\n",
    "finalstring=\" \".join(resultstring)\n",
    "print(finalstring)"
   ]
  },
  {
   "cell_type": "markdown",
   "id": "3a5d4578",
   "metadata": {},
   "source": [
    "### 5) Reverse Internal Content Of String\n",
    "#### Sample Input   : \"Python Programming\"\n",
    "#### Sample Output   : \"nohtyP gnimmargorP\""
   ]
  },
  {
   "cell_type": "code",
   "execution_count": 178,
   "id": "23363a65",
   "metadata": {},
   "outputs": [
    {
     "name": "stdout",
     "output_type": "stream",
     "text": [
      "Python Programming\n"
     ]
    },
    {
     "data": {
      "text/plain": [
       "'nohtyP gnimmargorP '"
      ]
     },
     "execution_count": 178,
     "metadata": {},
     "output_type": "execute_result"
    }
   ],
   "source": [
    "# Approach 1\n",
    "print(string)\n",
    "result=string.split()\n",
    "resultstring=''\n",
    "for i in range(len(result)):\n",
    "    resultstring+=result[i][::-1]+\" \"\n",
    "resultstring"
   ]
  },
  {
   "cell_type": "markdown",
   "id": "ce9b66c1",
   "metadata": {},
   "source": [
    "### 6) Reverse Internal Content Of  every second String\n",
    "#### Sample Input   : \"Python Programming is very easy\"\n",
    "#### Sample Output   : \"Python gnimmargorP is yrev easy\""
   ]
  },
  {
   "cell_type": "code",
   "execution_count": 183,
   "id": "13a92825",
   "metadata": {},
   "outputs": [
    {
     "data": {
      "text/plain": [
       "'Python gnimmargorP is yrev easy '"
      ]
     },
     "execution_count": 183,
     "metadata": {},
     "output_type": "execute_result"
    }
   ],
   "source": [
    "string1=\"Python Programming is very easy\"\n",
    "resultstring=string1.split()\n",
    "finalstring=\"\"\n",
    "for i in range(len(resultstring)):\n",
    "    if i % 2 != 0:\n",
    "        finalstring+=resultstring[i][::-1]+\" \"\n",
    "    else:\n",
    "        finalstring+=resultstring[i]+\" \"\n",
    "finalstring"
   ]
  },
  {
   "cell_type": "code",
   "execution_count": null,
   "id": "788c15b2",
   "metadata": {},
   "outputs": [],
   "source": []
  },
  {
   "cell_type": "markdown",
   "id": "beadce14",
   "metadata": {},
   "source": [
    "### 7) Remove Duplicates\n",
    "#### Sample Input   : \"Python Programming\"\n",
    "#### Sample Output   : \"Python rgami\""
   ]
  },
  {
   "cell_type": "code",
   "execution_count": 187,
   "id": "42268d21",
   "metadata": {},
   "outputs": [
    {
     "data": {
      "text/plain": [
       "'Python rgami'"
      ]
     },
     "execution_count": 187,
     "metadata": {},
     "output_type": "execute_result"
    }
   ],
   "source": [
    "# Approach 1\n",
    "string=\"Python Programing\"\n",
    "resultstring=''\n",
    "for i in range(len(string)):\n",
    "    if string[i] not in resultstring:\n",
    "        resultstring+=string[i]\n",
    "resultstring"
   ]
  },
  {
   "cell_type": "code",
   "execution_count": 188,
   "id": "7615b677",
   "metadata": {},
   "outputs": [
    {
     "data": {
      "text/plain": [
       "'ogynra hmitP'"
      ]
     },
     "execution_count": 188,
     "metadata": {},
     "output_type": "execute_result"
    }
   ],
   "source": [
    "# Approch 2\n",
    "string=\"Python Programming\"\n",
    "result=set(string)\n",
    "str=''\n",
    "str.join(result)\n",
    "#Note : Order Won't be maintained in string"
   ]
  },
  {
   "cell_type": "markdown",
   "id": "ccd73e7a",
   "metadata": {},
   "source": [
    "###  8) Each Character Count\n",
    "#### Sample Input   : \"Python Programming\"\n",
    "#### Sample Output   : \"{'P': 2, 'y': 1, 't': 1, 'h': 1, 'o': 2, 'n': 2, ' ': 1, 'r': 2, 'g': 2, 'a': 1, 'm': 2, 'i': 1}\""
   ]
  },
  {
   "cell_type": "code",
   "execution_count": 190,
   "id": "7a85abc1",
   "metadata": {},
   "outputs": [
    {
     "name": "stdout",
     "output_type": "stream",
     "text": [
      "Python Programming\n",
      "{'P': 2, 'y': 1, 't': 1, 'h': 1, 'o': 2, 'n': 2, ' ': 1, 'r': 2, 'g': 2, 'a': 1, 'm': 2, 'i': 1}\n"
     ]
    }
   ],
   "source": [
    "string=\"Python Programming\"\n",
    "print(string)\n",
    "#Approch 1\n",
    "dict1={}\n",
    "for i in range(len(string)):\n",
    "    dict1[string[i]]=string.count(string[i])\n",
    "print(dict1)"
   ]
  },
  {
   "cell_type": "markdown",
   "id": "b49623cd",
   "metadata": {},
   "source": [
    "### 9) Anagram Concept\n",
    "#### The Character should match in both strings then it is Anagram"
   ]
  },
  {
   "cell_type": "code",
   "execution_count": 191,
   "id": "f6cf9f96",
   "metadata": {},
   "outputs": [
    {
     "name": "stdout",
     "output_type": "stream",
     "text": [
      "String Radee and Draee Are Anagram\n"
     ]
    }
   ],
   "source": [
    "string1=\"listen\"\n",
    "string2=\"silent\"\n",
    "string1=\"Radee\"\n",
    "string2=\"Draee\"\n",
    "if sorted(string1.casefold()) == sorted(string2.casefold()):\n",
    "    print(\"String {} and {} Are Anagram\".format(string1,string2))\n",
    "else:\n",
    "    print(\"String {} and {} Are Not A Anagram\".format(string1,string2))"
   ]
  },
  {
   "cell_type": "markdown",
   "id": "c2f51f25",
   "metadata": {},
   "source": [
    "### 10 ) Merge Character Of 2 String into a single string\n",
    "#### Sample Input1   : \"RAVI\"\n",
    "#### Sample Input 2  : \"KUMA\"\n",
    "#### Sample Output   : \"RKAUVMIA\""
   ]
  },
  {
   "cell_type": "code",
   "execution_count": 233,
   "id": "2ba0aa37",
   "metadata": {},
   "outputs": [
    {
     "data": {
      "text/plain": [
       "'RKAUVMIA'"
      ]
     },
     "execution_count": 233,
     "metadata": {},
     "output_type": "execute_result"
    }
   ],
   "source": [
    "string1=\"RAVI\"\n",
    "string2=\"KUMA\"\n",
    "resultstring=\"\"\n",
    "for i in range(len(string1)):\n",
    "    resultstring+=string1[i]+string2[i]\n",
    "resultstring"
   ]
  },
  {
   "cell_type": "markdown",
   "id": "9e45d416",
   "metadata": {},
   "source": [
    "#### Sample Input1   : \"RAVI\"\n",
    "#### Sample Input 2  : \"KUMARASAMY\"\n",
    "#### Sample Output   : \"RKAUVMIARASAMY\""
   ]
  },
  {
   "cell_type": "code",
   "execution_count": 234,
   "id": "b3844bb6",
   "metadata": {},
   "outputs": [
    {
     "data": {
      "text/plain": [
       "'RKAUVMIARASAMY'"
      ]
     },
     "execution_count": 234,
     "metadata": {},
     "output_type": "execute_result"
    }
   ],
   "source": [
    "# Note : Pending Concept\n",
    "string1=\"RAVI\"\n",
    "string2=\"KUMARASAMY\"\n",
    "resultstring=\"\"\n",
    "Length=[]\n",
    "Length.append(len(string1))\n",
    "Length.append(len(string2))\n",
    "for i in range(max(Length)):\n",
    "    if i < len(string1) :\n",
    "        resultstring+=string1[i]\n",
    "    if i < len(string2) :\n",
    "        resultstring+=string2[i]      \n",
    "resultstring"
   ]
  },
  {
   "cell_type": "markdown",
   "id": "10d1159b",
   "metadata": {},
   "source": [
    "### 11 ) Sort Character Of The String First Alphabet and followed by digits\n",
    "#### Sample Input   : \"B4A1D3\"\n",
    "#### Sample Output  : \"ABD134\""
   ]
  },
  {
   "cell_type": "code",
   "execution_count": 244,
   "id": "85709094",
   "metadata": {},
   "outputs": [
    {
     "data": {
      "text/plain": [
       "'ABD134'"
      ]
     },
     "execution_count": 244,
     "metadata": {},
     "output_type": "execute_result"
    }
   ],
   "source": [
    "string=\"B4A1D3\"\n",
    "alpha=[]\n",
    "digit=[]\n",
    "for i in range(len(string)):\n",
    "    if string[i].isalpha():\n",
    "        alpha.append(string[i])\n",
    "    elif string[i].isdecimal():\n",
    "        digit.append(string[i])\n",
    "alpha.sort()\n",
    "digit.sort()\n",
    "resultstring=\"\"\n",
    "resultstring=\"\".join(alpha)\n",
    "resultstring+=\"\".join(digit)\n",
    "resultstring"
   ]
  },
  {
   "cell_type": "markdown",
   "id": "8e81854c",
   "metadata": {},
   "source": [
    "### 12 )\n",
    "#### Sample Input   : \"a4b3c2\"\n",
    "#### Sample Output  : \"aaaabbbcc\""
   ]
  },
  {
   "cell_type": "code",
   "execution_count": 286,
   "id": "6a7264ca",
   "metadata": {},
   "outputs": [
    {
     "data": {
      "text/plain": [
       "'aaaabbbcc'"
      ]
     },
     "execution_count": 286,
     "metadata": {},
     "output_type": "execute_result"
    }
   ],
   "source": [
    "string=\"a4b3c2\"\n",
    "resultstring=\"\"\n",
    "for i in range(len(string)):\n",
    "    if string[i].isalpha():\n",
    "        char=string[i]\n",
    "    elif string[i].isdecimal():\n",
    "        resultstring+=char * eval(string[i])\n",
    "resultstring"
   ]
  },
  {
   "cell_type": "markdown",
   "id": "120716eb",
   "metadata": {},
   "source": [
    "### 13 )\n",
    "#### Sample Input   : \"a3z2b4\"\n",
    "#### Sample Output  : \"aaabbbbzz\"(Sorted String)"
   ]
  },
  {
   "cell_type": "markdown",
   "id": "fe07752d",
   "metadata": {},
   "source": [
    "### 14 )\n",
    "#### Sample Input   : \"aaaabbbccz\"\n",
    "#### Sample Output  : \"4a3b2c1z\""
   ]
  },
  {
   "cell_type": "markdown",
   "id": "a37ab4de",
   "metadata": {},
   "source": [
    "### 15 )\n",
    "#### Sample Input   : \"ABAABBCA\"\n",
    "#### Sample Output  : \"4A3B1C\""
   ]
  },
  {
   "cell_type": "markdown",
   "id": "6db56357",
   "metadata": {},
   "source": [
    "### 16 )\n",
    "#### Sample Input   : \"ABAABBCA\"\n",
    "#### Sample Output  : \"A4B3C1\""
   ]
  },
  {
   "cell_type": "markdown",
   "id": "49443e25",
   "metadata": {},
   "source": [
    "### 17 ) Palindrome\n",
    "#### Sample Input   : \"level\"\n",
    "#### Sample Output  : \"level\""
   ]
  },
  {
   "cell_type": "markdown",
   "id": "aea105c8",
   "metadata": {},
   "source": [
    "### 18 )\n",
    "#### Sample Input1   : \"abcdefg\"\n",
    "#### Sample Input2   : \"xyz\"\n",
    "#### Sample Input3   : \"12345\"\n",
    "#### Sample Output  : \"ax1,by2,cz3,d4,e5,f,g\""
   ]
  },
  {
   "cell_type": "code",
   "execution_count": null,
   "id": "ee2b336f",
   "metadata": {},
   "outputs": [],
   "source": []
  }
 ],
 "metadata": {
  "kernelspec": {
   "display_name": "Python 3 (ipykernel)",
   "language": "python",
   "name": "python3"
  },
  "language_info": {
   "codemirror_mode": {
    "name": "ipython",
    "version": 3
   },
   "file_extension": ".py",
   "mimetype": "text/x-python",
   "name": "python",
   "nbconvert_exporter": "python",
   "pygments_lexer": "ipython3",
   "version": "3.8.10"
  }
 },
 "nbformat": 4,
 "nbformat_minor": 5
}
