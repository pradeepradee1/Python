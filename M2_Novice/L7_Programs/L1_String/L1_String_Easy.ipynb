{
 "cells": [
  {
   "cell_type": "markdown",
   "metadata": {},
   "source": [
    "# Think Concept Then Do The Program"
   ]
  },
  {
   "cell_type": "markdown",
   "metadata": {},
   "source": [
    "### 1) Find The target word Occurance with index"
   ]
  },
  {
   "cell_type": "code",
   "execution_count": 1,
   "metadata": {},
   "outputs": [
    {
     "data": {
      "text/plain": [
       "'This is game called as game again with terrific game ending the sentences'"
      ]
     },
     "execution_count": 1,
     "metadata": {},
     "output_type": "execute_result"
    }
   ],
   "source": [
    "string=\"This is game called as game again with terrific game ending the sentences\"\n",
    "string"
   ]
  },
  {
   "cell_type": "code",
   "execution_count": 2,
   "metadata": {},
   "outputs": [
    {
     "name": "stdout",
     "output_type": "stream",
     "text": [
      "8\n",
      "23\n",
      "48\n"
     ]
    }
   ],
   "source": [
    "count=string.count(\"game\")\n",
    "startindex=0\n",
    "for i in range(count):\n",
    "    startindex=string.find(\"game\",startindex)\n",
    "    print(startindex)\n",
    "    startindex+=1"
   ]
  },
  {
   "cell_type": "markdown",
   "metadata": {},
   "source": [
    "### Aternate Methods Using RE"
   ]
  },
  {
   "cell_type": "code",
   "execution_count": 9,
   "metadata": {},
   "outputs": [
    {
     "data": {
      "text/plain": [
       "[8, 23, 48]"
      ]
     },
     "execution_count": 9,
     "metadata": {},
     "output_type": "execute_result"
    }
   ],
   "source": [
    "import re\n",
    "[m.start() for m in re.finditer(\"game\",string)]"
   ]
  },
  {
   "cell_type": "markdown",
   "metadata": {},
   "source": [
    "### 2) Split based on the > without losing the > "
   ]
  },
  {
   "cell_type": "code",
   "execution_count": 10,
   "metadata": {},
   "outputs": [
    {
     "data": {
      "text/plain": [
       "'This > is a game > called game'"
      ]
     },
     "execution_count": 10,
     "metadata": {},
     "output_type": "execute_result"
    }
   ],
   "source": [
    "str1=\"This > is a game > called game\"\n",
    "str1"
   ]
  },
  {
   "cell_type": "code",
   "execution_count": 11,
   "metadata": {},
   "outputs": [
    {
     "data": {
      "text/plain": [
       "['This ', ' is a game ', ' called game']"
      ]
     },
     "execution_count": 11,
     "metadata": {},
     "output_type": "execute_result"
    }
   ],
   "source": [
    "# Approch 1\n",
    "str1.split(\">\")"
   ]
  },
  {
   "cell_type": "code",
   "execution_count": 12,
   "metadata": {},
   "outputs": [
    {
     "data": {
      "text/plain": [
       "('This ', '>', ' is a game > called game')"
      ]
     },
     "execution_count": 12,
     "metadata": {},
     "output_type": "execute_result"
    }
   ],
   "source": [
    "# Approch 2\n",
    "str1.partition(\">\")"
   ]
  },
  {
   "cell_type": "code",
   "execution_count": 13,
   "metadata": {},
   "outputs": [
    {
     "data": {
      "text/plain": [
       "['This >', ' is a game >', ' called game>']"
      ]
     },
     "execution_count": 13,
     "metadata": {},
     "output_type": "execute_result"
    }
   ],
   "source": [
    "# Approch 3\n",
    "[i+\">\" for i in str1.split(\">\")]"
   ]
  },
  {
   "cell_type": "code",
   "execution_count": 14,
   "metadata": {},
   "outputs": [
    {
     "name": "stdout",
     "output_type": "stream",
     "text": [
      "Final Approch 1 ['This >', ' is a game >', ' called game']\n",
      "Final Approch 2 ['This >', ' is a game >', ' called game']\n"
     ]
    }
   ],
   "source": [
    "# Final Approch \n",
    "count=str1.count(\">\")\n",
    "a=0\n",
    "resultstring=[]\n",
    "for i in str1.split(\">\"):\n",
    "    if a < count:\n",
    "        i=i+\">\"\n",
    "        resultstring.append(i)\n",
    "    else:\n",
    "        resultstring.append(i)\n",
    "    a+=1\n",
    "\n",
    "print(\"Final Approch 1 {}\".format(resultstring))\n",
    "\n",
    "#OR\n",
    "\n",
    "str2=\"This > is a game > called game\"\n",
    "count=str2.count(\">\")\n",
    "str2=str2.split(\">\")\n",
    "a=[ str2[i]+\">\" if i < count else str2[i]  for i in range(len(str2))]\n",
    "print(\"Final Approch 2 {}\".format(a))"
   ]
  },
  {
   "cell_type": "markdown",
   "metadata": {},
   "source": [
    "### 3) Reverse String\n",
    "#### Sample Input      : \"Python Programming\"\n",
    "#### Sample Output   : \"gnimmargorP nohtyP\""
   ]
  },
  {
   "cell_type": "code",
   "execution_count": 15,
   "metadata": {},
   "outputs": [],
   "source": [
    "string=\"Python Programming\""
   ]
  },
  {
   "cell_type": "code",
   "execution_count": 16,
   "metadata": {},
   "outputs": [
    {
     "name": "stdout",
     "output_type": "stream",
     "text": [
      "gnimmargorP nohtyP"
     ]
    }
   ],
   "source": [
    "#Approch 1\n",
    "for i in range(len(string)-1,-1,-1):\n",
    "    print(string[i],end=\"\")"
   ]
  },
  {
   "cell_type": "code",
   "execution_count": 17,
   "metadata": {},
   "outputs": [
    {
     "data": {
      "text/plain": [
       "'gnimmargorP nohtyP'"
      ]
     },
     "execution_count": 17,
     "metadata": {},
     "output_type": "execute_result"
    }
   ],
   "source": [
    "#Approch 2\n",
    "string[::-1]"
   ]
  },
  {
   "cell_type": "markdown",
   "metadata": {},
   "source": [
    "### 4) Reverse order of words\n",
    "#### Sample Input : \"Learning Python is very easy\"\n",
    "#### Sample Output : \"easy very is Python Learning"
   ]
  },
  {
   "cell_type": "code",
   "execution_count": 18,
   "metadata": {},
   "outputs": [
    {
     "name": "stdout",
     "output_type": "stream",
     "text": [
      "Learning Python is very easy\n",
      "easy very is Python Learning\n"
     ]
    }
   ],
   "source": [
    "str1=\"Learning Python is very easy\"\n",
    "print(str1)\n",
    "resultstring=str1.split()\n",
    "resultstring.reverse()\n",
    "finalstring=\" \".join(resultstring)\n",
    "print(finalstring)"
   ]
  },
  {
   "cell_type": "markdown",
   "metadata": {},
   "source": [
    "### 5) Reverse Internal Content Of String\n",
    "#### Sample Input   : \"Python Programming\"\n",
    "#### Sample Output   : \"nohtyP gnimmargorP\""
   ]
  },
  {
   "cell_type": "code",
   "execution_count": 19,
   "metadata": {},
   "outputs": [
    {
     "name": "stdout",
     "output_type": "stream",
     "text": [
      "Python Programming\n"
     ]
    },
    {
     "data": {
      "text/plain": [
       "'nohtyP gnimmargorP '"
      ]
     },
     "execution_count": 19,
     "metadata": {},
     "output_type": "execute_result"
    }
   ],
   "source": [
    "# Approach 1\n",
    "print(string)\n",
    "result=string.split()\n",
    "resultstring=''\n",
    "for i in range(len(result)):\n",
    "    resultstring+=result[i][::-1]+\" \"\n",
    "resultstring"
   ]
  },
  {
   "cell_type": "markdown",
   "metadata": {},
   "source": [
    "### 6) Reverse Internal Content Of  every second String\n",
    "#### Sample Input   : \"Python Programming is very easy\"\n",
    "#### Sample Output   : \"Python gnimmargorP is yrev easy\""
   ]
  },
  {
   "cell_type": "code",
   "execution_count": 20,
   "metadata": {},
   "outputs": [
    {
     "data": {
      "text/plain": [
       "'Python gnimmargorP is yrev easy '"
      ]
     },
     "execution_count": 20,
     "metadata": {},
     "output_type": "execute_result"
    }
   ],
   "source": [
    "string1=\"Python Programming is very easy\"\n",
    "resultstring=string1.split()\n",
    "finalstring=\"\"\n",
    "for i in range(len(resultstring)):\n",
    "    if i % 2 != 0:\n",
    "        finalstring+=resultstring[i][::-1]+\" \"\n",
    "    else:\n",
    "        finalstring+=resultstring[i]+\" \"\n",
    "finalstring"
   ]
  },
  {
   "cell_type": "code",
   "execution_count": null,
   "metadata": {},
   "outputs": [],
   "source": []
  },
  {
   "cell_type": "markdown",
   "metadata": {},
   "source": [
    "### 7) Remove Duplicates\n",
    "#### Sample Input   : \"Python Programming\"\n",
    "#### Sample Output   : \"Python rgami\""
   ]
  },
  {
   "cell_type": "code",
   "execution_count": 21,
   "metadata": {},
   "outputs": [
    {
     "data": {
      "text/plain": [
       "'Python rgami'"
      ]
     },
     "execution_count": 21,
     "metadata": {},
     "output_type": "execute_result"
    }
   ],
   "source": [
    "# Approach 1\n",
    "string=\"Python Programing\"\n",
    "resultstring=''\n",
    "for i in range(len(string)):\n",
    "    if string[i] not in resultstring:\n",
    "        resultstring+=string[i]\n",
    "resultstring"
   ]
  },
  {
   "cell_type": "code",
   "execution_count": 22,
   "metadata": {},
   "outputs": [
    {
     "data": {
      "text/plain": [
       "'airmngPy tho'"
      ]
     },
     "execution_count": 22,
     "metadata": {},
     "output_type": "execute_result"
    }
   ],
   "source": [
    "# Approch 2\n",
    "string=\"Python Programming\"\n",
    "result=set(string)\n",
    "\"\".join(result)\n",
    "#Note : Order Won't be maintained in string"
   ]
  },
  {
   "cell_type": "markdown",
   "metadata": {},
   "source": [
    "###  8) Each Character Count\n",
    "#### Sample Input   : \"Python Programming\"\n",
    "#### Sample Output   : \"{'P': 2, 'y': 1, 't': 1, 'h': 1, 'o': 2, 'n': 2, ' ': 1, 'r': 2, 'g': 2, 'a': 1, 'm': 2, 'i': 1}\""
   ]
  },
  {
   "cell_type": "code",
   "execution_count": 23,
   "metadata": {},
   "outputs": [
    {
     "name": "stdout",
     "output_type": "stream",
     "text": [
      "Python Programming\n",
      "{'P': 2, 'y': 1, 't': 1, 'h': 1, 'o': 2, 'n': 2, ' ': 1, 'r': 2, 'g': 2, 'a': 1, 'm': 2, 'i': 1}\n"
     ]
    }
   ],
   "source": [
    "string=\"Python Programming\"\n",
    "print(string)\n",
    "#Approch 1\n",
    "dict1={}\n",
    "for i in range(len(string)):\n",
    "    dict1[string[i]]=string.count(string[i])\n",
    "print(dict1)"
   ]
  },
  {
   "cell_type": "markdown",
   "metadata": {},
   "source": [
    "### 9) Anagram Concept\n",
    "#### The Character should match in both strings then it is Anagram"
   ]
  },
  {
   "cell_type": "code",
   "execution_count": 24,
   "metadata": {},
   "outputs": [
    {
     "name": "stdout",
     "output_type": "stream",
     "text": [
      "String Radee and Draee Are Anagram\n"
     ]
    }
   ],
   "source": [
    "string1=\"listen\"\n",
    "string2=\"silent\"\n",
    "string1=\"Radee\"\n",
    "string2=\"Draee\"\n",
    "if sorted(string1.casefold()) == sorted(string2.casefold()):\n",
    "    print(\"String {} and {} Are Anagram\".format(string1,string2))\n",
    "else:\n",
    "    print(\"String {} and {} Are Not A Anagram\".format(string1,string2))"
   ]
  },
  {
   "cell_type": "markdown",
   "metadata": {},
   "source": [
    "### 10 ) Merge Character Of 2 String into a single string\n",
    "#### Sample Input1   : \"RAVI\"\n",
    "#### Sample Input 2  : \"KUMA\"\n",
    "#### Sample Output   : \"RKAUVMIA\""
   ]
  },
  {
   "cell_type": "code",
   "execution_count": 25,
   "metadata": {},
   "outputs": [
    {
     "data": {
      "text/plain": [
       "'RKAUVMIA'"
      ]
     },
     "execution_count": 25,
     "metadata": {},
     "output_type": "execute_result"
    }
   ],
   "source": [
    "string1=\"RAVI\"\n",
    "string2=\"KUMA\"\n",
    "resultstring=\"\"\n",
    "for i in range(len(string1)):\n",
    "    resultstring+=string1[i]+string2[i]\n",
    "resultstring"
   ]
  },
  {
   "cell_type": "markdown",
   "metadata": {},
   "source": [
    "#### Sample Input1   : \"RAVI\"\n",
    "#### Sample Input 2  : \"KUMARASAMY\"\n",
    "#### Sample Output   : \"RKAUVMIARASAMY\""
   ]
  },
  {
   "cell_type": "code",
   "execution_count": 26,
   "metadata": {},
   "outputs": [
    {
     "data": {
      "text/plain": [
       "'RKAUVMIARASAMY'"
      ]
     },
     "execution_count": 26,
     "metadata": {},
     "output_type": "execute_result"
    }
   ],
   "source": [
    "string1=\"RAVI\"\n",
    "string2=\"KUMARASAMY\"\n",
    "# string1=\"KUMARASAMY\"\n",
    "# string2=\"RAVI\"\n",
    "resultstring=\"\"\n",
    "Length=[]\n",
    "Length.append(len(string1))\n",
    "Length.append(len(string2))\n",
    "for i in range(max(Length)):\n",
    "    if i < len(string1) :\n",
    "        resultstring+=string1[i]\n",
    "    if i < len(string2) :\n",
    "        resultstring+=string2[i]      \n",
    "resultstring"
   ]
  },
  {
   "cell_type": "markdown",
   "metadata": {},
   "source": [
    "### 11 ) Sort Character Of The String First Alphabet and followed by digits\n",
    "#### Sample Input   : \"B4A1D3\"\n",
    "#### Sample Output  : \"ABD134\""
   ]
  },
  {
   "cell_type": "code",
   "execution_count": 27,
   "metadata": {},
   "outputs": [
    {
     "name": "stdout",
     "output_type": "stream",
     "text": [
      "['1', '3', '4', 'A', 'B', 'D']\n"
     ]
    }
   ],
   "source": [
    "#Approch 1:\n",
    "string='B4A1D3'\n",
    "resultstring=sorted(string)\n",
    "print(resultstring)"
   ]
  },
  {
   "cell_type": "code",
   "execution_count": 28,
   "metadata": {},
   "outputs": [
    {
     "data": {
      "text/plain": [
       "'ABD134'"
      ]
     },
     "execution_count": 28,
     "metadata": {},
     "output_type": "execute_result"
    }
   ],
   "source": [
    "#Fianl Approch \n",
    "string=\"B4A1D3\"\n",
    "alpha=[]\n",
    "digit=[]\n",
    "for i in range(len(string)):\n",
    "    if string[i].isalpha():\n",
    "        alpha.append(string[i])\n",
    "    elif string[i].isdecimal():\n",
    "        digit.append(string[i])\n",
    "alpha.sort()\n",
    "digit.sort()\n",
    "resultstring=\"\"\n",
    "resultstring=\"\".join(alpha)\n",
    "resultstring+=\"\".join(digit)\n",
    "resultstring"
   ]
  },
  {
   "cell_type": "markdown",
   "metadata": {},
   "source": [
    "### 12 )\n",
    "#### Sample Input   : \"a4b3c2\"\n",
    "#### Sample Output  : \"aaaabbbcc\""
   ]
  },
  {
   "cell_type": "code",
   "execution_count": 29,
   "metadata": {},
   "outputs": [
    {
     "data": {
      "text/plain": [
       "'aaaabbbcc'"
      ]
     },
     "execution_count": 29,
     "metadata": {},
     "output_type": "execute_result"
    }
   ],
   "source": [
    "string=\"a4b3c2\"\n",
    "resultstring=\"\"\n",
    "for i in range(len(string)):\n",
    "    if string[i].isalpha():\n",
    "        char=string[i]\n",
    "    elif string[i].isdecimal():\n",
    "        resultstring+=char * eval(string[i])\n",
    "resultstring"
   ]
  },
  {
   "cell_type": "markdown",
   "metadata": {},
   "source": [
    "### 13 )\n",
    "#### Sample Input   : \"a3z2b4\"\n",
    "#### Sample Output  : \"aaabbbbzz\"(Sorted String)"
   ]
  },
  {
   "cell_type": "code",
   "execution_count": 30,
   "metadata": {},
   "outputs": [
    {
     "name": "stdout",
     "output_type": "stream",
     "text": [
      "aaazzbbbb\n",
      "aaabbbbzz\n"
     ]
    }
   ],
   "source": [
    "string=\"a3z2b4\"\n",
    "result=''\n",
    "for i in range(len(string)):\n",
    "    if string[i].isalpha():\n",
    "        a=string[i]\n",
    "    else:\n",
    "        result+=a*eval(string[i])\n",
    "print(result)\n",
    "print(\"\".join(sorted(result)))"
   ]
  },
  {
   "cell_type": "markdown",
   "metadata": {},
   "source": [
    "### 14 )\n",
    "#### Sample Input   : \"aaaabbbccz\"\n",
    "#### Sample Output  : \"4a3b2c1z\""
   ]
  },
  {
   "cell_type": "code",
   "execution_count": 47,
   "metadata": {},
   "outputs": [
    {
     "data": {
      "text/plain": [
       "'4a3b2c1z'"
      ]
     },
     "execution_count": 47,
     "metadata": {},
     "output_type": "execute_result"
    }
   ],
   "source": [
    "string=\"aaaabbbccz\"\n",
    "dictstring={}\n",
    "resultstring=''\n",
    "for i in range(len(string)):\n",
    "    dictstring[string[i]]=string.count(string[i])\n",
    "key=[i for i in dictstring.keys()]\n",
    "value=[str(i) for i in dictstring.values()]\n",
    "for i in range(len(value)):\n",
    "    resultstring+=value[i]+key[i]\n",
    "resultstring"
   ]
  },
  {
   "cell_type": "markdown",
   "metadata": {},
   "source": [
    "###  15 )\n",
    "#### Sample Input   : \"a4k3b2\"\n",
    "#### Sample Output  : \"aeknbd\""
   ]
  },
  {
   "cell_type": "markdown",
   "metadata": {},
   "source": [
    "### 16 )\n",
    "#### Sample Input   : \"ABAABBCA\"\n",
    "#### Sample Output  : \"4A3B1C\""
   ]
  },
  {
   "cell_type": "code",
   "execution_count": 48,
   "metadata": {},
   "outputs": [
    {
     "name": "stdout",
     "output_type": "stream",
     "text": [
      "AAAABBBC\n"
     ]
    },
    {
     "data": {
      "text/plain": [
       "'4A3B1C'"
      ]
     },
     "execution_count": 48,
     "metadata": {},
     "output_type": "execute_result"
    }
   ],
   "source": [
    "string=\"ABAABBCA\"\n",
    "string=sorted(string)\n",
    "string=\"\".join(string)\n",
    "print(string)\n",
    "dictstring={}\n",
    "resultstring=''\n",
    "for i in range(len(string)):\n",
    "    dictstring[string[i]]=string.count(string[i])\n",
    "key=[i for i in dictstring.keys()]\n",
    "value=[str(i) for i in dictstring.values()]\n",
    "for i in range(len(value)):\n",
    "    resultstring+=value[i]+key[i]\n",
    "resultstring"
   ]
  },
  {
   "cell_type": "markdown",
   "metadata": {},
   "source": [
    "### 17 )\n",
    "#### Sample Input   : \"ABAABBCA\"\n",
    "#### Sample Output  : \"A4B3C1\""
   ]
  },
  {
   "cell_type": "code",
   "execution_count": 49,
   "metadata": {},
   "outputs": [
    {
     "name": "stdout",
     "output_type": "stream",
     "text": [
      "AAAABBBC\n"
     ]
    },
    {
     "data": {
      "text/plain": [
       "'A4B3C1'"
      ]
     },
     "execution_count": 49,
     "metadata": {},
     "output_type": "execute_result"
    }
   ],
   "source": [
    "string=\"ABAABBCA\"\n",
    "string=sorted(string)\n",
    "string=\"\".join(string)\n",
    "print(string)\n",
    "dictstring={}\n",
    "resultstring=''\n",
    "for i in range(len(string)):\n",
    "    dictstring[string[i]]=string.count(string[i])\n",
    "key=[i for i in dictstring.keys()]\n",
    "value=[str(i) for i in dictstring.values()]\n",
    "for i in range(len(value)):\n",
    "    resultstring+=key[i]+value[i]\n",
    "resultstring"
   ]
  },
  {
   "cell_type": "markdown",
   "metadata": {},
   "source": [
    "### 18 ) Palindrome\n",
    "#### Sample Input   : \"level\"\n",
    "#### Sample Output  : \"level\" \n",
    "#### level == level then it is Palindrome"
   ]
  },
  {
   "cell_type": "code",
   "execution_count": 56,
   "metadata": {},
   "outputs": [
    {
     "name": "stdout",
     "output_type": "stream",
     "text": [
      "String level and level are Palindrome \n"
     ]
    }
   ],
   "source": [
    "string='level'\n",
    "# string='level1'\n",
    "reverstring=string[::-1]\n",
    "if string == reverstring:\n",
    "    print(\"String {} and {} are Palindrome \".format(string,reverstring))\n",
    "else:\n",
    "    print(\"String {} and {} are Not A Palindrome \".format(string,reverstring))    "
   ]
  },
  {
   "cell_type": "markdown",
   "metadata": {},
   "source": [
    "### 19 )\n",
    "#### Sample Input1   : \"abcdefg\"\n",
    "#### Sample Input2   : \"xyz\"\n",
    "#### Sample Input3   : \"12345\"\n",
    "#### Sample Output  : \"ax1,by2,cz3,d4,e5,f,g\""
   ]
  },
  {
   "cell_type": "code",
   "execution_count": 61,
   "metadata": {},
   "outputs": [
    {
     "data": {
      "text/plain": [
       "'ax1by2cz3d4e5fg'"
      ]
     },
     "execution_count": 61,
     "metadata": {},
     "output_type": "execute_result"
    }
   ],
   "source": [
    "string1=\"abcdefg\"\n",
    "string2=\"xyz\"\n",
    "string3=\"12345\"\n",
    "resultstring=\"\"\n",
    "lengthlist=[]\n",
    "lengthlist.append(len(string1))\n",
    "lengthlist.append(len(string2))\n",
    "lengthlist.append(len(string3))\n",
    "for i in range(max(lengthlist)):\n",
    "    if i < len(string1):\n",
    "        resultstring+=string1[i]\n",
    "    if i < len(string2):\n",
    "        resultstring+=string2[i]\n",
    "    if i < len(string3):\n",
    "        resultstring+=string3[i]\n",
    "resultstring"
   ]
  },
  {
   "cell_type": "markdown",
   "id": "3764289e",
   "metadata": {},
   "source": [
    "20 ) What is OP ?"
   ]
  },
  {
   "cell_type": "code",
   "execution_count": 1,
   "metadata": {},
   "outputs": [
    {
     "name": "stdout",
     "output_type": "stream",
     "text": [
      "adgj\n"
     ]
    }
   ],
   "source": [
    "my_string = \"abcdefghijkl\"\n",
    "print(my_string[::3])\n"
   ]
  },
  {
   "cell_type": "code",
   "execution_count": null,
   "id": "d514372d",
   "metadata": {},
   "outputs": [],
   "source": []
  }
 ],
 "metadata": {
  "kernelspec": {
   "display_name": "Python 3",
   "language": "python",
   "name": "python3"
  },
  "language_info": {
   "codemirror_mode": {
    "name": "ipython",
    "version": 3
   },
   "file_extension": ".py",
   "mimetype": "text/x-python",
   "name": "python",
   "nbconvert_exporter": "python",
   "pygments_lexer": "ipython3",
   "version": "3.10.11"
  }
 },
 "nbformat": 4,
 "nbformat_minor": 5
}
