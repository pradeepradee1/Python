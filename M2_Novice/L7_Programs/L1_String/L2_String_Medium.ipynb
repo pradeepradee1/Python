{
 "cells": [
  {
   "cell_type": "markdown",
   "metadata": {},
   "source": [
    "### 2) Find the only 2nd word occurance with index and replace with sepcial character"
   ]
  },
  {
   "cell_type": "code",
   "execution_count": 2,
   "metadata": {},
   "outputs": [
    {
     "name": "stdout",
     "output_type": "stream",
     "text": [
      "l\n",
      "3\n",
      "o\n",
      "7\n",
      "hel@o w@rld\n",
      "@lo@l\n"
     ]
    }
   ],
   "source": [
    "input_str=\"hello world\"\n",
    "temp=\"@\"\n",
    "for i in range(len(input_str)):\n",
    "    if input_str.count(input_str[i]) > 1:\n",
    "        if input_str[i] not in temp:\n",
    "            print(input_str[i])\n",
    "            num=input_str.find(input_str[i],i+1)\n",
    "            print(num)\n",
    "            input_str=input_str[:num] + \"@\" + input_str[num+1:]\n",
    "        temp+=input_str[i]\n",
    "print(input_str)\n",
    "print(temp)"
   ]
  },
  {
   "cell_type": "code",
   "execution_count": null,
   "metadata": {},
   "outputs": [],
   "source": []
  }
 ],
 "metadata": {
  "kernelspec": {
   "display_name": "Python 3",
   "language": "python",
   "name": "python3"
  },
  "language_info": {
   "codemirror_mode": {
    "name": "ipython",
    "version": 3
   },
   "file_extension": ".py",
   "mimetype": "text/x-python",
   "name": "python",
   "nbconvert_exporter": "python",
   "pygments_lexer": "ipython3",
   "version": "3.8.3"
  }
 },
 "nbformat": 4,
 "nbformat_minor": 4
}
