{
 "cells": [
  {
   "cell_type": "code",
   "execution_count": 2,
   "id": "a2acc4fe",
   "metadata": {},
   "outputs": [
    {
     "data": {
      "text/plain": [
       "[1, 2, 3]"
      ]
     },
     "execution_count": 2,
     "metadata": {},
     "output_type": "execute_result"
    }
   ],
   "source": [
    "#Single Dimension\n",
    "a=[1,2,3]\n",
    "a"
   ]
  },
  {
   "cell_type": "code",
   "execution_count": 3,
   "id": "de296596",
   "metadata": {},
   "outputs": [
    {
     "data": {
      "text/plain": [
       "[[1, 2], [2, 3]]"
      ]
     },
     "execution_count": 3,
     "metadata": {},
     "output_type": "execute_result"
    }
   ],
   "source": [
    "#Two Dimensional\n",
    "a=[[1,2],[2,3]]\n",
    "a"
   ]
  },
  {
   "cell_type": "code",
   "execution_count": 4,
   "id": "63b33ea2",
   "metadata": {},
   "outputs": [
    {
     "data": {
      "text/plain": [
       "[[[1, 2], [3, 4]], [[1, 2], [3, 4]]]"
      ]
     },
     "execution_count": 4,
     "metadata": {},
     "output_type": "execute_result"
    }
   ],
   "source": [
    "#Three Dimensional\n",
    "a=[[[1,2],[3,4]],[[1,2],[3,4]]]\n",
    "a"
   ]
  },
  {
   "cell_type": "code",
   "execution_count": null,
   "id": "f4abb0c9",
   "metadata": {},
   "outputs": [],
   "source": []
  },
  {
   "cell_type": "markdown",
   "id": "ad8034f0",
   "metadata": {},
   "source": [
    "### Sorting"
   ]
  },
  {
   "cell_type": "code",
   "execution_count": 5,
   "id": "77862851",
   "metadata": {},
   "outputs": [
    {
     "data": {
      "text/plain": [
       "[[7, 3], [5, 7, 8], [2]]"
      ]
     },
     "execution_count": 5,
     "metadata": {},
     "output_type": "execute_result"
    }
   ],
   "source": [
    "a=[[7,3],[5,7,8],[2]]\n",
    "a"
   ]
  },
  {
   "cell_type": "code",
   "execution_count": 6,
   "id": "7087a27c",
   "metadata": {},
   "outputs": [
    {
     "data": {
      "text/plain": [
       "[[3, 7], [5, 7, 8], [2]]"
      ]
     },
     "execution_count": 6,
     "metadata": {},
     "output_type": "execute_result"
    }
   ],
   "source": [
    "for i in range(len(a)):\n",
    "    a[i].sort()\n",
    "a"
   ]
  },
  {
   "cell_type": "code",
   "execution_count": 7,
   "id": "f424ceb7",
   "metadata": {},
   "outputs": [
    {
     "data": {
      "text/plain": [
       "[[2], [3, 7], [5, 7, 8]]"
      ]
     },
     "execution_count": 7,
     "metadata": {},
     "output_type": "execute_result"
    }
   ],
   "source": [
    "a.sort()\n",
    "a"
   ]
  },
  {
   "cell_type": "code",
   "execution_count": 8,
   "id": "7b891651",
   "metadata": {},
   "outputs": [
    {
     "data": {
      "text/plain": [
       "[[7, 3], [5, 7, 8], [2, 1]]"
      ]
     },
     "execution_count": 8,
     "metadata": {},
     "output_type": "execute_result"
    }
   ],
   "source": [
    "#Sorting Based On The Second Values\n",
    "a=[[7,3],[5,7,8],[2,1]]\n",
    "a"
   ]
  },
  {
   "cell_type": "code",
   "execution_count": 9,
   "id": "522ac658",
   "metadata": {},
   "outputs": [
    {
     "data": {
      "text/plain": [
       "[[2, 1], [7, 3], [5, 7, 8]]"
      ]
     },
     "execution_count": 9,
     "metadata": {},
     "output_type": "execute_result"
    }
   ],
   "source": [
    "a.sort(key=lambda x : x[1])\n",
    "a"
   ]
  },
  {
   "cell_type": "markdown",
   "id": "d0cacc70",
   "metadata": {},
   "source": [
    "### ZIP"
   ]
  },
  {
   "cell_type": "code",
   "execution_count": 10,
   "id": "50d3482d",
   "metadata": {},
   "outputs": [
    {
     "name": "stdout",
     "output_type": "stream",
     "text": [
      "[(1, 3, 5, 7, 9), (2, 4, 6, 8, 10)]\n"
     ]
    }
   ],
   "source": [
    "a=[[1,2],[3,4],[5,6],[7,8],[9,10]]\n",
    "print(list(zip(*a)))"
   ]
  },
  {
   "cell_type": "code",
   "execution_count": 11,
   "id": "01ea8139",
   "metadata": {},
   "outputs": [
    {
     "name": "stdout",
     "output_type": "stream",
     "text": [
      "[(1, 3, 5, 7, 9)]\n"
     ]
    }
   ],
   "source": [
    "a=[[1,2],[3,4],[5,6],[7,8],[9]]\n",
    "print(list(zip(*a)))"
   ]
  },
  {
   "cell_type": "markdown",
   "id": "f19cd2de",
   "metadata": {},
   "source": [
    "### 1) Program Logic\n",
    "### Sample Input : [2 , 4 , [ 5 , 6 ] , [ [ 3 , 4 ] ] , [ [ [ 0 ] ] ] , 4 ],\n",
    "### Sampl Output : [2, 4, 5, 6, 3, 4, 0, 4]"
   ]
  },
  {
   "cell_type": "code",
   "execution_count": 12,
   "id": "409209c6",
   "metadata": {},
   "outputs": [
    {
     "data": {
      "text/plain": [
       "[2, 4, 5, 6, 3, 4, 0, 4]"
      ]
     },
     "execution_count": 12,
     "metadata": {},
     "output_type": "execute_result"
    }
   ],
   "source": [
    "#Recursive Functions\n",
    "result=[]\n",
    "def func(a):\n",
    "    for i in a:\n",
    "        if type(i) == int:\n",
    "            result.append(i)\n",
    "        else:\n",
    "            func(i)\n",
    "    return result\n",
    "a=[2,4,[5,6],[[3,4]],[[[0]]],4]\n",
    "finalresult=func(a)\n",
    "finalresult"
   ]
  },
  {
   "cell_type": "code",
   "execution_count": null,
   "id": "e8121ab4",
   "metadata": {},
   "outputs": [],
   "source": []
  }
 ],
 "metadata": {
  "kernelspec": {
   "display_name": "Python 3 (ipykernel)",
   "language": "python",
   "name": "python3"
  },
  "language_info": {
   "codemirror_mode": {
    "name": "ipython",
    "version": 3
   },
   "file_extension": ".py",
   "mimetype": "text/x-python",
   "name": "python",
   "nbconvert_exporter": "python",
   "pygments_lexer": "ipython3",
   "version": "3.8.10"
  }
 },
 "nbformat": 4,
 "nbformat_minor": 5
}
