{
 "cells": [
  {
   "cell_type": "code",
   "execution_count": 5,
   "id": "a2acc4fe",
   "metadata": {},
   "outputs": [
    {
     "data": {
      "text/plain": [
       "[1, 2, 3]"
      ]
     },
     "execution_count": 5,
     "metadata": {},
     "output_type": "execute_result"
    }
   ],
   "source": [
    "#Single Dimension\n",
    "a=[1,2,3]\n",
    "a"
   ]
  },
  {
   "cell_type": "code",
   "execution_count": 6,
   "id": "de296596",
   "metadata": {},
   "outputs": [
    {
     "data": {
      "text/plain": [
       "[[1, 2], [2, 3]]"
      ]
     },
     "execution_count": 6,
     "metadata": {},
     "output_type": "execute_result"
    }
   ],
   "source": [
    "#Two Dimensional\n",
    "a=[[1,2],[2,3]]\n",
    "a"
   ]
  },
  {
   "cell_type": "code",
   "execution_count": 7,
   "id": "63b33ea2",
   "metadata": {},
   "outputs": [
    {
     "data": {
      "text/plain": [
       "[[[1, 2], [3, 4]], [[1, 2], [3, 4]]]"
      ]
     },
     "execution_count": 7,
     "metadata": {},
     "output_type": "execute_result"
    }
   ],
   "source": [
    "#Three Dimensional\n",
    "a=[[[1,2],[3,4]],[[1,2],[3,4]]]\n",
    "a"
   ]
  },
  {
   "cell_type": "code",
   "execution_count": null,
   "id": "f4abb0c9",
   "metadata": {},
   "outputs": [],
   "source": []
  },
  {
   "cell_type": "markdown",
   "id": "ad8034f0",
   "metadata": {},
   "source": [
    "### Sorting"
   ]
  },
  {
   "cell_type": "code",
   "execution_count": 8,
   "id": "77862851",
   "metadata": {},
   "outputs": [
    {
     "data": {
      "text/plain": [
       "[[7, 3], [5, 7, 8], [2], [1, 2, 3, 4]]"
      ]
     },
     "execution_count": 8,
     "metadata": {},
     "output_type": "execute_result"
    }
   ],
   "source": [
    "a=[[7,3],[5,7,8],[2],[1,2,3,4]]\n",
    "a"
   ]
  },
  {
   "cell_type": "code",
   "execution_count": 9,
   "id": "f424ceb7",
   "metadata": {},
   "outputs": [
    {
     "data": {
      "text/plain": [
       "[[1, 2, 3, 4], [2], [5, 7, 8], [7, 3]]"
      ]
     },
     "execution_count": 9,
     "metadata": {},
     "output_type": "execute_result"
    }
   ],
   "source": [
    "##Sorting Based On The First Values\n",
    "a.sort()\n",
    "a"
   ]
  },
  {
   "cell_type": "code",
   "execution_count": 10,
   "id": "7b891651",
   "metadata": {},
   "outputs": [
    {
     "name": "stdout",
     "output_type": "stream",
     "text": [
      "[[7, 3], [5, 7, 8], [2, 1], [1, 2, 3, 4]]\n",
      "[[2, 1], [1, 2, 3, 4], [7, 3], [5, 7, 8]]\n",
      "[[5, 7, 8], [7, 3], [1, 2, 3, 4], [2, 1]]\n"
     ]
    }
   ],
   "source": [
    "#Sorting Based On The Second Values\n",
    "a=[[7,3],[5,7,8],[2,1],[1,2,3,4]]\n",
    "print(a)\n",
    "a.sort(key=lambda x : x[1])\n",
    "#sorted(a,key=lambda x :x[1])\n",
    "print(a)\n",
    "a.sort(key=lambda x : x[1],reverse=True)\n",
    "print(a)"
   ]
  },
  {
   "cell_type": "code",
   "execution_count": null,
   "id": "cfd94850",
   "metadata": {},
   "outputs": [],
   "source": []
  },
  {
   "cell_type": "markdown",
   "id": "d0cacc70",
   "metadata": {},
   "source": [
    "### ZIP"
   ]
  },
  {
   "cell_type": "code",
   "execution_count": 11,
   "id": "50d3482d",
   "metadata": {},
   "outputs": [
    {
     "name": "stdout",
     "output_type": "stream",
     "text": [
      "[(1, 3, 5, 7, 9), (2, 4, 6, 8, 10)]\n"
     ]
    }
   ],
   "source": [
    "a=[[1,2],[3,4],[5,6],[7,8],[9,10]]\n",
    "print(list(zip(*a)))"
   ]
  },
  {
   "cell_type": "code",
   "execution_count": 12,
   "id": "01ea8139",
   "metadata": {},
   "outputs": [
    {
     "name": "stdout",
     "output_type": "stream",
     "text": [
      "[(1, 3, 5, 7, 9)]\n"
     ]
    }
   ],
   "source": [
    "a=[[1,2],[3,4],[5,6],[7,8],[9]]\n",
    "print(list(zip(*a)))"
   ]
  },
  {
   "cell_type": "markdown",
   "id": "f19cd2de",
   "metadata": {},
   "source": [
    "### 1) Program Logic\n",
    "### Sample Input : [2 , 4 , [ 5 , 6 ] , [ [ 3 , 4 ] ] , [ [ [ 0 ] ] ] , 4 ],\n",
    "### Sampl Output : [2, 4, 5, 6, 3, 4, 0, 4]"
   ]
  },
  {
   "cell_type": "code",
   "execution_count": 13,
   "id": "409209c6",
   "metadata": {},
   "outputs": [
    {
     "data": {
      "text/plain": [
       "[2, 4, 5, 6, 3, 4, 0, 4]"
      ]
     },
     "execution_count": 13,
     "metadata": {},
     "output_type": "execute_result"
    }
   ],
   "source": [
    "#Recursive Functions\n",
    "result=[]\n",
    "def func(a):\n",
    "    for i in a:\n",
    "        if type(i) == int:\n",
    "            result.append(i)\n",
    "        else:\n",
    "            func(i)\n",
    "    return result\n",
    "a=[2,4,[5,6],[[3,4]],[[[0]]],4]\n",
    "finalresult=func(a)\n",
    "finalresult"
   ]
  },
  {
   "cell_type": "markdown",
   "id": "eae907d6",
   "metadata": {},
   "source": [
    "### 2 ) Program Logic 2\n",
    "\n",
    "### a = [1,2,5,3,7,8,5,2,22,24]\n",
    "\n",
    "### Sample Output\n",
    "\n",
    "### ip = 8\n",
    "### op = 5,3\n",
    "\n",
    "### ip = 21\n",
    "### op = None\n",
    "\n",
    "### ip = 5\n",
    "### op = 2,3"
   ]
  },
  {
   "cell_type": "code",
   "execution_count": 14,
   "id": "2468e740",
   "metadata": {},
   "outputs": [
    {
     "data": {
      "text/plain": [
       "[1, 2, 5, 3, 7, 8, 12, 22, 24]"
      ]
     },
     "execution_count": 14,
     "metadata": {},
     "output_type": "execute_result"
    }
   ],
   "source": [
    "a = [1,2,5,3,7,8,12,22,24]\n",
    "a"
   ]
  },
  {
   "cell_type": "code",
   "execution_count": 17,
   "id": "95fc8990",
   "metadata": {},
   "outputs": [
    {
     "name": "stdout",
     "output_type": "stream",
     "text": [
      "enter the number  12\n",
      "[1, 2, 3, 5, 7, 8, 12, 22, 24]\n",
      "5,7\n"
     ]
    }
   ],
   "source": [
    "# Method 1\n",
    "target = eval(input(\"enter the number  \"))\n",
    "a.sort()\n",
    "print(a)\n",
    "for i in range(len(a)):\n",
    "    val=False\n",
    "    for j in range(i,len(a)):\n",
    "        if a[i] + a[j] == target :\n",
    "            var1=a[i]\n",
    "            var2=a[j]\n",
    "            val=True\n",
    "            break\n",
    "    if val:\n",
    "        print(var1,end=\",\")\n",
    "        print(var2)\n",
    "        break\n",
    "else:\n",
    "    print(None)"
   ]
  },
  {
   "cell_type": "code",
   "execution_count": 18,
   "id": "a67abbeb",
   "metadata": {},
   "outputs": [
    {
     "name": "stdout",
     "output_type": "stream",
     "text": [
      "enter the number  12\n",
      "[1, 2, 3, 5, 7, 8, 12, 22, 24]\n",
      "5 7\n"
     ]
    }
   ],
   "source": [
    "# Method 2\n",
    "target = eval(input(\"enter the number  \"))\n",
    "# target=20\n",
    "a.sort()\n",
    "print(a)\n",
    "for i in range(len(a)):\n",
    "    var=True\n",
    "    if i+1 == len(a) :\n",
    "        var=False\n",
    "    else:\n",
    "        if a[i]+a[i+1] == target:\n",
    "            print(a[i],a[i+1])\n",
    "            break\n",
    "            \n",
    "if var == False:\n",
    "    print(None)"
   ]
  },
  {
   "cell_type": "code",
   "execution_count": 19,
   "id": "91c3e41e",
   "metadata": {},
   "outputs": [
    {
     "name": "stdout",
     "output_type": "stream",
     "text": [
      "enter the number  12\n",
      "[1, 2, 3, 5]\n",
      "[7, 8, 12, 22, 24]\n",
      "The Target is 12\n",
      "None\n"
     ]
    }
   ],
   "source": [
    "# Method 3\n",
    "target = eval(input(\"enter the number  \"))\n",
    "\n",
    "firsthalf=a[:round(len(a)/2)]\n",
    "secondhalf=a[round(len(a)/2):]\n",
    "print(firsthalf)\n",
    "print(secondhalf)\n",
    "print(\"The Target is {}\".format(target))\n",
    "\n",
    "if firsthalf[len(firsthalf)-1]+firsthalf[len(firsthalf)-2] >= target :\n",
    "    for i in range(len(firsthalf)):\n",
    "        if i+1 == len(firsthalf):\n",
    "            print(None)\n",
    "            break\n",
    "        else:\n",
    "            if firsthalf[i]+firsthalf[i+1] == target:\n",
    "                print(firsthalf[i],firsthalf[i+1])\n",
    "                break\n",
    "else:\n",
    "    for i in range(len(secondhalf)):\n",
    "        if i+1 == len(secondhalf):\n",
    "            print(None)\n",
    "            break\n",
    "        else:\n",
    "            if secondhalf[i]+secondhalf[i+1] == target:\n",
    "                print(secondhalf[i],secondhalf[i+1])\n",
    "                break"
   ]
  },
  {
   "cell_type": "code",
   "execution_count": null,
   "id": "4d1ba1d9",
   "metadata": {},
   "outputs": [],
   "source": []
  }
 ],
 "metadata": {
  "kernelspec": {
   "display_name": "Python 3 (ipykernel)",
   "language": "python",
   "name": "python3"
  },
  "language_info": {
   "codemirror_mode": {
    "name": "ipython",
    "version": 3
   },
   "file_extension": ".py",
   "mimetype": "text/x-python",
   "name": "python",
   "nbconvert_exporter": "python",
   "pygments_lexer": "ipython3",
   "version": "3.8.10"
  }
 },
 "nbformat": 4,
 "nbformat_minor": 5
}
