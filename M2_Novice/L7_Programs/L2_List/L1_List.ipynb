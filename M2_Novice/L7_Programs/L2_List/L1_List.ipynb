{
 "cells": [
  {
   "cell_type": "code",
   "execution_count": 2,
   "id": "a2acc4fe",
   "metadata": {},
   "outputs": [
    {
     "data": {
      "text/plain": [
       "[1, 2, 3]"
      ]
     },
     "execution_count": 2,
     "metadata": {},
     "output_type": "execute_result"
    }
   ],
   "source": [
    "#Single Dimension\n",
    "a=[1,2,3]\n",
    "a"
   ]
  },
  {
   "cell_type": "code",
   "execution_count": 3,
   "id": "de296596",
   "metadata": {},
   "outputs": [
    {
     "data": {
      "text/plain": [
       "[[1, 2], [2, 3]]"
      ]
     },
     "execution_count": 3,
     "metadata": {},
     "output_type": "execute_result"
    }
   ],
   "source": [
    "#Two Dimensional\n",
    "a=[[1,2],[2,3]]\n",
    "a"
   ]
  },
  {
   "cell_type": "code",
   "execution_count": 4,
   "id": "63b33ea2",
   "metadata": {},
   "outputs": [
    {
     "data": {
      "text/plain": [
       "[[[1, 2], [3, 4]], [[1, 2], [3, 4]]]"
      ]
     },
     "execution_count": 4,
     "metadata": {},
     "output_type": "execute_result"
    }
   ],
   "source": [
    "#Three Dimensional\n",
    "a=[[[1,2],[3,4]],[[1,2],[3,4]]]\n",
    "a"
   ]
  },
  {
   "cell_type": "code",
   "execution_count": 5,
   "id": "f4abb0c9",
   "metadata": {},
   "outputs": [
    {
     "name": "stdout",
     "output_type": "stream",
     "text": [
      "[[], [], [], [], []]\n",
      "[[10], [], [], [], []]\n"
     ]
    }
   ],
   "source": [
    "#Appending the Values in Nested List \n",
    "a=[ [] ,[] ,[] , [], [] ] \n",
    "print(a)\n",
    "a[0].append(10)\n",
    "print(a)"
   ]
  },
  {
   "cell_type": "code",
   "execution_count": 10,
   "id": "6f68486b",
   "metadata": {},
   "outputs": [
    {
     "name": "stdout",
     "output_type": "stream",
     "text": [
      "[[[]], [[]], [[]], [[]], [[]]]\n",
      "[[[10], 10], [[]], [[]], [[]], [[]]]\n"
     ]
    }
   ],
   "source": [
    "a=[ [[]] ,[[]] ,[[]] , [[]], [[]] ]\n",
    "print(a)\n",
    "a[0].append(10)\n",
    "a[0][0].append(10)\n",
    "print(a)"
   ]
  },
  {
   "cell_type": "markdown",
   "id": "ad8034f0",
   "metadata": {},
   "source": [
    "### Sorting"
   ]
  },
  {
   "cell_type": "code",
   "execution_count": 6,
   "id": "77862851",
   "metadata": {},
   "outputs": [
    {
     "data": {
      "text/plain": [
       "[[7, 3], [5, 7, 8], [2], [1, 2, 3, 4]]"
      ]
     },
     "execution_count": 6,
     "metadata": {},
     "output_type": "execute_result"
    }
   ],
   "source": [
    "a=[[7,3],[5,7,8],[2],[1,2,3,4]]\n",
    "a"
   ]
  },
  {
   "cell_type": "code",
   "execution_count": 7,
   "id": "f424ceb7",
   "metadata": {},
   "outputs": [
    {
     "data": {
      "text/plain": [
       "[[1, 2, 3, 4], [2], [5, 7, 8], [7, 3]]"
      ]
     },
     "execution_count": 7,
     "metadata": {},
     "output_type": "execute_result"
    }
   ],
   "source": [
    "##Sorting Based On The First Values \n",
    "a.sort()\n",
    "a"
   ]
  },
  {
   "cell_type": "code",
   "execution_count": 8,
   "id": "7b891651",
   "metadata": {},
   "outputs": [
    {
     "name": "stdout",
     "output_type": "stream",
     "text": [
      "[[7, 3], [5, 7, 8], [2, 1], [1, 2, 3, 4]]\n",
      "[[2, 1], [1, 2, 3, 4], [7, 3], [5, 7, 8]]\n",
      "[[5, 7, 8], [7, 3], [1, 2, 3, 4], [2, 1]]\n"
     ]
    }
   ],
   "source": [
    "#Sorting Based On The Second Values\n",
    "a=[[7,3],[5,7,8],[2,1],[1,2,3,4]]\n",
    "print(a)\n",
    "a.sort(key=lambda x : x[1])\n",
    "#sorted(a,key=lambda x :x[1])\n",
    "print(a)\n",
    "a.sort(key=lambda x : x[1],reverse=True)\n",
    "print(a)"
   ]
  },
  {
   "cell_type": "code",
   "execution_count": 8,
   "id": "cfd94850",
   "metadata": {},
   "outputs": [
    {
     "name": "stdout",
     "output_type": "stream",
     "text": [
      "[(1, 2, 3), (3, 4, 5), (56, 8, 9)]\n",
      "[(3, 2, 1), (5, 4, 3), (56, 9, 8)]\n"
     ]
    },
    {
     "data": {
      "text/plain": [
       "[(56, 9, 8), (5, 4, 3), (3, 2, 1)]"
      ]
     },
     "execution_count": 8,
     "metadata": {},
     "output_type": "execute_result"
    }
   ],
   "source": [
    "# How to sort the tuple and list outer in descending order based on the first values  ?\n",
    "a=[(1,2,3),(3,4,5),(56,8,9)]\n",
    "print(a) \n",
    "result=[]\n",
    "for i in a:\n",
    "    i=tuple(sorted(i,reverse=True))\n",
    "    result.append(i)\n",
    "print(result)\n",
    "\n",
    "result.sort(key=lambda x:x[0],reverse=True)\n",
    "\n",
    "result"
   ]
  },
  {
   "cell_type": "markdown",
   "id": "d0cacc70",
   "metadata": {},
   "source": [
    "### What is ZIP functions ?\n",
    "#### combine two or more iterables (like lists, tuples, etc.) into tuples"
   ]
  },
  {
   "cell_type": "code",
   "execution_count": 5,
   "id": "c950b8cc",
   "metadata": {},
   "outputs": [
    {
     "name": "stdout",
     "output_type": "stream",
     "text": [
      "[('Alice', 85), ('Bob', 90), ('Charlie', 95)]\n"
     ]
    }
   ],
   "source": [
    "names = ['Alice', 'Bob', 'Charlie']\n",
    "scores = [85, 90, 95]\n",
    "\n",
    "zipped = zip(names, scores)\n",
    "print(list(zipped))"
   ]
  },
  {
   "cell_type": "code",
   "execution_count": 7,
   "id": "940c1bb8",
   "metadata": {},
   "outputs": [
    {
     "name": "stdout",
     "output_type": "stream",
     "text": [
      "{'Alice': 85, 'Bob': 90, 'Charlie': 95}\n"
     ]
    }
   ],
   "source": [
    "print(dict(zip(names,scores)))"
   ]
  },
  {
   "cell_type": "code",
   "execution_count": 7,
   "id": "50d3482d",
   "metadata": {},
   "outputs": [
    {
     "name": "stdout",
     "output_type": "stream",
     "text": [
      "[(1, 3, 5, 7, 9), (2, 4, 6, 8, 10)]\n"
     ]
    }
   ],
   "source": [
    "a=[[1,2],[3,4],[5,6],[7,8],[9,10]]\n",
    "print(list(zip(*a)))"
   ]
  },
  {
   "cell_type": "code",
   "execution_count": 8,
   "id": "01ea8139",
   "metadata": {},
   "outputs": [
    {
     "name": "stdout",
     "output_type": "stream",
     "text": [
      "[(1, 3, 5, 7, 9)]\n"
     ]
    }
   ],
   "source": [
    "a=[[1,2],[3,4],[5,6],[7,8],[9]]\n",
    "print(list(zip(*a)))"
   ]
  },
  {
   "cell_type": "markdown",
   "id": "f19cd2de",
   "metadata": {},
   "source": [
    "### 1) Program Logic\n",
    "### Sample Input : [2 , 4 , [ 5 , 6 ] , [ [ 3 , 4 ] ] , [ [ [ 0 ] ] ] , 4 ]\n",
    "### Sampl Output : [2, 4, 5, 6, 3, 4, 0, 4]"
   ]
  },
  {
   "cell_type": "code",
   "execution_count": 11,
   "id": "409209c6",
   "metadata": {},
   "outputs": [
    {
     "data": {
      "text/plain": [
       "[2, 4, 5, 6, 3, 4, 0, 4]"
      ]
     },
     "execution_count": 11,
     "metadata": {},
     "output_type": "execute_result"
    }
   ],
   "source": [
    "#Recursive Functions\n",
    "result=[]\n",
    "def func(a):\n",
    "    for i in a:\n",
    "        if type(i) == int:\n",
    "            result.append(i)\n",
    "        else:\n",
    "            func(i)\n",
    "    return result\n",
    "a=[2,4,[5,6],[[3,4]],[[[0]]],4]\n",
    "finalresult=func(a)\n",
    "finalresult"
   ]
  },
  {
   "cell_type": "markdown",
   "id": "4b38739f",
   "metadata": {},
   "source": [
    "### 2 ) Program Logic 2\n",
    "\n",
    "### a = [1,2,5,3,7,8,5,2,22,24]\n",
    "\n",
    "### Sample Output\n",
    "\n",
    "### ip = 8\n",
    "### op = 5,3\n",
    "\n",
    "### ip = 21\n",
    "### op = None\n",
    "\n",
    "### ip = 5\n",
    "### op = 2,3"
   ]
  },
  {
   "cell_type": "code",
   "execution_count": 12,
   "id": "5eee06da",
   "metadata": {},
   "outputs": [
    {
     "data": {
      "text/plain": [
       "[1, 2, 5, 3, 7, 8, 12, 22, 24]"
      ]
     },
     "execution_count": 12,
     "metadata": {},
     "output_type": "execute_result"
    }
   ],
   "source": [
    "a = [1,2,5,3,7,8,12,22,24]\n",
    "a"
   ]
  },
  {
   "cell_type": "code",
   "execution_count": 13,
   "id": "d228376c",
   "metadata": {},
   "outputs": [
    {
     "name": "stdout",
     "output_type": "stream",
     "text": [
      "[1, 2, 3, 5, 7, 8, 12, 22, 24]\n",
      "1,7\n"
     ]
    }
   ],
   "source": [
    "# Method 1\n",
    "target = eval(input(\"enter the number  \"))\n",
    "a.sort()\n",
    "print(a)\n",
    "for i in range(len(a)):\n",
    "    val=False\n",
    "    for j in range(i,len(a)):\n",
    "        if a[i] + a[j] == target :\n",
    "            var1=a[i]\n",
    "            var2=a[j]\n",
    "            val=True\n",
    "            break\n",
    "    if val:\n",
    "        print(var1,end=\",\")\n",
    "        print(var2)\n",
    "        break\n",
    "else:\n",
    "    print(None)"
   ]
  },
  {
   "cell_type": "code",
   "execution_count": 15,
   "id": "540d87c1",
   "metadata": {},
   "outputs": [
    {
     "name": "stdout",
     "output_type": "stream",
     "text": [
      "[1, 2, 3, 5, 7, 8, 12, 22, 24]\n",
      "3 5\n"
     ]
    }
   ],
   "source": [
    "# Method 2\n",
    "target = eval(input(\"enter the number\"))\n",
    "# target=20\n",
    "a.sort()\n",
    "print(a)\n",
    "for i in range(len(a)):\n",
    "    var=True\n",
    "    if i+1 == len(a) :\n",
    "        var=False\n",
    "    else:\n",
    "        if a[i]+a[i+1] == target:\n",
    "            print(a[i],a[i+1])\n",
    "            break\n",
    "            \n",
    "if var == False:\n",
    "    print(None)"
   ]
  },
  {
   "cell_type": "code",
   "execution_count": 16,
   "id": "31d00896",
   "metadata": {},
   "outputs": [
    {
     "name": "stdout",
     "output_type": "stream",
     "text": [
      "[1, 2, 3, 5]\n",
      "[7, 8, 12, 22, 24]\n",
      "The Target is 8\n",
      "3 5\n"
     ]
    }
   ],
   "source": [
    "# Method 3\n",
    "target = eval(input(\"enter the number\"))\n",
    "\n",
    "firsthalf=a[:round(len(a)/2)]\n",
    "secondhalf=a[round(len(a)/2):]\n",
    "print(firsthalf)\n",
    "print(secondhalf)\n",
    "print(\"The Target is {}\".format(target))\n",
    "\n",
    "if firsthalf[len(firsthalf)-1]+firsthalf[len(firsthalf)-2] >= target :\n",
    "    for i in range(len(firsthalf)):\n",
    "        if i+1 == len(firsthalf):\n",
    "            print(None)\n",
    "            break\n",
    "        else:\n",
    "            if firsthalf[i]+firsthalf[i+1] == target:\n",
    "                print(firsthalf[i],firsthalf[i+1])\n",
    "                break\n",
    "else:\n",
    "    for i in range(len(secondhalf)):\n",
    "        if i+1 == len(secondhalf):\n",
    "            print(None)\n",
    "            break\n",
    "        else:\n",
    "            if secondhalf[i]+secondhalf[i+1] == target:\n",
    "                print(secondhalf[i],secondhalf[i+1])\n",
    "                break"
   ]
  },
  {
   "cell_type": "code",
   "execution_count": null,
   "id": "d6437825",
   "metadata": {},
   "outputs": [],
   "source": []
  },
  {
   "cell_type": "markdown",
   "id": "82cfbf3b",
   "metadata": {},
   "source": [
    "### Difference Between Shallow and Deep Copy"
   ]
  },
  {
   "cell_type": "markdown",
   "id": "66d9f370",
   "metadata": {},
   "source": [
    "### Shallow Copy : \n",
    "#### Copy a new object with references\n",
    "#### If any changes is done , impact will be both object"
   ]
  },
  {
   "cell_type": "code",
   "execution_count": 18,
   "id": "06be69d4",
   "metadata": {},
   "outputs": [
    {
     "name": "stdout",
     "output_type": "stream",
     "text": [
      "Original list: [1, 2, ['a', 4]]\n",
      "Shallow copy: [1, 2, ['a', 4]]\n"
     ]
    }
   ],
   "source": [
    "import copy\n",
    "original_list = [1, 2, [3, 4]]\n",
    "shallow_copy = copy.copy(original_list)\n",
    "shallow_copy[2][0] = 'a'\n",
    "print(\"Original list:\", original_list)  # Output: [1, 2, ['a', 4]]\n",
    "print(\"Shallow copy:\", shallow_copy)    # Output: [1, 2, ['a', 4]]\n"
   ]
  },
  {
   "cell_type": "markdown",
   "id": "9d336a36",
   "metadata": {},
   "source": [
    "### Deep Copy : \n",
    "#### Copy a new object without references\n",
    "#### If any changes is done , impact will be with respective object"
   ]
  },
  {
   "cell_type": "code",
   "execution_count": 19,
   "id": "3b81efaa",
   "metadata": {},
   "outputs": [
    {
     "name": "stdout",
     "output_type": "stream",
     "text": [
      "Original list: [1, 2, [3, 4]]\n",
      "Deep copy: [1, 2, ['a', 4]]\n"
     ]
    }
   ],
   "source": [
    "import copy\n",
    "original_list = [1, 2, [3, 4]]\n",
    "deep_copy = copy.deepcopy(original_list)\n",
    "deep_copy[2][0] = 'a'\n",
    "print(\"Original list:\", original_list)  # Output: [1, 2, [3, 4]]\n",
    "print(\"Deep copy:\", deep_copy)          # Output: [1, 2, ['a', 4]]\n"
   ]
  },
  {
   "cell_type": "code",
   "execution_count": null,
   "id": "192652f3",
   "metadata": {},
   "outputs": [],
   "source": []
  }
 ],
 "metadata": {
  "kernelspec": {
   "display_name": "Python 3",
   "language": "python",
   "name": "python3"
  },
  "language_info": {
   "codemirror_mode": {
    "name": "ipython",
    "version": 3
   },
   "file_extension": ".py",
   "mimetype": "text/x-python",
   "name": "python",
   "nbconvert_exporter": "python",
   "pygments_lexer": "ipython3",
   "version": "3.10.11"
  }
 },
 "nbformat": 4,
 "nbformat_minor": 5
}
