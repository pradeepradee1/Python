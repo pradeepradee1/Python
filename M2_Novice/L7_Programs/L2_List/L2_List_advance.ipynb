{
 "cells": [
  {
   "cell_type": "code",
   "execution_count": 1,
   "id": "9b8f8b89",
   "metadata": {},
   "outputs": [
    {
     "data": {
      "text/plain": [
       "[1, 2, 3, 4, 5, 6, 7, 8, 9, 10]"
      ]
     },
     "execution_count": 1,
     "metadata": {},
     "output_type": "execute_result"
    }
   ],
   "source": [
    "# 1) \n",
    "a = [1,2,3,4,5,6,7,8,9,10]\n",
    "a \n",
    "# Sample OP  \n",
    "# [1,2,3,4,5,6,7,8,9,10] --> 1 has sword and 2 is consuming and dead so on  \n",
    "# [1,3,5,7,9] \n",
    "# [1,5,9] \n",
    "# [5,9]  \n",
    "# [5] "
   ]
  },
  {
   "cell_type": "markdown",
   "id": "61506c4f",
   "metadata": {},
   "source": [
    "Dynamic values in list"
   ]
  },
  {
   "cell_type": "code",
   "execution_count": 64,
   "id": "2ce6a04e",
   "metadata": {},
   "outputs": [
    {
     "name": "stdout",
     "output_type": "stream",
     "text": [
      "[1, 2, 3, 4, 5, 6, 7, 8, 9, 10]\n",
      "[1, 3, 4, 5, 6, 7, 8, 9, 10]\n",
      "[1, 3, 5, 6, 7, 8, 9, 10]\n",
      "[1, 3, 5, 7, 8, 9, 10]\n",
      "[1, 3, 5, 7, 9, 10]\n",
      "[1, 3, 5, 7, 9]\n",
      "[1, 5, 7, 9]\n",
      "[1, 5, 9]\n",
      "[5, 9]\n",
      "[5]\n"
     ]
    }
   ],
   "source": [
    "a = [1,2,3,4,5,6,7,8,9,10]\n",
    "# a = [1, 3, 5, 7, 9]\n",
    "\n",
    "def func_(a):\n",
    "    i=0\n",
    "    while i < len(a):\n",
    "        print(a)\n",
    "        i+=1\n",
    "        if i >= len(a):\n",
    "            i=0\n",
    "            a.pop(0)\n",
    "        else:\n",
    "            a.pop(i)\n",
    "    if len(a) >= 1:\n",
    "        func_(a)\n",
    "    else:\n",
    "        return a\n",
    "    \n",
    "func_(a)"
   ]
  },
  {
   "cell_type": "code",
   "execution_count": null,
   "id": "8a3da74f",
   "metadata": {},
   "outputs": [],
   "source": []
  }
 ],
 "metadata": {
  "kernelspec": {
   "display_name": "Python 3 (ipykernel)",
   "language": "python",
   "name": "python3"
  },
  "language_info": {
   "codemirror_mode": {
    "name": "ipython",
    "version": 3
   },
   "file_extension": ".py",
   "mimetype": "text/x-python",
   "name": "python",
   "nbconvert_exporter": "python",
   "pygments_lexer": "ipython3",
   "version": "3.8.10"
  }
 },
 "nbformat": 4,
 "nbformat_minor": 5
}
