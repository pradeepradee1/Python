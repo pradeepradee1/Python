{
 "cells": [
  {
   "cell_type": "code",
   "execution_count": 2,
   "id": "81a93d65",
   "metadata": {},
   "outputs": [
    {
     "name": "stdout",
     "output_type": "stream",
     "text": [
      "{'Thur', 'Wed'}\n",
      "{'Thur', 'Wed', 'Sun'}\n"
     ]
    }
   ],
   "source": [
    "Days1={\"Mon\",\"Tue\",\"Wed\",\"Thur\"}\n",
    "Days2={\"Mon\",\"Tue\",\"Sun\"}\n",
    "print(Days1-Days2)\n",
    "print(Days1^Days2)"
   ]
  },
  {
   "cell_type": "code",
   "execution_count": null,
   "id": "c49bb02a",
   "metadata": {},
   "outputs": [],
   "source": []
  }
 ],
 "metadata": {
  "kernelspec": {
   "display_name": "Python 3 (ipykernel)",
   "language": "python",
   "name": "python3"
  },
  "language_info": {
   "codemirror_mode": {
    "name": "ipython",
    "version": 3
   },
   "file_extension": ".py",
   "mimetype": "text/x-python",
   "name": "python",
   "nbconvert_exporter": "python",
   "pygments_lexer": "ipython3",
   "version": "3.8.10"
  }
 },
 "nbformat": 4,
 "nbformat_minor": 5
}
