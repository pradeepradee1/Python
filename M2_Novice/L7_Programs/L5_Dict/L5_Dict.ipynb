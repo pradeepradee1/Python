{
 "cells": [
  {
   "cell_type": "markdown",
   "id": "2fde8cff",
   "metadata": {},
   "source": [
    "### Sorting"
   ]
  },
  {
   "cell_type": "code",
   "execution_count": 3,
   "id": "62a3f33e",
   "metadata": {},
   "outputs": [
    {
     "name": "stdout",
     "output_type": "stream",
     "text": [
      "{'one': 1, 'two': 22, 'three': 3}\n",
      "[('one', 1), ('three', 3), ('two', 22)]\n"
     ]
    },
    {
     "data": {
      "text/plain": [
       "{'one': 1, 'three': 3, 'two': 22}"
      ]
     },
     "execution_count": 3,
     "metadata": {},
     "output_type": "execute_result"
    }
   ],
   "source": [
    "# Sorting dict based on the values\n",
    "dict={\"one\":1,\"two\":22,\"three\":3}\n",
    "print(dict)\n",
    "dict1=sorted(dict.items(),key=lambda x :x[1])\n",
    "print(dict1)\n",
    "\n",
    "#How to change it dict format\n",
    "{i[0]:i[1] for i in sorted(dict.items(),key=lambda x :x[1])}"
   ]
  },
  {
   "cell_type": "code",
   "execution_count": 4,
   "id": "de29c359",
   "metadata": {},
   "outputs": [
    {
     "name": "stdout",
     "output_type": "stream",
     "text": [
      "{1: 'one', 22: 'two', 3: 'three'}\n",
      "[(1, 'one'), (3, 'three'), (22, 'two')]\n"
     ]
    },
    {
     "data": {
      "text/plain": [
       "{1: 'one', 3: 'three', 22: 'two'}"
      ]
     },
     "execution_count": 4,
     "metadata": {},
     "output_type": "execute_result"
    }
   ],
   "source": [
    "# Sorting dict based on the key\n",
    "dict={1:\"one\",22:\"two\",3:\"three\"}\n",
    "print(dict)\n",
    "print(sorted(dict.items(),key=lambda x :x [0]))\n",
    "\n",
    "{i[0]:i[1] for i in sorted(dict.items(),key=lambda x :x [0])}"
   ]
  },
  {
   "cell_type": "code",
   "execution_count": 5,
   "id": "72e9aa65",
   "metadata": {},
   "outputs": [
    {
     "name": "stdout",
     "output_type": "stream",
     "text": [
      "[{'name': 'Nand', 'age': 20}, {'name': 'Man', 'age': 21}, {'name': 'Mik', 'age': 19}]\n"
     ]
    },
    {
     "data": {
      "text/plain": [
       "[{'name': 'Mik', 'age': 19},\n",
       " {'name': 'Nand', 'age': 20},\n",
       " {'name': 'Man', 'age': 21}]"
      ]
     },
     "execution_count": 5,
     "metadata": {},
     "output_type": "execute_result"
    }
   ],
   "source": [
    "# Sorting dict based on the values ( age then name )\n",
    "lis=[{'name':'Nand','age':20},{'name':'Man','age':21},{'name':'Mik','age':19}]\n",
    "print(lis)\n",
    "result=sorted(lis,key=lambda x : (x['age'],x['name']))\n",
    "result"
   ]
  },
  {
   "cell_type": "markdown",
   "id": "3e8b19d3",
   "metadata": {},
   "source": [
    "### Grouping"
   ]
  },
  {
   "cell_type": "code",
   "execution_count": 6,
   "id": "9c16a7eb",
   "metadata": {},
   "outputs": [
    {
     "data": {
      "text/plain": [
       "{1: ['one', 'one1'], 2: ['two', 'two1'], 3: ['three']}"
      ]
     },
     "execution_count": 6,
     "metadata": {},
     "output_type": "execute_result"
    }
   ],
   "source": [
    "# Group the Same Values in Data\n",
    "data={\"one\":1,\"two\":2,\"one1\":1,\"three\":3,\"two1\":2}\n",
    "data_new={}\n",
    "for key,value in data.items():\n",
    "    if value in data_new:\n",
    "        data_new[value].append(key)\n",
    "    else:\n",
    "        data_new[value]=[key]\n",
    "data_new"
   ]
  },
  {
   "cell_type": "code",
   "execution_count": 7,
   "id": "88204324",
   "metadata": {},
   "outputs": [
    {
     "data": {
      "text/plain": [
       "{(1, 2): ['one', 'one1'], (2, 1): ['two'], (2, 2): ['two1'], (3,): ['three']}"
      ]
     },
     "execution_count": 7,
     "metadata": {},
     "output_type": "execute_result"
    }
   ],
   "source": [
    "# Group the Same Values in Data\n",
    "data={\"one\":[1,2],\"two\":[2,1],\"one1\":[1,2],\"two1\":[2,2],\"three\":[3]}\n",
    "data_new={}\n",
    "for key,value in data.items():\n",
    "    if tuple(value) in data_new:\n",
    "        data_new[tuple(value)].append(key)\n",
    "    else:\n",
    "        data_new[tuple(value)]=[key]\n",
    "data_new"
   ]
  },
  {
   "cell_type": "markdown",
   "id": "f05a5d59",
   "metadata": {},
   "source": [
    "### Note : We Counld'nt able to apply list or set in key\n",
    "###             We Can apply only the tuple in key"
   ]
  },
  {
   "cell_type": "code",
   "execution_count": 8,
   "id": "85b375c8",
   "metadata": {},
   "outputs": [
    {
     "data": {
      "text/plain": [
       "{'12345678': 3, '12345679': 1, '12345676': 1, '12345675': 2, '12345671': 1}"
      ]
     },
     "execution_count": 8,
     "metadata": {},
     "output_type": "execute_result"
    }
   ],
   "source": [
    "a=[\"12345678\",\"12345679\",\"12345678\",\"12345678\",\"12345676\",\"12345675\",\"12345671\",\"12345675\"]\n",
    "\n",
    "# Note :\n",
    "# Questions\n",
    "# and count the charters based on the first three characters should match and last characters should match\n",
    "\n",
    "result_dict={}\n",
    "for i in a:\n",
    "    result_dict[i]=a.count(i)\n",
    "result_dict"
   ]
  },
  {
   "cell_type": "code",
   "execution_count": 9,
   "id": "fd776f70",
   "metadata": {},
   "outputs": [
    {
     "name": "stdout",
     "output_type": "stream",
     "text": [
      "{[+*(-)]+}\n",
      "abcd5\n",
      "{[()]}\n",
      "6 6 Balance Operator\n"
     ]
    }
   ],
   "source": [
    "# Balance operator\n",
    "\n",
    "import re\n",
    "a=\"{[a+b*(c-d)]+5}\"\n",
    "string=\"\"\n",
    "symbol=\"\"\n",
    "for i in range(len(a)):\n",
    "    if a[i].isalnum():\n",
    "        string+=a[i]\n",
    "    else:\n",
    "        symbol+=a[i]\n",
    "print(symbol)\n",
    "print(string)\n",
    "s=re.sub(\"[+-/\\*]\",\"\",symbol)\n",
    "print(s)\n",
    "dict={}\n",
    "for i in s:\n",
    "    dict[i]=s.count(i)\n",
    "dict\n",
    "if len(dict) == len(s):\n",
    "    print(len(dict),len(s),\"Balance Operator\")\n",
    "else:\n",
    "    print(len(dict),len(s),\"Not Balance Operator\")"
   ]
  },
  {
   "cell_type": "markdown",
   "id": "870f06d0",
   "metadata": {},
   "source": [
    "### Merging"
   ]
  },
  {
   "cell_type": "code",
   "execution_count": 10,
   "id": "1c8b46c2",
   "metadata": {},
   "outputs": [
    {
     "data": {
      "text/plain": [
       "{'x': 10, 'y': 8, 'a': 6, 'b': 4}"
      ]
     },
     "execution_count": 10,
     "metadata": {},
     "output_type": "execute_result"
    }
   ],
   "source": [
    "dict1 = {'x': 10, 'y': 8} \n",
    "dict2 = {'a': 6, 'b': 4} \n",
    "{**dict1 , **dict2}"
   ]
  },
  {
   "cell_type": "code",
   "execution_count": null,
   "id": "8b96e8f4",
   "metadata": {},
   "outputs": [],
   "source": []
  },
  {
   "cell_type": "code",
   "execution_count": null,
   "id": "980691d7",
   "metadata": {},
   "outputs": [],
   "source": []
  }
 ],
 "metadata": {
  "kernelspec": {
   "display_name": "Python 3 (ipykernel)",
   "language": "python",
   "name": "python3"
  },
  "language_info": {
   "codemirror_mode": {
    "name": "ipython",
    "version": 3
   },
   "file_extension": ".py",
   "mimetype": "text/x-python",
   "name": "python",
   "nbconvert_exporter": "python",
   "pygments_lexer": "ipython3",
   "version": "3.8.10"
  }
 },
 "nbformat": 4,
 "nbformat_minor": 5
}
