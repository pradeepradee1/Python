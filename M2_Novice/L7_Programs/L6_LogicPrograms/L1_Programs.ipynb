{
 "cells": [
  {
   "cell_type": "code",
   "execution_count": 1,
   "id": "2b152928",
   "metadata": {},
   "outputs": [
    {
     "name": "stdout",
     "output_type": "stream",
     "text": [
      "{1: 3, 2: 2, 3: 2, 4: 1, 6: 1, 7: 1, 8: 1}\n"
     ]
    }
   ],
   "source": [
    "from collections import Counter\n",
    "lis=[1,2,3,4,1,2,6,7,3,8,1]\n",
    "cnt=Counter(lis)\n",
    "cnt=dict(cnt)\n",
    "print(cnt)"
   ]
  },
  {
   "cell_type": "markdown",
   "id": "4d80fdbb",
   "metadata": {},
   "source": [
    "### Most Common"
   ]
  },
  {
   "cell_type": "code",
   "execution_count": 4,
   "id": "80dd7ba3",
   "metadata": {},
   "outputs": [
    {
     "data": {
      "text/plain": [
       "{1: 3, 2: 2, 3: 2, 4: 1, 6: 1, 7: 1, 8: 1}"
      ]
     },
     "execution_count": 4,
     "metadata": {},
     "output_type": "execute_result"
    }
   ],
   "source": [
    "cnt=Counter(lis)\n",
    "cnt=dict(cnt.most_common())\n",
    "cnt"
   ]
  },
  {
   "cell_type": "markdown",
   "id": "900da820",
   "metadata": {},
   "source": [
    "### Elements"
   ]
  },
  {
   "cell_type": "code",
   "execution_count": 6,
   "id": "a31b6d01",
   "metadata": {},
   "outputs": [
    {
     "data": {
      "text/plain": [
       "[1, 1, 1, 2, 2, 2, 2]"
      ]
     },
     "execution_count": 6,
     "metadata": {},
     "output_type": "execute_result"
    }
   ],
   "source": [
    "cnt=Counter({1:3,2:4})\n",
    "list(cnt.elements())"
   ]
  },
  {
   "cell_type": "markdown",
   "id": "26bfaa71",
   "metadata": {},
   "source": [
    "### Subract"
   ]
  },
  {
   "cell_type": "code",
   "execution_count": 8,
   "id": "1bece860",
   "metadata": {},
   "outputs": [
    {
     "data": {
      "text/plain": [
       "Counter({1: 2, 2: 2})"
      ]
     },
     "execution_count": 8,
     "metadata": {},
     "output_type": "execute_result"
    }
   ],
   "source": [
    "cnt=Counter({1:3,2:4})\n",
    "deduct = {1:1,2:2}\n",
    "cnt.subtract(deduct)\n",
    "cnt"
   ]
  },
  {
   "cell_type": "code",
   "execution_count": null,
   "id": "904c38fe",
   "metadata": {},
   "outputs": [],
   "source": []
  }
 ],
 "metadata": {
  "kernelspec": {
   "display_name": "Python 3 (ipykernel)",
   "language": "python",
   "name": "python3"
  },
  "language_info": {
   "codemirror_mode": {
    "name": "ipython",
    "version": 3
   },
   "file_extension": ".py",
   "mimetype": "text/x-python",
   "name": "python",
   "nbconvert_exporter": "python",
   "pygments_lexer": "ipython3",
   "version": "3.8.10"
  }
 },
 "nbformat": 4,
 "nbformat_minor": 5
}
