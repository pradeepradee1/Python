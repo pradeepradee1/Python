{
 "cells": [
  {
   "cell_type": "markdown",
   "id": "84ce7c71",
   "metadata": {},
   "source": [
    "### Combinations: Select Only\n",
    "### Combinations : c(n,r)    =         n!  /  r!(n-r)!\n",
    "\n",
    "### Permutations:  Select and Arrange \n",
    "\n",
    "### Permutations : p(n,r) =         n!  /  (n-r)!"
   ]
  },
  {
   "cell_type": "markdown",
   "id": "8e3531aa",
   "metadata": {},
   "source": [
    "### Where \n",
    "### n = items\n",
    "### r = places"
   ]
  },
  {
   "cell_type": "code",
   "execution_count": 1,
   "id": "bca3aaa1",
   "metadata": {},
   "outputs": [
    {
     "name": "stdout",
     "output_type": "stream",
     "text": [
      "(1, 2)\n",
      "(1, 3)\n",
      "(2, 3)\n",
      "Second\n",
      "(2, 1)\n",
      "(2, 3)\n",
      "(1, 3)\n",
      "Third\n",
      "(1, 1)\n",
      "(1, 3)\n",
      "(1, 3)\n"
     ]
    }
   ],
   "source": [
    "# Combinations\n",
    "from itertools import combinations\n",
    "comb = combinations([1,2,3],2)\n",
    "for i in list(comb):\n",
    "    print(i)\n",
    "    \n",
    "print(\"Second\")\n",
    "\n",
    "comb = combinations([2,1,3],2)\n",
    "for i in list(comb):\n",
    "    print(i)\n",
    "    \n",
    "print(\"Third\")\n",
    "\n",
    "comb = combinations([1,1,3],2)\n",
    "for i in list(comb):\n",
    "    print(i)    "
   ]
  },
  {
   "cell_type": "code",
   "execution_count": 2,
   "id": "dc1e871a",
   "metadata": {},
   "outputs": [
    {
     "name": "stdout",
     "output_type": "stream",
     "text": [
      "(1, 2)\n",
      "(1, 3)\n",
      "(2, 1)\n",
      "(2, 3)\n",
      "(3, 1)\n",
      "(3, 2)\n"
     ]
    }
   ],
   "source": [
    "# Permutations\n",
    "from itertools import permutations\n",
    "perm = permutations([1,2,3],2)\n",
    "for i in list(perm):\n",
    "    print(i)    "
   ]
  },
  {
   "cell_type": "code",
   "execution_count": null,
   "id": "cb9d7a4a",
   "metadata": {},
   "outputs": [],
   "source": []
  },
  {
   "cell_type": "code",
   "execution_count": null,
   "id": "e38d4a7b",
   "metadata": {},
   "outputs": [],
   "source": []
  },
  {
   "cell_type": "code",
   "execution_count": null,
   "id": "e8e05b24",
   "metadata": {},
   "outputs": [],
   "source": []
  }
 ],
 "metadata": {
  "kernelspec": {
   "display_name": "Python 3 (ipykernel)",
   "language": "python",
   "name": "python3"
  },
  "language_info": {
   "codemirror_mode": {
    "name": "ipython",
    "version": 3
   },
   "file_extension": ".py",
   "mimetype": "text/x-python",
   "name": "python",
   "nbconvert_exporter": "python",
   "pygments_lexer": "ipython3",
   "version": "3.8.10"
  }
 },
 "nbformat": 4,
 "nbformat_minor": 5
}
