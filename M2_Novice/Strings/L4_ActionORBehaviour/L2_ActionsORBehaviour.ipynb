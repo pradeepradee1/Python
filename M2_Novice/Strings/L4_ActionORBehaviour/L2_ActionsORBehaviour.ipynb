{
 "cells": [
  {
   "cell_type": "code",
   "execution_count": 6,
   "id": "de99e480",
   "metadata": {},
   "outputs": [],
   "source": [
    "String=\"this is a string example\""
   ]
  },
  {
   "cell_type": "markdown",
   "id": "8d29408b",
   "metadata": {},
   "source": [
    "# "
   ]
  },
  {
   "cell_type": "code",
   "execution_count": 7,
   "id": "896f42a1",
   "metadata": {},
   "outputs": [
    {
     "data": {
      "text/plain": [
       "'This is a string example'"
      ]
     },
     "execution_count": 7,
     "metadata": {},
     "output_type": "execute_result"
    }
   ],
   "source": [
    "String.capitalize()"
   ]
  },
  {
   "cell_type": "code",
   "execution_count": 8,
   "id": "04fb8acd",
   "metadata": {},
   "outputs": [
    {
     "data": {
      "text/plain": [
       "'This Is A String Example'"
      ]
     },
     "execution_count": 8,
     "metadata": {},
     "output_type": "execute_result"
    }
   ],
   "source": [
    "String.title()"
   ]
  },
  {
   "cell_type": "code",
   "execution_count": 12,
   "id": "6feae9f9",
   "metadata": {},
   "outputs": [
    {
     "data": {
      "text/plain": [
       "'python'"
      ]
     },
     "execution_count": 12,
     "metadata": {},
     "output_type": "execute_result"
    }
   ],
   "source": [
    "String=\"PythoN\"\n",
    "String.lower()"
   ]
  },
  {
   "cell_type": "code",
   "execution_count": 13,
   "id": "24e6544e",
   "metadata": {},
   "outputs": [
    {
     "data": {
      "text/plain": [
       "'PYTHON'"
      ]
     },
     "execution_count": 13,
     "metadata": {},
     "output_type": "execute_result"
    }
   ],
   "source": [
    "String.upper()"
   ]
  },
  {
   "cell_type": "code",
   "execution_count": 15,
   "id": "418b549b",
   "metadata": {},
   "outputs": [
    {
     "data": {
      "text/plain": [
       "'this is a string example'"
      ]
     },
     "execution_count": 15,
     "metadata": {},
     "output_type": "execute_result"
    }
   ],
   "source": [
    "String=\"This iS a sTrinG eXample\"\n",
    "String.casefold()"
   ]
  },
  {
   "cell_type": "code",
   "execution_count": 17,
   "id": "e84e8955",
   "metadata": {},
   "outputs": [
    {
     "data": {
      "text/plain": [
       "'tHIS Is A StRINg ExAMPLE'"
      ]
     },
     "execution_count": 17,
     "metadata": {},
     "output_type": "execute_result"
    }
   ],
   "source": [
    "String.swapcase()"
   ]
  },
  {
   "cell_type": "code",
   "execution_count": null,
   "id": "506cd83f",
   "metadata": {},
   "outputs": [],
   "source": []
  },
  {
   "cell_type": "code",
   "execution_count": null,
   "id": "8980bf46",
   "metadata": {},
   "outputs": [],
   "source": []
  },
  {
   "cell_type": "code",
   "execution_count": null,
   "id": "42950101",
   "metadata": {},
   "outputs": [],
   "source": []
  },
  {
   "cell_type": "code",
   "execution_count": 22,
   "id": "5b05fd83",
   "metadata": {},
   "outputs": [
    {
     "name": "stdout",
     "output_type": "stream",
     "text": [
      "        This iS a sTrinG eXample        \n",
      "########This iS a sTrinG eXample########\n"
     ]
    }
   ],
   "source": [
    "print(String.center(40))\n",
    "print(String.center(40,\"#\"))"
   ]
  },
  {
   "cell_type": "code",
   "execution_count": 27,
   "id": "0660b3d6",
   "metadata": {},
   "outputs": [
    {
     "data": {
      "text/plain": [
       "'This iS          a sTrinG eXample'"
      ]
     },
     "execution_count": 27,
     "metadata": {},
     "output_type": "execute_result"
    }
   ],
   "source": [
    "String = \"This iS \\t a sTrinG eXample\"\n",
    "String.expandtabs(8)"
   ]
  },
  {
   "cell_type": "code",
   "execution_count": 53,
   "id": "07368980",
   "metadata": {},
   "outputs": [
    {
     "name": "stdout",
     "output_type": "stream",
     "text": [
      "True\n",
      "True\n"
     ]
    }
   ],
   "source": [
    "String=\"This iS a sTrinG eXample\"\n",
    "print(String.endswith(\"e\"))\n",
    "print(String.endswith(\"e\",8,24))"
   ]
  },
  {
   "cell_type": "code",
   "execution_count": 56,
   "id": "b6d48265",
   "metadata": {},
   "outputs": [
    {
     "name": "stdout",
     "output_type": "stream",
     "text": [
      "True\n",
      "True\n"
     ]
    }
   ],
   "source": [
    "print(String.startswith(\"T\"))\n",
    "print(String.startswith(\"T\",0))"
   ]
  },
  {
   "cell_type": "code",
   "execution_count": null,
   "id": "f33efa22",
   "metadata": {},
   "outputs": [],
   "source": []
  },
  {
   "cell_type": "code",
   "execution_count": null,
   "id": "f155f4e4",
   "metadata": {},
   "outputs": [],
   "source": []
  },
  {
   "cell_type": "code",
   "execution_count": 57,
   "id": "937f104a",
   "metadata": {},
   "outputs": [
    {
     "data": {
      "text/plain": [
       "b'This iS a sTrinG eXample'"
      ]
     },
     "execution_count": 57,
     "metadata": {},
     "output_type": "execute_result"
    }
   ],
   "source": [
    "String.encode()"
   ]
  },
  {
   "cell_type": "code",
   "execution_count": null,
   "id": "feea7bde",
   "metadata": {},
   "outputs": [],
   "source": []
  },
  {
   "cell_type": "code",
   "execution_count": null,
   "id": "391719e2",
   "metadata": {},
   "outputs": [],
   "source": []
  },
  {
   "cell_type": "code",
   "execution_count": 68,
   "id": "99db2c0b",
   "metadata": {},
   "outputs": [
    {
     "name": "stdout",
     "output_type": "stream",
     "text": [
      "This iS a sTrinG eXample\n",
      "2\n",
      "4\n"
     ]
    }
   ],
   "source": [
    "print(String)\n",
    "print(String.count(\"s\"))\n",
    "print(String.count(\" \")) #space"
   ]
  },
  {
   "cell_type": "code",
   "execution_count": null,
   "id": "112f4add",
   "metadata": {},
   "outputs": [],
   "source": []
  },
  {
   "cell_type": "code",
   "execution_count": null,
   "id": "e660e4d7",
   "metadata": {},
   "outputs": [],
   "source": []
  },
  {
   "cell_type": "code",
   "execution_count": 79,
   "id": "9d522e9d",
   "metadata": {},
   "outputs": [
    {
     "name": "stdout",
     "output_type": "stream",
     "text": [
      "This iS a sTrinG eXample\n",
      "2\n",
      "-1\n"
     ]
    }
   ],
   "source": [
    "print(String)\n",
    "print(String.find(\"i\"))\n",
    "print(String.find(\"A\")) #Not Found"
   ]
  },
  {
   "cell_type": "code",
   "execution_count": 81,
   "id": "146dab83",
   "metadata": {},
   "outputs": [
    {
     "name": "stdout",
     "output_type": "stream",
     "text": [
      "13\n"
     ]
    }
   ],
   "source": [
    "print(String.rfind(\"i\"))"
   ]
  },
  {
   "cell_type": "code",
   "execution_count": 82,
   "id": "5e8188cd",
   "metadata": {},
   "outputs": [
    {
     "name": "stdout",
     "output_type": "stream",
     "text": [
      "2\n"
     ]
    },
    {
     "ename": "ValueError",
     "evalue": "substring not found",
     "output_type": "error",
     "traceback": [
      "\u001b[0;31m---------------------------------------------------------------------------\u001b[0m",
      "\u001b[0;31mValueError\u001b[0m                                Traceback (most recent call last)",
      "Input \u001b[0;32mIn [82]\u001b[0m, in \u001b[0;36m<module>\u001b[0;34m\u001b[0m\n\u001b[1;32m      1\u001b[0m \u001b[38;5;28mprint\u001b[39m(String\u001b[38;5;241m.\u001b[39mindex(\u001b[38;5;124m\"\u001b[39m\u001b[38;5;124mi\u001b[39m\u001b[38;5;124m\"\u001b[39m))\n\u001b[0;32m----> 2\u001b[0m \u001b[38;5;28mprint\u001b[39m(\u001b[43mString\u001b[49m\u001b[38;5;241;43m.\u001b[39;49m\u001b[43mindex\u001b[49m\u001b[43m(\u001b[49m\u001b[38;5;124;43m\"\u001b[39;49m\u001b[38;5;124;43mA\u001b[39;49m\u001b[38;5;124;43m\"\u001b[39;49m\u001b[43m)\u001b[49m)\n",
      "\u001b[0;31mValueError\u001b[0m: substring not found"
     ]
    }
   ],
   "source": [
    "print(String.index(\"i\"))\n",
    "print(String.index(\"A\")) # Error will raise Not Found"
   ]
  },
  {
   "cell_type": "code",
   "execution_count": 84,
   "id": "55c5cf4d",
   "metadata": {},
   "outputs": [
    {
     "name": "stdout",
     "output_type": "stream",
     "text": [
      "13\n"
     ]
    }
   ],
   "source": [
    "print(String.rindex(\"i\"))"
   ]
  },
  {
   "cell_type": "code",
   "execution_count": null,
   "id": "9fcfa3d2",
   "metadata": {},
   "outputs": [],
   "source": []
  },
  {
   "cell_type": "code",
   "execution_count": null,
   "id": "8ce2eead",
   "metadata": {},
   "outputs": [],
   "source": []
  },
  {
   "cell_type": "code",
   "execution_count": 86,
   "id": "bae2d9ee",
   "metadata": {},
   "outputs": [
    {
     "data": {
      "text/plain": [
       "'123'"
      ]
     },
     "execution_count": 86,
     "metadata": {},
     "output_type": "execute_result"
    }
   ],
   "source": [
    "list=['1','2','3']\n",
    "string=\"\"\n",
    "string.join(list)"
   ]
  },
  {
   "cell_type": "code",
   "execution_count": 88,
   "id": "660ad266",
   "metadata": {},
   "outputs": [
    {
     "name": "stdout",
     "output_type": "stream",
     "text": [
      "['This', 'is', 'string', 'Data', 'structures']\n",
      "['Th', ' ', ' string Data structures']\n"
     ]
    }
   ],
   "source": [
    "string=\"This is string Data structures\"\n",
    "print(string.split())\n",
    "print(string.split(\"is\"))"
   ]
  },
  {
   "cell_type": "code",
   "execution_count": 93,
   "id": "5819dc1f",
   "metadata": {},
   "outputs": [
    {
     "name": "stdout",
     "output_type": "stream",
     "text": [
      "This is string Data \n",
      " structures\n",
      "['This is string Data ', ' structures']\n"
     ]
    }
   ],
   "source": [
    "string=\"This is string Data \\n structures\"\n",
    "print(string)\n",
    "print(string.splitlines())"
   ]
  },
  {
   "cell_type": "code",
   "execution_count": 95,
   "id": "20e1204d",
   "metadata": {},
   "outputs": [
    {
     "name": "stdout",
     "output_type": "stream",
     "text": [
      "('Th', 'is', ' is string Data structures')\n"
     ]
    }
   ],
   "source": [
    "string=\"This is string Data structures\"\n",
    "print(string.partition(\"is\"))"
   ]
  },
  {
   "cell_type": "code",
   "execution_count": null,
   "id": "65e3ac3e",
   "metadata": {},
   "outputs": [],
   "source": []
  },
  {
   "cell_type": "code",
   "execution_count": null,
   "id": "6748b415",
   "metadata": {},
   "outputs": [],
   "source": []
  },
  {
   "cell_type": "code",
   "execution_count": null,
   "id": "98e287fd",
   "metadata": {},
   "outputs": [],
   "source": []
  },
  {
   "cell_type": "code",
   "execution_count": 99,
   "id": "812a3831",
   "metadata": {},
   "outputs": [
    {
     "name": "stdout",
     "output_type": "stream",
     "text": [
      "This is string Data structures\n",
      "This is string inbuilt structures\n"
     ]
    }
   ],
   "source": [
    "print(string)\n",
    "print(string.replace(\"Data\",\"inbuilt\"))"
   ]
  },
  {
   "cell_type": "code",
   "execution_count": 104,
   "id": "3d660a1c",
   "metadata": {},
   "outputs": [
    {
     "name": "stdout",
     "output_type": "stream",
     "text": [
      "This is string Data structures\n"
     ]
    },
    {
     "data": {
      "text/plain": [
       "'Th3s 3s str3ng D1t1 str5ct5r2s'"
      ]
     },
     "execution_count": 104,
     "metadata": {},
     "output_type": "execute_result"
    }
   ],
   "source": [
    "print(string)\n",
    "# from string import maketrans\n",
    "intab=\"aeiou\"\n",
    "outtab=\"12345\"\n",
    "transtab=string.maketrans(intab,outtab)\n",
    "string.translate(transtab)"
   ]
  },
  {
   "cell_type": "code",
   "execution_count": null,
   "id": "6384f4ed",
   "metadata": {},
   "outputs": [],
   "source": []
  },
  {
   "cell_type": "code",
   "execution_count": null,
   "id": "7505deb7",
   "metadata": {},
   "outputs": [],
   "source": []
  },
  {
   "cell_type": "code",
   "execution_count": 112,
   "id": "ab843400",
   "metadata": {},
   "outputs": [
    {
     "name": "stdout",
     "output_type": "stream",
     "text": [
      "           This is string   \n",
      "This is string\n"
     ]
    }
   ],
   "source": [
    "string=\"           This is string   \"\n",
    "print(string)\n",
    "print(string.strip())"
   ]
  },
  {
   "cell_type": "code",
   "execution_count": 114,
   "id": "234267c5",
   "metadata": {},
   "outputs": [
    {
     "name": "stdout",
     "output_type": "stream",
     "text": [
      "This is string   \n"
     ]
    }
   ],
   "source": [
    "print(string.lstrip())"
   ]
  },
  {
   "cell_type": "code",
   "execution_count": 115,
   "id": "533778ff",
   "metadata": {},
   "outputs": [
    {
     "name": "stdout",
     "output_type": "stream",
     "text": [
      "           This is string\n"
     ]
    }
   ],
   "source": [
    "print(string.rstrip())"
   ]
  },
  {
   "cell_type": "code",
   "execution_count": null,
   "id": "9f7e8458",
   "metadata": {},
   "outputs": [],
   "source": []
  },
  {
   "cell_type": "code",
   "execution_count": null,
   "id": "6e05b824",
   "metadata": {},
   "outputs": [],
   "source": []
  },
  {
   "cell_type": "code",
   "execution_count": 117,
   "id": "a8d167e4",
   "metadata": {},
   "outputs": [
    {
     "name": "stdout",
     "output_type": "stream",
     "text": [
      "This is string\n"
     ]
    }
   ],
   "source": [
    "string = string.strip()\n",
    "print(string)"
   ]
  },
  {
   "cell_type": "code",
   "execution_count": 120,
   "id": "5f07a7a9",
   "metadata": {},
   "outputs": [
    {
     "data": {
      "text/plain": [
       "'This is string######'"
      ]
     },
     "execution_count": 120,
     "metadata": {},
     "output_type": "execute_result"
    }
   ],
   "source": [
    "string.ljust(20,\"#\")"
   ]
  },
  {
   "cell_type": "code",
   "execution_count": 121,
   "id": "47d38f88",
   "metadata": {},
   "outputs": [
    {
     "data": {
      "text/plain": [
       "'######This is string'"
      ]
     },
     "execution_count": 121,
     "metadata": {},
     "output_type": "execute_result"
    }
   ],
   "source": [
    "string.rjust(20,\"#\")"
   ]
  },
  {
   "cell_type": "code",
   "execution_count": 124,
   "id": "0569ef1e",
   "metadata": {},
   "outputs": [
    {
     "data": {
      "text/plain": [
       "'00000000000000000000000000This is string'"
      ]
     },
     "execution_count": 124,
     "metadata": {},
     "output_type": "execute_result"
    }
   ],
   "source": [
    "string.zfill(40)"
   ]
  },
  {
   "cell_type": "code",
   "execution_count": null,
   "id": "e476e430",
   "metadata": {},
   "outputs": [],
   "source": []
  },
  {
   "cell_type": "code",
   "execution_count": null,
   "id": "8743d34e",
   "metadata": {},
   "outputs": [],
   "source": []
  }
 ],
 "metadata": {
  "kernelspec": {
   "display_name": "Python 3 (ipykernel)",
   "language": "python",
   "name": "python3"
  },
  "language_info": {
   "codemirror_mode": {
    "name": "ipython",
    "version": 3
   },
   "file_extension": ".py",
   "mimetype": "text/x-python",
   "name": "python",
   "nbconvert_exporter": "python",
   "pygments_lexer": "ipython3",
   "version": "3.8.10"
  }
 },
 "nbformat": 4,
 "nbformat_minor": 5
}
