{
 "cells": [
  {
   "cell_type": "markdown",
   "id": "c001a530",
   "metadata": {},
   "source": [
    "## Function :\n",
    "                    It is a Group Of Statements\n",
    "                    re-uasable the code to performs the specfic task\n",
    "                    structuring code efficiently\n",
    "                    improving readability\n",
    "                    avoiding redundancy\n",
    "  "
   ]
  },
  {
   "cell_type": "code",
   "execution_count": 1,
   "id": "ed69b38f",
   "metadata": {},
   "outputs": [],
   "source": [
    "def wish(name):\n",
    "    print(\"Good Morning\",name)"
   ]
  },
  {
   "cell_type": "code",
   "execution_count": 2,
   "id": "e63ff147",
   "metadata": {},
   "outputs": [
    {
     "name": "stdout",
     "output_type": "stream",
     "text": [
      "Good Morning Sunny\n",
      "Good Morning Sunny\n",
      "Good Morning Sunny\n",
      "Good Morning Bunny\n",
      "Good Morning Bunny\n",
      "Good Morning Bunny\n",
      "Good Morning Chinny\n",
      "Good Morning Chinny\n",
      "Good Morning Chinny\n"
     ]
    }
   ],
   "source": [
    "wish(\"Sunny\")\n",
    "wish(\"Sunny\")\n",
    "wish(\"Sunny\")\n",
    "wish(\"Bunny\")\n",
    "wish(\"Bunny\")\n",
    "wish(\"Bunny\")\n",
    "wish(\"Chinny\")\n",
    "wish(\"Chinny\")\n",
    "wish(\"Chinny\")"
   ]
  },
  {
   "cell_type": "markdown",
   "id": "256d159a",
   "metadata": {},
   "source": [
    "## Types Of Functions:\n",
    "           1) Pre-Defined (or) In-Built functions( len() , sum() , print() ,eval())\n",
    "           2) User-defined functions"
   ]
  },
  {
   "cell_type": "markdown",
   "id": "fe362cef",
   "metadata": {},
   "source": [
    "Difference Between Functions and Method"
   ]
  },
  {
   "cell_type": "markdown",
   "id": "bbc49010",
   "metadata": {},
   "source": [
    "### Method     :  Any function defined inside the class such type of called is method\n",
    "### Function   :  Any function defined outside of class such type of called is functions"
   ]
  },
  {
   "cell_type": "markdown",
   "id": "8a471fb1",
   "metadata": {},
   "source": []
  },
  {
   "cell_type": "code",
   "execution_count": null,
   "id": "5637e493",
   "metadata": {},
   "outputs": [],
   "source": []
  },
  {
   "cell_type": "markdown",
   "id": "02ae433e",
   "metadata": {},
   "source": [
    "Note :"
   ]
  },
  {
   "cell_type": "markdown",
   "id": "0b9cddf9",
   "metadata": {},
   "source": [
    "while calling you method is call by value or call by references ?"
   ]
  },
  {
   "cell_type": "markdown",
   "id": "07692378",
   "metadata": {},
   "source": [
    " It is object reference"
   ]
  },
  {
   "cell_type": "markdown",
   "id": "b009a65b",
   "metadata": {},
   "source": [
    "It means :"
   ]
  },
  {
   "cell_type": "markdown",
   "id": "27d4776d",
   "metadata": {},
   "source": [
    "If you pass a immutable object (int,string,etc) the function can't modify the original object (call by value)"
   ]
  },
  {
   "cell_type": "markdown",
   "id": "1c43db96",
   "metadata": {},
   "source": [
    "If you pass a mutable object the function can modify the original object (call by references)"
   ]
  },
  {
   "cell_type": "code",
   "execution_count": null,
   "id": "9306f9dc",
   "metadata": {},
   "outputs": [],
   "source": []
  }
 ],
 "metadata": {
  "kernelspec": {
   "display_name": "Python 3",
   "language": "python",
   "name": "python3"
  },
  "language_info": {
   "codemirror_mode": {
    "name": "ipython",
    "version": 3
   },
   "file_extension": ".py",
   "mimetype": "text/x-python",
   "name": "python",
   "nbconvert_exporter": "python",
   "pygments_lexer": "ipython3",
   "version": "3.10.11"
  }
 },
 "nbformat": 4,
 "nbformat_minor": 5
}
