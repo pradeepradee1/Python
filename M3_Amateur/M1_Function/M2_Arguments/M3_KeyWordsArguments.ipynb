{
 "cells": [
  {
   "cell_type": "markdown",
   "id": "ded6c607",
   "metadata": {},
   "source": [
    "### 2) Keywords Arguments"
   ]
  },
  {
   "cell_type": "code",
   "execution_count": 1,
   "id": "cbd8fc7b",
   "metadata": {},
   "outputs": [
    {
     "name": "stdout",
     "output_type": "stream",
     "text": [
      "100 50\n",
      "100 50\n"
     ]
    }
   ],
   "source": [
    "def calc(a,b):\n",
    "    print(a,b)\n",
    "calc(a=100,b=50)\n",
    "calc(b=50,a=100)"
   ]
  },
  {
   "cell_type": "markdown",
   "id": "a2e2b3e7",
   "metadata": {},
   "source": [
    "### Note :\n",
    "            No. Of Arg is important\n",
    "            Order is not important"
   ]
  },
  {
   "cell_type": "code",
   "execution_count": 2,
   "id": "65ad030c",
   "metadata": {},
   "outputs": [
    {
     "name": "stdout",
     "output_type": "stream",
     "text": [
      "100 50\n"
     ]
    }
   ],
   "source": [
    "def calc(a,b):\n",
    "    print(a,b)\n",
    "calc(100,b=50)\n",
    "#calc(b=50,100)  #Error positional argument follows keyword argument\n",
    "#calc(50,a=100)  #Error calc got multiple values for argument a"
   ]
  },
  {
   "cell_type": "code",
   "execution_count": null,
   "id": "b2d415f9",
   "metadata": {},
   "outputs": [],
   "source": []
  },
  {
   "cell_type": "code",
   "execution_count": null,
   "id": "64ccbf53",
   "metadata": {},
   "outputs": [],
   "source": []
  },
  {
   "cell_type": "code",
   "execution_count": null,
   "id": "28b865d8",
   "metadata": {},
   "outputs": [],
   "source": []
  },
  {
   "cell_type": "code",
   "execution_count": null,
   "id": "1a6fd3d7",
   "metadata": {},
   "outputs": [],
   "source": []
  }
 ],
 "metadata": {
  "kernelspec": {
   "display_name": "Python 3 (ipykernel)",
   "language": "python",
   "name": "python3"
  },
  "language_info": {
   "codemirror_mode": {
    "name": "ipython",
    "version": 3
   },
   "file_extension": ".py",
   "mimetype": "text/x-python",
   "name": "python",
   "nbconvert_exporter": "python",
   "pygments_lexer": "ipython3",
   "version": "3.8.10"
  }
 },
 "nbformat": 4,
 "nbformat_minor": 5
}
