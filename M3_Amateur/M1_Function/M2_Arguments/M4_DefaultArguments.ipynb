{
 "cells": [
  {
   "cell_type": "markdown",
   "id": "3f172706",
   "metadata": {},
   "source": [
    "### 3) Default Arguments"
   ]
  },
  {
   "cell_type": "code",
   "execution_count": 1,
   "id": "26c62ed3",
   "metadata": {},
   "outputs": [
    {
     "name": "stdout",
     "output_type": "stream",
     "text": [
      "radee, fb_msg "
     ]
    }
   ],
   "source": [
    "def wish(msg='fb_msg',name='radee'):\n",
    "    print(name,end=', ')\n",
    "    print(msg,end=' ')\n",
    "wish()"
   ]
  },
  {
   "cell_type": "code",
   "execution_count": 2,
   "id": "68dcadd0",
   "metadata": {},
   "outputs": [
    {
     "name": "stdout",
     "output_type": "stream",
     "text": [
      "fb_msg guest\n"
     ]
    }
   ],
   "source": [
    "def wish(msg,name='guest'): #Valid\n",
    "    print(msg,name)\n",
    "wish(\"fb_msg\")"
   ]
  },
  {
   "cell_type": "code",
   "execution_count": 3,
   "id": "91a7ae66",
   "metadata": {},
   "outputs": [
    {
     "ename": "SyntaxError",
     "evalue": "non-default argument follows default argument (3994534513.py, line 1)",
     "output_type": "error",
     "traceback": [
      "\u001b[0;36m  Input \u001b[0;32mIn [3]\u001b[0;36m\u001b[0m\n\u001b[0;31m    def wish(name='guest',msg):pass #Error Becaz Default argument should comes last\u001b[0m\n\u001b[0m             ^\u001b[0m\n\u001b[0;31mSyntaxError\u001b[0m\u001b[0;31m:\u001b[0m non-default argument follows default argument\n"
     ]
    }
   ],
   "source": [
    "def wish(name='guest',msg):pass #Error Becaz Default argument should comes last\n",
    "wish()\n",
    "#Note : \n",
    "#Positional Or Keyword Argument should follow default Arguments"
   ]
  },
  {
   "cell_type": "code",
   "execution_count": null,
   "id": "6a9bd738",
   "metadata": {},
   "outputs": [],
   "source": []
  },
  {
   "cell_type": "code",
   "execution_count": null,
   "id": "e72892d2",
   "metadata": {},
   "outputs": [],
   "source": []
  },
  {
   "cell_type": "code",
   "execution_count": null,
   "id": "07fd9601",
   "metadata": {},
   "outputs": [],
   "source": []
  }
 ],
 "metadata": {
  "kernelspec": {
   "display_name": "Python 3 (ipykernel)",
   "language": "python",
   "name": "python3"
  },
  "language_info": {
   "codemirror_mode": {
    "name": "ipython",
    "version": 3
   },
   "file_extension": ".py",
   "mimetype": "text/x-python",
   "name": "python",
   "nbconvert_exporter": "python",
   "pygments_lexer": "ipython3",
   "version": "3.8.10"
  }
 },
 "nbformat": 4,
 "nbformat_minor": 5
}
