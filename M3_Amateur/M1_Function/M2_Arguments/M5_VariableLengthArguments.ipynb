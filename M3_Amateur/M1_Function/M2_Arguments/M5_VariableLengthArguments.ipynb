{
 "cells": [
  {
   "cell_type": "markdown",
   "id": "49bc28cc",
   "metadata": {},
   "source": [
    "### 4) Variable Length Arguments"
   ]
  },
  {
   "cell_type": "code",
   "execution_count": 1,
   "id": "b36465a8",
   "metadata": {},
   "outputs": [
    {
     "name": "stdout",
     "output_type": "stream",
     "text": [
      "30\n"
     ]
    }
   ],
   "source": [
    "def sum(a,b):\n",
    "    print(a+b)\n",
    "sum(10,20)"
   ]
  },
  {
   "cell_type": "code",
   "execution_count": 2,
   "id": "a6679fa2",
   "metadata": {},
   "outputs": [
    {
     "ename": "TypeError",
     "evalue": "sum() takes 2 positional arguments but 3 were given",
     "output_type": "error",
     "traceback": [
      "\u001b[0;31m---------------------------------------------------------------------------\u001b[0m",
      "\u001b[0;31mTypeError\u001b[0m                                 Traceback (most recent call last)",
      "Input \u001b[0;32mIn [2]\u001b[0m, in \u001b[0;36m<module>\u001b[0;34m\u001b[0m\n\u001b[0;32m----> 1\u001b[0m \u001b[38;5;28;43msum\u001b[39;49m\u001b[43m(\u001b[49m\u001b[38;5;241;43m10\u001b[39;49m\u001b[43m,\u001b[49m\u001b[38;5;241;43m20\u001b[39;49m\u001b[43m,\u001b[49m\u001b[38;5;241;43m30\u001b[39;49m\u001b[43m)\u001b[49m \u001b[38;5;66;03m# Error\u001b[39;00m\n\u001b[1;32m      2\u001b[0m \u001b[38;5;28msum\u001b[39m(\u001b[38;5;241m10\u001b[39m,\u001b[38;5;241m20\u001b[39m,\u001b[38;5;241m30\u001b[39m,\u001b[38;5;241m40\u001b[39m)\n",
      "\u001b[0;31mTypeError\u001b[0m: sum() takes 2 positional arguments but 3 were given"
     ]
    }
   ],
   "source": [
    "sum(10,20,30) # Error\n",
    "sum(10,20,30,40) # Error"
   ]
  },
  {
   "cell_type": "code",
   "execution_count": null,
   "id": "9af51c70",
   "metadata": {},
   "outputs": [],
   "source": [
    "def f1(*n):\n",
    "    print(\"var-arg fumctions\",n)\n",
    "f1()\n",
    "f1(10)\n",
    "f1(10,20)\n",
    "f1(10,20,30)\n",
    "f1(10,20,30,40)"
   ]
  },
  {
   "cell_type": "code",
   "execution_count": 3,
   "id": "b9fb6b1d",
   "metadata": {},
   "outputs": [
    {
     "name": "stdout",
     "output_type": "stream",
     "text": [
      "The Sum: 0\n",
      "The Sum: 10\n",
      "The Sum: 30\n",
      "The Sum: 60\n",
      "The Sum: 100\n"
     ]
    }
   ],
   "source": [
    "def sum(*n):\n",
    "    result=0\n",
    "    for x in n :\n",
    "        result = result + x\n",
    "    print(\"The Sum:\",result)\n",
    "sum()\n",
    "sum(10)\n",
    "sum(10,20)\n",
    "sum(10,20,30)\n",
    "sum(10,20,30,40)"
   ]
  },
  {
   "cell_type": "code",
   "execution_count": 4,
   "id": "63d21fbb",
   "metadata": {},
   "outputs": [
    {
     "name": "stdout",
     "output_type": "stream",
     "text": [
      "The Sum By radee : 0\n",
      "The Sum By radee : 10\n",
      "The Sum By radee : 30\n",
      "The Sum By radee : 60\n",
      "The Sum By radee : 100\n"
     ]
    }
   ],
   "source": [
    "# Positional or Keyword and Variable Length Arguments\n",
    "def sum(name,*n):\n",
    "    result=0\n",
    "    for x in n:\n",
    "        result = result + x\n",
    "    print(\"The Sum By\",name,\":\",result)\n",
    "sum(\"radee\")\n",
    "sum(\"radee\",10)\n",
    "sum(\"radee\",10,20)\n",
    "sum(\"radee\",10,20,30)\n",
    "sum(\"radee\",10,20,30,40)"
   ]
  },
  {
   "cell_type": "code",
   "execution_count": 5,
   "id": "551ae18e",
   "metadata": {},
   "outputs": [
    {
     "name": "stdout",
     "output_type": "stream",
     "text": [
      "The Sum By radee : 0\n",
      "The Sum By radee : 10\n",
      "The Sum By radee : 30\n"
     ]
    }
   ],
   "source": [
    "def sum(*n,name):\n",
    "    result=0\n",
    "    for x in n:\n",
    "        result = result + x\n",
    "    print(\"The Sum By\",name,\":\",result)\n",
    "sum(name=\"radee\")\n",
    "#sum(name=\"radee\",10)#Error\n",
    "sum(10,name=\"radee\")\n",
    "sum(10,20,name=\"radee\")"
   ]
  },
  {
   "cell_type": "code",
   "execution_count": null,
   "id": "eddf4cc7",
   "metadata": {},
   "outputs": [],
   "source": []
  },
  {
   "cell_type": "code",
   "execution_count": null,
   "id": "986c86cf",
   "metadata": {},
   "outputs": [],
   "source": []
  },
  {
   "cell_type": "code",
   "execution_count": null,
   "id": "8acc0068",
   "metadata": {},
   "outputs": [],
   "source": []
  }
 ],
 "metadata": {
  "kernelspec": {
   "display_name": "Python 3 (ipykernel)",
   "language": "python",
   "name": "python3"
  },
  "language_info": {
   "codemirror_mode": {
    "name": "ipython",
    "version": 3
   },
   "file_extension": ".py",
   "mimetype": "text/x-python",
   "name": "python",
   "nbconvert_exporter": "python",
   "pygments_lexer": "ipython3",
   "version": "3.8.10"
  }
 },
 "nbformat": 4,
 "nbformat_minor": 5
}
