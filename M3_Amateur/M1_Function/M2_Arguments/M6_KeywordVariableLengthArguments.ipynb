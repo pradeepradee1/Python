{
 "cells": [
  {
   "cell_type": "markdown",
   "id": "7be05ad5",
   "metadata": {},
   "source": [
    "### 5) KeyWord Variable Length Arguments"
   ]
  },
  {
   "cell_type": "code",
   "execution_count": 1,
   "id": "f9af7d8e",
   "metadata": {},
   "outputs": [
    {
     "name": "stdout",
     "output_type": "stream",
     "text": [
      "<class 'dict'>\n",
      "Records Informations\n",
      "name ......... durga\n",
      "marks ......... 100\n",
      "age ......... 48\n",
      "GF ......... sunny\n",
      "<class 'dict'>\n",
      "Records Informations\n",
      "name ......... Rai\n",
      "name1 ......... nandita\n",
      "name2 ......... nayan\n",
      "name3 ......... tamz\n"
     ]
    }
   ],
   "source": [
    "def display(**kwargs):\n",
    "    print(type(kwargs))\n",
    "    print(\"Records Informations\")\n",
    "    for k,v in kwargs.items():\n",
    "        print(k,\".........\",v)\n",
    "display(name=\"durga\",marks=100,age=48,GF=\"sunny\")\n",
    "display(name=\"Rai\",name1=\"nandita\",name2=\"nayan\",name3=\"tamz\")"
   ]
  },
  {
   "cell_type": "code",
   "execution_count": 2,
   "id": "3c6d6247",
   "metadata": {},
   "outputs": [
    {
     "name": "stdout",
     "output_type": "stream",
     "text": [
      "Records Informations\n",
      "name .......... Durga\n",
      "marks .......... 100\n",
      "age .......... 48\n",
      "gf .......... sunny\n",
      "Records Informations\n",
      "name .......... Ravu\n",
      "name1 .......... Kumar\n",
      "name2 .......... samy\n",
      "gf .......... nayans\n"
     ]
    }
   ],
   "source": [
    "def display(**x):\n",
    "    print(\"Records Informations\")\n",
    "    for k,v in x.items():\n",
    "        print(k,\"..........\",v)\n",
    "display(name=\"Durga\",marks=100,age=48,gf=\"sunny\")\n",
    "display(name=\"Ravu\",name1=\"Kumar\",name2=\"samy\",gf=\"nayans\")"
   ]
  },
  {
   "cell_type": "code",
   "execution_count": 3,
   "id": "db643d51",
   "metadata": {},
   "outputs": [
    {
     "name": "stdout",
     "output_type": "stream",
     "text": [
      "3 2 4 8\n",
      "10 20 30 40\n",
      "25 50 4 100\n",
      "3 4 4 2\n"
     ]
    }
   ],
   "source": [
    "def f(arg1,arg2,arg3=4,arg4=8):\n",
    "    print(arg1,arg2,arg3,arg4)\n",
    "f(3,2)\n",
    "f(10,20,30,40)\n",
    "f(25,50,arg4=100)\n",
    "f(arg4=2,arg1=3,arg2=4)\n",
    "# f() Errot\n",
    "# f(arg3=10,arg4=40,20,30) Error positional argument follows keyword argument\n",
    "# f(4,5,arg2=6) Error Arg2 got multiple values\n"
   ]
  },
  {
   "cell_type": "code",
   "execution_count": null,
   "id": "187b1842",
   "metadata": {},
   "outputs": [],
   "source": []
  },
  {
   "cell_type": "markdown",
   "id": "af0432bc",
   "metadata": {},
   "source": [
    "Note"
   ]
  },
  {
   "cell_type": "markdown",
   "id": "3fdf9076",
   "metadata": {},
   "source": [
    "Dictionary will require double star --> **"
   ]
  },
  {
   "cell_type": "markdown",
   "id": "e2e198c5",
   "metadata": {},
   "source": [
    "List will require single star --> *"
   ]
  },
  {
   "cell_type": "code",
   "execution_count": null,
   "id": "a1b8ff54",
   "metadata": {},
   "outputs": [],
   "source": []
  }
 ],
 "metadata": {
  "kernelspec": {
   "display_name": "Python 3 (ipykernel)",
   "language": "python",
   "name": "python3"
  },
  "language_info": {
   "codemirror_mode": {
    "name": "ipython",
    "version": 3
   },
   "file_extension": ".py",
   "mimetype": "text/x-python",
   "name": "python",
   "nbconvert_exporter": "python",
   "pygments_lexer": "ipython3",
   "version": "3.8.10"
  }
 },
 "nbformat": 4,
 "nbformat_minor": 5
}
