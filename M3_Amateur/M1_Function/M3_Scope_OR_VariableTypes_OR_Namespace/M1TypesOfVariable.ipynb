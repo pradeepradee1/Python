{
 "cells": [
  {
   "cell_type": "markdown",
   "id": "c808bf9f",
   "metadata": {},
   "source": [
    "### Types Of Variable:\n",
    "                        1) Global\n",
    "                        2) Local\n",
    "                        3) NonLocal\n",
    "             "
   ]
  },
  {
   "cell_type": "markdown",
   "id": "af9aec00",
   "metadata": {},
   "source": [
    "1) Scope Of Variable\n",
    "2) Name Space\n",
    "3) Types Of Variable"
   ]
  },
  {
   "cell_type": "code",
   "execution_count": 2,
   "id": "98f034dc",
   "metadata": {},
   "outputs": [
    {
     "name": "stdout",
     "output_type": "stream",
     "text": [
      "Inside function 15\n",
      "Outside Function 10\n"
     ]
    }
   ],
   "source": [
    "a=10\n",
    "def something():\n",
    "    a=15\n",
    "    print(\"Inside function\",a)\n",
    "something()\n",
    "print(\"Outside Function\",a)"
   ]
  },
  {
   "cell_type": "markdown",
   "id": "5d722aca",
   "metadata": {},
   "source": [
    "### Both variable a and a are different "
   ]
  },
  {
   "cell_type": "code",
   "execution_count": 3,
   "id": "66a18277",
   "metadata": {},
   "outputs": [
    {
     "name": "stdout",
     "output_type": "stream",
     "text": [
      "Inside function 10\n",
      "Outside Function 10\n"
     ]
    }
   ],
   "source": [
    "a=10\n",
    "def something():\n",
    "    print(\"Inside function\",a)\n",
    "something()\n",
    "print(\"Outside Function\",a)"
   ]
  },
  {
   "cell_type": "markdown",
   "id": "0943e936",
   "metadata": {},
   "source": [
    "### global"
   ]
  },
  {
   "cell_type": "code",
   "execution_count": 4,
   "id": "4a5e5ef4",
   "metadata": {},
   "outputs": [
    {
     "name": "stdout",
     "output_type": "stream",
     "text": [
      "Inside function 15\n",
      "Outside Function 15\n"
     ]
    }
   ],
   "source": [
    "a=10\n",
    "def something():\n",
    "    global a\n",
    "    a=15\n",
    "    print(\"Inside function\",a)\n",
    "something()\n",
    "print(\"Outside Function\",a)"
   ]
  },
  {
   "cell_type": "markdown",
   "id": "0afaf9dc",
   "metadata": {},
   "source": [
    "### globals()"
   ]
  },
  {
   "cell_type": "code",
   "execution_count": 5,
   "id": "4859918f",
   "metadata": {},
   "outputs": [
    {
     "name": "stdout",
     "output_type": "stream",
     "text": [
      "9793344\n",
      "Inside function 9\n",
      "Inside function 9\n",
      "Outside Function 15\n"
     ]
    }
   ],
   "source": [
    "a=10\n",
    "print(id(a))\n",
    "def something():\n",
    "    a=9\n",
    "    print(\"Inside function\",a)\n",
    "    globals()['a']=15\n",
    "    print(\"Inside function\",a)\n",
    "something()\n",
    "print(\"Outside Function\",a)"
   ]
  },
  {
   "cell_type": "markdown",
   "id": "071fadf1",
   "metadata": {},
   "source": [
    "### Both are different hence I want to change the value for global inside the loop"
   ]
  },
  {
   "cell_type": "code",
   "execution_count": null,
   "id": "90febc53",
   "metadata": {},
   "outputs": [],
   "source": []
  },
  {
   "cell_type": "code",
   "execution_count": null,
   "id": "e5179900",
   "metadata": {},
   "outputs": [],
   "source": []
  }
 ],
 "metadata": {
  "kernelspec": {
   "display_name": "Python 3 (ipykernel)",
   "language": "python",
   "name": "python3"
  },
  "language_info": {
   "codemirror_mode": {
    "name": "ipython",
    "version": 3
   },
   "file_extension": ".py",
   "mimetype": "text/x-python",
   "name": "python",
   "nbconvert_exporter": "python",
   "pygments_lexer": "ipython3",
   "version": "3.8.10"
  }
 },
 "nbformat": 4,
 "nbformat_minor": 5
}
