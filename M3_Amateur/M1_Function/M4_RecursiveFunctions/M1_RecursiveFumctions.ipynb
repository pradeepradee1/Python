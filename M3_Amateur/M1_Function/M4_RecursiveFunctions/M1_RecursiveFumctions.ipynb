{
 "cells": [
  {
   "cell_type": "markdown",
   "id": "324654d8",
   "metadata": {},
   "source": [
    "### Recursive Functions :\n",
    "                            A Functions That calls itself is called recursive functions\n",
    "                            \n",
    "### Advantages :\n",
    "                re-uasable the code to performs the specfic task\n",
    "                Structuring code efficiently\n",
    "                Improving readability y\n",
    "                Avoiding redundancy of the code\n",
    "                We can easily solve the complex problem and data structure"
   ]
  },
  {
   "cell_type": "code",
   "execution_count": 3,
   "id": "1e2dbf75",
   "metadata": {},
   "outputs": [
    {
     "name": "stdout",
     "output_type": "stream",
     "text": [
      "1\n",
      "6\n",
      "120\n"
     ]
    }
   ],
   "source": [
    "def factorial(n):\n",
    "    if n==0:\n",
    "        result = 1\n",
    "    else:\n",
    "        result = n * factorial(n-1)\n",
    "    return result\n",
    "print(factorial(0))\n",
    "print(factorial(3))\n",
    "print(factorial(5))"
   ]
  },
  {
   "cell_type": "code",
   "execution_count": null,
   "id": "ea70c558",
   "metadata": {},
   "outputs": [],
   "source": []
  }
 ],
 "metadata": {
  "kernelspec": {
   "display_name": "Python 3 (ipykernel)",
   "language": "python",
   "name": "python3"
  },
  "language_info": {
   "codemirror_mode": {
    "name": "ipython",
    "version": 3
   },
   "file_extension": ".py",
   "mimetype": "text/x-python",
   "name": "python",
   "nbconvert_exporter": "python",
   "pygments_lexer": "ipython3",
   "version": "3.8.10"
  }
 },
 "nbformat": 4,
 "nbformat_minor": 5
}
