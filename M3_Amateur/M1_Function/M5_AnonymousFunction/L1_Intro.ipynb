{
 "cells": [
  {
   "cell_type": "markdown",
   "id": "c5ae8c92",
   "metadata": {},
   "source": [
    "### Sometimes we can declare a function without any name\n",
    "### The main purpose of anonymous function is just for instant use(i.e for one time usage)"
   ]
  },
  {
   "cell_type": "code",
   "execution_count": null,
   "id": "b486b5fe",
   "metadata": {},
   "outputs": [],
   "source": []
  },
  {
   "cell_type": "markdown",
   "id": "f047860f",
   "metadata": {},
   "source": [
    "### Normal Functions:"
   ]
  },
  {
   "cell_type": "code",
   "execution_count": 5,
   "id": "04301db7",
   "metadata": {},
   "outputs": [
    {
     "data": {
      "text/plain": [
       "16"
      ]
     },
     "execution_count": 5,
     "metadata": {},
     "output_type": "execute_result"
    }
   ],
   "source": [
    "def squareit(n):\n",
    "    return n*n\n",
    "squareit(4)"
   ]
  },
  {
   "cell_type": "markdown",
   "id": "65d85b32",
   "metadata": {},
   "source": [
    "### Anonymous Or Lambda Functions:"
   ]
  },
  {
   "cell_type": "code",
   "execution_count": 6,
   "id": "8a5d7368",
   "metadata": {},
   "outputs": [
    {
     "name": "stdout",
     "output_type": "stream",
     "text": [
      "16\n"
     ]
    }
   ],
   "source": [
    "s=lambda n : n*n\n",
    "print(s(4))"
   ]
  },
  {
   "cell_type": "code",
   "execution_count": null,
   "id": "150ab650",
   "metadata": {},
   "outputs": [],
   "source": []
  },
  {
   "cell_type": "markdown",
   "id": "ab99e357",
   "metadata": {},
   "source": [
    "### Syntax:\n",
    "### lambda input : expression"
   ]
  },
  {
   "cell_type": "code",
   "execution_count": 9,
   "id": "8254a545",
   "metadata": {},
   "outputs": [
    {
     "name": "stdout",
     "output_type": "stream",
     "text": [
      "4\n",
      "9\n",
      "16\n"
     ]
    }
   ],
   "source": [
    "s=lambda x:x*x\n",
    "print(s(2))\n",
    "print(s(3))\n",
    "print(s(4))"
   ]
  },
  {
   "cell_type": "code",
   "execution_count": 10,
   "id": "1b53fba1",
   "metadata": {},
   "outputs": [
    {
     "name": "stdout",
     "output_type": "stream",
     "text": [
      "The Sum Of 2 and 4 is : 6\n"
     ]
    }
   ],
   "source": [
    "s=lambda a,b : a+b\n",
    "print(\"The Sum Of {} and {} is : {}\".format(2,4,s(2,4)))"
   ]
  },
  {
   "cell_type": "code",
   "execution_count": null,
   "id": "7fb8b7de",
   "metadata": {},
   "outputs": [],
   "source": []
  }
 ],
 "metadata": {
  "kernelspec": {
   "display_name": "Python 3 (ipykernel)",
   "language": "python",
   "name": "python3"
  },
  "language_info": {
   "codemirror_mode": {
    "name": "ipython",
    "version": 3
   },
   "file_extension": ".py",
   "mimetype": "text/x-python",
   "name": "python",
   "nbconvert_exporter": "python",
   "pygments_lexer": "ipython3",
   "version": "3.8.10"
  }
 },
 "nbformat": 4,
 "nbformat_minor": 5
}
