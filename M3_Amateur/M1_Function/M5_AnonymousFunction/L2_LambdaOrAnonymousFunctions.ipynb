{
 "cells": [
  {
   "cell_type": "code",
   "execution_count": 1,
   "id": "7590a328",
   "metadata": {},
   "outputs": [
    {
     "name": "stdout",
     "output_type": "stream",
     "text": [
      "The Biggest Of 10 and 20 is : 20\n"
     ]
    }
   ],
   "source": [
    "s=lambda a,b : a if a>b else b\n",
    "print(\"The Biggest Of {} and {} is : {}\".format(10,20,s(10,20)))"
   ]
  },
  {
   "cell_type": "markdown",
   "id": "dd9434f2",
   "metadata": {},
   "source": [
    "### Note :\n",
    "### No Need To Write The Return Statement For Lambda Functions:"
   ]
  },
  {
   "cell_type": "markdown",
   "id": "fa43617f",
   "metadata": {},
   "source": [
    "### Note :\n",
    "### Shall I pass a functions an arguments to another function ?\n",
    "### Lambda is the best options"
   ]
  },
  {
   "cell_type": "code",
   "execution_count": null,
   "id": "efb1a4e8",
   "metadata": {},
   "outputs": [],
   "source": []
  }
 ],
 "metadata": {
  "kernelspec": {
   "display_name": "Python 3 (ipykernel)",
   "language": "python",
   "name": "python3"
  },
  "language_info": {
   "codemirror_mode": {
    "name": "ipython",
    "version": 3
   },
   "file_extension": ".py",
   "mimetype": "text/x-python",
   "name": "python",
   "nbconvert_exporter": "python",
   "pygments_lexer": "ipython3",
   "version": "3.8.10"
  }
 },
 "nbformat": 4,
 "nbformat_minor": 5
}
