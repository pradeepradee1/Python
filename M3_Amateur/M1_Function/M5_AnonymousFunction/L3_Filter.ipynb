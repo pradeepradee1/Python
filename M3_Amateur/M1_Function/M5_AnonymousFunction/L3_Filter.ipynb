{
 "cells": [
  {
   "cell_type": "markdown",
   "id": "abdef85f",
   "metadata": {},
   "source": [
    "### Filter:\n",
    "### To Filter values from the given sequences based on some conditions"
   ]
  },
  {
   "cell_type": "markdown",
   "id": "2fe78bb1",
   "metadata": {},
   "source": [
    "### Syntax:\n",
    "### filter(function,sequence)"
   ]
  },
  {
   "cell_type": "markdown",
   "id": "f6578af1",
   "metadata": {},
   "source": [
    "## WithOut Lambda Functions"
   ]
  },
  {
   "cell_type": "code",
   "execution_count": 4,
   "id": "37a2653e",
   "metadata": {},
   "outputs": [
    {
     "name": "stdout",
     "output_type": "stream",
     "text": [
      "<class 'filter'>\n",
      "[0, 10, 20, 30]\n"
     ]
    }
   ],
   "source": [
    "def isEven(x):\n",
    "    if x%2 == 0:\n",
    "        return True\n",
    "    else:\n",
    "        return False\n",
    "l=[0,5,10,15,20,25,30]\n",
    "print(type(filter(isEven,l)))\n",
    "l1=list(filter(isEven,l))\n",
    "print(l1)"
   ]
  },
  {
   "cell_type": "markdown",
   "id": "154f0dbd",
   "metadata": {},
   "source": [
    "## With Lambda Functions"
   ]
  },
  {
   "cell_type": "code",
   "execution_count": 6,
   "id": "f6a25f83",
   "metadata": {},
   "outputs": [
    {
     "name": "stdout",
     "output_type": "stream",
     "text": [
      "[0, 10, 20, 30]\n",
      "[5, 15, 25]\n"
     ]
    }
   ],
   "source": [
    "l=[0,5,10,15,20,25,30]\n",
    "l1=list(filter(lambda x:x%2==0,l))\n",
    "print(l1)\n",
    "l2=list(filter(lambda x:x%2!=0,l))\n",
    "print(l2)"
   ]
  },
  {
   "cell_type": "code",
   "execution_count": null,
   "id": "96b90af9",
   "metadata": {},
   "outputs": [],
   "source": []
  }
 ],
 "metadata": {
  "kernelspec": {
   "display_name": "Python 3 (ipykernel)",
   "language": "python",
   "name": "python3"
  },
  "language_info": {
   "codemirror_mode": {
    "name": "ipython",
    "version": 3
   },
   "file_extension": ".py",
   "mimetype": "text/x-python",
   "name": "python",
   "nbconvert_exporter": "python",
   "pygments_lexer": "ipython3",
   "version": "3.8.10"
  }
 },
 "nbformat": 4,
 "nbformat_minor": 5
}
