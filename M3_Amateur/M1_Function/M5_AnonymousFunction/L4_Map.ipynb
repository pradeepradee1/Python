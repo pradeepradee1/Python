{
 "cells": [
  {
   "cell_type": "markdown",
   "id": "4cc6cc9c",
   "metadata": {},
   "source": [
    "### Map\n",
    "### For every element present in the given sequence,apply some functionality and generate\n",
    "### new element with the required modification."
   ]
  },
  {
   "cell_type": "markdown",
   "id": "0b268c86",
   "metadata": {},
   "source": [
    "### Syntax:\n",
    "### map(function,sequence)"
   ]
  },
  {
   "cell_type": "markdown",
   "id": "ace0955a",
   "metadata": {},
   "source": [
    "## WithOut Lambda Functions"
   ]
  },
  {
   "cell_type": "code",
   "execution_count": 1,
   "id": "94a1f38b",
   "metadata": {},
   "outputs": [
    {
     "name": "stdout",
     "output_type": "stream",
     "text": [
      "[2, 4, 6, 8, 10]\n"
     ]
    }
   ],
   "source": [
    "l=[1,2,3,4,5]\n",
    "def doubleIt(x):\n",
    "    return 2*x\n",
    "l1=list(map(doubleIt,l))\n",
    "print(l1)"
   ]
  },
  {
   "cell_type": "markdown",
   "id": "003f4246",
   "metadata": {},
   "source": [
    "### WithOut Lambda Functions"
   ]
  },
  {
   "cell_type": "code",
   "execution_count": 2,
   "id": "88c6c160",
   "metadata": {},
   "outputs": [
    {
     "name": "stdout",
     "output_type": "stream",
     "text": [
      "[2, 4, 6, 8, 10]\n"
     ]
    }
   ],
   "source": [
    "l=[1,2,3,4,5]\n",
    "l1=list(map(lambda x:2*x,l))\n",
    "print(l1)"
   ]
  },
  {
   "cell_type": "code",
   "execution_count": 3,
   "id": "bccdfe1f",
   "metadata": {},
   "outputs": [
    {
     "name": "stdout",
     "output_type": "stream",
     "text": [
      "[1, 4, 9, 16, 25]\n"
     ]
    }
   ],
   "source": [
    "l=[1,2,3,4,5]\n",
    "l1=list(map(lambda x:x*x,l))\n",
    "print(l1)"
   ]
  },
  {
   "cell_type": "markdown",
   "id": "ea2faca9",
   "metadata": {},
   "source": [
    "### Note :We can apply map() function on multiple lists also.But make sure all list should have same\n",
    "### length."
   ]
  },
  {
   "cell_type": "code",
   "execution_count": 4,
   "id": "730abe8c",
   "metadata": {},
   "outputs": [
    {
     "name": "stdout",
     "output_type": "stream",
     "text": [
      "[2, 6, 12, 20]\n"
     ]
    }
   ],
   "source": [
    "l1=[1,2,3,4]\n",
    "l2=[2,3,4,5]\n",
    "l3=list(map(lambda x,y:x*y,l1,l2))\n",
    "print(l3)"
   ]
  },
  {
   "cell_type": "code",
   "execution_count": 5,
   "id": "32912420",
   "metadata": {},
   "outputs": [
    {
     "name": "stdout",
     "output_type": "stream",
     "text": [
      "[20, 60, 120, 200]\n"
     ]
    }
   ],
   "source": [
    "l1=[1,2,3,4]\n",
    "l1=[10,20,30,40,50]\n",
    "l3=list(map(lambda x,y:x*y,l1,l2))\n",
    "print(l3)"
   ]
  },
  {
   "cell_type": "code",
   "execution_count": 6,
   "id": "d786c4f2",
   "metadata": {},
   "outputs": [
    {
     "name": "stdout",
     "output_type": "stream",
     "text": [
      "[20, 60]\n"
     ]
    }
   ],
   "source": [
    "l1=[1,2,3,4,5,6,7,8,9]\n",
    "l1=[10,20]\n",
    "l3=list(map(lambda x,y:x*y,l1,l2))\n",
    "print(l3)"
   ]
  },
  {
   "cell_type": "code",
   "execution_count": null,
   "id": "23deb890",
   "metadata": {},
   "outputs": [],
   "source": []
  }
 ],
 "metadata": {
  "kernelspec": {
   "display_name": "Python 3 (ipykernel)",
   "language": "python",
   "name": "python3"
  },
  "language_info": {
   "codemirror_mode": {
    "name": "ipython",
    "version": 3
   },
   "file_extension": ".py",
   "mimetype": "text/x-python",
   "name": "python",
   "nbconvert_exporter": "python",
   "pygments_lexer": "ipython3",
   "version": "3.8.10"
  }
 },
 "nbformat": 4,
 "nbformat_minor": 5
}
