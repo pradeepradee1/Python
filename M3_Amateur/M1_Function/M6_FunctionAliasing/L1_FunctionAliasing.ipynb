{
 "cells": [
  {
   "cell_type": "markdown",
   "id": "e24b0ccd",
   "metadata": {},
   "source": [
    "### Note:\n",
    "### In Python every thing is treated as object.\n",
    "### Even functions also internally treated as objects only."
   ]
  },
  {
   "cell_type": "code",
   "execution_count": 1,
   "id": "c854b33d",
   "metadata": {},
   "outputs": [
    {
     "name": "stdout",
     "output_type": "stream",
     "text": [
      "Hello\n",
      "<function f1 at 0x7f447121e1f0>\n",
      "139931932549616\n"
     ]
    }
   ],
   "source": [
    "def f1():\n",
    "    print(\"Hello\")\n",
    "    print(f1)\n",
    "    print(id(f1))\n",
    "f1()"
   ]
  },
  {
   "cell_type": "markdown",
   "id": "f7ba6ac2",
   "metadata": {},
   "source": [
    "## Function Aliasing:\n",
    "### For the existing function we can give another name, which is nothing but function aliasing."
   ]
  },
  {
   "cell_type": "code",
   "execution_count": 2,
   "id": "46884b26",
   "metadata": {},
   "outputs": [
    {
     "name": "stdout",
     "output_type": "stream",
     "text": [
      "139931932549904\n",
      "139931932549904\n",
      "Good Morning: Durga\n",
      "Good Morning: Durga\n"
     ]
    }
   ],
   "source": [
    "def wish(name):\n",
    "    print(\"Good Morning:\",name)\n",
    "\n",
    "greeting=wish\n",
    "print(id(wish))\n",
    "print(id(greeting))\n",
    "greeting('Durga')\n",
    "wish('Durga')"
   ]
  },
  {
   "cell_type": "markdown",
   "id": "afa6b7bc",
   "metadata": {},
   "source": [
    "### Note: In the above example only one function is available but we can call that function by using\n",
    "### either wish name or greeting name.\n",
    "### If we delete one name still we can access that function by using alias name "
   ]
  },
  {
   "cell_type": "code",
   "execution_count": 3,
   "id": "cd43d7d7",
   "metadata": {},
   "outputs": [
    {
     "name": "stdout",
     "output_type": "stream",
     "text": [
      "Good Morning: Durga\n",
      "Good Morning: Durga\n",
      "Good Morning: Pavan\n"
     ]
    }
   ],
   "source": [
    "def wish(name):\n",
    "    print(\"Good Morning:\",name)\n",
    "greeting=wish\n",
    "greeting('Durga')\n",
    "wish('Durga')\n",
    "del wish\n",
    "#wish('Durga') ==>NameError: name 'wish' is not defined\n",
    "greeting('Pavan')"
   ]
  },
  {
   "cell_type": "code",
   "execution_count": null,
   "id": "2ff0cf16",
   "metadata": {},
   "outputs": [],
   "source": []
  }
 ],
 "metadata": {
  "kernelspec": {
   "display_name": "Python 3 (ipykernel)",
   "language": "python",
   "name": "python3"
  },
  "language_info": {
   "codemirror_mode": {
    "name": "ipython",
    "version": 3
   },
   "file_extension": ".py",
   "mimetype": "text/x-python",
   "name": "python",
   "nbconvert_exporter": "python",
   "pygments_lexer": "ipython3",
   "version": "3.8.10"
  }
 },
 "nbformat": 4,
 "nbformat_minor": 5
}
