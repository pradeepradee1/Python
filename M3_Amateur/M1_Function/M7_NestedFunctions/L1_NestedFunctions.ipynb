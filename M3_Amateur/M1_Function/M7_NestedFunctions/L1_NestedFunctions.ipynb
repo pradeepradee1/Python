{
 "cells": [
  {
   "cell_type": "code",
   "execution_count": 1,
   "id": "a8411a4b",
   "metadata": {},
   "outputs": [
    {
     "name": "stdout",
     "output_type": "stream",
     "text": [
      "outer function started\n",
      "outer function calling inner function\n",
      "inner function execution\n"
     ]
    }
   ],
   "source": [
    "def outer():\n",
    "    print(\"outer function started\")\n",
    "    def inner():\n",
    "        print(\"inner function execution\")\n",
    "    print(\"outer function calling inner function\")\n",
    "    inner()\n",
    "outer()\n",
    "#inner()"
   ]
  },
  {
   "cell_type": "code",
   "execution_count": 2,
   "id": "6b5ac48c",
   "metadata": {},
   "outputs": [
    {
     "name": "stdout",
     "output_type": "stream",
     "text": [
      "outer function started\n",
      "outer function returning inner function\n",
      "inner function execution\n",
      "inner function execution\n",
      "inner function execution\n"
     ]
    }
   ],
   "source": [
    "def outer():\n",
    "    print(\"outer function started\")\n",
    "    def inner():\n",
    "        print(\"inner function execution\")\n",
    "    print(\"outer function returning inner function\")\n",
    "    return inner\n",
    "f1=outer()\n",
    "f1()\n",
    "f1()\n",
    "f1()        "
   ]
  },
  {
   "cell_type": "code",
   "execution_count": null,
   "id": "7c82ca22",
   "metadata": {},
   "outputs": [],
   "source": []
  },
  {
   "cell_type": "code",
   "execution_count": null,
   "id": "0b30bb44",
   "metadata": {},
   "outputs": [],
   "source": []
  }
 ],
 "metadata": {
  "kernelspec": {
   "display_name": "Python 3 (ipykernel)",
   "language": "python",
   "name": "python3"
  },
  "language_info": {
   "codemirror_mode": {
    "name": "ipython",
    "version": 3
   },
   "file_extension": ".py",
   "mimetype": "text/x-python",
   "name": "python",
   "nbconvert_exporter": "python",
   "pygments_lexer": "ipython3",
   "version": "3.8.10"
  }
 },
 "nbformat": 4,
 "nbformat_minor": 5
}
