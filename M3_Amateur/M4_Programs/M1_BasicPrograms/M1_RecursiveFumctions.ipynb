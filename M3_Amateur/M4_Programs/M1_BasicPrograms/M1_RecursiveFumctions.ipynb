{
 "cells": [
  {
   "cell_type": "markdown",
   "id": "324654d8",
   "metadata": {},
   "source": [
    "### Recursive Functions :\n",
    "                            A Functions That calls itself is called recursive functions\n",
    "                            \n",
    "### Advantages :\n",
    "                    1) Reduce the length of code and improves readability\n",
    "                    2) we can easily solve the problem in data structure and complex problem"
   ]
  },
  {
   "cell_type": "code",
   "execution_count": 1,
   "id": "1e2dbf75",
   "metadata": {},
   "outputs": [
    {
     "name": "stdout",
     "output_type": "stream",
     "text": [
      "1\n",
      "6\n",
      "120\n"
     ]
    }
   ],
   "source": [
    "def factorial(n):\n",
    "    if n==0:\n",
    "        result = 1\n",
    "    else:\n",
    "        result = n * factorial(n-1)\n",
    "    return result\n",
    "print(factorial(0))\n",
    "print(factorial(3))\n",
    "print(factorial(5))"
   ]
  },
  {
   "cell_type": "code",
   "execution_count": null,
   "id": "b081806c",
   "metadata": {},
   "outputs": [],
   "source": []
  },
  {
   "cell_type": "code",
   "execution_count": 2,
   "id": "ea70c558",
   "metadata": {},
   "outputs": [
    {
     "name": "stdout",
     "output_type": "stream",
     "text": [
      "{'key1': 'as', 'key2': 'as2', 'key3': {'subkey3': 'val', 'subkey4': 'val12', 'subkey5': {'skey': 'sfds'}}}\n"
     ]
    }
   ],
   "source": [
    "a = {\"key1\":\"as\",\n",
    "     \"key2\":\"as2\",\n",
    "     \"key3\":{\n",
    "     \"subkey3\":\"val\",\n",
    "     \"subkey4\":\"val12\",\n",
    "     \"subkey5\":{'skey':'sfds'}\n",
    "     }}\n",
    "print(a)"
   ]
  },
  {
   "cell_type": "markdown",
   "id": "4f497e99",
   "metadata": {},
   "source": [
    "### \t\t\tOutput should be \n",
    "###                                              key1,key2,key3.subkey3,key3.subkey4,key3.subkey5.skey,\n",
    "###\t\t\t\t\t\t\t   as,as2,val,val12,sfds"
   ]
  },
  {
   "cell_type": "code",
   "execution_count": 4,
   "id": "e696bea8",
   "metadata": {},
   "outputs": [
    {
     "name": "stdout",
     "output_type": "stream",
     "text": [
      "------------>\n",
      "key1,key2,key3.subkey3,key3.subkey4,subkey5.skey,\n",
      "as,as2,val,val12,sfds,\n"
     ]
    }
   ],
   "source": [
    "keyresult=''\n",
    "valueresult=''\n",
    "def recursivefunction(arg,keys):\n",
    "    global keyresult\n",
    "    global valueresult\n",
    "    for key,val in arg.items():\n",
    "        if type(val) == dict:\n",
    "            recursivefunction(val,key)\n",
    "        else:\n",
    "            if keys:\n",
    "                keyresult += keys + \".\" + key + \",\"\n",
    "            else:\n",
    "                keyresult+=key+\",\"\n",
    "            valueresult+=val+\",\"\n",
    "\n",
    "recursivefunction(a,keys=None)\n",
    "print(\"------------>\")\n",
    "print(keyresult)\n",
    "print(valueresult)"
   ]
  },
  {
   "cell_type": "code",
   "execution_count": 7,
   "id": "b142092c",
   "metadata": {},
   "outputs": [
    {
     "name": "stdout",
     "output_type": "stream",
     "text": [
      "key1_key2_key3_subkey3_subkey4_subkey5_skey_\n",
      "as_as2_val_val12_sfds_\n"
     ]
    }
   ],
   "source": [
    "string_key=''\n",
    "string_value=''\n",
    "\n",
    "def refunc(arg,keys):\n",
    "    global string_key\n",
    "    global string_value\n",
    "    \n",
    "    if keys :\n",
    "        string_key += keys + \"_\"\n",
    "    \n",
    "    for key,val in arg.items():\n",
    "        if type(val) == dict:\n",
    "            refunc(val,key)\n",
    "        else:\n",
    "            string_key += key + \"_\"\n",
    "            string_value += val + \"_\"\n",
    "\n",
    "refunc(a,keys=None)\n",
    "print(string_key)\n",
    "print(string_value)"
   ]
  },
  {
   "cell_type": "code",
   "execution_count": null,
   "id": "0d20400e",
   "metadata": {},
   "outputs": [],
   "source": []
  }
 ],
 "metadata": {
  "kernelspec": {
   "display_name": "Python 3 (ipykernel)",
   "language": "python",
   "name": "python3"
  },
  "language_info": {
   "codemirror_mode": {
    "name": "ipython",
    "version": 3
   },
   "file_extension": ".py",
   "mimetype": "text/x-python",
   "name": "python",
   "nbconvert_exporter": "python",
   "pygments_lexer": "ipython3",
   "version": "3.8.10"
  }
 },
 "nbformat": 4,
 "nbformat_minor": 5
}
