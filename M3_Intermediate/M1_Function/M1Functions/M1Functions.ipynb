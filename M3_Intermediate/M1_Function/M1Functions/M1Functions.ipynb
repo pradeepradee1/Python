{
 "cells": [
  {
   "cell_type": "markdown",
   "id": "c001a530",
   "metadata": {},
   "source": [
    "## Function :\n",
    "                    A Group Of Statements\n",
    "  "
   ]
  },
  {
   "cell_type": "code",
   "execution_count": 1,
   "id": "ed69b38f",
   "metadata": {},
   "outputs": [],
   "source": [
    "def wish(name):\n",
    "    print(\"Good Morning\",name)\n",
    "    print(\"Good Morning\",name)\n",
    "    print(\"Good Morning\",name)\n",
    "    print(\"Good Morning\",name)"
   ]
  },
  {
   "cell_type": "code",
   "execution_count": 2,
   "id": "e63ff147",
   "metadata": {},
   "outputs": [
    {
     "name": "stdout",
     "output_type": "stream",
     "text": [
      "Good Morning Sunny\n",
      "Good Morning Sunny\n",
      "Good Morning Sunny\n",
      "Good Morning Sunny\n",
      "Good Morning Bunny\n",
      "Good Morning Bunny\n",
      "Good Morning Bunny\n",
      "Good Morning Bunny\n",
      "Good Morning Chinny\n",
      "Good Morning Chinny\n",
      "Good Morning Chinny\n",
      "Good Morning Chinny\n"
     ]
    }
   ],
   "source": [
    "wish(\"Sunny\")\n",
    "wish(\"Bunny\")\n",
    "wish(\"Chinny\")"
   ]
  },
  {
   "cell_type": "markdown",
   "id": "256d159a",
   "metadata": {},
   "source": [
    "## Types Of Functions:\n",
    "           1) In-Built functions( len() , sum() , print() ,eval())\n",
    "           2) User-defined functions"
   ]
  },
  {
   "cell_type": "markdown",
   "id": "bbc49010",
   "metadata": {},
   "source": [
    "### Method     :  Any function defined inside the class such type of called is method\n",
    "### Function   :  Any function defined outside of class such type of called is functions"
   ]
  },
  {
   "cell_type": "code",
   "execution_count": null,
   "id": "5637e493",
   "metadata": {},
   "outputs": [],
   "source": []
  },
  {
   "cell_type": "code",
   "execution_count": null,
   "id": "658c8f40",
   "metadata": {},
   "outputs": [],
   "source": []
  }
 ],
 "metadata": {
  "kernelspec": {
   "display_name": "Python 3 (ipykernel)",
   "language": "python",
   "name": "python3"
  },
  "language_info": {
   "codemirror_mode": {
    "name": "ipython",
    "version": 3
   },
   "file_extension": ".py",
   "mimetype": "text/x-python",
   "name": "python",
   "nbconvert_exporter": "python",
   "pygments_lexer": "ipython3",
   "version": "3.8.10"
  }
 },
 "nbformat": 4,
 "nbformat_minor": 5
}
