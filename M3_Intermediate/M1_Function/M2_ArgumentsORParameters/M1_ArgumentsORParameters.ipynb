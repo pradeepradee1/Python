{
 "cells": [
  {
   "cell_type": "markdown",
   "id": "f547c2f8",
   "metadata": {},
   "source": [
    "### 1) Positional arguments\n",
    "### 2) Keyword arguments\n",
    "### 3) Default arguments\n",
    "### 4) Variable length arguments\n",
    "### 5) Keyword variable length arguments"
   ]
  },
  {
   "cell_type": "code",
   "execution_count": 1,
   "id": "b2824dd0",
   "metadata": {},
   "outputs": [
    {
     "name": "stdout",
     "output_type": "stream",
     "text": [
      "hello\n",
      "None\n"
     ]
    }
   ],
   "source": [
    "def wish():\n",
    "    print(\"hello\")\n",
    "print(wish())"
   ]
  },
  {
   "cell_type": "code",
   "execution_count": 2,
   "id": "80de4629",
   "metadata": {},
   "outputs": [
    {
     "name": "stdout",
     "output_type": "stream",
     "text": [
      "150 50 5000 2.0 0\n"
     ]
    }
   ],
   "source": [
    "def calc(a,b):\n",
    "    sum = a+b\n",
    "    sub = a-b\n",
    "    mul = a*b\n",
    "    div = a/b\n",
    "    mod = a%b\n",
    "    return sum,sub,mul,div,mod\n",
    "sum,sub,mul,div,mod =  calc(100,50)\n",
    "print(sum,sub,mul,div,mod)"
   ]
  },
  {
   "cell_type": "code",
   "execution_count": 3,
   "id": "ab5d2c23",
   "metadata": {},
   "outputs": [
    {
     "name": "stdout",
     "output_type": "stream",
     "text": [
      "150\n",
      "50\n",
      "5000\n",
      "2.0\n",
      "0\n"
     ]
    }
   ],
   "source": [
    "t =  calc(100,50)\n",
    "for i in t:\n",
    "    print(i)"
   ]
  },
  {
   "cell_type": "code",
   "execution_count": null,
   "id": "3b034a2e",
   "metadata": {},
   "outputs": [],
   "source": []
  },
  {
   "cell_type": "code",
   "execution_count": null,
   "id": "f72b4a5f",
   "metadata": {},
   "outputs": [],
   "source": []
  }
 ],
 "metadata": {
  "kernelspec": {
   "display_name": "Python 3 (ipykernel)",
   "language": "python",
   "name": "python3"
  },
  "language_info": {
   "codemirror_mode": {
    "name": "ipython",
    "version": 3
   },
   "file_extension": ".py",
   "mimetype": "text/x-python",
   "name": "python",
   "nbconvert_exporter": "python",
   "pygments_lexer": "ipython3",
   "version": "3.8.10"
  }
 },
 "nbformat": 4,
 "nbformat_minor": 5
}
