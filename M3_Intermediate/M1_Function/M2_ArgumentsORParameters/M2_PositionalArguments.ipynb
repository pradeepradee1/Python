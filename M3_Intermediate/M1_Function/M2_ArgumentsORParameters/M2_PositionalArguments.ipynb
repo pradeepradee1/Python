{
 "cells": [
  {
   "cell_type": "markdown",
   "id": "e69e1b30",
   "metadata": {},
   "source": [
    "### 1) Positional Arguments"
   ]
  },
  {
   "cell_type": "code",
   "execution_count": 2,
   "id": "407cf703",
   "metadata": {},
   "outputs": [
    {
     "name": "stdout",
     "output_type": "stream",
     "text": [
      "100 50\n",
      "50 100\n"
     ]
    }
   ],
   "source": [
    "def calc(a,b):\n",
    "    print(a,b)\n",
    "t=calc(100,50)\n",
    "t=calc(50,100)"
   ]
  },
  {
   "cell_type": "markdown",
   "id": "da067c44",
   "metadata": {},
   "source": [
    "### Note :\n",
    "            No. Of Arguments should be matched\n",
    "            Order Is Important"
   ]
  },
  {
   "cell_type": "code",
   "execution_count": null,
   "id": "417bbfec",
   "metadata": {},
   "outputs": [],
   "source": []
  }
 ],
 "metadata": {
  "kernelspec": {
   "display_name": "Python 3 (ipykernel)",
   "language": "python",
   "name": "python3"
  },
  "language_info": {
   "codemirror_mode": {
    "name": "ipython",
    "version": 3
   },
   "file_extension": ".py",
   "mimetype": "text/x-python",
   "name": "python",
   "nbconvert_exporter": "python",
   "pygments_lexer": "ipython3",
   "version": "3.8.10"
  }
 },
 "nbformat": 4,
 "nbformat_minor": 5
}
