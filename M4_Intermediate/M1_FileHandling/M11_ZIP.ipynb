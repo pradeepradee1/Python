{
 "cells": [
  {
   "cell_type": "markdown",
   "id": "4af9231f",
   "metadata": {},
   "source": [
    "### zip Syntax \n",
    "### f = ZipFile(\"files.zip\",\"w\",\"ZIP_DEFLATED\")"
   ]
  },
  {
   "cell_type": "code",
   "execution_count": 3,
   "id": "f256563c",
   "metadata": {},
   "outputs": [
    {
     "name": "stdout",
     "output_type": "stream",
     "text": [
      "files.zip file created successfully\n"
     ]
    },
    {
     "name": "stderr",
     "output_type": "stream",
     "text": [
      "/usr/lib/python3.8/zipfile.py:1517: UserWarning: Duplicate name: '../M4_Files/file2.txt'\n",
      "  return self._open_to_write(zinfo, force_zip64=force_zip64)\n"
     ]
    }
   ],
   "source": [
    "from zipfile import *\n",
    "f=ZipFile(\"../M4_Files/files.zip\",'w',ZIP_DEFLATED)\n",
    "f.write(\"../M4_Files/file.txt\")\n",
    "f.write(\"../M4_Files/file2.txt\")\n",
    "f.write(\"../M4_Files/file2.txt\")\n",
    "f.close()\n",
    "print(\"files.zip file created successfully\")"
   ]
  },
  {
   "cell_type": "markdown",
   "id": "3ed2903b",
   "metadata": {},
   "source": [
    "### Unzip Syntax\n",
    "### f = ZipFile(\"files.zip\",\"r\",ZIP_STORED)"
   ]
  },
  {
   "cell_type": "code",
   "execution_count": 4,
   "id": "33c4a113",
   "metadata": {},
   "outputs": [
    {
     "name": "stdout",
     "output_type": "stream",
     "text": [
      "File Name:  ../M4_Files/file.txt\n",
      "The Content of this file is:\n",
      "\n",
      "\n",
      "File Name:  ../M4_Files/file2.txt\n",
      "The Content of this file is:\n",
      "Durga\n",
      "Software\n",
      "Solutions\n",
      "\n",
      "\n",
      "File Name:  ../M4_Files/file2.txt\n",
      "The Content of this file is:\n",
      "Durga\n",
      "Software\n",
      "Solutions\n",
      "\n",
      "\n"
     ]
    }
   ],
   "source": [
    "from zipfile import *\n",
    "f=ZipFile(\"../M4_Files/files.zip\",'r',ZIP_STORED)\n",
    "names=f.namelist()\n",
    "for name in names:\n",
    "    print( \"File Name: \",name)\n",
    "    print(\"The Content of this file is:\")\n",
    "    f1=open(name,'r')\n",
    "    print(f1.read())\n",
    "    print()"
   ]
  },
  {
   "cell_type": "code",
   "execution_count": null,
   "id": "b6fe2765",
   "metadata": {},
   "outputs": [],
   "source": []
  }
 ],
 "metadata": {
  "kernelspec": {
   "display_name": "Python 3 (ipykernel)",
   "language": "python",
   "name": "python3"
  },
  "language_info": {
   "codemirror_mode": {
    "name": "ipython",
    "version": 3
   },
   "file_extension": ".py",
   "mimetype": "text/x-python",
   "name": "python",
   "nbconvert_exporter": "python",
   "pygments_lexer": "ipython3",
   "version": "3.8.10"
  }
 },
 "nbformat": 4,
 "nbformat_minor": 5
}
