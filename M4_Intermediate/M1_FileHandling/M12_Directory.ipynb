{
 "cells": [
  {
   "cell_type": "code",
   "execution_count": 2,
   "id": "e9242ecb",
   "metadata": {},
   "outputs": [],
   "source": [
    "import os"
   ]
  },
  {
   "cell_type": "code",
   "execution_count": 3,
   "id": "58637b2f",
   "metadata": {},
   "outputs": [
    {
     "name": "stdout",
     "output_type": "stream",
     "text": [
      "Current Working Directory: /home/pradeep.k@zucisystems.com/workspace_working_Repo/Python/M4_Intermediate/M1_FileHandling\n"
     ]
    }
   ],
   "source": [
    "#Q1. To Know Current Working Directory\n",
    "cwd=os.getcwd()\n",
    "print(\"Current Working Directory:\",cwd)"
   ]
  },
  {
   "cell_type": "code",
   "execution_count": 4,
   "id": "9028e758",
   "metadata": {},
   "outputs": [
    {
     "name": "stdout",
     "output_type": "stream",
     "text": [
      "mysub directory created in cwd\n"
     ]
    }
   ],
   "source": [
    "#Q2. To create a sub directory in the current working directory:\n",
    "os.mkdir(\"mysub\")\n",
    "print(\"mysub directory created in cwd\")"
   ]
  },
  {
   "cell_type": "code",
   "execution_count": 5,
   "id": "28fecd85",
   "metadata": {},
   "outputs": [
    {
     "name": "stdout",
     "output_type": "stream",
     "text": [
      "mysub2 created inside mysub\n"
     ]
    }
   ],
   "source": [
    "#Q3. To create a sub directory in mysub directory:\n",
    "os.mkdir(\"mysub/mysub2\")\n",
    "print(\"mysub2 created inside mysub\")"
   ]
  },
  {
   "cell_type": "code",
   "execution_count": 6,
   "id": "5eb71474",
   "metadata": {},
   "outputs": [
    {
     "name": "stdout",
     "output_type": "stream",
     "text": [
      "sub1 and in that sub2 and in that sub3 directories created\n"
     ]
    }
   ],
   "source": [
    "#Q4. To create multiple directories like sub1 in that sub2 in that sub3:\n",
    "os.makedirs(\"sub1/sub2/sub3\")\n",
    "print(\"sub1 and in that sub2 and in that sub3 directories created\")"
   ]
  },
  {
   "cell_type": "code",
   "execution_count": 7,
   "id": "ac9d8900",
   "metadata": {},
   "outputs": [
    {
     "name": "stdout",
     "output_type": "stream",
     "text": [
      "mysub2 directory deleted\n"
     ]
    }
   ],
   "source": [
    "#Q5. To remove a directory:\n",
    "os.rmdir(\"mysub/mysub2\")\n",
    "print(\"mysub2 directory deleted\")"
   ]
  },
  {
   "cell_type": "code",
   "execution_count": 8,
   "id": "7299515c",
   "metadata": {},
   "outputs": [
    {
     "name": "stdout",
     "output_type": "stream",
     "text": [
      "All 3 directories sub1,sub2 and sub3 removed\n"
     ]
    }
   ],
   "source": [
    "#Q6. To remove multiple directories in the path:\n",
    "os.removedirs(\"sub1/sub2/sub3\")\n",
    "print(\"All 3 directories sub1,sub2 and sub3 removed\")"
   ]
  },
  {
   "cell_type": "code",
   "execution_count": 9,
   "id": "6df47d8d",
   "metadata": {},
   "outputs": [
    {
     "name": "stdout",
     "output_type": "stream",
     "text": [
      "mysub directory renamed to newdir\n"
     ]
    }
   ],
   "source": [
    "#Q7. To rename a directory:\n",
    "os.rename(\"mysub\",\"newdir\")\n",
    "print(\"mysub directory renamed to newdir\")"
   ]
  },
  {
   "cell_type": "code",
   "execution_count": null,
   "id": "553e83d6",
   "metadata": {},
   "outputs": [],
   "source": []
  }
 ],
 "metadata": {
  "kernelspec": {
   "display_name": "Python 3 (ipykernel)",
   "language": "python",
   "name": "python3"
  },
  "language_info": {
   "codemirror_mode": {
    "name": "ipython",
    "version": 3
   },
   "file_extension": ".py",
   "mimetype": "text/x-python",
   "name": "python",
   "nbconvert_exporter": "python",
   "pygments_lexer": "ipython3",
   "version": "3.8.10"
  }
 },
 "nbformat": 4,
 "nbformat_minor": 5
}
