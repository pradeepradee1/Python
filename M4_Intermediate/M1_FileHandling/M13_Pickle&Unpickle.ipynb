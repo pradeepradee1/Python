{
 "cells": [
  {
   "cell_type": "code",
   "execution_count": 3,
   "id": "8493dce1",
   "metadata": {},
   "outputs": [
    {
     "name": "stdout",
     "output_type": "stream",
     "text": [
      "Pickling of Employee Object completed...\n",
      "Printing Employee Information after unpickling\n",
      "100 \t Durga \t 1000 \t Hyd\n"
     ]
    }
   ],
   "source": [
    "import pickle\n",
    "class Employee:\n",
    "    def __init__(self,eno,ename,esal,eaddr):\n",
    "        self.eno=eno;\n",
    "        self.ename=ename;\n",
    "        self.esal=esal;\n",
    "        self.eaddr=eaddr;\n",
    "\n",
    "    def display(self):\n",
    "        print(self.eno,\"\\t\",self.ename,\"\\t\",self.esal,\"\\t\",self.eaddr)\n",
    "        \n",
    "with open(\"../M4_Files/emp.dat\",\"wb\") as f:\n",
    "    e=Employee(100,\"Durga\",1000,\"Hyd\")\n",
    "    pickle.dump(e,f)\n",
    "    print(\"Pickling of Employee Object completed...\")\n",
    "\n",
    "with open(\"../M4_Files/emp.dat\",\"rb\") as f:\n",
    "    obj=pickle.load(f)\n",
    "    print(\"Printing Employee Information after unpickling\")\n",
    "    obj.display()"
   ]
  },
  {
   "cell_type": "code",
   "execution_count": 4,
   "id": "d96a128c",
   "metadata": {},
   "outputs": [],
   "source": [
    "#Multiple Objects"
   ]
  },
  {
   "cell_type": "code",
   "execution_count": 9,
   "id": "bf91c072",
   "metadata": {},
   "outputs": [
    {
     "name": "stdout",
     "output_type": "stream",
     "text": [
      "Enter The number of Employees:1\n",
      "Enter Employee Number:1\n",
      "Enter Employee Name:pradee\n",
      "Enter Employee Salary:100000\n",
      "Enter Employee Address:sar\n",
      "Employee Objects pickled successfully\n"
     ]
    }
   ],
   "source": [
    "import pickle\n",
    "f=open(\"../M4_Files/emp.dat\",\"wb\")\n",
    "n=int(input(\"Enter The number of Employees:\"))\n",
    "for i in range(n):\n",
    "    eno=int(input(\"Enter Employee Number:\"))\n",
    "    ename=input(\"Enter Employee Name:\")\n",
    "    esal=float(input(\"Enter Employee Salary:\"))\n",
    "    eaddr=input(\"Enter Employee Address:\")\n",
    "    e=Employee(eno,ename,esal,eaddr)\n",
    "    pickle.dump(e,f)\n",
    "print(\"Employee Objects pickled successfully\")"
   ]
  },
  {
   "cell_type": "code",
   "execution_count": 11,
   "id": "c8cc8c27",
   "metadata": {},
   "outputs": [
    {
     "name": "stdout",
     "output_type": "stream",
     "text": [
      "Employee Details:\n",
      "1 \t pradee \t 100000.0 \t sar\n"
     ]
    }
   ],
   "source": [
    "f=open(\"../M4_Files/emp.dat\",\"rb\")\n",
    "print(\"Employee Details:\")\n",
    "while True:\n",
    "    try:\n",
    "        obj=pickle.load(f)\n",
    "        obj.display()\n",
    "    except EOFError:\n",
    "        print(\"All employees Completed\")\n",
    "    break\n",
    "f.close()"
   ]
  },
  {
   "cell_type": "code",
   "execution_count": null,
   "id": "7edd8469",
   "metadata": {},
   "outputs": [],
   "source": []
  }
 ],
 "metadata": {
  "kernelspec": {
   "display_name": "Python 3 (ipykernel)",
   "language": "python",
   "name": "python3"
  },
  "language_info": {
   "codemirror_mode": {
    "name": "ipython",
    "version": 3
   },
   "file_extension": ".py",
   "mimetype": "text/x-python",
   "name": "python",
   "nbconvert_exporter": "python",
   "pygments_lexer": "ipython3",
   "version": "3.8.10"
  }
 },
 "nbformat": 4,
 "nbformat_minor": 5
}
