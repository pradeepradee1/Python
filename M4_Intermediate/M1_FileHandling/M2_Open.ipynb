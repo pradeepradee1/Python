{
 "cells": [
  {
   "cell_type": "markdown",
   "id": "990ad527",
   "metadata": {},
   "source": [
    "### Syntax"
   ]
  },
  {
   "cell_type": "markdown",
   "id": "926eff27",
   "metadata": {},
   "source": [
    "### f = open(filename, mode)"
   ]
  },
  {
   "cell_type": "markdown",
   "id": "02f89399",
   "metadata": {},
   "source": [
    "### mode : \n",
    "### 1) r :\n",
    "### Open an existing file for read operation. \n",
    "### The file pointer is positioned at the beginning of the file\n",
    "### If the specified file does not exist then we will get FileNotFoundError.This is default mode"
   ]
  },
  {
   "cell_type": "markdown",
   "id": "136b9d8c",
   "metadata": {},
   "source": [
    "###  2) w : \n",
    "### Open an existing file for write operation. \n",
    "### If the file already contains some data then it will be overridden. \n",
    "### If the specified file is not already avaialble then this mode will create that file."
   ]
  },
  {
   "cell_type": "markdown",
   "id": "92a7b871",
   "metadata": {},
   "source": [
    "### 3)  a :\n",
    "### Open an existing file for append operation. \n",
    "### It won't override existing data.\n",
    "### If the specified file is not already avaialble then this mode will create a new file."
   ]
  },
  {
   "cell_type": "markdown",
   "id": "7f37edba",
   "metadata": {},
   "source": [
    "### 4) r+ : \n",
    "### To read and write data into the file. \n",
    "### The previous data in the file will not be deleted\n",
    "### The file pointer is placed at the beginning of the file."
   ]
  },
  {
   "cell_type": "markdown",
   "id": "ff4d2779",
   "metadata": {},
   "source": [
    "### 5) w+ : \n",
    "### To write and read data \n",
    "### It will override existing data."
   ]
  },
  {
   "cell_type": "markdown",
   "id": "79ed9ff6",
   "metadata": {},
   "source": [
    "### 6) a+ : \n",
    "### To append and read data from the file \n",
    "### It wont override existing data."
   ]
  },
  {
   "cell_type": "markdown",
   "id": "5e9c2f90",
   "metadata": {},
   "source": [
    "### 7)  x : \n",
    "### To open a file in exclusive creation mode for write operation. \n",
    "### If the file already exists then we will get FileExistsError."
   ]
  },
  {
   "cell_type": "markdown",
   "id": "b850a5a2",
   "metadata": {},
   "source": [
    "### Note: \n",
    "### All the above modes are applicable for text files. If the above modes suffixed with\n",
    "### 'b' then these represents for binary files.\n",
    "### Eg: rb,wb,ab,r+b,w+b,a+b,xb"
   ]
  },
  {
   "cell_type": "markdown",
   "id": "f41cd67b",
   "metadata": {},
   "source": [
    "### Example : "
   ]
  },
  {
   "cell_type": "markdown",
   "id": "fb6286b6",
   "metadata": {},
   "source": [
    "### f = open(\"abc.txt\",\"w\")"
   ]
  },
  {
   "cell_type": "code",
   "execution_count": null,
   "id": "e0044243",
   "metadata": {},
   "outputs": [],
   "source": []
  }
 ],
 "metadata": {
  "kernelspec": {
   "display_name": "Python 3 (ipykernel)",
   "language": "python",
   "name": "python3"
  },
  "language_info": {
   "codemirror_mode": {
    "name": "ipython",
    "version": 3
   },
   "file_extension": ".py",
   "mimetype": "text/x-python",
   "name": "python",
   "nbconvert_exporter": "python",
   "pygments_lexer": "ipython3",
   "version": "3.8.10"
  }
 },
 "nbformat": 4,
 "nbformat_minor": 5
}
