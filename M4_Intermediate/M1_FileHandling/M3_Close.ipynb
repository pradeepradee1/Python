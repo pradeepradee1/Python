{
 "cells": [
  {
   "cell_type": "markdown",
   "id": "e4ba0838",
   "metadata": {},
   "source": [
    "### Close"
   ]
  },
  {
   "cell_type": "markdown",
   "id": "cfc37416",
   "metadata": {},
   "source": [
    "### After completing our operations on the file,it is highly recommended to close the file.\n",
    "### For this we have to use close() function."
   ]
  },
  {
   "cell_type": "markdown",
   "id": "d1bddd7d",
   "metadata": {},
   "source": [
    "### Syntax : "
   ]
  },
  {
   "cell_type": "markdown",
   "id": "fd0d9a6c",
   "metadata": {},
   "source": [
    "### f.close()"
   ]
  },
  {
   "cell_type": "code",
   "execution_count": null,
   "id": "a91e0eb1",
   "metadata": {},
   "outputs": [],
   "source": []
  }
 ],
 "metadata": {
  "kernelspec": {
   "display_name": "Python 3 (ipykernel)",
   "language": "python",
   "name": "python3"
  },
  "language_info": {
   "codemirror_mode": {
    "name": "ipython",
    "version": 3
   },
   "file_extension": ".py",
   "mimetype": "text/x-python",
   "name": "python",
   "nbconvert_exporter": "python",
   "pygments_lexer": "ipython3",
   "version": "3.8.10"
  }
 },
 "nbformat": 4,
 "nbformat_minor": 5
}
