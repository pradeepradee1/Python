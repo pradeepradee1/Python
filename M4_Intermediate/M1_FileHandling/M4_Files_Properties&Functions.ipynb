{
 "cells": [
  {
   "cell_type": "markdown",
   "id": "4169f350",
   "metadata": {},
   "source": [
    "### Various properties of File Object:"
   ]
  },
  {
   "cell_type": "code",
   "execution_count": 1,
   "id": "d494e543",
   "metadata": {},
   "outputs": [
    {
     "name": "stdout",
     "output_type": "stream",
     "text": [
      "File Name:  ../M5_Inputs/file.txt\n",
      "File Mode:  w\n",
      "Is File Readable:  False\n",
      "Is File Writable:  True\n",
      "Is File Closed :  False\n",
      "Is File Closed :  True\n"
     ]
    }
   ],
   "source": [
    "f=open(\"../M5_Inputs/file.txt\",'w')\n",
    "print(\"File Name: \",f.name)\n",
    "print(\"File Mode: \",f.mode)\n",
    "print(\"Is File Readable: \",f.readable())\n",
    "print(\"Is File Writable: \",f.writable())\n",
    "print(\"Is File Closed : \",f.closed)\n",
    "f.close()\n",
    "print(\"Is File Closed : \",f.closed)"
   ]
  },
  {
   "cell_type": "code",
   "execution_count": null,
   "id": "d71aa953",
   "metadata": {},
   "outputs": [],
   "source": []
  }
 ],
 "metadata": {
  "kernelspec": {
   "display_name": "Python 3 (ipykernel)",
   "language": "python",
   "name": "python3"
  },
  "language_info": {
   "codemirror_mode": {
    "name": "ipython",
    "version": 3
   },
   "file_extension": ".py",
   "mimetype": "text/x-python",
   "name": "python",
   "nbconvert_exporter": "python",
   "pygments_lexer": "ipython3",
   "version": "3.8.10"
  }
 },
 "nbformat": 4,
 "nbformat_minor": 5
}
