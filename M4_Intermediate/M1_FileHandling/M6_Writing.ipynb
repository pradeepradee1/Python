{
 "cells": [
  {
   "cell_type": "code",
   "execution_count": 1,
   "id": "7381f2b5",
   "metadata": {},
   "outputs": [
    {
     "name": "stdout",
     "output_type": "stream",
     "text": [
      "Data written to the file successfully\n"
     ]
    }
   ],
   "source": [
    "f=open(\"../M5_Inputs/abcd.txt\",'w')\n",
    "f.write(\"Durga\\n\")\n",
    "f.write(\"Software\\n\")\n",
    "f.write(\"Solutions\\n\")\n",
    "print(\"Data written to the file successfully\")\n",
    "f.close()"
   ]
  },
  {
   "cell_type": "code",
   "execution_count": 2,
   "id": "f92f99f3",
   "metadata": {},
   "outputs": [
    {
     "name": "stdout",
     "output_type": "stream",
     "text": [
      "List of lines written to the file successfully\n"
     ]
    }
   ],
   "source": [
    "f=open(\"../M5_Inputs/abcd.txt\",'w')\n",
    "list=[\"sunny\\n\",\"bunny\\n\",\"vinny\\n\",\"chinny\"]\n",
    "f.writelines(list)\n",
    "print(\"List of lines written to the file successfully\")\n",
    "f.close()"
   ]
  },
  {
   "cell_type": "code",
   "execution_count": null,
   "id": "dcad1c7a",
   "metadata": {},
   "outputs": [],
   "source": []
  }
 ],
 "metadata": {
  "kernelspec": {
   "display_name": "Python 3 (ipykernel)",
   "language": "python",
   "name": "python3"
  },
  "language_info": {
   "codemirror_mode": {
    "name": "ipython",
    "version": 3
   },
   "file_extension": ".py",
   "mimetype": "text/x-python",
   "name": "python",
   "nbconvert_exporter": "python",
   "pygments_lexer": "ipython3",
   "version": "3.8.10"
  }
 },
 "nbformat": 4,
 "nbformat_minor": 5
}
