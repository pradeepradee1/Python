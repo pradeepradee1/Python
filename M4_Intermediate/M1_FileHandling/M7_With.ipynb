{
 "cells": [
  {
   "cell_type": "markdown",
   "id": "5f82d9ae",
   "metadata": {},
   "source": [
    "### The with statement can be used while opening a file.\n",
    "### The advantage of with statement is it will take care closing of file,after completing all operations "
   ]
  },
  {
   "cell_type": "code",
   "execution_count": 1,
   "id": "d25024a1",
   "metadata": {},
   "outputs": [
    {
     "name": "stdout",
     "output_type": "stream",
     "text": [
      "Is File Closed:  False\n",
      "Is File Closed:  True\n"
     ]
    }
   ],
   "source": [
    "with open(\"../M5_Inputs/file2.txt\",\"w\") as f:\n",
    "    f.write(\"Durga\\n\")\n",
    "    f.write(\"Software\\n\")\n",
    "    f.write(\"Solutions\\n\")\n",
    "    print(\"Is File Closed: \",f.closed)\n",
    "print(\"Is File Closed: \",f.closed)"
   ]
  },
  {
   "cell_type": "markdown",
   "id": "ebdc837e",
   "metadata": {},
   "source": [
    "### The seek() and tell() methods"
   ]
  },
  {
   "cell_type": "markdown",
   "id": "f362f68a",
   "metadata": {},
   "source": [
    "### tell():\n",
    "### We can use tell() method to return current position of the cursor(file pointer) from beginning of the file"
   ]
  },
  {
   "cell_type": "code",
   "execution_count": 2,
   "id": "1c672443",
   "metadata": {},
   "outputs": [
    {
     "name": "stdout",
     "output_type": "stream",
     "text": [
      "0\n",
      "su\n",
      "2\n",
      "nny\n",
      "5\n"
     ]
    }
   ],
   "source": [
    "f=open(\"../M5_Inputs/abcd.txt\",\"r\")\n",
    "print(f.tell())\n",
    "print(f.read(2))\n",
    "print(f.tell())\n",
    "print(f.read(3))\n",
    "print(f.tell())"
   ]
  },
  {
   "cell_type": "markdown",
   "id": "78499bdf",
   "metadata": {},
   "source": [
    "### seek():\n",
    "### We can use seek() method to move cursor(file pointer) to specified location."
   ]
  },
  {
   "cell_type": "markdown",
   "id": "7263b2ef",
   "metadata": {},
   "source": [
    "### f.seek(offset, fromwhere)"
   ]
  },
  {
   "cell_type": "markdown",
   "id": "a5bc41c9",
   "metadata": {},
   "source": [
    "### The allowed values for second attribute(from where) are\n",
    "### 0---->From beginning of file(default value)\n",
    "### 1---->From current position\n",
    "### 2--->From end of the file"
   ]
  },
  {
   "cell_type": "code",
   "execution_count": 3,
   "id": "ec864786",
   "metadata": {},
   "outputs": [
    {
     "name": "stdout",
     "output_type": "stream",
     "text": [
      "All Students are STUPIDS\n",
      "The Current Cursor Position:  24\n",
      "The Current Cursor Position:  17\n",
      "Data After Modification:\n",
      "All Students are GEMS!!!\n"
     ]
    }
   ],
   "source": [
    "data=\"All Students are STUPIDS\"\n",
    "f=open(\"../M5_Inputs/abc.txt\",\"w\")\n",
    "f.write(data)\n",
    "with open(\"../M5_Inputs/abc.txt\",\"r+\") as f:\n",
    "    text=f.read()\n",
    "    print(text)\n",
    "    print(\"The Current Cursor Position: \",f.tell())\n",
    "    f.seek(17)\n",
    "    print(\"The Current Cursor Position: \",f.tell())\n",
    "    f.write(\"GEMS!!!\")\n",
    "    f.seek(0)\n",
    "    text=f.read()\n",
    "    print(\"Data After Modification:\")\n",
    "    print(text)"
   ]
  },
  {
   "cell_type": "code",
   "execution_count": null,
   "id": "0d2cde47",
   "metadata": {},
   "outputs": [],
   "source": []
  }
 ],
 "metadata": {
  "kernelspec": {
   "display_name": "Python 3 (ipykernel)",
   "language": "python",
   "name": "python3"
  },
  "language_info": {
   "codemirror_mode": {
    "name": "ipython",
    "version": 3
   },
   "file_extension": ".py",
   "mimetype": "text/x-python",
   "name": "python",
   "nbconvert_exporter": "python",
   "pygments_lexer": "ipython3",
   "version": "3.8.10"
  }
 },
 "nbformat": 4,
 "nbformat_minor": 5
}
