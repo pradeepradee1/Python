{
 "cells": [
  {
   "cell_type": "markdown",
   "id": "8fafd25d",
   "metadata": {},
   "source": [
    "### How to check a particular file exists or not?"
   ]
  },
  {
   "cell_type": "code",
   "execution_count": 6,
   "id": "30aba689",
   "metadata": {},
   "outputs": [
    {
     "data": {
      "text/plain": [
       "True"
      ]
     },
     "execution_count": 6,
     "metadata": {},
     "output_type": "execute_result"
    }
   ],
   "source": [
    "import os\n",
    "os.path.isfile(\"../M4_Files/file.txt\")"
   ]
  },
  {
   "cell_type": "code",
   "execution_count": 8,
   "id": "ff7182db",
   "metadata": {},
   "outputs": [],
   "source": [
    "#Q. Write a program to check whether the given file exists or not. If it isavailable then print its content?"
   ]
  },
  {
   "cell_type": "code",
   "execution_count": 9,
   "id": "6ca38c64",
   "metadata": {},
   "outputs": [
    {
     "name": "stdout",
     "output_type": "stream",
     "text": [
      "Enter File Name: file.txt\n",
      "File exists: ../M4_Files/file.txt\n",
      "The content of file is:\n",
      "\n"
     ]
    }
   ],
   "source": [
    "import os,sys\n",
    "fname=input(\"Enter File Name: \")\n",
    "fname='../M4_Files/'+fname\n",
    "if os.path.isfile(fname):\n",
    "    print(\"File exists:\",fname)\n",
    "    f=open(fname,\"r\")\n",
    "else:\n",
    "    print(\"File does not exist:\",fname)\n",
    "    sys.exit(0)\n",
    "print(\"The content of file is:\")\n",
    "data=f.read()\n",
    "print(data)"
   ]
  },
  {
   "cell_type": "markdown",
   "id": "acd88e41",
   "metadata": {},
   "source": [
    "### Note:\n",
    "### sys.exit(0) ===>To exit system without executing rest of the program.\n",
    "### argument represents status code . 0 means normal termination and it is the default value."
   ]
  },
  {
   "cell_type": "code",
   "execution_count": 11,
   "id": "fbafced7",
   "metadata": {},
   "outputs": [],
   "source": [
    "#Q : Program to print the number of lines,words and characters present in the given file?"
   ]
  },
  {
   "cell_type": "code",
   "execution_count": 14,
   "id": "fa3619e7",
   "metadata": {},
   "outputs": [
    {
     "name": "stdout",
     "output_type": "stream",
     "text": [
      "Enter File Name: file.txt\n",
      "File exists: ../M4_Files/file.txt\n",
      "The number of Lines: 0\n",
      "The number of Words: 0\n",
      "The number of Characters: 0\n"
     ]
    }
   ],
   "source": [
    "import os,sys\n",
    "fname=input(\"Enter File Name: \")\n",
    "fname='../M4_Files/'+fname\n",
    "if os.path.isfile(fname):\n",
    "    print(\"File exists:\",fname)\n",
    "    f=open(fname,\"r\")\n",
    "else:\n",
    "    print(\"File does not exist:\",fname)\n",
    "    sys.exit(0)\n",
    "lcount=wcount=ccount=0\n",
    "for line in f:\n",
    "    lcount=lcount+1\n",
    "    ccount=ccount+len(line)\n",
    "    words=line.split()\n",
    "    wcount=wcount+len(words)\n",
    "print(\"The number of Lines:\",lcount)\n",
    "print(\"The number of Words:\",wcount)\n",
    "print(\"The number of Characters:\",ccount)"
   ]
  },
  {
   "cell_type": "code",
   "execution_count": null,
   "id": "6f828706",
   "metadata": {},
   "outputs": [],
   "source": []
  }
 ],
 "metadata": {
  "kernelspec": {
   "display_name": "Python 3 (ipykernel)",
   "language": "python",
   "name": "python3"
  },
  "language_info": {
   "codemirror_mode": {
    "name": "ipython",
    "version": 3
   },
   "file_extension": ".py",
   "mimetype": "text/x-python",
   "name": "python",
   "nbconvert_exporter": "python",
   "pygments_lexer": "ipython3",
   "version": "3.8.10"
  }
 },
 "nbformat": 4,
 "nbformat_minor": 5
}
