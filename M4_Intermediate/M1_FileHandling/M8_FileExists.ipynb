{
 "cells": [
  {
   "cell_type": "markdown",
   "id": "8fafd25d",
   "metadata": {},
   "source": [
    "### How to check a particular file exists or not?"
   ]
  },
  {
   "cell_type": "code",
   "execution_count": 8,
   "id": "30aba689",
   "metadata": {},
   "outputs": [
    {
     "data": {
      "text/plain": [
       "True"
      ]
     },
     "execution_count": 8,
     "metadata": {},
     "output_type": "execute_result"
    }
   ],
   "source": [
    "import os\n",
    "os.path.isfile(\"../M5_Inputs/file.txt\")\n",
    "\n",
    "#Q. Write a program to check whether the given file exists or not. If it isavailable then print its content?"
   ]
  },
  {
   "cell_type": "code",
   "execution_count": 10,
   "id": "6ca38c64",
   "metadata": {},
   "outputs": [
    {
     "name": "stdout",
     "output_type": "stream",
     "text": [
      "Enter File Name: file.txt\n",
      "File exists: ../M5_Inputs/file.txt\n",
      "The content of file is:\n",
      "\n"
     ]
    }
   ],
   "source": [
    "import os,sys\n",
    "fname=input(\"Enter File Name: \")\n",
    "fname='../M5_Inputs/'+fname\n",
    "if os.path.isfile(fname):\n",
    "    print(\"File exists:\",fname)\n",
    "    f=open(fname,\"r\")\n",
    "else:\n",
    "    print(\"File does not exist:\",fname)\n",
    "    sys.exit(0)\n",
    "print(\"The content of file is:\")\n",
    "data=f.read()\n",
    "print(data)"
   ]
  },
  {
   "cell_type": "markdown",
   "id": "acd88e41",
   "metadata": {},
   "source": [
    "### Note:\n",
    "### sys.exit(0) = To exit system without executing rest of the program \n",
    "### 0 means normal termination and it is the default value."
   ]
  },
  {
   "cell_type": "code",
   "execution_count": null,
   "id": "6f828706",
   "metadata": {},
   "outputs": [],
   "source": []
  }
 ],
 "metadata": {
  "kernelspec": {
   "display_name": "Python 3 (ipykernel)",
   "language": "python",
   "name": "python3"
  },
  "language_info": {
   "codemirror_mode": {
    "name": "ipython",
    "version": 3
   },
   "file_extension": ".py",
   "mimetype": "text/x-python",
   "name": "python",
   "nbconvert_exporter": "python",
   "pygments_lexer": "ipython3",
   "version": "3.8.10"
  }
 },
 "nbformat": 4,
 "nbformat_minor": 5
}
