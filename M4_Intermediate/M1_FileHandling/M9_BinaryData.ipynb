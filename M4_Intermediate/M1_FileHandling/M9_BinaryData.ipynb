{
 "cells": [
  {
   "cell_type": "code",
   "execution_count": 7,
   "id": "5775cade",
   "metadata": {},
   "outputs": [
    {
     "name": "stdout",
     "output_type": "stream",
     "text": [
      "New Image is available with the name: newpic.jpg\n"
     ]
    }
   ],
   "source": [
    "f1=open(\"../M4_Files/zuci.jpg\",\"rb\")\n",
    "f2=open(\"../M4_Files/zuci1.jpg\",\"rb\")\n",
    "bytes=f1.read()\n",
    "# print(bytes)\n",
    "# f2.write(bytes)\n",
    "print(\"New Image is available with the name: newpic.jpg\")"
   ]
  },
  {
   "cell_type": "code",
   "execution_count": null,
   "id": "8f4827fd",
   "metadata": {},
   "outputs": [],
   "source": []
  }
 ],
 "metadata": {
  "kernelspec": {
   "display_name": "Python 3 (ipykernel)",
   "language": "python",
   "name": "python3"
  },
  "language_info": {
   "codemirror_mode": {
    "name": "ipython",
    "version": 3
   },
   "file_extension": ".py",
   "mimetype": "text/x-python",
   "name": "python",
   "nbconvert_exporter": "python",
   "pygments_lexer": "ipython3",
   "version": "3.8.10"
  }
 },
 "nbformat": 4,
 "nbformat_minor": 5
}
