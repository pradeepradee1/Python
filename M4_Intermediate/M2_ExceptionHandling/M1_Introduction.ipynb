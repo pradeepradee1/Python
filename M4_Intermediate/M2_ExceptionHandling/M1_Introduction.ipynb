{
 "cells": [
  {
   "cell_type": "markdown",
   "id": "a4453b4e",
   "metadata": {},
   "source": [
    "### Types Of Errors :\n",
    "### 1. Syntax Errors\n",
    "### 2. Runtime Errors"
   ]
  },
  {
   "cell_type": "markdown",
   "id": "46c506b6",
   "metadata": {},
   "source": [
    "### 1. Syntax Errors:\n",
    "### The errors which occurs because of invalid syntax are called syntax errors."
   ]
  },
  {
   "cell_type": "markdown",
   "id": "6e03ba91",
   "metadata": {},
   "source": [
    "### Note :  Programmer is responsible to correct these syntax errors. Once all syntax errors are corrected then only program execution will be started."
   ]
  },
  {
   "cell_type": "code",
   "execution_count": 1,
   "id": "fd5c7e80",
   "metadata": {},
   "outputs": [
    {
     "ename": "SyntaxError",
     "evalue": "invalid syntax (3381255177.py, line 2)",
     "output_type": "error",
     "traceback": [
      "\u001b[0;36m  Input \u001b[0;32mIn [1]\u001b[0;36m\u001b[0m\n\u001b[0;31m    if x==10\u001b[0m\n\u001b[0m            ^\u001b[0m\n\u001b[0;31mSyntaxError\u001b[0m\u001b[0;31m:\u001b[0m invalid syntax\n"
     ]
    }
   ],
   "source": [
    "x=10\n",
    "if x==10\n",
    "print(\"Hello\")"
   ]
  },
  {
   "cell_type": "markdown",
   "id": "d7ca03c6",
   "metadata": {},
   "source": [
    "### 2. Runtime Errors:"
   ]
  },
  {
   "cell_type": "markdown",
   "id": "901f3775",
   "metadata": {},
   "source": [
    "### Also known as exceptions.While executing the program if something goes wrong because of end user input orprogramming logic or memory problems etc then we will get Runtime Errors."
   ]
  },
  {
   "cell_type": "markdown",
   "id": "127259da",
   "metadata": {},
   "source": [
    "### Note: Exception Handling concept applicable for Runtime Errors but not for syntax errors"
   ]
  },
  {
   "cell_type": "code",
   "execution_count": 2,
   "id": "80752a66",
   "metadata": {},
   "outputs": [
    {
     "ename": "ZeroDivisionError",
     "evalue": "division by zero",
     "output_type": "error",
     "traceback": [
      "\u001b[0;31m---------------------------------------------------------------------------\u001b[0m",
      "\u001b[0;31mZeroDivisionError\u001b[0m                         Traceback (most recent call last)",
      "Input \u001b[0;32mIn [2]\u001b[0m, in \u001b[0;36m<module>\u001b[0;34m\u001b[0m\n\u001b[0;32m----> 1\u001b[0m \u001b[38;5;28mprint\u001b[39m(\u001b[38;5;241;43m10\u001b[39;49m\u001b[38;5;241;43m/\u001b[39;49m\u001b[38;5;241;43m0\u001b[39;49m)\n",
      "\u001b[0;31mZeroDivisionError\u001b[0m: division by zero"
     ]
    }
   ],
   "source": [
    "print(10/0)"
   ]
  },
  {
   "cell_type": "markdown",
   "id": "7e1d9aab",
   "metadata": {},
   "source": [
    "# Types Of exception \n",
    "## 1) Pre-Defined Exceptions\n",
    "## 2) User-Defined Exceptions"
   ]
  },
  {
   "cell_type": "code",
   "execution_count": null,
   "id": "f4e41270",
   "metadata": {},
   "outputs": [],
   "source": []
  }
 ],
 "metadata": {
  "kernelspec": {
   "display_name": "Python 3 (ipykernel)",
   "language": "python",
   "name": "python3"
  },
  "language_info": {
   "codemirror_mode": {
    "name": "ipython",
    "version": 3
   },
   "file_extension": ".py",
   "mimetype": "text/x-python",
   "name": "python",
   "nbconvert_exporter": "python",
   "pygments_lexer": "ipython3",
   "version": "3.8.10"
  }
 },
 "nbformat": 4,
 "nbformat_minor": 5
}
