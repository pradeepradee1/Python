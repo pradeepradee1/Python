{
 "cells": [
  {
   "cell_type": "code",
   "execution_count": 1,
   "id": "1ea32838",
   "metadata": {},
   "outputs": [
    {
     "name": "stdout",
     "output_type": "stream",
     "text": [
      "stmt-1\n"
     ]
    },
    {
     "ename": "ZeroDivisionError",
     "evalue": "division by zero",
     "output_type": "error",
     "traceback": [
      "\u001b[0;31m---------------------------------------------------------------------------\u001b[0m",
      "\u001b[0;31mZeroDivisionError\u001b[0m                         Traceback (most recent call last)",
      "Input \u001b[0;32mIn [1]\u001b[0m, in \u001b[0;36m<module>\u001b[0;34m\u001b[0m\n\u001b[1;32m      1\u001b[0m \u001b[38;5;66;03m#without try-except:\u001b[39;00m\n\u001b[1;32m      2\u001b[0m \u001b[38;5;28mprint\u001b[39m(\u001b[38;5;124m\"\u001b[39m\u001b[38;5;124mstmt-1\u001b[39m\u001b[38;5;124m\"\u001b[39m)\n\u001b[0;32m----> 3\u001b[0m \u001b[38;5;28mprint\u001b[39m(\u001b[38;5;241;43m10\u001b[39;49m\u001b[38;5;241;43m/\u001b[39;49m\u001b[38;5;241;43m0\u001b[39;49m)\n\u001b[1;32m      4\u001b[0m \u001b[38;5;28mprint\u001b[39m(\u001b[38;5;124m\"\u001b[39m\u001b[38;5;124mstmt-3\u001b[39m\u001b[38;5;124m\"\u001b[39m)\n",
      "\u001b[0;31mZeroDivisionError\u001b[0m: division by zero"
     ]
    }
   ],
   "source": [
    "#without try-except:\n",
    "print(\"stmt-1\")\n",
    "print(10/0)\n",
    "print(\"stmt-3\")"
   ]
  },
  {
   "cell_type": "code",
   "execution_count": 2,
   "id": "7b67888c",
   "metadata": {},
   "outputs": [
    {
     "name": "stdout",
     "output_type": "stream",
     "text": [
      "stmt-1\n",
      "5.0\n",
      "stmt-3\n"
     ]
    }
   ],
   "source": [
    "#with try-except:\n",
    "print(\"stmt-1\")\n",
    "try:\n",
    "    print(10/0)\n",
    "except ZeroDivisionError:\n",
    "    print(10/2)\n",
    "print(\"stmt-3\")"
   ]
  },
  {
   "cell_type": "code",
   "execution_count": 3,
   "id": "238d2a15",
   "metadata": {},
   "outputs": [
    {
     "name": "stdout",
     "output_type": "stream",
     "text": [
      "exception raised and its description is: division by zero\n"
     ]
    }
   ],
   "source": [
    "#Exception With Message\n",
    "try:\n",
    "    print(10/0)\n",
    "except ZeroDivisionError as msg:\n",
    "    print(\"exception raised and its description is:\",msg)"
   ]
  },
  {
   "cell_type": "code",
   "execution_count": 4,
   "id": "381f7c1e",
   "metadata": {},
   "outputs": [
    {
     "name": "stdout",
     "output_type": "stream",
     "text": [
      "Can't Divide with Zero\n"
     ]
    }
   ],
   "source": [
    "#Multiple Exception\n",
    "try:\n",
    "    x=10\n",
    "    y=0\n",
    "    print(x/y)\n",
    "except ZeroDivisionError :\n",
    "    print(\"Can't Divide with Zero\")\n",
    "except ValueError:\n",
    "    print(\"please provide int value only\")"
   ]
  },
  {
   "cell_type": "code",
   "execution_count": 5,
   "id": "8af7b193",
   "metadata": {},
   "outputs": [
    {
     "name": "stdout",
     "output_type": "stream",
     "text": [
      "Plz Provide valid numbers only and problem is:  division by zero\n"
     ]
    }
   ],
   "source": [
    "#Multiple Exception\n",
    "try:\n",
    "    x=10\n",
    "    y=0\n",
    "    print(x/y)\n",
    "except (ZeroDivisionError,ValueError) as msg:\n",
    "    print(\"Plz Provide valid numbers only and problem is: \",msg)"
   ]
  },
  {
   "cell_type": "code",
   "execution_count": 6,
   "id": "f77303be",
   "metadata": {},
   "outputs": [
    {
     "name": "stdout",
     "output_type": "stream",
     "text": [
      "Plz Provide valid numbers only and problem is:\n"
     ]
    }
   ],
   "source": [
    "#Default except block\n",
    "try:\n",
    "    x=10\n",
    "    y=0\n",
    "    print(x/y)\n",
    "except (ValueError) as msg:\n",
    "    print(\"Plz Provide valid numbers only and problem is: \",msg)\n",
    "except:\n",
    "    print(\"Plz Provide valid numbers only and problem is:\")\n",
    "#Note : \n",
    "#If try with multiple except blocks available then default except block should be last,\n",
    "# otherwise we will get SyntaxError."
   ]
  },
  {
   "cell_type": "code",
   "execution_count": 7,
   "id": "4901c1c6",
   "metadata": {},
   "outputs": [
    {
     "data": {
      "text/plain": [
       "'\\ntry:\\n    print(10/0)\\nexcept:\\n    print(\"Default Except\")\\nexcept ZeroDivisionError:\\n    print(\"ZeroDivisionError\")\\n'"
      ]
     },
     "execution_count": 7,
     "metadata": {},
     "output_type": "execute_result"
    }
   ],
   "source": [
    "'''\n",
    "try:\n",
    "    print(10/0)\n",
    "except:\n",
    "    print(\"Default Except\")\n",
    "except ZeroDivisionError:\n",
    "    print(\"ZeroDivisionError\")\n",
    "'''    \n",
    "#Note : SyntaxError: default 'except:' must be last"
   ]
  },
  {
   "cell_type": "code",
   "execution_count": null,
   "id": "cc974bfc",
   "metadata": {},
   "outputs": [],
   "source": []
  }
 ],
 "metadata": {
  "kernelspec": {
   "display_name": "Python 3 (ipykernel)",
   "language": "python",
   "name": "python3"
  },
  "language_info": {
   "codemirror_mode": {
    "name": "ipython",
    "version": 3
   },
   "file_extension": ".py",
   "mimetype": "text/x-python",
   "name": "python",
   "nbconvert_exporter": "python",
   "pygments_lexer": "ipython3",
   "version": "3.8.10"
  }
 },
 "nbformat": 4,
 "nbformat_minor": 5
}
