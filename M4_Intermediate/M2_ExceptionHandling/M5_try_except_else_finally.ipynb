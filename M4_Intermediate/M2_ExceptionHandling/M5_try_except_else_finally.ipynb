{
 "cells": [
  {
   "cell_type": "code",
   "execution_count": 1,
   "id": "4e277246",
   "metadata": {},
   "outputs": [],
   "source": [
    "#else block will be executed if and only if there are no exceptions inside try block."
   ]
  },
  {
   "cell_type": "code",
   "execution_count": 1,
   "id": "04741ab6",
   "metadata": {},
   "outputs": [],
   "source": [
    "# try:\n",
    "    #Encloses the code that might raise an exception\n",
    "#except:\n",
    "    #handles specific exceptions raised within the try block\n",
    "#else:\n",
    "    #Executes if no exceptions are raised in the try block\n",
    "#finally:\n",
    "    #will be executed whether exception raised or not raised and handled or not handled"
   ]
  },
  {
   "cell_type": "code",
   "execution_count": 3,
   "id": "40432980",
   "metadata": {},
   "outputs": [
    {
     "name": "stdout",
     "output_type": "stream",
     "text": [
      "try\n",
      "except\n",
      "finally\n"
     ]
    }
   ],
   "source": [
    "try:\n",
    "    print(\"try\")\n",
    "    print(10/0)\n",
    "except:\n",
    "    print(\"except\")\n",
    "else:\n",
    "    print(\"else\")\n",
    "finally:\n",
    "    print(\"finally\")"
   ]
  },
  {
   "cell_type": "code",
   "execution_count": 4,
   "id": "dec57779",
   "metadata": {},
   "outputs": [
    {
     "name": "stdout",
     "output_type": "stream",
     "text": [
      "try\n",
      "else\n",
      "finally\n"
     ]
    }
   ],
   "source": [
    "try:\n",
    "    print(\"try\")\n",
    "#     print(10/0)\n",
    "except:\n",
    "    print(\"except\")\n",
    "else:\n",
    "    print(\"else\")\n",
    "finally:\n",
    "    print(\"finally\")"
   ]
  },
  {
   "cell_type": "code",
   "execution_count": null,
   "id": "5b07680e",
   "metadata": {},
   "outputs": [],
   "source": []
  }
 ],
 "metadata": {
  "kernelspec": {
   "display_name": "Python 3",
   "language": "python",
   "name": "python3"
  },
  "language_info": {
   "codemirror_mode": {
    "name": "ipython",
    "version": 3
   },
   "file_extension": ".py",
   "mimetype": "text/x-python",
   "name": "python",
   "nbconvert_exporter": "python",
   "pygments_lexer": "ipython3",
   "version": "3.10.11"
  }
 },
 "nbformat": 4,
 "nbformat_minor": 5
}
