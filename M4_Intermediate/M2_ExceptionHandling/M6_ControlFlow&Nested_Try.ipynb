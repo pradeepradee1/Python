{
 "cells": [
  {
   "cell_type": "code",
   "execution_count": 4,
   "id": "c880cdb3",
   "metadata": {},
   "outputs": [],
   "source": [
    "#try:\n",
    "    #stmt-1\n",
    "    #stmt-2\n",
    "    #stmt-3\n",
    "#except:\n",
    "    #stmt-4\n",
    "#finally:\n",
    "    #stmt-5\n",
    "#stmt6"
   ]
  },
  {
   "cell_type": "code",
   "execution_count": 5,
   "id": "38ac055d",
   "metadata": {},
   "outputs": [],
   "source": [
    "#Case-1: If there is no exception\n",
    "#1,2,3,5,6 Normal Termination\n",
    "\n",
    "#Case-2: If an exception raised at stmt2 and the corresponding except block matched 1,4,5,6 Normal Termination\n",
    "\n",
    "#Case-3: If an exception raised at stmt2 but the corresponding except block not matched 1,5 Abnormal Termination\n",
    "\n",
    "#Case-4: If an exception raised at stmt4 then it is always abnormal termination but before that finally block \n",
    "#will be executed.\n",
    "\n",
    "#Case-5: If an exception raised at stmt-5 or at stmt-6 then it is always abnormal termination"
   ]
  },
  {
   "cell_type": "code",
   "execution_count": 8,
   "id": "667b8d47",
   "metadata": {},
   "outputs": [
    {
     "name": "stdout",
     "output_type": "stream",
     "text": [
      "outer try block\n",
      "Inner try block\n",
      "Inner except block\n",
      "Inner finally block\n",
      "outer finally block\n"
     ]
    }
   ],
   "source": [
    "#Nested Exceptions\n",
    "try:\n",
    "    print(\"outer try block\")\n",
    "    try:\n",
    "        print(\"Inner try block\")\n",
    "        print(10/0)\n",
    "    except ZeroDivisionError:\n",
    "        print(\"Inner except block\")\n",
    "    finally:\n",
    "        print(\"Inner finally block\")\n",
    "except:\n",
    "    print(\"outer except block\")\n",
    "finally:\n",
    "    print(\"outer finally block\")"
   ]
  },
  {
   "cell_type": "code",
   "execution_count": null,
   "id": "a8fab487",
   "metadata": {},
   "outputs": [],
   "source": []
  }
 ],
 "metadata": {
  "kernelspec": {
   "display_name": "Python 3 (ipykernel)",
   "language": "python",
   "name": "python3"
  },
  "language_info": {
   "codemirror_mode": {
    "name": "ipython",
    "version": 3
   },
   "file_extension": ".py",
   "mimetype": "text/x-python",
   "name": "python",
   "nbconvert_exporter": "python",
   "pygments_lexer": "ipython3",
   "version": "3.8.10"
  }
 },
 "nbformat": 4,
 "nbformat_minor": 5
}
