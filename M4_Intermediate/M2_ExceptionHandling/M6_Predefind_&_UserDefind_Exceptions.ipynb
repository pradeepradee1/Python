{
 "cells": [
  {
   "cell_type": "markdown",
   "id": "6b8456ef",
   "metadata": {},
   "source": [
    "### In Python there are 2 types of exceptions are possible.\n",
    "### 1. Predefined Exceptions\n",
    "### 2. User Definded Exceptions"
   ]
  },
  {
   "cell_type": "markdown",
   "id": "fc92e751",
   "metadata": {},
   "source": [
    "### 1. Predefined Exceptions"
   ]
  },
  {
   "cell_type": "markdown",
   "id": "934cb0e7",
   "metadata": {},
   "source": [
    "### Also known as in-built exceptions\n",
    "### The exceptions which are raised automatically by Python virtual machine whenver a particular event occurs, are called pre defined exceptions.\n",
    "### Eg 1: Whenever we are trying to perform Division by zero, automatically Python will raise ZeroDivisionError.\n",
    "### print(10/0)\n",
    "### Eg 2: Whenever we are trying to convert input value to int type and if input value is not int value then Python will raise ValueError automatically\n",
    "### x=int(\"ten\")===>ValueError"
   ]
  },
  {
   "cell_type": "code",
   "execution_count": 1,
   "id": "6de88950",
   "metadata": {},
   "outputs": [
    {
     "name": "stdout",
     "output_type": "stream",
     "text": [
      "try\n",
      "except\n"
     ]
    }
   ],
   "source": [
    "try:\n",
    "    print(\"try\")\n",
    "    print(10/0)\n",
    "except:\n",
    "    print(\"except\")"
   ]
  },
  {
   "cell_type": "markdown",
   "id": "436effff",
   "metadata": {},
   "source": [
    "### 2. User Definded Exceptions"
   ]
  },
  {
   "cell_type": "markdown",
   "id": "50dcfcd4",
   "metadata": {},
   "source": [
    "### Some time we have to define and raise exceptions explicitly to indicate that something goes wrong ,such type of exceptions are called User Defined Exceptions or Customized Exceptions\n",
    "### Programmer is responsible to define these exceptions and Python not having any idea about these. Hence we have to raise explicitly based on our requirement by using \"raise\"keyword."
   ]
  },
  {
   "cell_type": "markdown",
   "id": "edcd5b4d",
   "metadata": {},
   "source": [
    "### Eg:\n",
    "### InSufficientFundsException\n",
    "### InvalidInputException\n",
    "### TooYoungException\n",
    "### TooOldException"
   ]
  },
  {
   "cell_type": "markdown",
   "id": "15a2836f",
   "metadata": {},
   "source": [
    "### How to Define and Raise Customized Exceptions:"
   ]
  },
  {
   "cell_type": "code",
   "execution_count": 2,
   "id": "e85ed478",
   "metadata": {},
   "outputs": [],
   "source": [
    "class TooYoungException(Exception):\n",
    "    def __init__(self,arg):\n",
    "        self.msg=arg"
   ]
  },
  {
   "cell_type": "code",
   "execution_count": 3,
   "id": "fb57d50c",
   "metadata": {},
   "outputs": [],
   "source": [
    "class TooOldException(Exception):\n",
    "    def __init__(self,arg):\n",
    "        self.msg=arg"
   ]
  },
  {
   "cell_type": "code",
   "execution_count": 4,
   "id": "167f86a5",
   "metadata": {},
   "outputs": [
    {
     "name": "stdout",
     "output_type": "stream",
     "text": [
      "Enter Age:15\n"
     ]
    },
    {
     "ename": "TooOldException",
     "evalue": "Your age already crossed marriage age...no chance of getting marriage",
     "output_type": "error",
     "traceback": [
      "\u001b[0;31m---------------------------------------------------------------------------\u001b[0m",
      "\u001b[0;31mTooOldException\u001b[0m                           Traceback (most recent call last)",
      "Input \u001b[0;32mIn [4]\u001b[0m, in \u001b[0;36m<module>\u001b[0;34m\u001b[0m\n\u001b[1;32m      3\u001b[0m     \u001b[38;5;28;01mraise\u001b[39;00m TooYoungException(\u001b[38;5;124m\"\u001b[39m\u001b[38;5;124mPlz wait some more time you will get best match soon!!!\u001b[39m\u001b[38;5;124m\"\u001b[39m)\n\u001b[1;32m      4\u001b[0m \u001b[38;5;28;01melif\u001b[39;00m age\u001b[38;5;241m<\u001b[39m\u001b[38;5;241m18\u001b[39m:\n\u001b[0;32m----> 5\u001b[0m     \u001b[38;5;28;01mraise\u001b[39;00m TooOldException(\u001b[38;5;124m\"\u001b[39m\u001b[38;5;124mYour age already crossed marriage age...no chance of getting marriage\u001b[39m\u001b[38;5;124m\"\u001b[39m)\n\u001b[1;32m      6\u001b[0m \u001b[38;5;28;01melse\u001b[39;00m:\n\u001b[1;32m      7\u001b[0m     \u001b[38;5;28mprint\u001b[39m(\u001b[38;5;124m\"\u001b[39m\u001b[38;5;124mYou will get match details soon by email!!!\u001b[39m\u001b[38;5;124m\"\u001b[39m)\n",
      "\u001b[0;31mTooOldException\u001b[0m: Your age already crossed marriage age...no chance of getting marriage"
     ]
    }
   ],
   "source": [
    "age=int(input(\"Enter Age:\"))\n",
    "if age>60:\n",
    "    raise TooYoungException(\"Plz wait some more time you will get best match soon!!!\")\n",
    "elif age<18:\n",
    "    raise TooOldException(\"Your age already crossed marriage age...no chance of getting marriage\")\n",
    "else:\n",
    "    print(\"You will get match details soon by email!!!\")"
   ]
  },
  {
   "cell_type": "markdown",
   "id": "1d1e9e3e",
   "metadata": {},
   "source": [
    "### Note:\n",
    "### raise keyword is best suitable for customized exceptions but not for pre defined exceptions"
   ]
  },
  {
   "cell_type": "code",
   "execution_count": null,
   "id": "5bcc1809",
   "metadata": {},
   "outputs": [],
   "source": []
  }
 ],
 "metadata": {
  "kernelspec": {
   "display_name": "Python 3 (ipykernel)",
   "language": "python",
   "name": "python3"
  },
  "language_info": {
   "codemirror_mode": {
    "name": "ipython",
    "version": 3
   },
   "file_extension": ".py",
   "mimetype": "text/x-python",
   "name": "python",
   "nbconvert_exporter": "python",
   "pygments_lexer": "ipython3",
   "version": "3.8.10"
  }
 },
 "nbformat": 4,
 "nbformat_minor": 5
}
