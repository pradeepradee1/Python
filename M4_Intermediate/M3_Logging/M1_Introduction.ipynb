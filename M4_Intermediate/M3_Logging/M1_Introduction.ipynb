{
 "cells": [
  {
   "cell_type": "markdown",
   "id": "a59c8b90",
   "metadata": {},
   "source": [
    "### Logging the Exceptions:\n",
    "\n",
    "#### It is highly recommended to store complete application flow and exceptions informationto a file. This process is called logging."
   ]
  },
  {
   "cell_type": "markdown",
   "id": "e78c1ead",
   "metadata": {},
   "source": [
    "### The main advantages of logging are:\n",
    "#### 1. We can use log files while performing debugging\n",
    "#### 2. We can provide statistics like number of requests per day etc To implement logging, Python provides one inbuilt module logging"
   ]
  },
  {
   "cell_type": "markdown",
   "id": "0713c9a3",
   "metadata": {},
   "source": [
    "### logging levels:"
   ]
  },
  {
   "cell_type": "markdown",
   "id": "3badcc6f",
   "metadata": {},
   "source": [
    "#### 1. CRITICAL==>50==>Represents a very serious problem that needs high attention\n",
    "#### 2. ERROR===>40===>Represents a serious error\n",
    "#### 3. WARNING==>30==>Represents a warning message, some caution needed. It is alert to the programmer\n",
    "#### 4. INFO===>20===>Represents a message with some important information\n",
    "#### 5. DEBUG===>10==>Represents a message with debugging information\n",
    "#### 6. NOTSET==>0==>Rrepresents that the level is not set"
   ]
  },
  {
   "cell_type": "markdown",
   "id": "ec3a8bf4",
   "metadata": {},
   "source": [
    "### By default while executing Python program only WARNING and higher level messages will be displayed."
   ]
  },
  {
   "cell_type": "code",
   "execution_count": null,
   "id": "c49520bf",
   "metadata": {},
   "outputs": [],
   "source": []
  }
 ],
 "metadata": {
  "kernelspec": {
   "display_name": "Python 3 (ipykernel)",
   "language": "python",
   "name": "python3"
  },
  "language_info": {
   "codemirror_mode": {
    "name": "ipython",
    "version": 3
   },
   "file_extension": ".py",
   "mimetype": "text/x-python",
   "name": "python",
   "nbconvert_exporter": "python",
   "pygments_lexer": "ipython3",
   "version": "3.8.10"
  }
 },
 "nbformat": 4,
 "nbformat_minor": 5
}
