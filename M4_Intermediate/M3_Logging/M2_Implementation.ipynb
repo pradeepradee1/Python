{
 "cells": [
  {
   "cell_type": "code",
   "execution_count": 1,
   "id": "7c32bc8f",
   "metadata": {},
   "outputs": [
    {
     "name": "stdout",
     "output_type": "stream",
     "text": [
      "Logging Module Demo\n"
     ]
    }
   ],
   "source": [
    "import logging\n",
    "logging.basicConfig(filename='../M5_Inputs/log.txt',level=logging.WARNING)\n",
    "print(\"Logging Module Demo\")\n",
    "logging.debug(\"This is debug message\")\n",
    "logging.info(\"This is info message\")\n",
    "logging.warning(\"This is warning message\")\n",
    "logging.error(\"This is error message\")\n",
    "logging.critical(\"This is critical message\")"
   ]
  },
  {
   "cell_type": "markdown",
   "id": "6f297e99",
   "metadata": {},
   "source": [
    "### Note:\n",
    "#### In the above program only WARNING and higher level messages will be written to log file. If we set level as DEBUG then all messages will be written to log file."
   ]
  },
  {
   "cell_type": "code",
   "execution_count": 2,
   "id": "57bfcb8d",
   "metadata": {},
   "outputs": [
    {
     "name": "stdout",
     "output_type": "stream",
     "text": [
      "Logging Module Demo\n"
     ]
    }
   ],
   "source": [
    "import logging\n",
    "logging.basicConfig(filename='../M5_Inputs/log.txt',level=logging.DEBUG)\n",
    "print(\"Logging Module Demo\")\n",
    "logging.debug(\"This is debug message\")\n",
    "logging.info(\"This is info message\")\n",
    "logging.warning(\"This is warning message\")\n",
    "logging.error(\"This is error message\")\n",
    "logging.critical(\"This is critical message\")"
   ]
  },
  {
   "cell_type": "markdown",
   "id": "5bc032a0",
   "metadata": {},
   "source": [
    "#### Note: We can format log messages to include date and time, ip address of the client etc . at advanced level."
   ]
  },
  {
   "cell_type": "code",
   "execution_count": 3,
   "id": "9a082477",
   "metadata": {},
   "outputs": [
    {
     "name": "stdout",
     "output_type": "stream",
     "text": [
      "cannot divide with zero\n"
     ]
    }
   ],
   "source": [
    "#Q. Python Program to write exception information to the log file\n",
    "import logging\n",
    "logging.basicConfig(filename='../M5_Inputs/mylog.txt',level=logging.INFO)\n",
    "logging.info(\"A New request Came:\")\n",
    "try:\n",
    "    x=10\n",
    "    y=0\n",
    "    print(x/y)\n",
    "except ZeroDivisionError as msg:\n",
    "    print(\"cannot divide with zero\")\n",
    "    logging.exception(msg)\n",
    "except ValueError as msg:\n",
    "    print(\"Enter only int values\")\n",
    "    logging.exception(msg)\n",
    "    logging.info(\"Request Processing Completed\")"
   ]
  },
  {
   "cell_type": "code",
   "execution_count": null,
   "id": "190f3b6c",
   "metadata": {},
   "outputs": [],
   "source": []
  }
 ],
 "metadata": {
  "kernelspec": {
   "display_name": "Python 3 (ipykernel)",
   "language": "python",
   "name": "python3"
  },
  "language_info": {
   "codemirror_mode": {
    "name": "ipython",
    "version": 3
   },
   "file_extension": ".py",
   "mimetype": "text/x-python",
   "name": "python",
   "nbconvert_exporter": "python",
   "pygments_lexer": "ipython3",
   "version": "3.8.10"
  }
 },
 "nbformat": 4,
 "nbformat_minor": 5
}
