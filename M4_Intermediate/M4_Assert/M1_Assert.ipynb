{
 "cells": [
  {
   "cell_type": "markdown",
   "id": "1af3cc5b",
   "metadata": {},
   "source": [
    "### assert:\n",
    "### Debugging Python Program by using assert keyword to avoid the print() functions:\n",
    "#### The process of identifying and fixing the bug is called debugging.\n",
    "## It will using in unit testing\n",
    "#### Hence assertions concept is applicable only for dev and test environments but not for production environment.\n",
    "\n",
    "### Types of assert statements:\n",
    "### There are 2 types of assert statements\n",
    "#### 1. Simple Version\n",
    "#### 2. Augmented Version"
   ]
  },
  {
   "cell_type": "markdown",
   "id": "91b1b0ba",
   "metadata": {},
   "source": [
    "### 1. Simple Version:\n",
    "#### assert conditional_expression\n",
    "### 2. Augmented Version:\n",
    "#### assert conditional_expression,message"
   ]
  },
  {
   "cell_type": "code",
   "execution_count": 1,
   "id": "45d8fcec",
   "metadata": {},
   "outputs": [
    {
     "name": "stdout",
     "output_type": "stream",
     "text": [
      "4\n",
      "9\n",
      "16\n"
     ]
    }
   ],
   "source": [
    "def squareIt(x):\n",
    "    return x*x\n",
    "assert squareIt(2)==4,\"The square of 2 should be 4\"     \n",
    "assert squareIt(3)==9,\"The square of 3 should be 9\"     \n",
    "assert squareIt(4)==16,\"The square of 4 should be 16\"   \n",
    "print(squareIt(2))\n",
    "print(squareIt(3))\n",
    "print(squareIt(4))"
   ]
  },
  {
   "cell_type": "code",
   "execution_count": 2,
   "id": "0e7373c5",
   "metadata": {},
   "outputs": [
    {
     "ename": "AssertionError",
     "evalue": "The square of 3 should be 9",
     "output_type": "error",
     "traceback": [
      "\u001b[0;31m---------------------------------------------------------------------------\u001b[0m",
      "\u001b[0;31mAssertionError\u001b[0m                            Traceback (most recent call last)",
      "Input \u001b[0;32mIn [2]\u001b[0m, in \u001b[0;36m<module>\u001b[0;34m\u001b[0m\n\u001b[1;32m      2\u001b[0m     \u001b[38;5;28;01mreturn\u001b[39;00m x\u001b[38;5;241m*\u001b[39m\u001b[38;5;241m*\u001b[39mx\n\u001b[1;32m      3\u001b[0m \u001b[38;5;28;01massert\u001b[39;00m squareIt(\u001b[38;5;241m2\u001b[39m)\u001b[38;5;241m==\u001b[39m\u001b[38;5;241m4\u001b[39m,\u001b[38;5;124m\"\u001b[39m\u001b[38;5;124mThe square of 2 should be 4\u001b[39m\u001b[38;5;124m\"\u001b[39m\n\u001b[0;32m----> 4\u001b[0m \u001b[38;5;28;01massert\u001b[39;00m squareIt(\u001b[38;5;241m3\u001b[39m)\u001b[38;5;241m==\u001b[39m\u001b[38;5;241m9\u001b[39m,\u001b[38;5;124m\"\u001b[39m\u001b[38;5;124mThe square of 3 should be 9\u001b[39m\u001b[38;5;124m\"\u001b[39m\n\u001b[1;32m      5\u001b[0m \u001b[38;5;28;01massert\u001b[39;00m squareIt(\u001b[38;5;241m4\u001b[39m)\u001b[38;5;241m==\u001b[39m\u001b[38;5;241m16\u001b[39m,\u001b[38;5;124m\"\u001b[39m\u001b[38;5;124mThe square of 4 should be 16\u001b[39m\u001b[38;5;124m\"\u001b[39m\n\u001b[1;32m      6\u001b[0m \u001b[38;5;28mprint\u001b[39m(squareIt(\u001b[38;5;241m2\u001b[39m))\n",
      "\u001b[0;31mAssertionError\u001b[0m: The square of 3 should be 9"
     ]
    }
   ],
   "source": [
    "def squareIt(x):\n",
    "    return x**x\n",
    "assert squareIt(2)==4,\"The square of 2 should be 4\"\n",
    "assert squareIt(3)==9,\"The square of 3 should be 9\"\n",
    "assert squareIt(4)==16,\"The square of 4 should be 16\"\n",
    "print(squareIt(2))\n",
    "print(squareIt(3))\n",
    "print(squareIt(4))"
   ]
  },
  {
   "cell_type": "markdown",
   "id": "80e7a1e9",
   "metadata": {},
   "source": [
    "### Exception Handling vs Assertions:\n",
    "### Assertions concept can be used to alert programmer to resolve development time errors. Exception Handling can be used to handle runtime errors."
   ]
  },
  {
   "cell_type": "code",
   "execution_count": 9,
   "id": "d8e65414",
   "metadata": {},
   "outputs": [],
   "source": [
    "squareIt=lambda x : x*x\n",
    "assert squareIt(2)==4,\"The square of 2 should be 4\""
   ]
  },
  {
   "cell_type": "code",
   "execution_count": null,
   "id": "c7170f08",
   "metadata": {},
   "outputs": [],
   "source": []
  }
 ],
 "metadata": {
  "kernelspec": {
   "display_name": "Python 3 (ipykernel)",
   "language": "python",
   "name": "python3"
  },
  "language_info": {
   "codemirror_mode": {
    "name": "ipython",
    "version": 3
   },
   "file_extension": ".py",
   "mimetype": "text/x-python",
   "name": "python",
   "nbconvert_exporter": "python",
   "pygments_lexer": "ipython3",
   "version": "3.8.10"
  }
 },
 "nbformat": 4,
 "nbformat_minor": 5
}
