{
 "cells": [
  {
   "cell_type": "code",
   "execution_count": 1,
   "id": "7d9d84e1",
   "metadata": {},
   "outputs": [],
   "source": [
    "import os,sys"
   ]
  },
  {
   "cell_type": "markdown",
   "id": "0a0a4590",
   "metadata": {},
   "source": [
    "#### 1) sys.exit(0) == Here rest of Program will not be executed"
   ]
  },
  {
   "cell_type": "code",
   "execution_count": 3,
   "id": "604e36be",
   "metadata": {},
   "outputs": [
    {
     "name": "stdout",
     "output_type": "stream",
     "text": [
      "Enter File Name: radee\n",
      "File does not exist: ../M5_Inputs/radee\n"
     ]
    },
    {
     "ename": "SystemExit",
     "evalue": "0",
     "output_type": "error",
     "traceback": [
      "An exception has occurred, use %tb to see the full traceback.\n",
      "\u001b[0;31mSystemExit\u001b[0m\u001b[0;31m:\u001b[0m 0\n"
     ]
    }
   ],
   "source": [
    "import os,sys\n",
    "fname=input(\"Enter File Name: \")\n",
    "fname='../M5_Inputs/'+fname\n",
    "if os.path.isfile(fname):\n",
    "    print(\"File exists:\",fname)\n",
    "    f=open(fname,\"r\")\n",
    "else:\n",
    "    print(\"File does not exist:\",fname)\n",
    "    sys.exit(0)\n",
    "print(\"The content of file is:\")\n",
    "data=f.read()\n",
    "print(data)"
   ]
  },
  {
   "cell_type": "markdown",
   "id": "845b3059",
   "metadata": {},
   "source": [
    "### os._exit(0) = PVM will shutdown"
   ]
  },
  {
   "cell_type": "code",
   "execution_count": 4,
   "id": "c515bc9c",
   "metadata": {},
   "outputs": [
    {
     "ename": "SyntaxError",
     "evalue": "unexpected EOF while parsing (548631109.py, line 4)",
     "output_type": "error",
     "traceback": [
      "\u001b[0;36m  Input \u001b[0;32mIn [4]\u001b[0;36m\u001b[0m\n\u001b[0;31m    os._exit(0)\u001b[0m\n\u001b[0m               ^\u001b[0m\n\u001b[0;31mSyntaxError\u001b[0m\u001b[0;31m:\u001b[0m unexpected EOF while parsing\n"
     ]
    }
   ],
   "source": [
    "import os,sys\n",
    "try:\n",
    "    print(\"try\")\n",
    "    os._exit(0)\n",
    "except NameError:\n",
    "    print(\"except\")\n",
    "finally:\n",
    "    print(\"finally\")"
   ]
  },
  {
   "cell_type": "code",
   "execution_count": null,
   "id": "c0575046",
   "metadata": {},
   "outputs": [],
   "source": []
  }
 ],
 "metadata": {
  "kernelspec": {
   "display_name": "Python 3 (ipykernel)",
   "language": "python",
   "name": "python3"
  },
  "language_info": {
   "codemirror_mode": {
    "name": "ipython",
    "version": 3
   },
   "file_extension": ".py",
   "mimetype": "text/x-python",
   "name": "python",
   "nbconvert_exporter": "python",
   "pygments_lexer": "ipython3",
   "version": "3.8.10"
  }
 },
 "nbformat": 4,
 "nbformat_minor": 5
}
