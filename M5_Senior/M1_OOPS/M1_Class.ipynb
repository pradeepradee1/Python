{
 "cells": [
  {
   "cell_type": "markdown",
   "id": "6859ccb3",
   "metadata": {},
   "source": [
    "### Class"
   ]
  },
  {
   "cell_type": "markdown",
   "id": "dae34cb2",
   "metadata": {},
   "source": [
    "###  In Python every thing is an object. To create objects we required some Model or Plan or Blue print, which is nothing but class.\n",
    "### We can write a class to represent properties (attributes) and actions (behaviour) of object.\n",
    "### Attributes or Properties can be represented by variables\n",
    "### Actions or Behaviour can be represented by Methods.\n",
    "### Hence class contains both variables and methods."
   ]
  },
  {
   "cell_type": "code",
   "execution_count": 1,
   "id": "73fed6ad",
   "metadata": {},
   "outputs": [
    {
     "name": "stdout",
     "output_type": "stream",
     "text": [
      " This is student class with required data\n",
      "Help on class Student in module __main__:\n",
      "\n",
      "class Student(builtins.object)\n",
      " |  This is student class with required data\n",
      " |  \n",
      " |  Data descriptors defined here:\n",
      " |  \n",
      " |  __dict__\n",
      " |      dictionary for instance variables (if defined)\n",
      " |  \n",
      " |  __weakref__\n",
      " |      list of weak references to the object (if defined)\n",
      "\n"
     ]
    }
   ],
   "source": [
    "class Student:\n",
    "    ''' This is student class with required data'''\n",
    "print(Student.__doc__)\n",
    "help(Student)"
   ]
  },
  {
   "cell_type": "markdown",
   "id": "65d651b5",
   "metadata": {},
   "source": [
    "### Variables"
   ]
  },
  {
   "cell_type": "markdown",
   "id": "e60616ef",
   "metadata": {},
   "source": [
    "#### 1. Instance Variables (Object Level Variables) or references variable\n",
    "#### 2. Static Variables (Class Level Variables)\n",
    "#### 3. Local variables (Method Level Variables)"
   ]
  },
  {
   "cell_type": "markdown",
   "id": "435ccd10",
   "metadata": {},
   "source": [
    "### Methods"
   ]
  },
  {
   "cell_type": "markdown",
   "id": "8eb6e1ed",
   "metadata": {},
   "source": [
    "#### 1. Instance Methods\n",
    "#### 2. Static Methods\n",
    "#### 3. Class Methods"
   ]
  },
  {
   "cell_type": "code",
   "execution_count": 2,
   "id": "d0b7a8b6",
   "metadata": {},
   "outputs": [],
   "source": [
    "class Student:\n",
    "    '''Developed by durga for python demo'''\n",
    "    def __init__(self):\n",
    "        self.name='durga'\n",
    "        self.age=40\n",
    "        self.marks=80\n",
    "    def talk(self):\n",
    "        print(\"Hello I am :\",self.name)\n",
    "        print(\"My Age is:\",self.age)\n",
    "        print(\"My Marks are:\",self.marks)"
   ]
  },
  {
   "cell_type": "markdown",
   "id": "9b1131a4",
   "metadata": {},
   "source": [
    "### What is Object ?\n",
    "#### Physical existence of a class is nothing but object\n",
    "#### We can create any number of objects for a class."
   ]
  },
  {
   "cell_type": "code",
   "execution_count": null,
   "id": "a0647860",
   "metadata": {},
   "outputs": [],
   "source": []
  }
 ],
 "metadata": {
  "kernelspec": {
   "display_name": "Python 3 (ipykernel)",
   "language": "python",
   "name": "python3"
  },
  "language_info": {
   "codemirror_mode": {
    "name": "ipython",
    "version": 3
   },
   "file_extension": ".py",
   "mimetype": "text/x-python",
   "name": "python",
   "nbconvert_exporter": "python",
   "pygments_lexer": "ipython3",
   "version": "3.8.10"
  }
 },
 "nbformat": 4,
 "nbformat_minor": 5
}
