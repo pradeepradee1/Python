{
 "cells": [
  {
   "cell_type": "markdown",
   "id": "bca27ed5",
   "metadata": {},
   "source": [
    "### What is Reference Variable?\n",
    "#### The variable which can be used to refer object is called reference variable.\n",
    "#### By using reference variable, we can access variables and methods of object."
   ]
  },
  {
   "cell_type": "markdown",
   "id": "e1f4344a",
   "metadata": {},
   "source": []
  },
  {
   "cell_type": "code",
   "execution_count": 2,
   "id": "5ca3d8cf",
   "metadata": {},
   "outputs": [
    {
     "name": "stdout",
     "output_type": "stream",
     "text": [
      "Hello My Name is: Durga\n",
      "My Rollno is: 101\n",
      "My Marks are: 80\n"
     ]
    }
   ],
   "source": [
    "class Student:\n",
    "    def __init__(self,name,rollno,marks):\n",
    "        self.name=name\n",
    "        self.rollno=rollno\n",
    "        self.marks=marks\n",
    "    def talk(self):\n",
    "        print(\"Hello My Name is:\",self.name)\n",
    "        print(\"My Rollno is:\",self.rollno)\n",
    "        print(\"My Marks are:\",self.marks)\n",
    "s1=Student(\"Durga\",101,80)\n",
    "s1.talk()"
   ]
  },
  {
   "cell_type": "markdown",
   "id": "6e56e090",
   "metadata": {},
   "source": [
    "### Self variable\n",
    "#### self is the default variable which is always pointing to current object (like this keyword in Java)\n",
    "#### By using self we can access instance variables and instance methods of object.\n",
    "#### Note:\n",
    "#### 1. self should be first parameter inside constructor\n",
    "#### def __init__(self):\n",
    "#### 2. self should be first parameter inside instance methods\n",
    "#### def talk(self):"
   ]
  },
  {
   "cell_type": "code",
   "execution_count": null,
   "id": "9bc8688e",
   "metadata": {},
   "outputs": [],
   "source": []
  }
 ],
 "metadata": {
  "kernelspec": {
   "display_name": "Python 3 (ipykernel)",
   "language": "python",
   "name": "python3"
  },
  "language_info": {
   "codemirror_mode": {
    "name": "ipython",
    "version": 3
   },
   "file_extension": ".py",
   "mimetype": "text/x-python",
   "name": "python",
   "nbconvert_exporter": "python",
   "pygments_lexer": "ipython3",
   "version": "3.8.10"
  }
 },
 "nbformat": 4,
 "nbformat_minor": 5
}
