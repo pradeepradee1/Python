{
 "cells": [
  {
   "cell_type": "markdown",
   "id": "4292716e",
   "metadata": {},
   "source": [
    "### Constructor\n",
    "#### Constructor is a special method in python.\n",
    "#### The name of the constructor should be __init__(self)\n",
    "#### Constructor will be executed automatically at the time of object creation.\n",
    "#### Constructor will be exeucted only once Per object .\n",
    "#### Constructor can take atleast one argument(atleast self)\n",
    "#### The main purpose of constructor is to declare and initialize instance variables.\n",
    "#### Constructor is optional and if we are not providing any constructor then python will provide default constructor."
   ]
  },
  {
   "cell_type": "code",
   "execution_count": 1,
   "id": "2b8b263b",
   "metadata": {},
   "outputs": [],
   "source": [
    "#Example\n",
    "def __init__(self,name,rollno,marks):\n",
    "    self.name=name\n",
    "    self.rollno=rollno\n",
    "    self.marks=marks"
   ]
  },
  {
   "cell_type": "code",
   "execution_count": 2,
   "id": "2b6da9ef",
   "metadata": {},
   "outputs": [
    {
     "name": "stdout",
     "output_type": "stream",
     "text": [
      "Constructor exeuction...\n",
      "Constructor exeuction...\n",
      "Constructor exeuction...\n",
      "Method execution...\n"
     ]
    }
   ],
   "source": [
    "class Test:\n",
    "    def __init__(self):\n",
    "        print(\"Constructor exeuction...\")\n",
    "    def m1(self):\n",
    "        print(\"Method execution...\")\n",
    "t1=Test()\n",
    "t2=Test()\n",
    "t3=Test()\n",
    "t1.m1()"
   ]
  },
  {
   "cell_type": "code",
   "execution_count": 3,
   "id": "9a662a83",
   "metadata": {},
   "outputs": [
    {
     "name": "stdout",
     "output_type": "stream",
     "text": [
      "Student Name:Durga\n",
      "Rollno:101 \n",
      "Marks:80\n",
      "Student Name:Sunny\n",
      "Rollno:102 \n",
      "Marks:100\n"
     ]
    }
   ],
   "source": [
    "class Student:\n",
    "    ''' This is student class with required data'''\n",
    "    def __init__(self,x,y,z):\n",
    "        self.name=x\n",
    "        self.rollno=y\n",
    "        self.marks=z\n",
    "    def display(self):\n",
    "        print(\"Student Name:{}\\nRollno:{} \\nMarks:{}\".format(self.name,self.rollno,self.marks))\n",
    "\n",
    "s1=Student(\"Durga\",101,80)\n",
    "s1.display()\n",
    "s2=Student(\"Sunny\",102,100)\n",
    "s2.display()"
   ]
  },
  {
   "cell_type": "markdown",
   "id": "424b505f",
   "metadata": {},
   "source": [
    "Difference Between Constructor and Method"
   ]
  },
  {
   "cell_type": "markdown",
   "id": "54941cb8",
   "metadata": {},
   "source": [
    "### Constructor\n",
    "#### 1. Constructor name should be always __init__\n",
    "#### 2. Constructor will be executed automatically at the time of object creation.\n",
    "#### 3. Per object, Constructor will be executed only once\n",
    "#### 4. Inside Constructor we have to declare and initialize instance variables"
   ]
  },
  {
   "cell_type": "markdown",
   "id": "5024a272",
   "metadata": {},
   "source": [
    "### Method\n",
    "#### 1. Name of method can be any name\n",
    "#### 2. Method will be executed if we call that method\n",
    "#### 3. Per object, method can be called any number of times.\n",
    "#### 4. Inside method we can write business logic"
   ]
  },
  {
   "cell_type": "code",
   "execution_count": null,
   "id": "291df762",
   "metadata": {},
   "outputs": [],
   "source": []
  }
 ],
 "metadata": {
  "kernelspec": {
   "display_name": "Python 3 (ipykernel)",
   "language": "python",
   "name": "python3"
  },
  "language_info": {
   "codemirror_mode": {
    "name": "ipython",
    "version": 3
   },
   "file_extension": ".py",
   "mimetype": "text/x-python",
   "name": "python",
   "nbconvert_exporter": "python",
   "pygments_lexer": "ipython3",
   "version": "3.8.10"
  }
 },
 "nbformat": 4,
 "nbformat_minor": 5
}
