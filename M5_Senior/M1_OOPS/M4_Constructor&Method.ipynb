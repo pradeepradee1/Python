{
 "cells": [
  {
   "cell_type": "markdown",
   "id": "607adbdb",
   "metadata": {},
   "source": [
    "### Method\n",
    "#### 1. Name of method can be any name\n",
    "#### 2. Method will be executed if we call that method\n",
    "#### 3. Per object, method can be called any number of times.\n",
    "#### 4. Inside method we can write business logic 1. Constructor name should be always __init__"
   ]
  },
  {
   "cell_type": "markdown",
   "id": "babb80ec",
   "metadata": {},
   "source": [
    "### Constructor\n",
    "#### 1. Constructor name should be always __init__\n",
    "#### 2. Constructor will be executed automatically at the time of object creation.\n",
    "#### 3. Per object, Constructor will be executed only once\n",
    "#### 4. Inside Constructor we have to declare and initialize instance variables"
   ]
  },
  {
   "cell_type": "code",
   "execution_count": null,
   "id": "bd088ad9",
   "metadata": {},
   "outputs": [],
   "source": []
  }
 ],
 "metadata": {
  "kernelspec": {
   "display_name": "Python 3 (ipykernel)",
   "language": "python",
   "name": "python3"
  },
  "language_info": {
   "codemirror_mode": {
    "name": "ipython",
    "version": 3
   },
   "file_extension": ".py",
   "mimetype": "text/x-python",
   "name": "python",
   "nbconvert_exporter": "python",
   "pygments_lexer": "ipython3",
   "version": "3.8.10"
  }
 },
 "nbformat": 4,
 "nbformat_minor": 5
}
