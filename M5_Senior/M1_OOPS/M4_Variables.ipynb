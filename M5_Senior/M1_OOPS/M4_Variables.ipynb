{
 "cells": [
  {
   "cell_type": "markdown",
   "id": "d6712ab3",
   "metadata": {},
   "source": [
    "# Object Level Variables\n",
    "### Types of Variables:\n",
    "#### 1. Instance Variables (Object Level Variables)\n",
    "#### 2. Static Variables (Class Level Variables)\n",
    "##### 3. Local variables (Method Level Variables)"
   ]
  },
  {
   "cell_type": "markdown",
   "id": "20950f32",
   "metadata": {},
   "source": [
    "### 1. Instance Variables:"
   ]
  },
  {
   "cell_type": "markdown",
   "id": "1bb5c439",
   "metadata": {},
   "source": [
    "#### 1) Variable is varied from object to object\n",
    "\n",
    "### 2) We can declare Instance variables:\n",
    "#### *) Inside Constructor by using self variable\n",
    "#### *) Inside Instance Method by using self variable\n",
    "#### *) Outside of the class by using object reference variable"
   ]
  },
  {
   "cell_type": "markdown",
   "id": "2aa3b3bf",
   "metadata": {},
   "source": [
    "### 3)  separate copy will create For every object a  in instance variables "
   ]
  },
  {
   "cell_type": "markdown",
   "id": "27ebe198",
   "metadata": {},
   "source": [
    "##### 1. Inside Constructor by using self variable:"
   ]
  },
  {
   "cell_type": "code",
   "execution_count": 2,
   "id": "879f304b",
   "metadata": {},
   "outputs": [
    {
     "name": "stdout",
     "output_type": "stream",
     "text": [
      "{'eno': 100, 'ename': 'Durga', 'esal': 10000}\n"
     ]
    }
   ],
   "source": [
    "class Employee:\n",
    "    def __init__(self):\n",
    "        self.eno=100\n",
    "        self.ename='Durga'\n",
    "        self.esal=10000\n",
    "e=Employee()\n",
    "print(e.__dict__)"
   ]
  },
  {
   "cell_type": "markdown",
   "id": "4f151712",
   "metadata": {},
   "source": [
    "##### 2. Inside Instance Method by using self variable:"
   ]
  },
  {
   "cell_type": "code",
   "execution_count": 3,
   "id": "2217899b",
   "metadata": {},
   "outputs": [
    {
     "name": "stdout",
     "output_type": "stream",
     "text": [
      "{'a': 10, 'b': 20, 'c': 30}\n"
     ]
    }
   ],
   "source": [
    "class Test:\n",
    "    def __init__(self):\n",
    "        self.a=10\n",
    "        self.b=20\n",
    "    def m1(self):\n",
    "        self.c=30\n",
    "t=Test()\n",
    "t.m1()\n",
    "print(t.__dict__)"
   ]
  },
  {
   "cell_type": "markdown",
   "id": "ee9f01e1",
   "metadata": {},
   "source": [
    "##### 3. Outside of the class by using object reference variable:"
   ]
  },
  {
   "cell_type": "code",
   "execution_count": 4,
   "id": "8790f8c3",
   "metadata": {},
   "outputs": [
    {
     "name": "stdout",
     "output_type": "stream",
     "text": [
      "{'a': 10, 'b': 20, 'c': 30, 'd': 40}\n"
     ]
    }
   ],
   "source": [
    "class Test:\n",
    "    def __init__(self):\n",
    "        self.a=10\n",
    "        self.b=20\n",
    "    def m1(self):\n",
    "        self.c=30\n",
    "t=Test()\n",
    "t.m1()\n",
    "t.d=40\n",
    "print(t.__dict__)"
   ]
  },
  {
   "cell_type": "markdown",
   "id": "dc2f0726",
   "metadata": {},
   "source": [
    "### Access"
   ]
  },
  {
   "cell_type": "code",
   "execution_count": 5,
   "id": "930abb20",
   "metadata": {},
   "outputs": [
    {
     "name": "stdout",
     "output_type": "stream",
     "text": [
      "10\n",
      "20\n",
      "10 20\n"
     ]
    }
   ],
   "source": [
    "class Test:\n",
    "    def __init__(self):\n",
    "        self.a=10\n",
    "        self.b=20\n",
    "    def display(self):\n",
    "        print(self.a)\n",
    "        print(self.b)\n",
    "t=Test()\n",
    "t.display()\n",
    "print(t.a,t.b)"
   ]
  },
  {
   "cell_type": "markdown",
   "id": "0fcdebef",
   "metadata": {},
   "source": [
    "### Delete\n",
    "##### 1. Within a class we can delete instance variable as follows\n",
    "##### del self.variableName\n",
    "##### 2. From outside of class we can delete instance variables as follows\n",
    "##### del objectreference.variableName"
   ]
  },
  {
   "cell_type": "code",
   "execution_count": 7,
   "id": "d2f156ae",
   "metadata": {},
   "outputs": [
    {
     "name": "stdout",
     "output_type": "stream",
     "text": [
      "{'a': 10, 'b': 20, 'c': 30, 'd': 40}\n",
      "{'a': 10, 'b': 20, 'c': 30}\n",
      "{'a': 10, 'b': 20}\n"
     ]
    }
   ],
   "source": [
    "class Test:\n",
    "    def __init__(self):\n",
    "        self.a=10\n",
    "        self.b=20\n",
    "        self.c=30\n",
    "        self.d=40\n",
    "    def m1(self):\n",
    "        del self.d\n",
    "t=Test()\n",
    "print(t.__dict__)\n",
    "t.m1()\n",
    "print(t.__dict__)\n",
    "del t.c\n",
    "print(t.__dict__)"
   ]
  },
  {
   "cell_type": "markdown",
   "id": "384545c6",
   "metadata": {},
   "source": [
    "##### Note: The instance variables which are deleted from one object,will not be deleted from other objects."
   ]
  },
  {
   "cell_type": "code",
   "execution_count": 8,
   "id": "042ec065",
   "metadata": {},
   "outputs": [
    {
     "name": "stdout",
     "output_type": "stream",
     "text": [
      "{'b': 20, 'c': 30, 'd': 40}\n",
      "{'a': 10, 'b': 20, 'c': 30, 'd': 40}\n"
     ]
    }
   ],
   "source": [
    "class Test:\n",
    "    def __init__(self):\n",
    "        self.a=10\n",
    "        self.b=20\n",
    "        self.c=30\n",
    "        self.d=40\n",
    "t1=Test()\n",
    "t2=Test()\n",
    "del t1.a\n",
    "print(t1.__dict__)\n",
    "print(t2.__dict__)"
   ]
  },
  {
   "cell_type": "code",
   "execution_count": 10,
   "id": "b2f42736",
   "metadata": {},
   "outputs": [
    {
     "name": "stdout",
     "output_type": "stream",
     "text": [
      "t1: 888 999\n",
      "t2: 10 20\n"
     ]
    }
   ],
   "source": [
    "class Test:\n",
    "    def __init__(self):\n",
    "        self.a=10\n",
    "        self.b=20\n",
    "t1=Test()\n",
    "t1.a=888\n",
    "t1.b=999\n",
    "t2=Test()\n",
    "print('t1:',t1.a,t1.b)  \n",
    "print('t2:',t2.a,t2.b) "
   ]
  },
  {
   "cell_type": "markdown",
   "id": "e0db7a1c",
   "metadata": {},
   "source": [
    "## 2. Static variables:"
   ]
  },
  {
   "cell_type": "markdown",
   "id": "a33fad3c",
   "metadata": {},
   "source": [
    "### 1) The variable is not varied from object to object\n",
    "### 2) Declare the variables with in the class directly but outside of methods\n",
    "### 3) Single Copy will be created for total class and shared by all the objects of the class in static variable\n",
    "### We can access static variables either by class name or by object reference. But recommended to use class name"
   ]
  },
  {
   "cell_type": "markdown",
   "id": "45c21125",
   "metadata": {},
   "source": [
    "### Instance Variable vs Static Variable:\n",
    "#### Note: In the case of instance variables for every object a seperate copy will be created,but in the case of static variables for total class only one copy will be created and shared by every object of that class."
   ]
  },
  {
   "cell_type": "code",
   "execution_count": 11,
   "id": "ce161f20",
   "metadata": {},
   "outputs": [
    {
     "name": "stdout",
     "output_type": "stream",
     "text": [
      "t1: 10 20\n",
      "t2: 10 20\n",
      "t1: 888 999\n",
      "t2: 888 20\n"
     ]
    }
   ],
   "source": [
    "class Test:\n",
    "    x=10\n",
    "    def __init__(self):\n",
    "        self.y=20\n",
    "t1=Test()\n",
    "t2=Test()\n",
    "print('t1:',t1.x,t1.y)\n",
    "print('t2:',t2.x,t2.y)\n",
    "Test.x=888\n",
    "t1.y=999\n",
    "print('t1:',t1.x,t1.y)\n",
    "print('t2:',t2.x,t2.y)"
   ]
  },
  {
   "cell_type": "markdown",
   "id": "8f0c8c28",
   "metadata": {},
   "source": [
    "### Declare\n",
    "#### 1. In general we can declare within the class directly but from out side of any method\n",
    "#### 2. Inside constructor by using class name\n",
    "#### 3. Inside instance method by using class name\n",
    "#### 4. Inside classmethod by using either class name or cls variable\n",
    "#### 5. Inside static method by using class name"
   ]
  },
  {
   "cell_type": "code",
   "execution_count": 13,
   "id": "faf272ae",
   "metadata": {},
   "outputs": [
    {
     "name": "stdout",
     "output_type": "stream",
     "text": [
      "{'__module__': '__main__', 'a': 10, '__init__': <function Test.__init__ at 0x7f070adb35e0>, 'm1': <function Test.m1 at 0x7f070adb3550>, 'm2': <classmethod object at 0x7f070ad9ed00>, 'm3': <staticmethod object at 0x7f070ad9e8b0>, '__dict__': <attribute '__dict__' of 'Test' objects>, '__weakref__': <attribute '__weakref__' of 'Test' objects>, '__doc__': None}\n",
      "{'__module__': '__main__', 'a': 10, '__init__': <function Test.__init__ at 0x7f070adb35e0>, 'm1': <function Test.m1 at 0x7f070adb3550>, 'm2': <classmethod object at 0x7f070ad9ed00>, 'm3': <staticmethod object at 0x7f070ad9e8b0>, '__dict__': <attribute '__dict__' of 'Test' objects>, '__weakref__': <attribute '__weakref__' of 'Test' objects>, '__doc__': None, 'b': 20}\n",
      "{'__module__': '__main__', 'a': 10, '__init__': <function Test.__init__ at 0x7f070adb35e0>, 'm1': <function Test.m1 at 0x7f070adb3550>, 'm2': <classmethod object at 0x7f070ad9ed00>, 'm3': <staticmethod object at 0x7f070ad9e8b0>, '__dict__': <attribute '__dict__' of 'Test' objects>, '__weakref__': <attribute '__weakref__' of 'Test' objects>, '__doc__': None, 'b': 20, 'c': 30}\n",
      "{'__module__': '__main__', 'a': 10, '__init__': <function Test.__init__ at 0x7f070adb35e0>, 'm1': <function Test.m1 at 0x7f070adb3550>, 'm2': <classmethod object at 0x7f070ad9ed00>, 'm3': <staticmethod object at 0x7f070ad9e8b0>, '__dict__': <attribute '__dict__' of 'Test' objects>, '__weakref__': <attribute '__weakref__' of 'Test' objects>, '__doc__': None, 'b': 20, 'c': 30, 'd1': 40, 'd2': 400}\n",
      "{'__module__': '__main__', 'a': 10, '__init__': <function Test.__init__ at 0x7f070adb35e0>, 'm1': <function Test.m1 at 0x7f070adb3550>, 'm2': <classmethod object at 0x7f070ad9ed00>, 'm3': <staticmethod object at 0x7f070ad9e8b0>, '__dict__': <attribute '__dict__' of 'Test' objects>, '__weakref__': <attribute '__weakref__' of 'Test' objects>, '__doc__': None, 'b': 20, 'c': 30, 'd1': 40, 'd2': 400, 'e': 50}\n",
      "{'__module__': '__main__', 'a': 10, '__init__': <function Test.__init__ at 0x7f070adb35e0>, 'm1': <function Test.m1 at 0x7f070adb3550>, 'm2': <classmethod object at 0x7f070ad9ed00>, 'm3': <staticmethod object at 0x7f070ad9e8b0>, '__dict__': <attribute '__dict__' of 'Test' objects>, '__weakref__': <attribute '__weakref__' of 'Test' objects>, '__doc__': None, 'b': 20, 'c': 30, 'd1': 40, 'd2': 400, 'e': 50, 'f': 60}\n"
     ]
    }
   ],
   "source": [
    "class Test:\n",
    "    a=10\n",
    "    def __init__(self):\n",
    "        Test.b=20\n",
    "    def m1(self):\n",
    "        Test.c=30\n",
    "    @classmethod\n",
    "    def m2(cls):\n",
    "        cls.d1=40\n",
    "        Test.d2=400\n",
    "    @staticmethod\n",
    "    def m3():\n",
    "        Test.e=50\n",
    "print(Test.__dict__)\n",
    "t=Test()\n",
    "print(Test.__dict__)\n",
    "t.m1()\n",
    "print(Test.__dict__)\n",
    "Test.m2()\n",
    "print(Test.__dict__)\n",
    "Test.m3()\n",
    "print(Test.__dict__)\n",
    "Test.f=60\n",
    "print(Test.__dict__)"
   ]
  },
  {
   "cell_type": "markdown",
   "id": "afb7d330",
   "metadata": {},
   "source": [
    "### Access\n",
    "#### 1. inside constructor: by using either self or classname\n",
    "#### 2. inside instance method: by using either self or classname\n",
    "#### 3. inside class method: by using either cls variable or classname\n",
    "#### 4. inside static method: by using classname\n",
    "#### 5. From outside of class: by using either object reference or classnmae"
   ]
  },
  {
   "cell_type": "code",
   "execution_count": 14,
   "id": "faad978e",
   "metadata": {},
   "outputs": [
    {
     "name": "stdout",
     "output_type": "stream",
     "text": [
      "10\n",
      "10\n",
      "10\n",
      "10\n",
      "10\n",
      "10\n",
      "10\n",
      "10\n",
      "10\n"
     ]
    }
   ],
   "source": [
    "class Test:\n",
    "    a=10\n",
    "    def __init__(self):\n",
    "        print(self.a)\n",
    "        print(Test.a)\n",
    "    def m1(self):\n",
    "        print(self.a)\n",
    "        print(Test.a)\n",
    "    @classmethod\n",
    "    def m2(cls):\n",
    "        print(cls.a)\n",
    "        print(Test.a)\n",
    "    @staticmethod\n",
    "    def m3():\n",
    "        print(Test.a)\n",
    "t=Test()\n",
    "print(Test.a)\n",
    "print(t.a)\n",
    "t.m1()\n",
    "t.m2()\n",
    "t.m3()"
   ]
  },
  {
   "cell_type": "markdown",
   "id": "a8d6a864",
   "metadata": {},
   "source": [
    "### Modify"
   ]
  },
  {
   "cell_type": "code",
   "execution_count": 15,
   "id": "aa0a2fd4",
   "metadata": {},
   "outputs": [
    {
     "name": "stdout",
     "output_type": "stream",
     "text": [
      "777\n",
      "888\n",
      "999\n"
     ]
    }
   ],
   "source": [
    "class Test:\n",
    "    a=777\n",
    "    @classmethod\n",
    "    def m1(cls):\n",
    "        cls.a=888\n",
    "    @staticmethod\n",
    "    def m2():\n",
    "        Test.a=999\n",
    "print(Test.a)\n",
    "Test.m1()\n",
    "print(Test.a)\n",
    "Test.m2()\n",
    "print(Test.a)"
   ]
  },
  {
   "cell_type": "markdown",
   "id": "b2eada55",
   "metadata": {},
   "source": [
    "### If we change the value of static variable by using either self or object reference variable:"
   ]
  },
  {
   "cell_type": "code",
   "execution_count": 16,
   "id": "8e1427f6",
   "metadata": {},
   "outputs": [
    {
     "name": "stdout",
     "output_type": "stream",
     "text": [
      "10\n",
      "888\n"
     ]
    }
   ],
   "source": [
    "class Test:\n",
    "    a=10\n",
    "    def m1(self):\n",
    "        self.a=888\n",
    "t1=Test()\n",
    "t1.m1()\n",
    "print(Test.a)\n",
    "print(t1.a)"
   ]
  },
  {
   "cell_type": "code",
   "execution_count": 17,
   "id": "436facbc",
   "metadata": {},
   "outputs": [
    {
     "name": "stdout",
     "output_type": "stream",
     "text": [
      "t1: 10 20\n",
      "t2: 10 20\n",
      "t1: 888 999\n",
      "t2: 10 20\n"
     ]
    }
   ],
   "source": [
    "class Test:\n",
    "    x=10\n",
    "    def __init__(self):\n",
    "        self.y=20\n",
    "t1=Test()\n",
    "t2=Test()\n",
    "print('t1:',t1.x,t1.y)\n",
    "print('t2:',t2.x,t2.y)\n",
    "t1.x=888\n",
    "t1.y=999\n",
    "print('t1:',t1.x,t1.y)\n",
    "print('t2:',t2.x,t2.y)"
   ]
  },
  {
   "cell_type": "code",
   "execution_count": 18,
   "id": "f4badcc9",
   "metadata": {},
   "outputs": [
    {
     "name": "stdout",
     "output_type": "stream",
     "text": [
      "888 999\n",
      "888 20\n"
     ]
    }
   ],
   "source": [
    "class Test:\n",
    "    a=10\n",
    "    def __init__(self):\n",
    "        self.b=20\n",
    "t1=Test()\n",
    "t2=Test()\n",
    "Test.a=888\n",
    "t1.b=999\n",
    "print(t1.a,t1.b)\n",
    "print(t2.a,t2.b)"
   ]
  },
  {
   "cell_type": "code",
   "execution_count": 19,
   "id": "afa17f75",
   "metadata": {},
   "outputs": [
    {
     "name": "stdout",
     "output_type": "stream",
     "text": [
      "888 999\n",
      "10 20\n"
     ]
    }
   ],
   "source": [
    "class Test:\n",
    "    a=10\n",
    "    def __init__(self):\n",
    "        self.b=20\n",
    "    def m1(self):\n",
    "        self.a=888\n",
    "        self.b=999\n",
    "t1=Test()\n",
    "t2=Test()\n",
    "t1.m1()\n",
    "print(t1.a,t1.b)\n",
    "print(t2.a,t2.b)"
   ]
  },
  {
   "cell_type": "code",
   "execution_count": 22,
   "id": "b4f00ab3",
   "metadata": {},
   "outputs": [
    {
     "name": "stdout",
     "output_type": "stream",
     "text": [
      "888 20\n",
      "888 20\n",
      "888 999\n"
     ]
    }
   ],
   "source": [
    "class Test:\n",
    "    a=10\n",
    "    def __init__(self):\n",
    "        self.b=20\n",
    "    @classmethod\n",
    "    def m1(cls):\n",
    "        cls.a=888\n",
    "        cls.b=999\n",
    "t1=Test()\n",
    "t2=Test()\n",
    "t1.m1()\n",
    "print(t1.a,t1.b)\n",
    "print(t2.a,t2.b)\n",
    "print(Test.a,Test.b)"
   ]
  },
  {
   "cell_type": "markdown",
   "id": "d20d9115",
   "metadata": {},
   "source": [
    "### Delete"
   ]
  },
  {
   "cell_type": "code",
   "execution_count": 23,
   "id": "081faf45",
   "metadata": {},
   "outputs": [
    {
     "name": "stdout",
     "output_type": "stream",
     "text": [
      "{'__module__': '__main__', 'a': 888, '__init__': <function Test.__init__ at 0x7f070adb3e50>, 'm1': <classmethod object at 0x7f070addce50>, '__dict__': <attribute '__dict__' of 'Test' objects>, '__weakref__': <attribute '__weakref__' of 'Test' objects>, '__doc__': None, 'b': 999}\n"
     ]
    }
   ],
   "source": [
    "class Test:\n",
    "    a=10\n",
    "    @classmethod\n",
    "    def m1(cls):\n",
    "        del cls.a\n",
    "    Test.m1()\n",
    "    print(Test.__dict__)"
   ]
  },
  {
   "cell_type": "code",
   "execution_count": 25,
   "id": "f1134086",
   "metadata": {},
   "outputs": [
    {
     "name": "stdout",
     "output_type": "stream",
     "text": [
      "{'__module__': '__main__', 'a': 10, '__init__': <function Test.__init__ at 0x7f070adb3790>, 'm1': <function Test.m1 at 0x7f070adb3dc0>, 'm2': <classmethod object at 0x7f070ad41130>, 'm3': <staticmethod object at 0x7f070ad41160>, '__dict__': <attribute '__dict__' of 'Test' objects>, '__weakref__': <attribute '__weakref__' of 'Test' objects>, '__doc__': None}\n",
      "{'__module__': '__main__', '__init__': <function Test.__init__ at 0x7f070adb3790>, 'm1': <function Test.m1 at 0x7f070adb3dc0>, 'm2': <classmethod object at 0x7f070ad41130>, 'm3': <staticmethod object at 0x7f070ad41160>, '__dict__': <attribute '__dict__' of 'Test' objects>, '__weakref__': <attribute '__weakref__' of 'Test' objects>, '__doc__': None, 'b': 20}\n",
      "{'__module__': '__main__', '__init__': <function Test.__init__ at 0x7f070adb3790>, 'm1': <function Test.m1 at 0x7f070adb3dc0>, 'm2': <classmethod object at 0x7f070ad41130>, 'm3': <staticmethod object at 0x7f070ad41160>, '__dict__': <attribute '__dict__' of 'Test' objects>, '__weakref__': <attribute '__weakref__' of 'Test' objects>, '__doc__': None, 'c': 30}\n",
      "{'__module__': '__main__', '__init__': <function Test.__init__ at 0x7f070adb3790>, 'm1': <function Test.m1 at 0x7f070adb3dc0>, 'm2': <classmethod object at 0x7f070ad41130>, 'm3': <staticmethod object at 0x7f070ad41160>, '__dict__': <attribute '__dict__' of 'Test' objects>, '__weakref__': <attribute '__weakref__' of 'Test' objects>, '__doc__': None, 'd': 40}\n",
      "{'__module__': '__main__', '__init__': <function Test.__init__ at 0x7f070adb3790>, 'm1': <function Test.m1 at 0x7f070adb3dc0>, 'm2': <classmethod object at 0x7f070ad41130>, 'm3': <staticmethod object at 0x7f070ad41160>, '__dict__': <attribute '__dict__' of 'Test' objects>, '__weakref__': <attribute '__weakref__' of 'Test' objects>, '__doc__': None, 'e': 50}\n",
      "{'__module__': '__main__', '__init__': <function Test.__init__ at 0x7f070adb3790>, 'm1': <function Test.m1 at 0x7f070adb3dc0>, 'm2': <classmethod object at 0x7f070ad41130>, 'm3': <staticmethod object at 0x7f070ad41160>, '__dict__': <attribute '__dict__' of 'Test' objects>, '__weakref__': <attribute '__weakref__' of 'Test' objects>, '__doc__': None, 'e': 50, 'f': 60}\n",
      "{'__module__': '__main__', '__init__': <function Test.__init__ at 0x7f070adb3790>, 'm1': <function Test.m1 at 0x7f070adb3dc0>, 'm2': <classmethod object at 0x7f070ad41130>, 'm3': <staticmethod object at 0x7f070ad41160>, '__dict__': <attribute '__dict__' of 'Test' objects>, '__weakref__': <attribute '__weakref__' of 'Test' objects>, '__doc__': None, 'f': 60}\n"
     ]
    }
   ],
   "source": [
    "class Test:\n",
    "    a=10\n",
    "    def __init__(self):\n",
    "        Test.b=20\n",
    "        del Test.a\n",
    "    def m1(self):\n",
    "        Test.c=30\n",
    "        del Test.b\n",
    "    @classmethod\n",
    "    def m2(cls):\n",
    "        cls.d=40\n",
    "        del Test.c\n",
    "    @staticmethod\n",
    "    def m3():\n",
    "        Test.e=50\n",
    "        del Test.d\n",
    "print(Test.__dict__)\n",
    "t=Test()\n",
    "print(Test.__dict__)\n",
    "t.m1()\n",
    "print(Test.__dict__)\n",
    "Test.m2()\n",
    "print(Test.__dict__)\n",
    "Test.m3()\n",
    "print(Test.__dict__)\n",
    "Test.f=60\n",
    "print(Test.__dict__)\n",
    "del Test.e\n",
    "print(Test.__dict__)"
   ]
  },
  {
   "cell_type": "markdown",
   "id": "6e2643e2",
   "metadata": {},
   "source": [
    "### Note: By using object reference variable/self we can read static variables, but we cannot modify or delete.\n",
    "#### If we are trying to modify, then a new instance variable will be added to that particular object.\n",
    "#### t1.a = 70\n",
    "#### If we are trying to delete then we will get error."
   ]
  },
  {
   "cell_type": "code",
   "execution_count": 26,
   "id": "0b1a4043",
   "metadata": {},
   "outputs": [
    {
     "ename": "AttributeError",
     "evalue": "a",
     "output_type": "error",
     "traceback": [
      "\u001b[0;31m---------------------------------------------------------------------------\u001b[0m",
      "\u001b[0;31mAttributeError\u001b[0m                            Traceback (most recent call last)",
      "Input \u001b[0;32mIn [26]\u001b[0m, in \u001b[0;36m<module>\u001b[0;34m\u001b[0m\n\u001b[0;32m----> 1\u001b[0m \u001b[38;5;28;01mclass\u001b[39;00m \u001b[38;5;21;01mTest\u001b[39;00m:\n\u001b[1;32m      2\u001b[0m     a\u001b[38;5;241m=\u001b[39m\u001b[38;5;241m10\u001b[39m\n\u001b[1;32m      3\u001b[0m     t1\u001b[38;5;241m=\u001b[39mTest()\n",
      "Input \u001b[0;32mIn [26]\u001b[0m, in \u001b[0;36mTest\u001b[0;34m()\u001b[0m\n\u001b[1;32m      1\u001b[0m \u001b[38;5;28;01mclass\u001b[39;00m \u001b[38;5;21;01mTest\u001b[39;00m:\n\u001b[1;32m      2\u001b[0m     a\u001b[38;5;241m=\u001b[39m\u001b[38;5;241m10\u001b[39m\n\u001b[0;32m----> 3\u001b[0m     t1\u001b[38;5;241m=\u001b[39m\u001b[43mTest\u001b[49m\u001b[43m(\u001b[49m\u001b[43m)\u001b[49m\n\u001b[1;32m      4\u001b[0m     \u001b[38;5;28;01mdel\u001b[39;00m t1\u001b[38;5;241m.\u001b[39ma\n",
      "Input \u001b[0;32mIn [25]\u001b[0m, in \u001b[0;36mTest.__init__\u001b[0;34m(self)\u001b[0m\n\u001b[1;32m      3\u001b[0m \u001b[38;5;28;01mdef\u001b[39;00m \u001b[38;5;21m__init__\u001b[39m(\u001b[38;5;28mself\u001b[39m):\n\u001b[1;32m      4\u001b[0m     Test\u001b[38;5;241m.\u001b[39mb\u001b[38;5;241m=\u001b[39m\u001b[38;5;241m20\u001b[39m\n\u001b[0;32m----> 5\u001b[0m     \u001b[38;5;28;01mdel\u001b[39;00m Test\u001b[38;5;241m.\u001b[39ma\n",
      "\u001b[0;31mAttributeError\u001b[0m: a"
     ]
    }
   ],
   "source": [
    "class Test:\n",
    "    a=10\n",
    "    t1=Test()\n",
    "    del t1.a"
   ]
  },
  {
   "cell_type": "markdown",
   "id": "29223791",
   "metadata": {},
   "source": [
    "### 3) Local variables (temporary variables):\n",
    "#### 1) Sometimes to meet temporary requirements\n",
    "#### 2) We can declare variables inside a method directly\n",
    "#### 3) IT cann't be accessed from outside of method."
   ]
  },
  {
   "cell_type": "code",
   "execution_count": 27,
   "id": "c29baf60",
   "metadata": {},
   "outputs": [
    {
     "name": "stdout",
     "output_type": "stream",
     "text": [
      "1000\n",
      "2000\n"
     ]
    }
   ],
   "source": [
    "class Test:\n",
    "    def m1(self):\n",
    "        a=1000\n",
    "        print(a)\n",
    "    def m2(self):\n",
    "        b=2000\n",
    "        print(b)\n",
    "t=Test()\n",
    "t.m1()\n",
    "t.m2()"
   ]
  },
  {
   "cell_type": "code",
   "execution_count": 28,
   "id": "b7e991a4",
   "metadata": {},
   "outputs": [
    {
     "ename": "NameError",
     "evalue": "name 'a' is not defined",
     "output_type": "error",
     "traceback": [
      "\u001b[0;31m---------------------------------------------------------------------------\u001b[0m",
      "\u001b[0;31mNameError\u001b[0m                                 Traceback (most recent call last)",
      "Input \u001b[0;32mIn [28]\u001b[0m, in \u001b[0;36m<module>\u001b[0;34m\u001b[0m\n\u001b[0;32m----> 1\u001b[0m \u001b[38;5;28;01mclass\u001b[39;00m \u001b[38;5;21;01mTest\u001b[39;00m:\n\u001b[1;32m      2\u001b[0m     \u001b[38;5;28;01mdef\u001b[39;00m \u001b[38;5;21mm1\u001b[39m(\u001b[38;5;28mself\u001b[39m):\n\u001b[1;32m      3\u001b[0m         a\u001b[38;5;241m=\u001b[39m\u001b[38;5;241m1000\u001b[39m\n",
      "Input \u001b[0;32mIn [28]\u001b[0m, in \u001b[0;36mTest\u001b[0;34m()\u001b[0m\n\u001b[1;32m      5\u001b[0m \u001b[38;5;28;01mdef\u001b[39;00m \u001b[38;5;21mm2\u001b[39m(\u001b[38;5;28mself\u001b[39m):\n\u001b[1;32m      6\u001b[0m     b\u001b[38;5;241m=\u001b[39m\u001b[38;5;241m2000\u001b[39m\n\u001b[0;32m----> 7\u001b[0m \u001b[38;5;28mprint\u001b[39m(\u001b[43ma\u001b[49m) \n\u001b[1;32m      8\u001b[0m \u001b[38;5;28mprint\u001b[39m(b)\n",
      "\u001b[0;31mNameError\u001b[0m: name 'a' is not defined"
     ]
    }
   ],
   "source": [
    "class Test:\n",
    "    def m1(self):\n",
    "        a=1000\n",
    "        print(a)\n",
    "    def m2(self):\n",
    "        b=2000\n",
    "    print(a) \n",
    "    print(b)\n",
    "t=Test()\n",
    "t.m1()\n",
    "t.m2()"
   ]
  },
  {
   "cell_type": "code",
   "execution_count": null,
   "id": "1c674ad3",
   "metadata": {},
   "outputs": [],
   "source": []
  }
 ],
 "metadata": {
  "kernelspec": {
   "display_name": "Python 3 (ipykernel)",
   "language": "python",
   "name": "python3"
  },
  "language_info": {
   "codemirror_mode": {
    "name": "ipython",
    "version": 3
   },
   "file_extension": ".py",
   "mimetype": "text/x-python",
   "name": "python",
   "nbconvert_exporter": "python",
   "pygments_lexer": "ipython3",
   "version": "3.8.10"
  }
 },
 "nbformat": 4,
 "nbformat_minor": 5
}
