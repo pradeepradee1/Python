{
 "cells": [
  {
   "cell_type": "markdown",
   "id": "5d81c842",
   "metadata": {},
   "source": [
    "### 1.. Instance Methods\n",
    "### 2. Static Methods\n",
    "### 3. Class Methods"
   ]
  },
  {
   "cell_type": "markdown",
   "id": "bb7c2e56",
   "metadata": {},
   "source": [
    "## 1. Instance Methods:\n",
    "#### Defined within a class \n",
    "#### that can operates on instances (objects) of that class\n",
    "#### self keyword should be first paramter"
   ]
  },
  {
   "cell_type": "code",
   "execution_count": 3,
   "id": "de9246c3",
   "metadata": {},
   "outputs": [
    {
     "name": "stdout",
     "output_type": "stream",
     "text": [
      "Enter number of students:1\n",
      "Enter Name:a\n",
      "Enter Marks:2\n",
      "Hi a\n",
      "Your Marks are: 2\n",
      "You are Failed\n",
      "\n"
     ]
    }
   ],
   "source": [
    "class Student:\n",
    "    def __init__(self,name,marks):\n",
    "        self.name=name\n",
    "        self.marks=marks\n",
    "    def display(self):\n",
    "        print('Hi',self.name)\n",
    "        print('Your Marks are:',self.marks)\n",
    "    def grade(self):\n",
    "        if self.marks>=60:\n",
    "            print('You got First Grade')\n",
    "        elif self.marks>=50:\n",
    "            print('Yout got Second Grade')\n",
    "        elif self.marks>=35:\n",
    "            print('You got Third Grade')\n",
    "        else:\n",
    "            print('You are Failed')\n",
    "n=int(input('Enter number of students:'))\n",
    "for i in range(n):\n",
    "    name=input('Enter Name:')\n",
    "    marks=int(input('Enter Marks:'))\n",
    "    s= Student(name,marks)\n",
    "    s.display()\n",
    "    s.grade()\n",
    "    print()"
   ]
  },
  {
   "cell_type": "markdown",
   "id": "a7ac351e",
   "metadata": {},
   "source": [
    "### 2. Static Methods:\n",
    "\n",
    "#### Defined within a class \n",
    "#### we can't  operates on instances or class\n",
    "#### use @staticmethod decorator "
   ]
  },
  {
   "cell_type": "code",
   "execution_count": 4,
   "id": "6001bc12",
   "metadata": {},
   "outputs": [
    {
     "name": "stdout",
     "output_type": "stream",
     "text": [
      "Dog walks with 4 legs...\n",
      "Cat walks with 4 legs...\n"
     ]
    }
   ],
   "source": [
    "class DurgaMath:\n",
    "    @staticmethod\n",
    "    def add(x,y):\n",
    "        print('The Sum:',x+y)\n",
    "    @staticmethod\n",
    "    def product(x,y):\n",
    "        print('The Product:',x*y)\n",
    "    @staticmethod\n",
    "    def average(x,y):\n",
    "        print('The average:',(x+y)/2)\n",
    "\n",
    "DurgaMath.add(10,20)\n",
    "DurgaMath.product(10,20)\n",
    "DurgaMath.average(10,20)"
   ]
  },
  {
   "cell_type": "markdown",
   "id": "3f4bbd64",
   "metadata": {},
   "source": [
    "### 3. Class Methods :\n",
    "#### Defined within a class \n",
    "#### that can operates on class itself\n",
    "#### Use @classmethod decorator\n",
    "#### cls keyword should be first paramter\n"
   ]
  },
  {
   "cell_type": "code",
   "execution_count": 1,
   "id": "054c2065",
   "metadata": {},
   "outputs": [
    {
     "name": "stdout",
     "output_type": "stream",
     "text": [
      "Dog walks with 4 legs...\n",
      "Cat walks with 4 legs...\n"
     ]
    }
   ],
   "source": [
    "class Animal:\n",
    "    legs=4\n",
    "    @classmethod\n",
    "    def walk(cls,name):\n",
    "        print('{} walks with {} legs...'.format(name,cls.legs))\n",
    "Animal.walk('Dog')\n",
    "Animal.walk('Cat')"
   ]
  },
  {
   "cell_type": "code",
   "execution_count": 9,
   "id": "652d83d2",
   "metadata": {},
   "outputs": [],
   "source": [
    "#Note: In general we can use only instance and static methods.Inside static method we can access\n",
    "#class level variables by using class name."
   ]
  },
  {
   "cell_type": "code",
   "execution_count": null,
   "id": "ef070594",
   "metadata": {},
   "outputs": [],
   "source": []
  }
 ],
 "metadata": {
  "kernelspec": {
   "display_name": "Python 3",
   "language": "python",
   "name": "python3"
  },
  "language_info": {
   "codemirror_mode": {
    "name": "ipython",
    "version": 3
   },
   "file_extension": ".py",
   "mimetype": "text/x-python",
   "name": "python",
   "nbconvert_exporter": "python",
   "pygments_lexer": "ipython3",
   "version": "3.10.11"
  }
 },
 "nbformat": 4,
 "nbformat_minor": 5
}
