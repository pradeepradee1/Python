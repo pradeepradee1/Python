{
 "cells": [
  {
   "cell_type": "markdown",
   "id": "8df6a2b0",
   "metadata": {},
   "source": [
    "### Setter and Getter Methods:\n",
    "#### We can set and get the values of instance variables by using getter and setter methods."
   ]
  },
  {
   "cell_type": "markdown",
   "id": "ff89727f",
   "metadata": {},
   "source": [
    "### Setter Method:\n",
    "#### setter methods can be used to set values to the instance variables. setter methods also known as mutator methods.\n",
    "#### syntax:"
   ]
  },
  {
   "cell_type": "code",
   "execution_count": 1,
   "id": "87324e02",
   "metadata": {},
   "outputs": [],
   "source": [
    "def setVariable(self,variable):\n",
    "    self.variable=variable\n",
    "#Example:\n",
    "def setName(self,name):\n",
    "    self.name=name"
   ]
  },
  {
   "cell_type": "markdown",
   "id": "1e2cbfe3",
   "metadata": {},
   "source": [
    "### Getter Method:"
   ]
  },
  {
   "cell_type": "markdown",
   "id": "5c1f61b5",
   "metadata": {},
   "source": [
    "### Getter methods can be used to get values of the instance variables. Getter methods also known as accessor methods."
   ]
  },
  {
   "cell_type": "markdown",
   "id": "f60e202e",
   "metadata": {},
   "source": [
    "### Syntax"
   ]
  },
  {
   "cell_type": "code",
   "execution_count": 2,
   "id": "cf142031",
   "metadata": {},
   "outputs": [],
   "source": [
    "def getVariable(self):\n",
    "    return self.variable\n",
    "#Example:\n",
    "def getName(self):\n",
    "    return self.name"
   ]
  },
  {
   "cell_type": "code",
   "execution_count": 4,
   "id": "62d03a67",
   "metadata": {},
   "outputs": [
    {
     "name": "stdout",
     "output_type": "stream",
     "text": [
      "Enter number of students:1\n",
      "Enter Name:a\n",
      "Enter Marks:2\n",
      "Hi a\n",
      "You\n"
     ]
    }
   ],
   "source": [
    "class Student:\n",
    "    def setName(self,name):\n",
    "        self.name=name\n",
    "    def getName(self):\n",
    "        return self.name\n",
    "    def setMarks(self,marks):\n",
    "        self.marks=marks\n",
    "    def getMarks(self):\n",
    "        return self.marks\n",
    "\n",
    "n=int(input('Enter number of students:'))\n",
    "for i in range(n):\n",
    "    s=Student()\n",
    "name=input('Enter Name:')\n",
    "s.setName(name)\n",
    "marks=int(input('Enter Marks:'))\n",
    "s.setMarks(marks)\n",
    "print('Hi',s.getName())\n",
    "print('You')"
   ]
  },
  {
   "cell_type": "code",
   "execution_count": null,
   "id": "20a18bc4",
   "metadata": {},
   "outputs": [],
   "source": []
  }
 ],
 "metadata": {
  "kernelspec": {
   "display_name": "Python 3 (ipykernel)",
   "language": "python",
   "name": "python3"
  },
  "language_info": {
   "codemirror_mode": {
    "name": "ipython",
    "version": 3
   },
   "file_extension": ".py",
   "mimetype": "text/x-python",
   "name": "python",
   "nbconvert_exporter": "python",
   "pygments_lexer": "ipython3",
   "version": "3.8.10"
  }
 },
 "nbformat": 4,
 "nbformat_minor": 5
}
