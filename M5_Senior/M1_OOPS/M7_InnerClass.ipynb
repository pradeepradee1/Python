{
 "cells": [
  {
   "cell_type": "markdown",
   "id": "6b2c4aec",
   "metadata": {},
   "source": [
    "### Passing members of one class to another class:"
   ]
  },
  {
   "cell_type": "code",
   "execution_count": 1,
   "id": "fdedca18",
   "metadata": {},
   "outputs": [
    {
     "name": "stdout",
     "output_type": "stream",
     "text": [
      "Employee Number: 100\n",
      "Employee Name: Durga\n",
      "Employee Salary: 20000\n"
     ]
    }
   ],
   "source": [
    "class Employee:\n",
    "    def __init__(self,eno,ename,esal):\n",
    "        self.eno=eno\n",
    "        self.ename=ename\n",
    "        self.esal=esal\n",
    "    def display(self):\n",
    "        print('Employee Number:',self.eno)\n",
    "        print('Employee Name:',self.ename)\n",
    "        print('Employee Salary:',self.esal)\n",
    "\n",
    "class Test:\n",
    "    def modify(emp):\n",
    "        emp.esal=emp.esal+10000\n",
    "        emp.display()\n",
    "e=Employee(100,'Durga',10000)\n",
    "Test.modify(e)"
   ]
  },
  {
   "cell_type": "markdown",
   "id": "9a8a5534",
   "metadata": {},
   "source": [
    "### Inner classes:"
   ]
  },
  {
   "cell_type": "code",
   "execution_count": 2,
   "id": "1b740be9",
   "metadata": {},
   "outputs": [
    {
     "name": "stdout",
     "output_type": "stream",
     "text": [
      "outer class object creation\n",
      "inner class object creation\n",
      "inner class method\n"
     ]
    }
   ],
   "source": [
    "class Outer:\n",
    "    def __init__(self):\n",
    "        print(\"outer class object creation\")\n",
    "    class Inner:\n",
    "        def __init__(self):\n",
    "            print(\"inner class object creation\")\n",
    "        def m1(self):\n",
    "            print(\"inner class method\")\n",
    "    \n",
    "o=Outer()\n",
    "i=o.Inner()\n",
    "i.m1()"
   ]
  },
  {
   "cell_type": "code",
   "execution_count": 4,
   "id": "e2c31553",
   "metadata": {},
   "outputs": [
    {
     "name": "stdout",
     "output_type": "stream",
     "text": [
      "Name: durga\n",
      "Dob=10/5/1947\n"
     ]
    }
   ],
   "source": [
    "\n",
    "class Person:\n",
    "    def __init__(self):\n",
    "        self.name='durga'\n",
    "        self.db=self.Dob()\n",
    "    def display(self):\n",
    "        print('Name:',self.name)\n",
    "    class Dob:\n",
    "        def __init__(self):\n",
    "            self.dd=10\n",
    "            self.mm=5\n",
    "            self.yy=1947\n",
    "        def display(self):\n",
    "            print('Dob={}/{}/{}'.format(self.dd,self.mm,self.yy))\n",
    "p=Person()\n",
    "p.display()\n",
    "x=p.db\n",
    "x.display()"
   ]
  },
  {
   "cell_type": "code",
   "execution_count": 5,
   "id": "cc00e4cf",
   "metadata": {},
   "outputs": [
    {
     "name": "stdout",
     "output_type": "stream",
     "text": [
      "Hello.. Sunny\n",
      "Talking...\n",
      "Thinking...\n"
     ]
    }
   ],
   "source": [
    "class Human:\n",
    "    def __init__(self):\n",
    "        self.name = 'Sunny'\n",
    "        self.head = self.Head()\n",
    "        self.brain = self.Brain()\n",
    "    def display(self):\n",
    "        print(\"Hello..\",self.name)\n",
    "    class Head:\n",
    "        def talk(self):\n",
    "            print('Talking...')\n",
    "    class Brain:\n",
    "        def think(self):\n",
    "            print('Thinking...')\n",
    "\n",
    "h=Human()\n",
    "h.display()\n",
    "h.head.talk()\n",
    "h.brain.think()        "
   ]
  },
  {
   "cell_type": "code",
   "execution_count": null,
   "id": "a878c3a3",
   "metadata": {},
   "outputs": [],
   "source": []
  }
 ],
 "metadata": {
  "kernelspec": {
   "display_name": "Python 3 (ipykernel)",
   "language": "python",
   "name": "python3"
  },
  "language_info": {
   "codemirror_mode": {
    "name": "ipython",
    "version": 3
   },
   "file_extension": ".py",
   "mimetype": "text/x-python",
   "name": "python",
   "nbconvert_exporter": "python",
   "pygments_lexer": "ipython3",
   "version": "3.8.10"
  }
 },
 "nbformat": 4,
 "nbformat_minor": 5
}
