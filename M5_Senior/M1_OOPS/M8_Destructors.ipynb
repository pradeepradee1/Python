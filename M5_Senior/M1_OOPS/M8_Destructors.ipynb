{
 "cells": [
  {
   "cell_type": "markdown",
   "id": "78c3c108",
   "metadata": {},
   "source": [
    "### Destructors"
   ]
  },
  {
   "cell_type": "markdown",
   "id": "81b7167d",
   "metadata": {},
   "source": [
    "### Destructor is a special method and the name should be __del__\n",
    "### Destructor to perform clean up activities\n",
    "### Once destructor execution completed then Garbage Collector automatically destroys that object."
   ]
  },
  {
   "cell_type": "markdown",
   "id": "3f06fe19",
   "metadata": {},
   "source": [
    "### Note: The job of destructor is not to destroy object and it is just to perform clean up activities."
   ]
  },
  {
   "cell_type": "code",
   "execution_count": 15,
   "id": "c28820aa",
   "metadata": {},
   "outputs": [
    {
     "name": "stdout",
     "output_type": "stream",
     "text": [
      "Object Initialization...\n",
      "Here is the clean up activities are happing and __del__ method is calling\n",
      "Fulfilling Last Wish and performing clean up activities...\n",
      "None\n",
      "None\n",
      "End of application\n"
     ]
    }
   ],
   "source": [
    "import time\n",
    "class Test:\n",
    "    def __init__(self):\n",
    "        print(\"Object Initialization...\")\n",
    "    def __del__(self):\n",
    "        print(\"Fulfilling Last Wish and performing clean up activities...\")\n",
    "t1=Test()\n",
    "time.sleep(5)\n",
    "print(\"Here is the clean up activities are happing and __del__ method is calling\")\n",
    "t1=None # Here is the clean up activities are happing and __del__ method is calling\n",
    "print(t1)\n",
    "# del t1 # destroy object is happing\n",
    "print(t1)\n",
    "print(\"End of application\")"
   ]
  },
  {
   "cell_type": "markdown",
   "id": "d702c46e",
   "metadata": {},
   "source": [
    "### Note:\n",
    "###  If the object does not contain any reference variable then only it is eligible fo GC. ie if the reference count is zero then only object eligible for GC"
   ]
  },
  {
   "cell_type": "code",
   "execution_count": 16,
   "id": "b4436836",
   "metadata": {},
   "outputs": [
    {
     "name": "stdout",
     "output_type": "stream",
     "text": [
      "Constructor Execution...\n",
      "object not yet destroyed after deleting t1\n",
      "object not yet destroyed even after deleting t2\n",
      "I am trying to delete last reference variable...\n",
      "Destructor Execution...\n"
     ]
    }
   ],
   "source": [
    "import time\n",
    "class Test:\n",
    "    def __init__(self):\n",
    "        print(\"Constructor Execution...\")\n",
    "    def __del__(self):\n",
    "        print(\"Destructor Execution...\")\n",
    "\n",
    "t1=Test()\n",
    "t2=t1\n",
    "t3=t2\n",
    "del t1\n",
    "time.sleep(5)\n",
    "print(\"object not yet destroyed after deleting t1\")\n",
    "del t2\n",
    "time.sleep(5)\n",
    "print(\"object not yet destroyed even after deleting t2\")\n",
    "print(\"I am trying to delete last reference variable...\")\n",
    "del t3"
   ]
  },
  {
   "cell_type": "code",
   "execution_count": 19,
   "id": "00d54506",
   "metadata": {},
   "outputs": [
    {
     "name": "stdout",
     "output_type": "stream",
     "text": [
      "Constructor Execution...\n",
      "Constructor Execution...\n",
      "Constructor Execution...\n",
      "Destructor Execution...\n",
      "Destructor Execution...\n",
      "Destructor Execution...\n",
      "End of application\n"
     ]
    }
   ],
   "source": [
    "import time\n",
    "class Test:\n",
    "    def __init__(self):\n",
    "        print(\"Constructor Execution...\")\n",
    "    def __del__(self):\n",
    "        print(\"Destructor Execution...\")\n",
    "\n",
    "list=[Test(),Test(),Test()]\n",
    "del list  # here is del method is calling\n",
    "time.sleep(5)\n",
    "print(\"End of application\")"
   ]
  },
  {
   "cell_type": "markdown",
   "id": "fc9bc1c2",
   "metadata": {},
   "source": [
    "### How to find the number of references of an object?"
   ]
  },
  {
   "cell_type": "code",
   "execution_count": 18,
   "id": "e318e79f",
   "metadata": {},
   "outputs": [
    {
     "name": "stdout",
     "output_type": "stream",
     "text": [
      "5\n"
     ]
    }
   ],
   "source": [
    "import sys\n",
    "class Test:\n",
    "    pass\n",
    "t1=Test()\n",
    "t2=t1\n",
    "t3=t1\n",
    "t4=t1\n",
    "print(sys.getrefcount(t1))"
   ]
  },
  {
   "cell_type": "markdown",
   "id": "382ad534",
   "metadata": {},
   "source": [
    "### Note: For every object, Python internally maintains one default reference variable self."
   ]
  },
  {
   "cell_type": "code",
   "execution_count": null,
   "id": "c6c63f7f",
   "metadata": {},
   "outputs": [],
   "source": []
  }
 ],
 "metadata": {
  "kernelspec": {
   "display_name": "Python 3 (ipykernel)",
   "language": "python",
   "name": "python3"
  },
  "language_info": {
   "codemirror_mode": {
    "name": "ipython",
    "version": 3
   },
   "file_extension": ".py",
   "mimetype": "text/x-python",
   "name": "python",
   "nbconvert_exporter": "python",
   "pygments_lexer": "ipython3",
   "version": "3.8.10"
  }
 },
 "nbformat": 4,
 "nbformat_minor": 5
}
