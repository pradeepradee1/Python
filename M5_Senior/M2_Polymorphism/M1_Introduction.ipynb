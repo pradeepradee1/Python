{
 "cells": [
  {
   "cell_type": "markdown",
   "id": "dc499631",
   "metadata": {},
   "source": [
    "###### Poly means many. Morphs means forms.\n",
    "###### Polymorphism means 'Many Forms'."
   ]
  },
  {
   "cell_type": "markdown",
   "id": "03245193",
   "metadata": {},
   "source": [
    "### Polymorphism:\n",
    "### The Object has different behaviours(method) at different stages of life cycle,which is nothing but polymorphism."
   ]
  },
  {
   "cell_type": "markdown",
   "id": "3ac04abc",
   "metadata": {},
   "source": [
    "###### Eg1: Yourself is best example of polymorphism.In front of Your parents You will have one type of behaviour and with friends another type of behaviour.Same person but different behaviours at different places,which is nothing but polymorphism."
   ]
  },
  {
   "cell_type": "markdown",
   "id": "3a613922",
   "metadata": {},
   "source": [
    "###### Eg2: + operator acts as concatenation and arithmetic addition"
   ]
  },
  {
   "cell_type": "markdown",
   "id": "8e6e846c",
   "metadata": {},
   "source": [
    "###### Eg3: * operator acts as multiplication and repetition operator"
   ]
  },
  {
   "cell_type": "markdown",
   "id": "9f3b4d34",
   "metadata": {},
   "source": [
    "## The Overloading and overwriting comes under the polymorphism "
   ]
  },
  {
   "cell_type": "markdown",
   "id": "272b4f38",
   "metadata": {},
   "source": [
    "### 1. Duck Typing Philosophy of Python\n",
    "### 2. Overloading\n",
    "### 3. Overriding"
   ]
  }
 ],
 "metadata": {
  "kernelspec": {
   "display_name": "Python 3 (ipykernel)",
   "language": "python",
   "name": "python3"
  },
  "language_info": {
   "codemirror_mode": {
    "name": "ipython",
    "version": 3
   },
   "file_extension": ".py",
   "mimetype": "text/x-python",
   "name": "python",
   "nbconvert_exporter": "python",
   "pygments_lexer": "ipython3",
   "version": "3.8.10"
  }
 },
 "nbformat": 4,
 "nbformat_minor": 5
}
