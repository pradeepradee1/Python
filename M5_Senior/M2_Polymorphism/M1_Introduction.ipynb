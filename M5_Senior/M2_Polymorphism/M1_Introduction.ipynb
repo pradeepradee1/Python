{
 "cells": [
  {
   "cell_type": "markdown",
   "id": "dc499631",
   "metadata": {},
   "source": [
    "### Poly means many. Morphs means forms.\n",
    "### Polymorphism means 'Many Forms'."
   ]
  },
  {
   "cell_type": "markdown",
   "id": "03245193",
   "metadata": {},
   "source": [
    "### Polymorphism:\n",
    "### The Object has different behaviours(method) at different stages of life cycle,which is nothing but polymorphism."
   ]
  },
  {
   "cell_type": "markdown",
   "id": "3ac04abc",
   "metadata": {},
   "source": [
    "#### Eg1: Yourself is best example of polymorphism.In front of Your parents You will have one type of behaviour and with friends another type of behaviour.Same person but different behaviours at different places,which is nothing but polymorphism."
   ]
  },
  {
   "cell_type": "markdown",
   "id": "3a613922",
   "metadata": {},
   "source": [
    "#### Eg2: + operator acts as concatenation and arithmetic addition"
   ]
  },
  {
   "cell_type": "markdown",
   "id": "8e6e846c",
   "metadata": {},
   "source": [
    "#### Eg3: * operator acts as multiplication and repetition operator"
   ]
  },
  {
   "cell_type": "markdown",
   "id": "27675b7c",
   "metadata": {},
   "source": [
    "#### Eg4: The Same method with different implementations in Parent class and child classes.(overriding)"
   ]
  },
  {
   "cell_type": "markdown",
   "id": "9f3b4d34",
   "metadata": {},
   "source": [
    "#### Related to polymorphism the following 3 topics are important"
   ]
  },
  {
   "cell_type": "markdown",
   "id": "272b4f38",
   "metadata": {},
   "source": [
    "### 1. Duck Typing Philosophy of Python\n",
    "### 2. Overloading\n",
    "### * Operator Overloading\n",
    "### * Method Overloading\n",
    "### * Constructor Overloading\n",
    "### 3. Overriding\n",
    "### * Method overriding\n",
    "### * constructor overriding"
   ]
  },
  {
   "cell_type": "code",
   "execution_count": null,
   "id": "4be51434",
   "metadata": {},
   "outputs": [],
   "source": []
  }
 ],
 "metadata": {
  "kernelspec": {
   "display_name": "Python 3 (ipykernel)",
   "language": "python",
   "name": "python3"
  },
  "language_info": {
   "codemirror_mode": {
    "name": "ipython",
    "version": 3
   },
   "file_extension": ".py",
   "mimetype": "text/x-python",
   "name": "python",
   "nbconvert_exporter": "python",
   "pygments_lexer": "ipython3",
   "version": "3.8.10"
  }
 },
 "nbformat": 4,
 "nbformat_minor": 5
}
