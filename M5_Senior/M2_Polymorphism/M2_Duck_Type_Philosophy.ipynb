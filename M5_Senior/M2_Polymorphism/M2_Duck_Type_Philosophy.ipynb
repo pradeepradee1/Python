{
 "cells": [
  {
   "cell_type": "markdown",
   "id": "ac421be9",
   "metadata": {},
   "source": [
    "### 1. Duck Typing Philosophy of Python:"
   ]
  },
  {
   "cell_type": "markdown",
   "id": "1e1a2529",
   "metadata": {},
   "source": [
    "### In Python we cannot specify the type explicitly. Based on provided value at runtime the type will be considered automatically. Hence Python is considered as Dynamically Typed Programming Language."
   ]
  },
  {
   "cell_type": "code",
   "execution_count": 3,
   "id": "8a43f46c",
   "metadata": {},
   "outputs": [],
   "source": [
    "def f1(obj):\n",
    "    obj.talk()"
   ]
  },
  {
   "cell_type": "markdown",
   "id": "69fd097b",
   "metadata": {},
   "source": [
    "#### At runtime if 'it walks like a duck and talks like a duck,it must be duck'. Python follows this principle. This is called Duck Typing Philosophy of Python."
   ]
  },
  {
   "cell_type": "code",
   "execution_count": 4,
   "id": "729f0aab",
   "metadata": {},
   "outputs": [
    {
     "name": "stdout",
     "output_type": "stream",
     "text": [
      "Quack.. Quack..\n",
      "Moew Moew ..\n",
      "Bow Bow..\n",
      "Myaah Myaah ..\n"
     ]
    }
   ],
   "source": [
    "class Duck:\n",
    "    def talk(self):\n",
    "        print('Quack.. Quack..')\n",
    "class Dog:\n",
    "    def talk(self):\n",
    "        print('Bow Bow..')\n",
    "class Cat:\n",
    "    def talk(self):\n",
    "        print('Moew Moew ..')\n",
    "class Goat:\n",
    "    def talk(self):\n",
    "        print('Myaah Myaah ..')\n",
    "def f1(obj):\n",
    "    obj.talk()\n",
    "l=[Duck(),Cat(),Dog(),Goat()]\n",
    "for obj in l:\n",
    "    f1(obj)"
   ]
  },
  {
   "cell_type": "markdown",
   "id": "b6b22bd6",
   "metadata": {},
   "source": [
    "#### Object used to call the method one by one (Duck Typing Philosophy)\n",
    "#### The problem in this approach is if obj does not contain talk() method then we will get AttributeError"
   ]
  },
  {
   "cell_type": "code",
   "execution_count": 5,
   "id": "0722e132",
   "metadata": {},
   "outputs": [
    {
     "name": "stdout",
     "output_type": "stream",
     "text": [
      "Quack.. Quack..\n"
     ]
    },
    {
     "ename": "AttributeError",
     "evalue": "'Dog' object has no attribute 'talk'",
     "output_type": "error",
     "traceback": [
      "\u001b[0;31m---------------------------------------------------------------------------\u001b[0m",
      "\u001b[0;31mAttributeError\u001b[0m                            Traceback (most recent call last)",
      "Input \u001b[0;32mIn [5]\u001b[0m, in \u001b[0;36m<module>\u001b[0;34m\u001b[0m\n\u001b[1;32m     10\u001b[0m f1(d)\n\u001b[1;32m     11\u001b[0m d\u001b[38;5;241m=\u001b[39mDog()\n\u001b[0;32m---> 12\u001b[0m \u001b[43mf1\u001b[49m\u001b[43m(\u001b[49m\u001b[43md\u001b[49m\u001b[43m)\u001b[49m\n",
      "Input \u001b[0;32mIn [5]\u001b[0m, in \u001b[0;36mf1\u001b[0;34m(obj)\u001b[0m\n\u001b[1;32m      7\u001b[0m \u001b[38;5;28;01mdef\u001b[39;00m \u001b[38;5;21mf1\u001b[39m(obj):\n\u001b[0;32m----> 8\u001b[0m     \u001b[43mobj\u001b[49m\u001b[38;5;241;43m.\u001b[39;49m\u001b[43mtalk\u001b[49m()\n",
      "\u001b[0;31mAttributeError\u001b[0m: 'Dog' object has no attribute 'talk'"
     ]
    }
   ],
   "source": [
    "class Duck:\n",
    "    def talk(self):\n",
    "        print('Quack.. Quack..')\n",
    "class Dog:\n",
    "    def bark(self):\n",
    "        print('Bow Bow..')\n",
    "def f1(obj):\n",
    "    obj.talk()\n",
    "d=Duck()\n",
    "f1(d)\n",
    "d=Dog()\n",
    "f1(d)"
   ]
  },
  {
   "cell_type": "markdown",
   "id": "7e748473",
   "metadata": {},
   "source": [
    "####  But we can solve this problem by using hasattr() function."
   ]
  },
  {
   "cell_type": "markdown",
   "id": "07385ea3",
   "metadata": {},
   "source": [
    "#### hasattr(obj,'attributename') attributename can be method name or variable name"
   ]
  },
  {
   "cell_type": "code",
   "execution_count": 6,
   "id": "042129ee",
   "metadata": {},
   "outputs": [
    {
     "name": "stdout",
     "output_type": "stream",
     "text": [
      "Quack.. Quack..\n",
      "Hello Hi...\n",
      "Bow Bow..\n"
     ]
    }
   ],
   "source": [
    "class Duck:\n",
    "    def talk(self):\n",
    "        print('Quack.. Quack..')\n",
    "class Human:\n",
    "    def talk(self):\n",
    "        print('Hello Hi...')\n",
    "class Dog:\n",
    "    def bark(self):\n",
    "        print('Bow Bow..')\n",
    "def f1(obj):\n",
    "    if hasattr(obj,'talk'):\n",
    "        obj.talk()\n",
    "    elif hasattr(obj,'bark'):\n",
    "        obj.bark()\n",
    "d=Duck()\n",
    "f1(d)\n",
    "h=Human()\n",
    "f1(h)\n",
    "d=Dog()\n",
    "f1(d)"
   ]
  },
  {
   "cell_type": "code",
   "execution_count": null,
   "id": "33e27886",
   "metadata": {},
   "outputs": [],
   "source": []
  },
  {
   "cell_type": "code",
   "execution_count": null,
   "id": "192ef7db",
   "metadata": {},
   "outputs": [],
   "source": []
  }
 ],
 "metadata": {
  "kernelspec": {
   "display_name": "Python 3 (ipykernel)",
   "language": "python",
   "name": "python3"
  },
  "language_info": {
   "codemirror_mode": {
    "name": "ipython",
    "version": 3
   },
   "file_extension": ".py",
   "mimetype": "text/x-python",
   "name": "python",
   "nbconvert_exporter": "python",
   "pygments_lexer": "ipython3",
   "version": "3.8.10"
  }
 },
 "nbformat": 4,
 "nbformat_minor": 5
}
