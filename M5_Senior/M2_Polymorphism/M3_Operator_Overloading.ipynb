{
 "cells": [
  {
   "cell_type": "markdown",
   "id": "a8d69bb2",
   "metadata": {},
   "source": [
    "### Overloading"
   ]
  },
  {
   "cell_type": "markdown",
   "id": "7638b759",
   "metadata": {},
   "source": [
    "### We can use same operator or methods for multiple purposes."
   ]
  },
  {
   "cell_type": "markdown",
   "id": "7bc1196c",
   "metadata": {},
   "source": [
    "### Eg1: + operator can be used for Arithmetic addition and String concatenation\n",
    "### print(10+20)#30\n",
    "### print('durga'+'soft')#durgasoft\n",
    "### Eg2: * operator can be used for multiplication and string repetition purposes.\n",
    "### print(10*20)#200\n",
    "### print('durga'*3)#durgadurgadurga\n",
    "### Eg3: We can use deposit() method to deposit cash or cheque or dd\n",
    "### deposit(cash)\n",
    "### deposit(cheque)\n",
    "### deposit(dd)"
   ]
  },
  {
   "cell_type": "markdown",
   "id": "fea676a7",
   "metadata": {},
   "source": [
    "### There are 3 types of overloading\n",
    "### 1. Operator Overloading\n",
    "### 2. Method Overloading\n",
    "### 3. Constructor Overloading"
   ]
  },
  {
   "cell_type": "markdown",
   "id": "8883d9cc",
   "metadata": {},
   "source": [
    "### 1. Operator Overloading:"
   ]
  },
  {
   "cell_type": "markdown",
   "id": "920607a3",
   "metadata": {},
   "source": [
    "#### We can use the same operator for multiple purposes, which is nothing but operator overloading.\n",
    "#### Python supports operator overloading."
   ]
  },
  {
   "cell_type": "markdown",
   "id": "dcb4e69e",
   "metadata": {},
   "source": [
    "#### Eg1: + operator can be used for Arithmetic addition and String concatenation\n",
    "#### print(10+20)#30\n",
    "#### print('durga'+'soft')#durgasoft\n",
    "#### Eg2: * operator can be used for multiplication and string repetition purposes.\n",
    "#### print(10*20)#200\n",
    "#### print('durga'*3)#durgadurgadurga"
   ]
  },
  {
   "cell_type": "markdown",
   "id": "7798089a",
   "metadata": {},
   "source": [
    "### Demo program to use + operator for our class objects:"
   ]
  },
  {
   "cell_type": "code",
   "execution_count": 1,
   "id": "c82ff60d",
   "metadata": {},
   "outputs": [
    {
     "ename": "TypeError",
     "evalue": "unsupported operand type(s) for +: 'Book' and 'Book'",
     "output_type": "error",
     "traceback": [
      "\u001b[0;31m---------------------------------------------------------------------------\u001b[0m",
      "\u001b[0;31mTypeError\u001b[0m                                 Traceback (most recent call last)",
      "Input \u001b[0;32mIn [1]\u001b[0m, in \u001b[0;36m<module>\u001b[0;34m\u001b[0m\n\u001b[1;32m      4\u001b[0m b1\u001b[38;5;241m=\u001b[39mBook(\u001b[38;5;241m100\u001b[39m)\n\u001b[1;32m      5\u001b[0m b2\u001b[38;5;241m=\u001b[39mBook(\u001b[38;5;241m200\u001b[39m)\n\u001b[0;32m----> 6\u001b[0m \u001b[38;5;28mprint\u001b[39m(\u001b[43mb1\u001b[49m\u001b[38;5;241;43m+\u001b[39;49m\u001b[43mb2\u001b[49m)\n",
      "\u001b[0;31mTypeError\u001b[0m: unsupported operand type(s) for +: 'Book' and 'Book'"
     ]
    }
   ],
   "source": [
    "class Book:\n",
    "    def __init__(self,pages):\n",
    "        self.pages=pages\n",
    "b1=Book(100)\n",
    "b2=Book(200)\n",
    "print(b1+b2)"
   ]
  },
  {
   "cell_type": "markdown",
   "id": "04c81ddb",
   "metadata": {},
   "source": [
    "### We can overload + operator to work with Book objects also. i.e Python supports Operator Overloading."
   ]
  },
  {
   "cell_type": "code",
   "execution_count": 2,
   "id": "d3690636",
   "metadata": {},
   "outputs": [
    {
     "name": "stdout",
     "output_type": "stream",
     "text": [
      "The Total Number of Pages: 300\n"
     ]
    }
   ],
   "source": [
    "class Book:\n",
    "    def __init__(self,pages):\n",
    "        self.pages=pages\n",
    "    def __add__(self,other):\n",
    "        return self.pages+other.pages\n",
    "b1=Book(100)\n",
    "b2=Book(200)\n",
    "print('The Total Number of Pages:',b1+b2)"
   ]
  },
  {
   "cell_type": "markdown",
   "id": "86758671",
   "metadata": {},
   "source": [
    "#### The following is the list of operators and corresponding magic methods.\n",
    "#### + ---> object.__add__(self,other)\n",
    "#### - ---> object.__sub__(self,other)\n",
    "#### * ---> object.__mul__(self,other)\n",
    "#### / ---> object.__div__(self,other)\n",
    "#### // ---> object.__floordiv__(self,other)\n",
    "#### % ---> object.__mod__(self,other)\n",
    "#### ** ---> object.__pow__(self,other)\n",
    "#### += ---> object.__iadd__(self,other)\n",
    "#### -= ---> object.__isub__(self,other)\n",
    "#### *= ---> object.__imul__(self,other)\n",
    "#### /= ---> object.__idiv__(self,other)\n",
    "#### //= ---> object.__ifloordiv__(self,other)\n",
    "#### %= ---> object.__imod__(self,other)\n",
    "#### **= ---> object.__ipow__(self,other)\n",
    "#### < ---> object.__lt__(self,other)\n",
    "#### <= ---> object.__le__(self,other)\n",
    "#### > ---> object.__gt__(self,other)\n",
    "#### >= ---> object.__ge__(self,other)\n",
    "#### == ---> object.__eq__(self,other)\n",
    "#### != ---> object.__ne__(self,other)"
   ]
  },
  {
   "cell_type": "markdown",
   "id": "e9288a67",
   "metadata": {},
   "source": [
    "### Overloading > and <= operators for Student class objects:"
   ]
  },
  {
   "cell_type": "code",
   "execution_count": 3,
   "id": "1d5f6ae3",
   "metadata": {},
   "outputs": [
    {
     "name": "stdout",
     "output_type": "stream",
     "text": [
      "10>20 = False\n",
      "s1>s2= False\n",
      "s1<s2= True\n",
      "s1<=s2= True\n",
      "s1>=s2= False\n"
     ]
    }
   ],
   "source": [
    "class Student:\n",
    "    def __init__(self,name,marks):\n",
    "        self.name=name\n",
    "        self.marks=marks\n",
    "    def __gt__(self,other):\n",
    "        return self.marks>other.marks\n",
    "    def __le__(self,other):\n",
    "        return self.marks<=other.marks\n",
    "\n",
    "print(\"10>20 =\",10>20)\n",
    "s1=Student(\"Durga\",100)\n",
    "s2=Student(\"Ravi\",200)\n",
    "print(\"s1>s2=\",s1>s2)\n",
    "print(\"s1<s2=\",s1<s2)\n",
    "print(\"s1<=s2=\",s1<=s2)\n",
    "print(\"s1>=s2=\",s1>=s2)"
   ]
  },
  {
   "cell_type": "markdown",
   "id": "b93c8482",
   "metadata": {},
   "source": [
    "### Program to overload multiplication operator to work on Employee objects:"
   ]
  },
  {
   "cell_type": "code",
   "execution_count": 4,
   "id": "f5b686fe",
   "metadata": {},
   "outputs": [
    {
     "name": "stdout",
     "output_type": "stream",
     "text": [
      "This Month Salary: 12500\n"
     ]
    }
   ],
   "source": [
    "class Employee:\n",
    "    def __init__(self,name,salary):\n",
    "        self.name=name\n",
    "        self.salary=salary\n",
    "    def __mul__(self,other):\n",
    "        return self.salary*other.days\n",
    "class TimeSheet:\n",
    "    def __init__(self,name,days):\n",
    "        self.name=name\n",
    "        self.days=days\n",
    "e=Employee('Durga',500)\n",
    "t=TimeSheet('Durga',25)\n",
    "print('This Month Salary:',e*t)"
   ]
  },
  {
   "cell_type": "code",
   "execution_count": null,
   "id": "2ee08003",
   "metadata": {},
   "outputs": [],
   "source": []
  }
 ],
 "metadata": {
  "kernelspec": {
   "display_name": "Python 3 (ipykernel)",
   "language": "python",
   "name": "python3"
  },
  "language_info": {
   "codemirror_mode": {
    "name": "ipython",
    "version": 3
   },
   "file_extension": ".py",
   "mimetype": "text/x-python",
   "name": "python",
   "nbconvert_exporter": "python",
   "pygments_lexer": "ipython3",
   "version": "3.8.10"
  }
 },
 "nbformat": 4,
 "nbformat_minor": 5
}
