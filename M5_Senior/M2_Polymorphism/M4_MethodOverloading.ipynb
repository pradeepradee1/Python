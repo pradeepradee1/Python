{
 "cells": [
  {
   "cell_type": "markdown",
   "id": "5e10f36f",
   "metadata": {},
   "source": [
    "###  Method Overloading:"
   ]
  },
  {
   "cell_type": "markdown",
   "id": "31548227",
   "metadata": {},
   "source": [
    "### If 2 methods having same name but different type of arguments then those methods are said to be overloaded methods."
   ]
  },
  {
   "cell_type": "markdown",
   "id": "edc2e132",
   "metadata": {},
   "source": [
    "### Eg: m1(int a)\n",
    "### m1(double d)"
   ]
  },
  {
   "cell_type": "markdown",
   "id": "ad172f9e",
   "metadata": {},
   "source": [
    "#### But in Python Method overloading is not possible.\n",
    "#### If we are trying to declare multiple methods with same name and different number of arguments\n",
    "#### then Python will always consider only last method."
   ]
  },
  {
   "cell_type": "code",
   "execution_count": 2,
   "id": "2260e80d",
   "metadata": {},
   "outputs": [
    {
     "name": "stdout",
     "output_type": "stream",
     "text": [
      "two-arg method\n"
     ]
    }
   ],
   "source": [
    "class Test:\n",
    "    def m1(self):\n",
    "        print('no-arg method')\n",
    "    def m1(self,a):\n",
    "        print('one-arg method')\n",
    "    def m1(self,a,b):\n",
    "        print('two-arg method')\n",
    "t=Test()\n",
    "#t.m1()\n",
    "#t.m1(10)\n",
    "t.m1(10,20)"
   ]
  },
  {
   "cell_type": "markdown",
   "id": "b4373d11",
   "metadata": {},
   "source": [
    "### How we can handle overloaded method requirements in Python:"
   ]
  },
  {
   "cell_type": "markdown",
   "id": "fcb50b5c",
   "metadata": {},
   "source": [
    "#### Most of the times, if method with variable number of arguments required then we can handle with default arguments or with variable number of argument methods."
   ]
  },
  {
   "cell_type": "markdown",
   "id": "a74ca804",
   "metadata": {},
   "source": [
    "### Demo Program with Default Arguments:"
   ]
  },
  {
   "cell_type": "code",
   "execution_count": 4,
   "id": "962755ea",
   "metadata": {},
   "outputs": [
    {
     "name": "stdout",
     "output_type": "stream",
     "text": [
      "The Sum of 2 Numbers: 30\n",
      "The Sum of 3 Numbers: 60\n",
      "Please provide 2 or 3 arguments\n"
     ]
    }
   ],
   "source": [
    "class Test:\n",
    "    def sum(self,a=None,b=None,c=None):\n",
    "        if a!=None and b!= None and c!= None:\n",
    "            print('The Sum of 3 Numbers:',a+b+c)\n",
    "        elif a!=None and b!= None:\n",
    "            print('The Sum of 2 Numbers:',a+b)\n",
    "        else:\n",
    "            print('Please provide 2 or 3 arguments')\n",
    "t=Test()\n",
    "t.sum(10,20)\n",
    "t.sum(10,20,30)\n",
    "t.sum(10)"
   ]
  },
  {
   "cell_type": "markdown",
   "id": "0cc4b5ef",
   "metadata": {},
   "source": [
    "### Demo Program with Variable Number of Arguments:"
   ]
  },
  {
   "cell_type": "code",
   "execution_count": 6,
   "id": "ec03f8d2",
   "metadata": {},
   "outputs": [
    {
     "name": "stdout",
     "output_type": "stream",
     "text": [
      "The Sum: 30\n",
      "The Sum: 60\n",
      "The Sum: 10\n",
      "The Sum: 0\n"
     ]
    }
   ],
   "source": [
    "class Test:\n",
    "    def sum(self,*a):\n",
    "        total=0\n",
    "        for x in a:\n",
    "            total=total+x\n",
    "        print('The Sum:',total)\n",
    "\n",
    "t=Test()        \n",
    "t.sum(10,20)\n",
    "t.sum(10,20,30)\n",
    "t.sum(10)\n",
    "t.sum()"
   ]
  },
  {
   "cell_type": "code",
   "execution_count": null,
   "id": "69f6c66d",
   "metadata": {},
   "outputs": [],
   "source": []
  }
 ],
 "metadata": {
  "kernelspec": {
   "display_name": "Python 3 (ipykernel)",
   "language": "python",
   "name": "python3"
  },
  "language_info": {
   "codemirror_mode": {
    "name": "ipython",
    "version": 3
   },
   "file_extension": ".py",
   "mimetype": "text/x-python",
   "name": "python",
   "nbconvert_exporter": "python",
   "pygments_lexer": "ipython3",
   "version": "3.8.10"
  }
 },
 "nbformat": 4,
 "nbformat_minor": 5
}
