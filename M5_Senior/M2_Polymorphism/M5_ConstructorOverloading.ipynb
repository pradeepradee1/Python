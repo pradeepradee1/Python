{
 "cells": [
  {
   "cell_type": "markdown",
   "id": "1cf18ab9",
   "metadata": {},
   "source": [
    "### 3. Constructor Overloading:"
   ]
  },
  {
   "cell_type": "markdown",
   "id": "2bc50760",
   "metadata": {},
   "source": [
    "### Constructor overloading is not possible in Python.\n",
    "### If we define multiple constructors then the last constructor will be considered."
   ]
  },
  {
   "cell_type": "code",
   "execution_count": 1,
   "id": "aba33653",
   "metadata": {},
   "outputs": [
    {
     "name": "stdout",
     "output_type": "stream",
     "text": [
      "Two-Arg constructor\n"
     ]
    }
   ],
   "source": [
    "class Test:\n",
    "    def __init__(self):\n",
    "        print('No-Arg Constructor')\n",
    "    def __init__(self,a):\n",
    "        print('One-Arg constructor')\n",
    "    def __init__(self,a,b):\n",
    "        print('Two-Arg constructor')\n",
    "#t1=Test()\n",
    "#t1=Test(10)\n",
    "t1=Test(10,20)"
   ]
  },
  {
   "cell_type": "markdown",
   "id": "fcfc1772",
   "metadata": {},
   "source": [
    "#### In the above program only Two-Arg Constructor is available.\n",
    "#### But based on our requirement we can declare constructor with default arguments and variable number of arguments."
   ]
  },
  {
   "cell_type": "markdown",
   "id": "0123dd81",
   "metadata": {},
   "source": [
    "### Constructor with Default Arguments:"
   ]
  },
  {
   "cell_type": "code",
   "execution_count": 2,
   "id": "94e6a45b",
   "metadata": {},
   "outputs": [
    {
     "name": "stdout",
     "output_type": "stream",
     "text": [
      "Constructor with 0|1|2|3 number of arguments\n",
      "Constructor with 0|1|2|3 number of arguments\n",
      "Constructor with 0|1|2|3 number of arguments\n",
      "Constructor with 0|1|2|3 number of arguments\n"
     ]
    }
   ],
   "source": [
    "class Test:\n",
    "    def __init__(self,a=None,b=None,c=None):\n",
    "        print('Constructor with 0|1|2|3 number of arguments')\n",
    "t1=Test()\n",
    "t2=Test(10)\n",
    "t3=Test(10,20)\n",
    "t4=Test(10,20,30)"
   ]
  },
  {
   "cell_type": "markdown",
   "id": "291f5c9e",
   "metadata": {},
   "source": [
    "### Constructor with Variable Number of Arguments:"
   ]
  },
  {
   "cell_type": "code",
   "execution_count": 3,
   "id": "c57fba18",
   "metadata": {},
   "outputs": [
    {
     "name": "stdout",
     "output_type": "stream",
     "text": [
      "Constructor with variable number of arguments\n",
      "Constructor with variable number of arguments\n",
      "Constructor with variable number of arguments\n",
      "Constructor with variable number of arguments\n",
      "Constructor with variable number of arguments\n"
     ]
    }
   ],
   "source": [
    "class Test:\n",
    "    def __init__(self,*a):\n",
    "        print('Constructor with variable number of arguments')\n",
    "t1=Test()\n",
    "t2=Test(10)\n",
    "t3=Test(10,20)\n",
    "t4=Test(10,20,30)\n",
    "t5=Test(10,20,30,40,50,60)"
   ]
  },
  {
   "cell_type": "code",
   "execution_count": null,
   "id": "eb5af53c",
   "metadata": {},
   "outputs": [],
   "source": []
  }
 ],
 "metadata": {
  "kernelspec": {
   "display_name": "Python 3 (ipykernel)",
   "language": "python",
   "name": "python3"
  },
  "language_info": {
   "codemirror_mode": {
    "name": "ipython",
    "version": 3
   },
   "file_extension": ".py",
   "mimetype": "text/x-python",
   "name": "python",
   "nbconvert_exporter": "python",
   "pygments_lexer": "ipython3",
   "version": "3.8.10"
  }
 },
 "nbformat": 4,
 "nbformat_minor": 5
}
