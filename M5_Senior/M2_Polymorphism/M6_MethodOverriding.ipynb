{
 "cells": [
  {
   "cell_type": "markdown",
   "id": "e55a7b10",
   "metadata": {},
   "source": [
    "### Method overriding:"
   ]
  },
  {
   "cell_type": "markdown",
   "id": "4045aa1b",
   "metadata": {},
   "source": [
    "### If subclass method has a same methodname and same arguments same as super class method . then subclass method override the super class method\n",
    "### The method of overriding is hiding the superclass method definition and exposing the subclass method definition."
   ]
  },
  {
   "cell_type": "markdown",
   "id": "4607e5a0",
   "metadata": {},
   "source": [
    "#### Demo Program for Method overriding:"
   ]
  },
  {
   "cell_type": "code",
   "execution_count": 2,
   "id": "0fab9202",
   "metadata": {},
   "outputs": [
    {
     "name": "stdout",
     "output_type": "stream",
     "text": [
      "Gold+Land+Cash+Power\n",
      "Katrina Kaif\n"
     ]
    }
   ],
   "source": [
    "class P:\n",
    "    def property(self):\n",
    "        print('Gold+Land+Cash+Power')\n",
    "    def marry(self):\n",
    "        print('Appalamma')\n",
    "\n",
    "class C(P):\n",
    "    def marry(self):\n",
    "        print('Katrina Kaif')\n",
    "c=C()\n",
    "c.property()\n",
    "c.marry()"
   ]
  },
  {
   "cell_type": "markdown",
   "id": "302e782a",
   "metadata": {},
   "source": [
    "#### From Overriding method of child class,we can call parent class method also by using super() method."
   ]
  },
  {
   "cell_type": "code",
   "execution_count": 3,
   "id": "053081fb",
   "metadata": {},
   "outputs": [
    {
     "name": "stdout",
     "output_type": "stream",
     "text": [
      "Gold+Land+Cash+Power\n",
      "Appalamma\n",
      "Katrina Kaif\n"
     ]
    }
   ],
   "source": [
    "class P:\n",
    "    def property(self):\n",
    "        print('Gold+Land+Cash+Power')\n",
    "    def marry(self):\n",
    "        print('Appalamma')\n",
    "class C(P):\n",
    "    def marry(self):\n",
    "        super().marry()\n",
    "        print('Katrina Kaif')\n",
    "c=C()\n",
    "c.property()\n",
    "c.marry()"
   ]
  },
  {
   "cell_type": "markdown",
   "id": "83e25471",
   "metadata": {},
   "source": [
    "### Demo Program for Constructor overriding:"
   ]
  },
  {
   "cell_type": "code",
   "execution_count": 4,
   "id": "0d45769b",
   "metadata": {},
   "outputs": [
    {
     "name": "stdout",
     "output_type": "stream",
     "text": [
      "Child Constructor\n"
     ]
    }
   ],
   "source": [
    "class P:\n",
    "    def __init__(self):\n",
    "        print('Parent Constructor')\n",
    "class C(P):\n",
    "    def __init__(self):\n",
    "        print('Child Constructor')\n",
    "c=C()"
   ]
  },
  {
   "cell_type": "markdown",
   "id": "1b6fe3fb",
   "metadata": {},
   "source": [
    "### In the above example,if child class does not contain constructor then parent class constructor will be executed"
   ]
  },
  {
   "cell_type": "markdown",
   "id": "47159bcc",
   "metadata": {},
   "source": [
    "#### From child class constuctor we can call parent class constructor by using super() method."
   ]
  },
  {
   "cell_type": "markdown",
   "id": "fa7ac5b3",
   "metadata": {},
   "source": [
    "### Demo Program to call Parent class constructor by using super():"
   ]
  },
  {
   "cell_type": "code",
   "execution_count": 5,
   "id": "631abbe2",
   "metadata": {},
   "outputs": [
    {
     "name": "stdout",
     "output_type": "stream",
     "text": [
      "Employee Name: Durga\n",
      "Employee Age: 48\n",
      "Employee Number: 872425\n",
      "Employee Salary: 26000\n",
      "Employee Name: Sunny\n",
      "Employee Age: 39\n",
      "Employee Number: 872426\n",
      "Employee Salary: 36000\n"
     ]
    }
   ],
   "source": [
    "class Person:\n",
    "    def __init__(self,name,age):\n",
    "        self.name=name\n",
    "        self.age=age\n",
    "\n",
    "class Employee(Person):\n",
    "    def __init__(self,name,age,eno,esal):\n",
    "        super().__init__(name,age)\n",
    "        self.eno=eno\n",
    "        self.esal=esal\n",
    "\n",
    "    def display(self):\n",
    "        print('Employee Name:',self.name)\n",
    "        print('Employee Age:',self.age)\n",
    "        print('Employee Number:',self.eno)\n",
    "        print('Employee Salary:',self.esal)\n",
    "e1=Employee('Durga',48,872425,26000)\n",
    "e1.display()\n",
    "e2=Employee('Sunny',39,872426,36000)\n",
    "e2.display()"
   ]
  },
  {
   "cell_type": "code",
   "execution_count": null,
   "id": "a39ec183",
   "metadata": {},
   "outputs": [],
   "source": []
  }
 ],
 "metadata": {
  "kernelspec": {
   "display_name": "Python 3 (ipykernel)",
   "language": "python",
   "name": "python3"
  },
  "language_info": {
   "codemirror_mode": {
    "name": "ipython",
    "version": 3
   },
   "file_extension": ".py",
   "mimetype": "text/x-python",
   "name": "python",
   "nbconvert_exporter": "python",
   "pygments_lexer": "ipython3",
   "version": "3.8.10"
  }
 },
 "nbformat": 4,
 "nbformat_minor": 5
}
