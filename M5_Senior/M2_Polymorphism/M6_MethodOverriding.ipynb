{
 "cells": [
  {
   "cell_type": "markdown",
   "id": "e55a7b10",
   "metadata": {},
   "source": [
    "### Method overriding:"
   ]
  },
  {
   "cell_type": "markdown",
   "id": "4045aa1b",
   "metadata": {},
   "source": [
    "### If subclass method has a same methodname and same arguments same as super class method . then subclass method override the super class method\n",
    "### The method of overriding is hiding the superclass method definition and exposing the subclass method definition."
   ]
  },
  {
   "cell_type": "markdown",
   "id": "4607e5a0",
   "metadata": {},
   "source": [
    "#### Demo Program for Method overriding:"
   ]
  },
  {
   "cell_type": "code",
   "execution_count": 2,
   "id": "0fab9202",
   "metadata": {},
   "outputs": [
    {
     "name": "stdout",
     "output_type": "stream",
     "text": [
      "Gold+Land+Cash+Power\n",
      "Katrina Kaif\n"
     ]
    }
   ],
   "source": [
    "class P:\n",
    "    def property(self):\n",
    "        print('Gold+Land+Cash+Power')\n",
    "    def marry(self):\n",
    "        print('Appalamma')\n",
    "\n",
    "class C(P):\n",
    "    def marry(self):\n",
    "        print('Katrina Kaif')\n",
    "c=C()\n",
    "c.property()\n",
    "c.marry()"
   ]
  },
  {
   "cell_type": "markdown",
   "id": "302e782a",
   "metadata": {},
   "source": [
    "#### From Overriding method of child class,we can call parent class method also by using super() method."
   ]
  },
  {
   "cell_type": "code",
   "execution_count": 3,
   "id": "053081fb",
   "metadata": {},
   "outputs": [
    {
     "name": "stdout",
     "output_type": "stream",
     "text": [
      "Gold+Land+Cash+Power\n",
      "Appalamma\n",
      "Katrina Kaif\n"
     ]
    }
   ],
   "source": [
    "class P:\n",
    "    def property(self):\n",
    "        print('Gold+Land+Cash+Power')\n",
    "    def marry(self):\n",
    "        print('Appalamma')\n",
    "class C(P):\n",
    "    def marry(self):\n",
    "        super().marry()\n",
    "        print('Katrina Kaif')\n",
    "c=C()\n",
    "c.property()\n",
    "c.marry()"
   ]
  },
  {
   "cell_type": "code",
   "execution_count": null,
   "id": "a39ec183",
   "metadata": {},
   "outputs": [],
   "source": []
  }
 ],
 "metadata": {
  "kernelspec": {
   "display_name": "Python 3 (ipykernel)",
   "language": "python",
   "name": "python3"
  },
  "language_info": {
   "codemirror_mode": {
    "name": "ipython",
    "version": 3
   },
   "file_extension": ".py",
   "mimetype": "text/x-python",
   "name": "python",
   "nbconvert_exporter": "python",
   "pygments_lexer": "ipython3",
   "version": "3.8.10"
  }
 },
 "nbformat": 4,
 "nbformat_minor": 5
}
