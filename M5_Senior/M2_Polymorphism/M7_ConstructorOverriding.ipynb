{
 "cells": [
  {
   "cell_type": "markdown",
   "id": "6c24e313",
   "metadata": {},
   "source": [
    "### Constructor overriding:"
   ]
  },
  {
   "cell_type": "code",
   "execution_count": 1,
   "id": "eb94e793",
   "metadata": {},
   "outputs": [
    {
     "name": "stdout",
     "output_type": "stream",
     "text": [
      "Child Constructor\n"
     ]
    }
   ],
   "source": [
    "class P:\n",
    "    def __init__(self):\n",
    "        print('Parent Constructor')\n",
    "class C(P):\n",
    "    def __init__(self):\n",
    "        print('Child Constructor')\n",
    "c=C()"
   ]
  },
  {
   "cell_type": "markdown",
   "id": "e01683d7",
   "metadata": {},
   "source": [
    "### In the above example,if child class does not contain constructor then parent class constructor will be executed"
   ]
  },
  {
   "cell_type": "markdown",
   "id": "7a287b15",
   "metadata": {},
   "source": [
    "#### From child class constuctor we can call parent class constructor by using super() method."
   ]
  },
  {
   "cell_type": "markdown",
   "id": "d9766cde",
   "metadata": {},
   "source": [
    "### Demo Program to call Parent class constructor by using super():"
   ]
  },
  {
   "cell_type": "code",
   "execution_count": 2,
   "id": "38b8778f",
   "metadata": {},
   "outputs": [
    {
     "name": "stdout",
     "output_type": "stream",
     "text": [
      "Employee Name: Durga\n",
      "Employee Age: 48\n",
      "Employee Number: 872425\n",
      "Employee Salary: 26000\n",
      "Employee Name: Sunny\n",
      "Employee Age: 39\n",
      "Employee Number: 872426\n",
      "Employee Salary: 36000\n"
     ]
    }
   ],
   "source": [
    "class Person:\n",
    "    def __init__(self,name,age):\n",
    "        self.name=name\n",
    "        self.age=age\n",
    "\n",
    "class Employee(Person):\n",
    "    def __init__(self,name,age,eno,esal):\n",
    "        super().__init__(name,age)\n",
    "        self.eno=eno\n",
    "        self.esal=esal\n",
    "\n",
    "    def display(self):\n",
    "        print('Employee Name:',self.name)\n",
    "        print('Employee Age:',self.age)\n",
    "        print('Employee Number:',self.eno)\n",
    "        print('Employee Salary:',self.esal)\n",
    "e1=Employee('Durga',48,872425,26000)\n",
    "e1.display()\n",
    "e2=Employee('Sunny',39,872426,36000)\n",
    "e2.display()"
   ]
  },
  {
   "cell_type": "code",
   "execution_count": null,
   "id": "99adc77d",
   "metadata": {},
   "outputs": [],
   "source": []
  }
 ],
 "metadata": {
  "kernelspec": {
   "display_name": "Python 3 (ipykernel)",
   "language": "python",
   "name": "python3"
  },
  "language_info": {
   "codemirror_mode": {
    "name": "ipython",
    "version": 3
   },
   "file_extension": ".py",
   "mimetype": "text/x-python",
   "name": "python",
   "nbconvert_exporter": "python",
   "pygments_lexer": "ipython3",
   "version": "3.8.10"
  }
 },
 "nbformat": 4,
 "nbformat_minor": 5
}
