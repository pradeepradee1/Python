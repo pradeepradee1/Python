{
 "cells": [
  {
   "cell_type": "markdown",
   "id": "a182d13b",
   "metadata": {},
   "source": [
    "### Composition = Has a relationship"
   ]
  },
  {
   "cell_type": "code",
   "execution_count": 1,
   "id": "5f4791ea",
   "metadata": {},
   "outputs": [
    {
     "name": "stdout",
     "output_type": "stream",
     "text": [
      "Car using engine class functinality\n",
      "10\n",
      "20\n",
      "Engine Specfic Functionnality\n"
     ]
    }
   ],
   "source": [
    "class Engine:\n",
    "    a=10\n",
    "    def __init__(self):\n",
    "        self.b=20\n",
    "    def m1(self):\n",
    "        print(\"Engine Specfic Functionnality\")\n",
    "class car:\n",
    "    def __init__(self):\n",
    "        self.engine=Engine()\n",
    "    def m2(self):\n",
    "        print(\"Car using engine class functinality\")\n",
    "        print(self.engine.a)\n",
    "        print(self.engine.b)\n",
    "        self.engine.m1()\n",
    "c=car()\n",
    "c.m2()"
   ]
  },
  {
   "cell_type": "markdown",
   "id": "28477414",
   "metadata": {},
   "source": [
    "### Note : This is compliation (Has a relationship)"
   ]
  },
  {
   "cell_type": "code",
   "execution_count": 2,
   "id": "c21a3aaa",
   "metadata": {},
   "outputs": [],
   "source": [
    "# class car has engine reference --> has a relationship or composition"
   ]
  },
  {
   "cell_type": "code",
   "execution_count": 7,
   "id": "68de57ea",
   "metadata": {},
   "outputs": [
    {
     "name": "stdout",
     "output_type": "stream",
     "text": [
      "employee Name : Radee\n",
      "employee Model : 101\n",
      "employee Color : <__main__.car object at 0x7f87a8c319a0>\n",
      "Car Name : innova\n",
      "Car Model : 2.5v\n",
      "Car Color : black\n"
     ]
    }
   ],
   "source": [
    "class car:\n",
    "    def __init__(self,name,model,color):\n",
    "        self.name=name\n",
    "        self.model=model\n",
    "        self.color=color\n",
    "    def getinfo(self):\n",
    "        print(\"Car Name : {}\".format(self.name))\n",
    "        print(\"Car Model : {}\".format(self.model))\n",
    "        print(\"Car Color : {}\".format(self.color))\n",
    "class employee:\n",
    "    def __init__(self,ename,eno,car):\n",
    "        self.ename=ename\n",
    "        self.eno=eno\n",
    "        self.car=car        \n",
    "    def empinfo(self):\n",
    "        print(\"employee Name : {}\".format(self.ename))\n",
    "        print(\"employee Model : {}\".format(self.eno))\n",
    "        print(\"employee Color : {}\".format(self.car))\n",
    "        self.car.getinfo()\n",
    "c=car(\"innova\",\"2.5v\",\"black\")\n",
    "emp=employee(\"Radee\",101,c)\n",
    "emp.empinfo()"
   ]
  },
  {
   "cell_type": "code",
   "execution_count": 10,
   "id": "2b047efb",
   "metadata": {},
   "outputs": [
    {
     "name": "stdout",
     "output_type": "stream",
     "text": [
      "Sports , Movies, Plitics , Informatino:\n",
      "Sports News1 : Sindhu won the final\n",
      "movie News1 : DaDa movie is too good\n",
      "politics News1 : Know politics is good\n"
     ]
    }
   ],
   "source": [
    "class sportnews:\n",
    "    def sportsinfo(self):\n",
    "        print(\"Sports News1 : Sindhu won the final\")\n",
    "\n",
    "class movienews:\n",
    "    def movieinfo(self):\n",
    "        print(\"movie News1 : DaDa movie is too good\")\n",
    "\n",
    "class politicsnews:\n",
    "    def politicsinfo(self):\n",
    "        print(\"politics News1 : Know politics is good\")        \n",
    "\n",
    "class durganews:\n",
    "    def __init__(self):\n",
    "        self.sports = sportnews()\n",
    "        self.movie = movienews()\n",
    "        self.politics = politicsnews()\n",
    "        \n",
    "    def get_total_news(self):\n",
    "        print(\"Sports , Movies, Plitics , Informatino:\")\n",
    "        self.sports.sportsinfo()\n",
    "        self.movie.movieinfo()\n",
    "        self.politics.politicsinfo()\n",
    "\n",
    "dnews=durganews()\n",
    "dnews.get_total_news()\n"
   ]
  },
  {
   "cell_type": "code",
   "execution_count": null,
   "id": "599334cf",
   "metadata": {},
   "outputs": [],
   "source": []
  }
 ],
 "metadata": {
  "kernelspec": {
   "display_name": "Python 3 (ipykernel)",
   "language": "python",
   "name": "python3"
  },
  "language_info": {
   "codemirror_mode": {
    "name": "ipython",
    "version": 3
   },
   "file_extension": ".py",
   "mimetype": "text/x-python",
   "name": "python",
   "nbconvert_exporter": "python",
   "pygments_lexer": "ipython3",
   "version": "3.8.10"
  }
 },
 "nbformat": 4,
 "nbformat_minor": 5
}
