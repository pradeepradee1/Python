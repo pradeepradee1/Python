{
 "cells": [
  {
   "cell_type": "markdown",
   "id": "a2b1d683",
   "metadata": {},
   "source": [
    "### Composition:"
   ]
  },
  {
   "cell_type": "markdown",
   "id": "534b6c45",
   "metadata": {},
   "source": [
    "#### Without existing container object if there is no chance of existing contained object , then container and contained objects are strongly associated this strongly association is called composition"
   ]
  },
  {
   "cell_type": "markdown",
   "id": "1d72c863",
   "metadata": {},
   "source": [
    "### Aggregations:"
   ]
  },
  {
   "cell_type": "markdown",
   "id": "8fa9bca6",
   "metadata": {},
   "source": [
    "#### Without existing container object still there may be chance of existing contained object , then such type relation said to be weak association . this weak assosication is called as aggregation"
   ]
  },
  {
   "cell_type": "code",
   "execution_count": null,
   "id": "65024e16",
   "metadata": {},
   "outputs": [],
   "source": []
  }
 ],
 "metadata": {
  "kernelspec": {
   "display_name": "Python 3 (ipykernel)",
   "language": "python",
   "name": "python3"
  },
  "language_info": {
   "codemirror_mode": {
    "name": "ipython",
    "version": 3
   },
   "file_extension": ".py",
   "mimetype": "text/x-python",
   "name": "python",
   "nbconvert_exporter": "python",
   "pygments_lexer": "ipython3",
   "version": "3.8.10"
  }
 },
 "nbformat": 4,
 "nbformat_minor": 5
}
