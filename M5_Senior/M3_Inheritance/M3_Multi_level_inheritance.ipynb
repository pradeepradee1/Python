{
 "cells": [
  {
   "cell_type": "code",
   "execution_count": 1,
   "id": "3bd33019",
   "metadata": {},
   "outputs": [
    {
     "name": "stdout",
     "output_type": "stream",
     "text": [
      "dog barking\n",
      "Animal Speaking\n",
      "eating bread\n"
     ]
    }
   ],
   "source": [
    "class Animal:\n",
    "    def speak(self):\n",
    "        print(\"Animal Speaking\")\n",
    "class Dog(Animal):\n",
    "    def bark(self):\n",
    "        print(\"dog barking\")\n",
    "class Dogchild(Dog):\n",
    "    def eat(self):\n",
    "        print(\"eating bread\")        \n",
    "d=Dogchild()\n",
    "d.bark()\n",
    "d.speak()\n",
    "d.eat()"
   ]
  },
  {
   "cell_type": "code",
   "execution_count": 3,
   "id": "01c067bc",
   "metadata": {},
   "outputs": [
    {
     "name": "stdout",
     "output_type": "stream",
     "text": [
      "this is function one\n",
      "this is function two\n",
      "this is function three\n"
     ]
    }
   ],
   "source": [
    "class Parent:\n",
    "    def func1(self):\n",
    "        print(\"this is function one\")\n",
    "class Child(Parent):\n",
    "    def func2(self):\n",
    "        print(\"this is function two\")\n",
    "class Child2(Child):\n",
    "    def func3(self):\n",
    "        print(\"this is function three\")        \n",
    "d=Child2()\n",
    "d.func1()\n",
    "d.func2()\n",
    "d.func3()"
   ]
  },
  {
   "cell_type": "code",
   "execution_count": null,
   "id": "149b70b6",
   "metadata": {},
   "outputs": [],
   "source": []
  }
 ],
 "metadata": {
  "kernelspec": {
   "display_name": "Python 3 (ipykernel)",
   "language": "python",
   "name": "python3"
  },
  "language_info": {
   "codemirror_mode": {
    "name": "ipython",
    "version": 3
   },
   "file_extension": ".py",
   "mimetype": "text/x-python",
   "name": "python",
   "nbconvert_exporter": "python",
   "pygments_lexer": "ipython3",
   "version": "3.8.10"
  }
 },
 "nbformat": 4,
 "nbformat_minor": 5
}
