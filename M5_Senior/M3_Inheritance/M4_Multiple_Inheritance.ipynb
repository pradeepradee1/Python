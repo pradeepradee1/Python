{
 "cells": [
  {
   "cell_type": "code",
   "execution_count": 1,
   "id": "12fa9957",
   "metadata": {},
   "outputs": [
    {
     "name": "stdout",
     "output_type": "stream",
     "text": [
      "30\n",
      "200\n",
      "0.5\n"
     ]
    }
   ],
   "source": [
    "class calculation1:\n",
    "    def summation(self,a,b):\n",
    "        return a+b\n",
    "class calculation2:\n",
    "    def multiply(self,a,b):\n",
    "        return a*b\n",
    "class derived(calculation1,calculation2):\n",
    "    def divide(self,a,b):\n",
    "        return a/b\n",
    "d=derived()\n",
    "print(d.summation(10,20))\n",
    "print(d.multiply(10,20))\n",
    "print(d.divide(10,20))"
   ]
  },
  {
   "cell_type": "code",
   "execution_count": 4,
   "id": "31b0d92b",
   "metadata": {},
   "outputs": [
    {
     "name": "stdout",
     "output_type": "stream",
     "text": [
      "this is function one\n",
      "this is function two\n",
      "this is function three\n"
     ]
    }
   ],
   "source": [
    "class Parent1:\n",
    "    def func1(self):\n",
    "        print(\"this is function one\")\n",
    "class Parent2:\n",
    "    def func2(self):\n",
    "        print(\"this is function two\")\n",
    "class Child(Parent1,Parent2):\n",
    "    def func3(self):\n",
    "        print(\"this is function three\")        \n",
    "d=Child()\n",
    "d.func1()\n",
    "d.func2()\n",
    "d.func3()"
   ]
  },
  {
   "cell_type": "code",
   "execution_count": null,
   "id": "d4cc694c",
   "metadata": {},
   "outputs": [],
   "source": []
  }
 ],
 "metadata": {
  "kernelspec": {
   "display_name": "Python 3 (ipykernel)",
   "language": "python",
   "name": "python3"
  },
  "language_info": {
   "codemirror_mode": {
    "name": "ipython",
    "version": 3
   },
   "file_extension": ".py",
   "mimetype": "text/x-python",
   "name": "python",
   "nbconvert_exporter": "python",
   "pygments_lexer": "ipython3",
   "version": "3.8.10"
  }
 },
 "nbformat": 4,
 "nbformat_minor": 5
}
