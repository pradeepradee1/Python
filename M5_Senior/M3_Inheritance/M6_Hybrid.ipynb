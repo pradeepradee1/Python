{
 "cells": [
  {
   "cell_type": "markdown",
   "id": "89f57b84",
   "metadata": {},
   "source": [
    "### Hybrid = Multiple + Hierarchical"
   ]
  },
  {
   "cell_type": "code",
   "execution_count": 16,
   "id": "76e562ba",
   "metadata": {},
   "outputs": [
    {
     "name": "stdout",
     "output_type": "stream",
     "text": [
      "this is function\n",
      "this is function two\n"
     ]
    }
   ],
   "source": [
    "class Parent:\n",
    "    def func(self):\n",
    "        print(\"this is function\")\n",
    "class Child1(Parent):\n",
    "    def func1(self):\n",
    "        print(\"this is function one\")\n",
    "class Child2():\n",
    "    def func2(self):\n",
    "        print(\"this is function two\")        \n",
    "class Child3(Parent,Child2):\n",
    "    def func3(self):\n",
    "        print(\"this is function three\")        \n",
    "d=Child3()\n",
    "d.func()\n",
    "d.func2()"
   ]
  },
  {
   "cell_type": "code",
   "execution_count": null,
   "id": "80c6032b",
   "metadata": {},
   "outputs": [],
   "source": []
  }
 ],
 "metadata": {
  "kernelspec": {
   "display_name": "Python 3 (ipykernel)",
   "language": "python",
   "name": "python3"
  },
  "language_info": {
   "codemirror_mode": {
    "name": "ipython",
    "version": 3
   },
   "file_extension": ".py",
   "mimetype": "text/x-python",
   "name": "python",
   "nbconvert_exporter": "python",
   "pygments_lexer": "ipython3",
   "version": "3.8.10"
  }
 },
 "nbformat": 4,
 "nbformat_minor": 5
}
