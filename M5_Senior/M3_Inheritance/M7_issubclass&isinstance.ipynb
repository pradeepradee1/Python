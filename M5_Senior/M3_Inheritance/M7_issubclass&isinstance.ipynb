{
 "cells": [
  {
   "cell_type": "code",
   "execution_count": 1,
   "id": "3460092b",
   "metadata": {},
   "outputs": [
    {
     "name": "stdout",
     "output_type": "stream",
     "text": [
      "True\n",
      "False\n"
     ]
    }
   ],
   "source": [
    "class calculation1:\n",
    "    def summation(self,a,b):\n",
    "        return a+b\n",
    "\n",
    "class calculation2:\n",
    "    def multiplication(self,a,b):\n",
    "        return a*b\n",
    "\n",
    "class Derived(calculation1,calculation2):\n",
    "    def divide(self,a,b):\n",
    "        return a/b\n",
    "d=Derived()\n",
    "print(issubclass(Derived,calculation2))\n",
    "print(issubclass(calculation1,calculation2))"
   ]
  },
  {
   "cell_type": "code",
   "execution_count": 2,
   "id": "35f2fccb",
   "metadata": {},
   "outputs": [
    {
     "name": "stdout",
     "output_type": "stream",
     "text": [
      "True\n"
     ]
    }
   ],
   "source": [
    "class calculation1:\n",
    "    def summation(self,a,b):\n",
    "        return a+b\n",
    "\n",
    "class calculation2:\n",
    "    def multiplication(self,a,b):\n",
    "        return a*b\n",
    "\n",
    "class Derived(calculation1,calculation2):\n",
    "    def divide(self,a,b):\n",
    "        return a/b\n",
    "\n",
    "d=Derived()\n",
    "print(isinstance(d,Derived))"
   ]
  },
  {
   "cell_type": "code",
   "execution_count": null,
   "id": "e0975e49",
   "metadata": {},
   "outputs": [],
   "source": []
  }
 ],
 "metadata": {
  "kernelspec": {
   "display_name": "Python 3 (ipykernel)",
   "language": "python",
   "name": "python3"
  },
  "language_info": {
   "codemirror_mode": {
    "name": "ipython",
    "version": 3
   },
   "file_extension": ".py",
   "mimetype": "text/x-python",
   "name": "python",
   "nbconvert_exporter": "python",
   "pygments_lexer": "ipython3",
   "version": "3.8.10"
  }
 },
 "nbformat": 4,
 "nbformat_minor": 5
}
