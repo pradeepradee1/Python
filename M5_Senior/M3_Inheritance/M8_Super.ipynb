{
 "cells": [
  {
   "cell_type": "markdown",
   "id": "c5976bbe",
   "metadata": {},
   "source": [
    "### Super() \n",
    "### Super can be used in 3 ways\n",
    "### To invoke parent class methods\n",
    "### To invoke parent class variable\n",
    "### To invoke parent class constructor"
   ]
  },
  {
   "cell_type": "code",
   "execution_count": 1,
   "id": "2e86ed68",
   "metadata": {},
   "outputs": [
    {
     "name": "stdout",
     "output_type": "stream",
     "text": [
      "This is method from B\n",
      "This is method from A\n"
     ]
    }
   ],
   "source": [
    "class A:\n",
    "    def m1(self):\n",
    "        print(\"This is method from A\")\n",
    "\n",
    "class B(A):\n",
    "    def m2(self):\n",
    "        print(\"This is method from B\")        \n",
    "        super().m1()\n",
    "b=B()\n",
    "b.m2()"
   ]
  },
  {
   "cell_type": "code",
   "execution_count": 2,
   "id": "b1e1324d",
   "metadata": {},
   "outputs": [
    {
     "name": "stdout",
     "output_type": "stream",
     "text": [
      "300\n",
      "30\n"
     ]
    }
   ],
   "source": [
    "class A:\n",
    "    a,b=10,20\n",
    "\n",
    "class B(A):\n",
    "    i,j=100,200\n",
    "    def m1(self,x,y):\n",
    "        print(self.i+self.j)\n",
    "        print(self.a+self.b)\n",
    "b=B()\n",
    "b.m1(1,2)"
   ]
  },
  {
   "cell_type": "code",
   "execution_count": 10,
   "id": "b1023b70",
   "metadata": {},
   "outputs": [
    {
     "name": "stdout",
     "output_type": "stream",
     "text": [
      "3\n",
      "300\n",
      "30\n",
      "35\n"
     ]
    }
   ],
   "source": [
    "a,b1=15,20\n",
    "class A:\n",
    "    a,b=10,20\n",
    "\n",
    "class B(A):\n",
    "    a,b=100,200\n",
    "    def m1(self,a,b):\n",
    "        print(a+b)\n",
    "        print(self.a+self.b)\n",
    "        print(super().a+super().b)\n",
    "        print(globals()['a']+globals()['b1'])\n",
    "b=B()\n",
    "b.m1(1,2)"
   ]
  },
  {
   "cell_type": "code",
   "execution_count": 11,
   "id": "51492b48",
   "metadata": {},
   "outputs": [],
   "source": [
    "class A:\n",
    "    def __init__(self):\n",
    "        print(\"Constructor from A\")\n",
    "class B:pass\n",
    "obj=B()"
   ]
  },
  {
   "cell_type": "code",
   "execution_count": 12,
   "id": "27d6f7bd",
   "metadata": {},
   "outputs": [
    {
     "name": "stdout",
     "output_type": "stream",
     "text": [
      "Constructor from B\n"
     ]
    }
   ],
   "source": [
    "class A:\n",
    "    def __init__(self):\n",
    "        print(\"Constructor from A\")\n",
    "class B:\n",
    "    def __init__(self):\n",
    "        print(\"Constructor from B\")\n",
    "obj=B()"
   ]
  },
  {
   "cell_type": "code",
   "execution_count": 13,
   "id": "fe0b5298",
   "metadata": {},
   "outputs": [
    {
     "name": "stdout",
     "output_type": "stream",
     "text": [
      "Constructor from B\n",
      "Constructor from A\n"
     ]
    }
   ],
   "source": [
    "class A:\n",
    "    def __init__(self):\n",
    "        print(\"Constructor from A\")\n",
    "class B(A):\n",
    "    def __init__(self):\n",
    "        print(\"Constructor from B\")\n",
    "        super().__init__()\n",
    "obj=B()"
   ]
  },
  {
   "cell_type": "code",
   "execution_count": null,
   "id": "84191e0a",
   "metadata": {},
   "outputs": [],
   "source": []
  }
 ],
 "metadata": {
  "kernelspec": {
   "display_name": "Python 3 (ipykernel)",
   "language": "python",
   "name": "python3"
  },
  "language_info": {
   "codemirror_mode": {
    "name": "ipython",
    "version": 3
   },
   "file_extension": ".py",
   "mimetype": "text/x-python",
   "name": "python",
   "nbconvert_exporter": "python",
   "pygments_lexer": "ipython3",
   "version": "3.8.10"
  }
 },
 "nbformat": 4,
 "nbformat_minor": 5
}
