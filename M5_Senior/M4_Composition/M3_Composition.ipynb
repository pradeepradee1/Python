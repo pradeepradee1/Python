{
 "cells": [
  {
   "cell_type": "code",
   "execution_count": 5,
   "id": "f2c4d258",
   "metadata": {},
   "outputs": [
    {
     "name": "stdout",
     "output_type": "stream",
     "text": [
      "employee Name : Radee\n",
      "employee age : 40\n",
      "employee number : 100\n",
      "employee salary : 10000\n",
      "employee car info\n",
      "Car Name : innova\n",
      "Car Model : 2.5v\n",
      "Car Color : black\n"
     ]
    }
   ],
   "source": [
    "class car:\n",
    "    def __init__(self,name,model,color):\n",
    "        self.name=name\n",
    "        self.model=model\n",
    "        self.color=color\n",
    "    def getinfo(self):\n",
    "        print(\"Car Name : {}\".format(self.name))\n",
    "        print(\"Car Model : {}\".format(self.model))\n",
    "        print(\"Car Color : {}\".format(self.color))\n",
    "        \n",
    "class person:\n",
    "    def __init__(self,name,age):\n",
    "        self.name=name\n",
    "        self.age=age\n",
    "    def eatndrink(self):\n",
    "        print(\"Eat Biriyani and Drink Beer\")\n",
    "    \n",
    "class employee(person):\n",
    "    def __init__(self,name,age,eno,esal,car):\n",
    "        super().__init__(name,age)\n",
    "        self.eno=eno\n",
    "        self.esal=esal\n",
    "        self.car=car\n",
    "    \n",
    "    def work(self):\n",
    "        print(\"Python Coding\")\n",
    "    \n",
    "    def empinfo(self):\n",
    "        print(\"employee Name : {}\".format(self.name))\n",
    "        print(\"employee age : {}\".format(self.age))\n",
    "        print(\"employee number : {}\".format(self.eno))\n",
    "        print(\"employee salary : {}\".format(self.esal))\n",
    "        print(\"employee car info\")\n",
    "        self.car.getinfo()\n",
    "\n",
    "c=car(\"innova\",\"2.5v\",\"black\")\n",
    "emp=employee(\"Radee\",40,100,10000,c)\n",
    "emp.empinfo()"
   ]
  },
  {
   "cell_type": "code",
   "execution_count": 6,
   "id": "6f59c899",
   "metadata": {},
   "outputs": [
    {
     "name": "stdout",
     "output_type": "stream",
     "text": [
      "employee Name : Radee\n",
      "employee age : 40\n",
      "employee number : 100\n",
      "employee salary : 10000\n",
      "employee car info\n",
      "Car Name : innova\n",
      "Car Model : 2.5v\n",
      "Car Color : black\n",
      "Eat Biriyani and Drink Beer\n",
      "Python Coding\n"
     ]
    }
   ],
   "source": [
    "c=car(\"innova\",\"2.5v\",\"black\")\n",
    "emp=employee(\"Radee\",40,100,10000,c)\n",
    "emp.empinfo()\n",
    "emp.eatndrink()\n",
    "emp.work()"
   ]
  },
  {
   "cell_type": "code",
   "execution_count": null,
   "id": "730bfe58",
   "metadata": {},
   "outputs": [],
   "source": []
  }
 ],
 "metadata": {
  "kernelspec": {
   "display_name": "Python 3 (ipykernel)",
   "language": "python",
   "name": "python3"
  },
  "language_info": {
   "codemirror_mode": {
    "name": "ipython",
    "version": 3
   },
   "file_extension": ".py",
   "mimetype": "text/x-python",
   "name": "python",
   "nbconvert_exporter": "python",
   "pygments_lexer": "ipython3",
   "version": "3.8.10"
  }
 },
 "nbformat": 4,
 "nbformat_minor": 5
}
