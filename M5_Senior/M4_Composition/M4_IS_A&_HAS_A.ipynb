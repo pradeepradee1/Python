{
 "cells": [
  {
   "cell_type": "markdown",
   "id": "a1fea8be",
   "metadata": {},
   "source": [
    "### When we should go for IS-A Relationship?"
   ]
  },
  {
   "cell_type": "markdown",
   "id": "71be278f",
   "metadata": {},
   "source": [
    "#### If we want to extend existing functionality with some more extra functionality then we should go for inhertance(IS-A relationship)"
   ]
  },
  {
   "cell_type": "markdown",
   "id": "d0e5937c",
   "metadata": {},
   "source": [
    "### When we should go for HAS-A Relationship ?"
   ]
  },
  {
   "cell_type": "markdown",
   "id": "2b154681",
   "metadata": {},
   "source": [
    "#### If we don't want to extend existing functionality then we should go for has-a-relationship"
   ]
  },
  {
   "cell_type": "code",
   "execution_count": null,
   "id": "6fcb237a",
   "metadata": {},
   "outputs": [],
   "source": []
  }
 ],
 "metadata": {
  "kernelspec": {
   "display_name": "Python 3 (ipykernel)",
   "language": "python",
   "name": "python3"
  },
  "language_info": {
   "codemirror_mode": {
    "name": "ipython",
    "version": 3
   },
   "file_extension": ".py",
   "mimetype": "text/x-python",
   "name": "python",
   "nbconvert_exporter": "python",
   "pygments_lexer": "ipython3",
   "version": "3.8.10"
  }
 },
 "nbformat": 4,
 "nbformat_minor": 5
}
