{
 "cells": [
  {
   "cell_type": "markdown",
   "id": "177050f1",
   "metadata": {},
   "source": [
    "### A Class inherits properly or attributes or states and action or behaviour from another class\n",
    "### The super class is a type of class which provides states and behaviour to the class\n",
    "### The Sub class is a type of class which consumes the sates and behaviour provided by the super class"
   ]
  },
  {
   "cell_type": "code",
   "execution_count": 1,
   "id": "03605bb9",
   "metadata": {},
   "outputs": [],
   "source": [
    "class BaseClass:\n",
    "    \"Body Of Base Class\"\n",
    "class DerivedClass:\n",
    "    \"Body Of derived Class\"    \n",
    "    \n",
    "class SuperClass:\n",
    "    \"Body Of Super Class\"\n",
    "class SubClass:\n",
    "    \"Body Of Sub Class\"        "
   ]
  },
  {
   "cell_type": "code",
   "execution_count": 3,
   "id": "1c91bffd",
   "metadata": {},
   "outputs": [
    {
     "name": "stdout",
     "output_type": "stream",
     "text": [
      "Enter side 1 : 3\n",
      "Enter side 2 : 5\n",
      "Enter side 3 : 4\n",
      "Side 1 is 3.0\n",
      "Side 2 is 5.0\n",
      "Side 3 is 4.0\n",
      "The area of the triangle is 6.00\n"
     ]
    }
   ],
   "source": [
    "class Polygon:\n",
    "    # Initializing the number of sides\n",
    "    def __init__(self, no_of_sides):\n",
    "        self.n = no_of_sides\n",
    "        self.sides = [0 for i in range(no_of_sides)]\n",
    "\n",
    "    def inputSides(self):\n",
    "        self.sides = [float(input(\"Enter side \"+str(i+1)+\" : \")) for i in range(self.n)]\n",
    "\n",
    "    # method to display the length of each side of the polygon\n",
    "    def dispSides(self):\n",
    "        for i in range(self.n):\n",
    "            print(\"Side\",i+1,\"is\",self.sides[i])\n",
    "\n",
    "class Triangle(Polygon):\n",
    "    # Initializing the number of sides of the triangle to 3 by \n",
    "    # calling the __init__ method of the Polygon class\n",
    "    def __init__(self):\n",
    "        Polygon.__init__(self,3)\n",
    "\n",
    "    def findArea(self):\n",
    "        a, b, c = self.sides\n",
    "\n",
    "        # calculate the semi-perimeter\n",
    "        s = (a + b + c) / 2\n",
    "\n",
    "        # Using Heron's formula to calculate the area of the triangle\n",
    "        area = (s*(s-a)*(s-b)*(s-c)) ** 0.5\n",
    "        print('The area of the triangle is %0.2f' %area)\n",
    "\n",
    "# Creating an instance of the Triangle class\n",
    "t = Triangle()\n",
    "\n",
    "# Prompting the user to enter the sides of the triangle\n",
    "t.inputSides()\n",
    "\n",
    "# Displaying the sides of the triangle\n",
    "t.dispSides()\n",
    "\n",
    "# Calculating and printing the area of the triangle\n",
    "t.findArea()"
   ]
  },
  {
   "cell_type": "markdown",
   "id": "f624fb28",
   "metadata": {},
   "source": [
    "### Types Of Inherintace:\n",
    "#### 1) SingleLevel\n",
    "#### 2) MultiLevel\n",
    "#### 3) Multiple\n",
    "#### 4) Hierarchical\n",
    "#### 5) Hybrid\n"
   ]
  },
  {
   "cell_type": "code",
   "execution_count": null,
   "id": "0a7c9852",
   "metadata": {},
   "outputs": [],
   "source": []
  }
 ],
 "metadata": {
  "kernelspec": {
   "display_name": "Python 3 (ipykernel)",
   "language": "python",
   "name": "python3"
  },
  "language_info": {
   "codemirror_mode": {
    "name": "ipython",
    "version": 3
   },
   "file_extension": ".py",
   "mimetype": "text/x-python",
   "name": "python",
   "nbconvert_exporter": "python",
   "pygments_lexer": "ipython3",
   "version": "3.8.10"
  }
 },
 "nbformat": 4,
 "nbformat_minor": 5
}
