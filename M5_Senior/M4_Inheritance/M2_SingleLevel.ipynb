{
 "cells": [
  {
   "cell_type": "code",
   "execution_count": 2,
   "id": "ac73d30c",
   "metadata": {},
   "outputs": [
    {
     "name": "stdout",
     "output_type": "stream",
     "text": [
      "dog barking\n",
      "Animal Speaking\n"
     ]
    }
   ],
   "source": [
    "class Animal:\n",
    "    def speak(self):\n",
    "        print(\"Animal Speaking\")\n",
    "class Dog(Animal):\n",
    "    def bark(self):\n",
    "        print(\"dog barking\")\n",
    "d=Dog()\n",
    "d.bark()\n",
    "d.speak()"
   ]
  },
  {
   "cell_type": "code",
   "execution_count": 3,
   "id": "050e1efb",
   "metadata": {},
   "outputs": [
    {
     "name": "stdout",
     "output_type": "stream",
     "text": [
      "this is function one\n",
      "this is function two\n"
     ]
    }
   ],
   "source": [
    "class Parent:\n",
    "    def func1(self):\n",
    "        print(\"this is function one\")\n",
    "class Child(Parent):\n",
    "    def func2(self):\n",
    "        print(\"this is function two\")\n",
    "d=Child()\n",
    "d.func1()\n",
    "d.func2()"
   ]
  },
  {
   "cell_type": "code",
   "execution_count": null,
   "id": "70859e05",
   "metadata": {},
   "outputs": [],
   "source": []
  }
 ],
 "metadata": {
  "kernelspec": {
   "display_name": "Python 3 (ipykernel)",
   "language": "python",
   "name": "python3"
  },
  "language_info": {
   "codemirror_mode": {
    "name": "ipython",
    "version": 3
   },
   "file_extension": ".py",
   "mimetype": "text/x-python",
   "name": "python",
   "nbconvert_exporter": "python",
   "pygments_lexer": "ipython3",
   "version": "3.8.10"
  }
 },
 "nbformat": 4,
 "nbformat_minor": 5
}
