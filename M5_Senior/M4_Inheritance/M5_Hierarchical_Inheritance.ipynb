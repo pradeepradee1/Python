{
 "cells": [
  {
   "cell_type": "code",
   "execution_count": 2,
   "id": "5d6daccd",
   "metadata": {},
   "outputs": [
    {
     "name": "stdout",
     "output_type": "stream",
     "text": [
      "this is function one\n",
      "this is function two\n"
     ]
    }
   ],
   "source": [
    "class Parent:\n",
    "    def func1(self):\n",
    "        print(\"this is function one\")\n",
    "class Child(Parent):\n",
    "    def func2(self):\n",
    "        print(\"this is function two\")\n",
    "class Child2(Parent):\n",
    "    def func3(self):\n",
    "        print(\"this is function three\")        \n",
    "d=Child()\n",
    "d2=Child2()\n",
    "d.func1()\n",
    "d.func2()"
   ]
  },
  {
   "cell_type": "code",
   "execution_count": null,
   "id": "7b38e8d6",
   "metadata": {},
   "outputs": [],
   "source": []
  }
 ],
 "metadata": {
  "kernelspec": {
   "display_name": "Python 3 (ipykernel)",
   "language": "python",
   "name": "python3"
  },
  "language_info": {
   "codemirror_mode": {
    "name": "ipython",
    "version": 3
   },
   "file_extension": ".py",
   "mimetype": "text/x-python",
   "name": "python",
   "nbconvert_exporter": "python",
   "pygments_lexer": "ipython3",
   "version": "3.8.10"
  }
 },
 "nbformat": 4,
 "nbformat_minor": 5
}
