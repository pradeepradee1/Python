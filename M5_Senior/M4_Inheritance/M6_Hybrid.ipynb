{
 "cells": [
  {
   "cell_type": "code",
   "execution_count": 1,
   "id": "76e562ba",
   "metadata": {},
   "outputs": [
    {
     "name": "stdout",
     "output_type": "stream",
     "text": [
      "this is function one\n"
     ]
    }
   ],
   "source": [
    "class Parent:\n",
    "    def func1(self):\n",
    "        print(\"this is function one\")\n",
    "class Child(Parent):\n",
    "    def func2(self):\n",
    "        print(\"this is function two\")\n",
    "class Child1(Parent):\n",
    "    def func3(self):\n",
    "        print(\"this is function three\")        \n",
    "class Child3(Parent):\n",
    "    def func4(self):\n",
    "        print(\"this is function four\")        \n",
    "d=Child3()\n",
    "d.func1()"
   ]
  },
  {
   "cell_type": "code",
   "execution_count": null,
   "id": "936be5b9",
   "metadata": {},
   "outputs": [],
   "source": []
  }
 ],
 "metadata": {
  "kernelspec": {
   "display_name": "Python 3 (ipykernel)",
   "language": "python",
   "name": "python3"
  },
  "language_info": {
   "codemirror_mode": {
    "name": "ipython",
    "version": 3
   },
   "file_extension": ".py",
   "mimetype": "text/x-python",
   "name": "python",
   "nbconvert_exporter": "python",
   "pygments_lexer": "ipython3",
   "version": "3.8.10"
  }
 },
 "nbformat": 4,
 "nbformat_minor": 5
}
