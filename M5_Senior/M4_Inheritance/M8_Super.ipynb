{
 "cells": [
  {
   "cell_type": "markdown",
   "id": "c5976bbe",
   "metadata": {},
   "source": [
    "### Super() \n",
    "### Super can be used in 3 ways\n",
    "### To invoke parent class methods\n",
    "### To invoke parent class variable\n",
    "### To invoke parent class constructor"
   ]
  },
  {
   "cell_type": "code",
   "execution_count": 2,
   "id": "2e86ed68",
   "metadata": {},
   "outputs": [
    {
     "name": "stdout",
     "output_type": "stream",
     "text": [
      "This is method from B\n",
      "This is method from A\n"
     ]
    }
   ],
   "source": [
    "class A:\n",
    "    def m1(self):\n",
    "        print(\"This is method from A\")\n",
    "\n",
    "class B(A):\n",
    "    def m2(self):\n",
    "        print(\"This is method from B\")        \n",
    "        super().m1()\n",
    "b=B()\n",
    "b.m2()"
   ]
  },
  {
   "cell_type": "code",
   "execution_count": 5,
   "id": "b1e1324d",
   "metadata": {},
   "outputs": [
    {
     "name": "stdout",
     "output_type": "stream",
     "text": [
      "300\n",
      "30\n"
     ]
    }
   ],
   "source": [
    "class A:\n",
    "    a,b=10,20\n",
    "\n",
    "class B(A):\n",
    "    i,j=100,200\n",
    "    def m1(self,x,y):\n",
    "        print(self.i+self.j)\n",
    "        print(self.a+self.b)\n",
    "b=B()\n",
    "b.m1(1,2)"
   ]
  },
  {
   "cell_type": "code",
   "execution_count": 7,
   "id": "b1023b70",
   "metadata": {},
   "outputs": [
    {
     "name": "stdout",
     "output_type": "stream",
     "text": [
      "3\n",
      "300\n",
      "30\n"
     ]
    },
    {
     "ename": "TypeError",
     "evalue": "unsupported operand type(s) for +: 'int' and 'B'",
     "output_type": "error",
     "traceback": [
      "\u001b[0;31m---------------------------------------------------------------------------\u001b[0m",
      "\u001b[0;31mTypeError\u001b[0m                                 Traceback (most recent call last)",
      "Input \u001b[0;32mIn [7]\u001b[0m, in \u001b[0;36m<module>\u001b[0;34m\u001b[0m\n\u001b[1;32m     11\u001b[0m         \u001b[38;5;28mprint\u001b[39m(\u001b[38;5;28mglobals\u001b[39m()[\u001b[38;5;124m'\u001b[39m\u001b[38;5;124ma\u001b[39m\u001b[38;5;124m'\u001b[39m]\u001b[38;5;241m+\u001b[39m\u001b[38;5;28mglobals\u001b[39m()[\u001b[38;5;124m'\u001b[39m\u001b[38;5;124mb\u001b[39m\u001b[38;5;124m'\u001b[39m])\n\u001b[1;32m     12\u001b[0m b\u001b[38;5;241m=\u001b[39mB()\n\u001b[0;32m---> 13\u001b[0m \u001b[43mb\u001b[49m\u001b[38;5;241;43m.\u001b[39;49m\u001b[43mm1\u001b[49m\u001b[43m(\u001b[49m\u001b[38;5;241;43m1\u001b[39;49m\u001b[43m,\u001b[49m\u001b[38;5;241;43m2\u001b[39;49m\u001b[43m)\u001b[49m\n",
      "Input \u001b[0;32mIn [7]\u001b[0m, in \u001b[0;36mB.m1\u001b[0;34m(self, a, b)\u001b[0m\n\u001b[1;32m      9\u001b[0m \u001b[38;5;28mprint\u001b[39m(\u001b[38;5;28mself\u001b[39m\u001b[38;5;241m.\u001b[39ma\u001b[38;5;241m+\u001b[39m\u001b[38;5;28mself\u001b[39m\u001b[38;5;241m.\u001b[39mb)\n\u001b[1;32m     10\u001b[0m \u001b[38;5;28mprint\u001b[39m(\u001b[38;5;28msuper\u001b[39m()\u001b[38;5;241m.\u001b[39ma\u001b[38;5;241m+\u001b[39m\u001b[38;5;28msuper\u001b[39m()\u001b[38;5;241m.\u001b[39mb)\n\u001b[0;32m---> 11\u001b[0m \u001b[38;5;28mprint\u001b[39m(\u001b[38;5;28;43mglobals\u001b[39;49m\u001b[43m(\u001b[49m\u001b[43m)\u001b[49m\u001b[43m[\u001b[49m\u001b[38;5;124;43m'\u001b[39;49m\u001b[38;5;124;43ma\u001b[39;49m\u001b[38;5;124;43m'\u001b[39;49m\u001b[43m]\u001b[49m\u001b[38;5;241;43m+\u001b[39;49m\u001b[38;5;28;43mglobals\u001b[39;49m\u001b[43m(\u001b[49m\u001b[43m)\u001b[49m\u001b[43m[\u001b[49m\u001b[38;5;124;43m'\u001b[39;49m\u001b[38;5;124;43mb\u001b[39;49m\u001b[38;5;124;43m'\u001b[39;49m\u001b[43m]\u001b[49m)\n",
      "\u001b[0;31mTypeError\u001b[0m: unsupported operand type(s) for +: 'int' and 'B'"
     ]
    }
   ],
   "source": [
    "a,b=15,20\n",
    "class A:\n",
    "    a,b=10,20\n",
    "\n",
    "class B(A):\n",
    "    a,b=100,200\n",
    "    def m1(self,a,b):\n",
    "        print(a+b)\n",
    "        print(self.a+self.b)\n",
    "        print(super().a+super().b)\n",
    "        print(globals()['a']+globals()['b'])\n",
    "b=B()\n",
    "b.m1(1,2)"
   ]
  },
  {
   "cell_type": "code",
   "execution_count": 9,
   "id": "51492b48",
   "metadata": {},
   "outputs": [],
   "source": [
    "class A:\n",
    "    def __init__(self):\n",
    "        print(\"Constructor from A\")\n",
    "class B:pass\n",
    "obj=B()"
   ]
  },
  {
   "cell_type": "code",
   "execution_count": 10,
   "id": "27d6f7bd",
   "metadata": {},
   "outputs": [
    {
     "name": "stdout",
     "output_type": "stream",
     "text": [
      "Constructor from B\n"
     ]
    }
   ],
   "source": [
    "class A:\n",
    "    def __init__(self):\n",
    "        print(\"Constructor from A\")\n",
    "class B:\n",
    "    def __init__(self):\n",
    "        print(\"Constructor from B\")\n",
    "obj=B()"
   ]
  },
  {
   "cell_type": "code",
   "execution_count": 11,
   "id": "fe0b5298",
   "metadata": {},
   "outputs": [
    {
     "name": "stdout",
     "output_type": "stream",
     "text": [
      "Constructor from B\n",
      "Constructor from A\n"
     ]
    }
   ],
   "source": [
    "class A:\n",
    "    def __init__(self):\n",
    "        print(\"Constructor from A\")\n",
    "class B(A):\n",
    "    def __init__(self):\n",
    "        print(\"Constructor from B\")\n",
    "        super().__init__()\n",
    "obj=B()"
   ]
  },
  {
   "cell_type": "code",
   "execution_count": null,
   "id": "84191e0a",
   "metadata": {},
   "outputs": [],
   "source": []
  }
 ],
 "metadata": {
  "kernelspec": {
   "display_name": "Python 3 (ipykernel)",
   "language": "python",
   "name": "python3"
  },
  "language_info": {
   "codemirror_mode": {
    "name": "ipython",
    "version": 3
   },
   "file_extension": ".py",
   "mimetype": "text/x-python",
   "name": "python",
   "nbconvert_exporter": "python",
   "pygments_lexer": "ipython3",
   "version": "3.8.10"
  }
 },
 "nbformat": 4,
 "nbformat_minor": 5
}
