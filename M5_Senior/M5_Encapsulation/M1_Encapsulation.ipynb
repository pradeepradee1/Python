{
 "cells": [
  {
   "cell_type": "markdown",
   "id": "e0690983",
   "metadata": {},
   "source": [
    "### Encapsulation :\n",
    "#### We can create the restriction to access the methods and variables \n",
    "#### so we can prevent the data from direct modification is know as encapsulation"
   ]
  },
  {
   "cell_type": "markdown",
   "id": "7f136ab5",
   "metadata": {},
   "source": [
    "### Public:\n",
    "#### All Member variables and methods are public by default in python . public variables and methods can able to access from outside the class through an object of the class"
   ]
  },
  {
   "cell_type": "code",
   "execution_count": 2,
   "id": "8aa83683",
   "metadata": {},
   "outputs": [],
   "source": [
    "class cup:\n",
    "    def __init__(self):\n",
    "        self.color=None\n",
    "        self.content=None\n",
    "    def fill(self,beverage):\n",
    "        self.context=beverage\n",
    "    def empty(self):\n",
    "        self.context=None\n",
    "redcup=cup()\n",
    "redcup.color=\"red\"\n",
    "redcup.context=\"tea\"\n",
    "redcup.empty()\n",
    "redcup.fill(\"cofee\")"
   ]
  },
  {
   "cell_type": "code",
   "execution_count": 4,
   "id": "ee02702d",
   "metadata": {},
   "outputs": [
    {
     "name": "stdout",
     "output_type": "stream",
     "text": [
      "999000\n"
     ]
    }
   ],
   "source": [
    "class employee:\n",
    "    def __init__(self,name,sal):\n",
    "        self.name=name\n",
    "        self.sal=sal\n",
    "emp=employee(\"Ironman\",999000)\n",
    "print(emp.sal)"
   ]
  },
  {
   "cell_type": "markdown",
   "id": "5ba0b492",
   "metadata": {},
   "source": [
    "### Protected:"
   ]
  },
  {
   "cell_type": "markdown",
   "id": "f8499cfd",
   "metadata": {},
   "source": [
    "#### The members declared as protected are accessible from outside the class.\n",
    "#### However, Python does not enforce this restriction, and you can still access private members directly if needed"
   ]
  },
  {
   "cell_type": "code",
   "execution_count": 5,
   "id": "605bea45",
   "metadata": {},
   "outputs": [
    {
     "name": "stdout",
     "output_type": "stream",
     "text": [
      "10000\n"
     ]
    }
   ],
   "source": [
    "class employee:\n",
    "    def __init__(self,name,sal):\n",
    "        #Protected attibute\n",
    "        self._name=name\n",
    "        self._sal=sal\n",
    "emp=employee(\"captian\",10000)\n",
    "print(emp._sal)"
   ]
  },
  {
   "cell_type": "code",
   "execution_count": 7,
   "id": "330462a4",
   "metadata": {},
   "outputs": [
    {
     "name": "stdout",
     "output_type": "stream",
     "text": [
      "10000\n",
      "We manage Employees\n"
     ]
    }
   ],
   "source": [
    "class hr(employee):\n",
    "    def task(self):\n",
    "        print(\"We manage Employees\")\n",
    "hremp = hr(\"captian\",10000)\n",
    "print(hremp._sal)\n",
    "hremp.task()"
   ]
  },
  {
   "cell_type": "code",
   "execution_count": 8,
   "id": "72dc5aad",
   "metadata": {},
   "outputs": [
    {
     "name": "stdout",
     "output_type": "stream",
     "text": [
      "tea\n"
     ]
    }
   ],
   "source": [
    "class cup:\n",
    "    def __init__(self):\n",
    "        self.color=None\n",
    "        #Protected Variable\n",
    "        self._content=None\n",
    "    def fill(self,beverage):\n",
    "        self._context=beverage\n",
    "    def empty(self):\n",
    "        self._context=None\n",
    "cup=cup()\n",
    "cup._context=\"tea\"\n",
    "print(cup._context)"
   ]
  },
  {
   "cell_type": "markdown",
   "id": "96d55885",
   "metadata": {},
   "source": [
    "### Private:"
   ]
  },
  {
   "cell_type": "markdown",
   "id": "5e3f87c8",
   "metadata": {},
   "source": [
    "#### These members are only accessible from within the class no outside access is allowed"
   ]
  },
  {
   "cell_type": "code",
   "execution_count": 4,
   "id": "352df375",
   "metadata": {},
   "outputs": [
    {
     "ename": "AttributeError",
     "evalue": "'employee' object has no attribute '__sal'",
     "output_type": "error",
     "traceback": [
      "\u001b[0;31m---------------------------------------------------------------------------\u001b[0m",
      "\u001b[0;31mAttributeError\u001b[0m                            Traceback (most recent call last)",
      "Input \u001b[0;32mIn [4]\u001b[0m, in \u001b[0;36m<module>\u001b[0;34m\u001b[0m\n\u001b[1;32m      7\u001b[0m         \u001b[38;5;28mprint\u001b[39m(\u001b[38;5;28mself\u001b[39m\u001b[38;5;241m.\u001b[39m__name)\n\u001b[1;32m      8\u001b[0m emp\u001b[38;5;241m=\u001b[39memployee(\u001b[38;5;124m\"\u001b[39m\u001b[38;5;124mBill\u001b[39m\u001b[38;5;124m\"\u001b[39m,\u001b[38;5;241m10000\u001b[39m)\n\u001b[0;32m----> 9\u001b[0m \u001b[38;5;28mprint\u001b[39m(\u001b[43memp\u001b[49m\u001b[38;5;241;43m.\u001b[39;49m\u001b[43m__sal\u001b[49m)\n",
      "\u001b[0;31mAttributeError\u001b[0m: 'employee' object has no attribute '__sal'"
     ]
    }
   ],
   "source": [
    "class employee:\n",
    "    def __init__(self,name,sal):\n",
    "        #Private attribute\n",
    "        self.__name=name\n",
    "        self.__sal=sal\n",
    "    def view(self):\n",
    "        print(self.__name)\n",
    "emp=employee(\"Bill\",10000)\n",
    "print(emp.__sal)"
   ]
  },
  {
   "cell_type": "code",
   "execution_count": 11,
   "id": "849861e7",
   "metadata": {},
   "outputs": [
    {
     "name": "stdout",
     "output_type": "stream",
     "text": [
      "10000\n"
     ]
    }
   ],
   "source": [
    "emp=employee(\"Bill\",10000)\n",
    "print(emp._employee__sal)"
   ]
  },
  {
   "cell_type": "code",
   "execution_count": 12,
   "id": "a3fe16d9",
   "metadata": {},
   "outputs": [
    {
     "name": "stdout",
     "output_type": "stream",
     "text": [
      "20000\n"
     ]
    }
   ],
   "source": [
    "emp._employee__sal=20000\n",
    "print(emp._employee__sal)"
   ]
  },
  {
   "cell_type": "code",
   "execution_count": null,
   "id": "f5b340c6",
   "metadata": {},
   "outputs": [],
   "source": []
  }
 ],
 "metadata": {
  "kernelspec": {
   "display_name": "Python 3 (ipykernel)",
   "language": "python",
   "name": "python3"
  },
  "language_info": {
   "codemirror_mode": {
    "name": "ipython",
    "version": 3
   },
   "file_extension": ".py",
   "mimetype": "text/x-python",
   "name": "python",
   "nbconvert_exporter": "python",
   "pygments_lexer": "ipython3",
   "version": "3.8.10"
  }
 },
 "nbformat": 4,
 "nbformat_minor": 5
}
