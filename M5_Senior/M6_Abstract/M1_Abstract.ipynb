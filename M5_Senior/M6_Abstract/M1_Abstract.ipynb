{
 "cells": [
  {
   "cell_type": "markdown",
   "id": "4592ca80",
   "metadata": {},
   "source": [
    "### Abstract:\n",
    "#### Abstract class are classes that contain one or more abstract methods\n",
    "#### An Abstract method is a method that is declared but contains no implmentation\n",
    "#### It Requires subclass to provide implementation for the abstract methods"
   ]
  },
  {
   "cell_type": "code",
   "execution_count": 1,
   "id": "421e3786",
   "metadata": {},
   "outputs": [
    {
     "name": "stdout",
     "output_type": "stream",
     "text": [
      "this is display method\n"
     ]
    }
   ],
   "source": [
    "from abc import ABC,abstractmethod\n",
    "#Note : abc is pre defined abstract class\n",
    "class A(ABC):\n",
    "    @abstractmethod\n",
    "    def display(self):\n",
    "        None\n",
    "class B(A):\n",
    "    def display(self):\n",
    "        print(\"this is display method\")\n",
    "obj=B()\n",
    "obj.display()"
   ]
  },
  {
   "cell_type": "code",
   "execution_count": 2,
   "id": "a6e55e73",
   "metadata": {},
   "outputs": [
    {
     "name": "stdout",
     "output_type": "stream",
     "text": [
      "eat Non-Veg\n",
      "eat veg\n"
     ]
    }
   ],
   "source": [
    "from abc import ABC,abstractmethod\n",
    "class Animal(ABC):\n",
    "    @abstractmethod\n",
    "    def eat(self):\n",
    "        pass\n",
    "class Tiger(Animal):\n",
    "    def eat(self):\n",
    "        print(\"eat Non-Veg\")\n",
    "class cow(Animal):\n",
    "    def eat(self):\n",
    "        print(\"eat veg\")\n",
    "t=Tiger()\n",
    "t.eat()\n",
    "c=cow()\n",
    "c.eat()"
   ]
  },
  {
   "cell_type": "code",
   "execution_count": 3,
   "id": "99e79b03",
   "metadata": {},
   "outputs": [
    {
     "ename": "TypeError",
     "evalue": "Can't instantiate abstract class y with abstract methods m2",
     "output_type": "error",
     "traceback": [
      "\u001b[0;31m---------------------------------------------------------------------------\u001b[0m",
      "\u001b[0;31mTypeError\u001b[0m                                 Traceback (most recent call last)",
      "Input \u001b[0;32mIn [3]\u001b[0m, in \u001b[0;36m<module>\u001b[0;34m\u001b[0m\n\u001b[1;32m     10\u001b[0m     \u001b[38;5;28;01mdef\u001b[39;00m \u001b[38;5;21mm1\u001b[39m(\u001b[38;5;28mself\u001b[39m):\n\u001b[1;32m     11\u001b[0m         \u001b[38;5;28mprint\u001b[39m(\u001b[38;5;124m\"\u001b[39m\u001b[38;5;124mThis is m1\u001b[39m\u001b[38;5;124m\"\u001b[39m)\n\u001b[0;32m---> 12\u001b[0m yobj\u001b[38;5;241m=\u001b[39m\u001b[43my\u001b[49m\u001b[43m(\u001b[49m\u001b[43m)\u001b[49m\n\u001b[1;32m     13\u001b[0m yobj\u001b[38;5;241m.\u001b[39mm1()\n",
      "\u001b[0;31mTypeError\u001b[0m: Can't instantiate abstract class y with abstract methods m2"
     ]
    }
   ],
   "source": [
    "from abc import ABC,abstractmethod\n",
    "class x(ABC):\n",
    "    @abstractmethod\n",
    "    def m1(self):\n",
    "        pass\n",
    "    @abstractmethod\n",
    "    def m2(self):\n",
    "        pass\n",
    "class y(x):\n",
    "    def m1(self):\n",
    "        print(\"This is m1\")\n",
    "yobj=y()\n",
    "yobj.m1()"
   ]
  },
  {
   "cell_type": "code",
   "execution_count": 4,
   "id": "5143c625",
   "metadata": {},
   "outputs": [
    {
     "name": "stdout",
     "output_type": "stream",
     "text": [
      "This is m1\n",
      "This is m2\n"
     ]
    }
   ],
   "source": [
    "from abc import ABC,abstractmethod\n",
    "class x(ABC):\n",
    "    @abstractmethod\n",
    "    def m1(self):\n",
    "        pass\n",
    "    @abstractmethod\n",
    "    def m2(self):\n",
    "        pass\n",
    "class y(x):\n",
    "    def m1(self):\n",
    "        print(\"This is m1\")\n",
    "class z(y):\n",
    "    def m2(self):\n",
    "        print(\"This is m2\")\n",
    "\n",
    "zobj=z()\n",
    "zobj.m1()\n",
    "zobj.m2()"
   ]
  },
  {
   "cell_type": "code",
   "execution_count": null,
   "id": "70738a04",
   "metadata": {},
   "outputs": [],
   "source": []
  },
  {
   "cell_type": "code",
   "execution_count": null,
   "id": "4574ec6b",
   "metadata": {},
   "outputs": [],
   "source": []
  }
 ],
 "metadata": {
  "kernelspec": {
   "display_name": "Python 3 (ipykernel)",
   "language": "python",
   "name": "python3"
  },
  "language_info": {
   "codemirror_mode": {
    "name": "ipython",
    "version": 3
   },
   "file_extension": ".py",
   "mimetype": "text/x-python",
   "name": "python",
   "nbconvert_exporter": "python",
   "pygments_lexer": "ipython3",
   "version": "3.8.10"
  }
 },
 "nbformat": 4,
 "nbformat_minor": 5
}
