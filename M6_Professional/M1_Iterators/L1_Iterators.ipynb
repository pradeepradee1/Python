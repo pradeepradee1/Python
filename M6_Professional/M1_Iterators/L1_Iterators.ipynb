{
 "cells": [
  {
   "cell_type": "markdown",
   "id": "68908785",
   "metadata": {},
   "source": [
    "## Iterator\n",
    "### It is an object which we can access all the elements of a collection without using index\n",
    "### It has two methods __iter__() and __next__()\n",
    "### __iter__() creates an iterator object.\n",
    "### __next__() Access the element from the iterator."
   ]
  },
  {
   "cell_type": "code",
   "execution_count": 3,
   "id": "06e85a32",
   "metadata": {},
   "outputs": [
    {
     "name": "stdout",
     "output_type": "stream",
     "text": [
      "4\n",
      "7\n",
      "0\n",
      "3\n"
     ]
    }
   ],
   "source": [
    "my_list=[4,7,0,3]\n",
    "my_iter=iter(my_list)\n",
    "print(next(my_iter))\n",
    "print(next(my_iter))\n",
    "print(my_iter.__next__())\n",
    "print(my_iter.__next__())"
   ]
  },
  {
   "cell_type": "code",
   "execution_count": 4,
   "id": "5a451a6e",
   "metadata": {},
   "outputs": [
    {
     "name": "stdout",
     "output_type": "stream",
     "text": [
      "4\n",
      "7\n",
      "0\n",
      "3\n"
     ]
    }
   ],
   "source": [
    "for element in my_list:\n",
    "    print(element)"
   ]
  },
  {
   "cell_type": "code",
   "execution_count": null,
   "id": "be529ee8",
   "metadata": {},
   "outputs": [],
   "source": []
  }
 ],
 "metadata": {
  "kernelspec": {
   "display_name": "Python 3 (ipykernel)",
   "language": "python",
   "name": "python3"
  },
  "language_info": {
   "codemirror_mode": {
    "name": "ipython",
    "version": 3
   },
   "file_extension": ".py",
   "mimetype": "text/x-python",
   "name": "python",
   "nbconvert_exporter": "python",
   "pygments_lexer": "ipython3",
   "version": "3.8.10"
  }
 },
 "nbformat": 4,
 "nbformat_minor": 5
}
