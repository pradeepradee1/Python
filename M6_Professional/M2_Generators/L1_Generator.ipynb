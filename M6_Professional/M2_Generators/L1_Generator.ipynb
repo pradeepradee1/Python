{
 "cells": [
  {
   "cell_type": "markdown",
   "id": "74eb2f7e",
   "metadata": {},
   "source": [
    "### Generator :\n",
    "#### Generator is a function which is responsible to generate a sequence of values.\n",
    "#### We can create generator functions just like ordinary functions,\n",
    "#### It uses yield keyword to return values."
   ]
  },
  {
   "cell_type": "markdown",
   "id": "59004ac5",
   "metadata": {},
   "source": [
    "### Advantage Of Generator Functions:\n",
    "#### 1. Improves memory utilization and performance.\n",
    "#### 2. Generators are best suitable for reading data from large number of large files\n",
    "#### 3. Generators work great for web scraping and crawling."
   ]
  },
  {
   "cell_type": "markdown",
   "id": "cc95aa9c",
   "metadata": {},
   "source": [
    "### Note:\n",
    "### Generator is updated version of functions and inbuilt data structures"
   ]
  },
  {
   "cell_type": "code",
   "execution_count": 1,
   "id": "6020ec81",
   "metadata": {},
   "outputs": [
    {
     "name": "stdout",
     "output_type": "stream",
     "text": [
      "<class 'generator'>\n",
      "A\n",
      "B\n",
      "C\n"
     ]
    },
    {
     "ename": "StopIteration",
     "evalue": "",
     "output_type": "error",
     "traceback": [
      "\u001b[0;31m---------------------------------------------------------------------------\u001b[0m",
      "\u001b[0;31mStopIteration\u001b[0m                             Traceback (most recent call last)",
      "Input \u001b[0;32mIn [1]\u001b[0m, in \u001b[0;36m<module>\u001b[0;34m\u001b[0m\n\u001b[1;32m      8\u001b[0m \u001b[38;5;28mprint\u001b[39m(\u001b[38;5;28mnext\u001b[39m(g))\n\u001b[1;32m      9\u001b[0m \u001b[38;5;28mprint\u001b[39m(\u001b[38;5;28mnext\u001b[39m(g))\n\u001b[0;32m---> 10\u001b[0m \u001b[38;5;28mprint\u001b[39m(\u001b[38;5;28;43mnext\u001b[39;49m\u001b[43m(\u001b[49m\u001b[43mg\u001b[49m\u001b[43m)\u001b[49m)\n",
      "\u001b[0;31mStopIteration\u001b[0m: "
     ]
    }
   ],
   "source": [
    "def mygen():\n",
    "    yield 'A'\n",
    "    yield 'B'\n",
    "    yield 'C'\n",
    "g=mygen()\n",
    "print(type(g))\n",
    "print(next(g))\n",
    "print(next(g))\n",
    "print(next(g))\n",
    "print(next(g))    "
   ]
  },
  {
   "cell_type": "code",
   "execution_count": 2,
   "id": "a41c7ffb",
   "metadata": {},
   "outputs": [
    {
     "name": "stdout",
     "output_type": "stream",
     "text": [
      "This is Printed first\n",
      "1\n",
      "This is Printed second\n",
      "2\n",
      "This is Printed third\n",
      "3\n"
     ]
    }
   ],
   "source": [
    "def mygen():\n",
    "    n=1\n",
    "    print(\"This is Printed first\")\n",
    "    yield n\n",
    "    n+=1\n",
    "    print(\"This is Printed second\")\n",
    "    yield n\n",
    "    n+=1\n",
    "    print(\"This is Printed third\")\n",
    "    yield n\n",
    "a=mygen()\n",
    "print(next(a))\n",
    "print(next(a))\n",
    "print(next(a))"
   ]
  },
  {
   "cell_type": "code",
   "execution_count": 3,
   "id": "4e8020f7",
   "metadata": {},
   "outputs": [
    {
     "name": "stdout",
     "output_type": "stream",
     "text": [
      "Start Countdown\n",
      "5\n",
      "4\n",
      "3\n",
      "2\n",
      "1\n"
     ]
    }
   ],
   "source": [
    "def countdown(num):\n",
    "    print(\"Start Countdown\")\n",
    "    while (num>0):\n",
    "        yield num\n",
    "        num=num-1\n",
    "values=countdown(5)\n",
    "for x in values:\n",
    "    print(x)"
   ]
  },
  {
   "cell_type": "code",
   "execution_count": 4,
   "id": "8d3f3038",
   "metadata": {},
   "outputs": [
    {
     "name": "stdout",
     "output_type": "stream",
     "text": [
      "1\n",
      "2\n",
      "3\n",
      "4\n",
      "5\n"
     ]
    }
   ],
   "source": [
    "# Generate first n numbers\n",
    "def firstn(num):\n",
    "    n=1\n",
    "    while n<=num:\n",
    "        yield n\n",
    "        n=n+1\n",
    "\n",
    "values=firstn(5)\n",
    "for x in values:\n",
    "    print(x)  "
   ]
  },
  {
   "cell_type": "code",
   "execution_count": 5,
   "id": "f962caea",
   "metadata": {},
   "outputs": [
    {
     "name": "stdout",
     "output_type": "stream",
     "text": [
      "0\n",
      "1\n",
      "1\n",
      "2\n",
      "3\n",
      "5\n",
      "8\n",
      "13\n",
      "21\n",
      "34\n",
      "55\n",
      "89\n"
     ]
    }
   ],
   "source": [
    "#Fibnocci Series\n",
    "def fib():\n",
    "    a,b=0,1\n",
    "    while True:\n",
    "        yield a\n",
    "        a,b=b,a+b\n",
    "for f in fib():\n",
    "    if f>100:\n",
    "        break\n",
    "    print(f)"
   ]
  },
  {
   "cell_type": "code",
   "execution_count": null,
   "id": "6d32f5f0",
   "metadata": {},
   "outputs": [],
   "source": []
  },
  {
   "cell_type": "code",
   "execution_count": null,
   "id": "462efc6b",
   "metadata": {},
   "outputs": [],
   "source": []
  }
 ],
 "metadata": {
  "kernelspec": {
   "display_name": "Python 3 (ipykernel)",
   "language": "python",
   "name": "python3"
  },
  "language_info": {
   "codemirror_mode": {
    "name": "ipython",
    "version": 3
   },
   "file_extension": ".py",
   "mimetype": "text/x-python",
   "name": "python",
   "nbconvert_exporter": "python",
   "pygments_lexer": "ipython3",
   "version": "3.8.10"
  }
 },
 "nbformat": 4,
 "nbformat_minor": 5
}
