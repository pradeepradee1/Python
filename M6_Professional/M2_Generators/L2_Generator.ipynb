{
 "cells": [
  {
   "cell_type": "markdown",
   "id": "bdc66e30",
   "metadata": {},
   "source": [
    "### Generators vs Normal Collections wrt Memory Utilization:"
   ]
  },
  {
   "cell_type": "markdown",
   "id": "872e996f",
   "metadata": {},
   "source": [
    "### Normal Collection:"
   ]
  },
  {
   "cell_type": "code",
   "execution_count": 1,
   "id": "687e5e65",
   "metadata": {},
   "outputs": [],
   "source": [
    "#l=[x*x for x in range(10000000000000000)]\n",
    "#print(l[0])"
   ]
  },
  {
   "cell_type": "markdown",
   "id": "b9e49f6c",
   "metadata": {},
   "source": [
    "### Note:\n",
    "### We will get MemoryError in this case because all these values are required to store in the memory."
   ]
  },
  {
   "cell_type": "markdown",
   "id": "494886ce",
   "metadata": {},
   "source": [
    "### Generators:"
   ]
  },
  {
   "cell_type": "code",
   "execution_count": 3,
   "id": "91d60206",
   "metadata": {},
   "outputs": [
    {
     "name": "stdout",
     "output_type": "stream",
     "text": [
      "0\n"
     ]
    }
   ],
   "source": [
    "g=(x*x for x in range(10000000000000000))\n",
    "print(next(g))"
   ]
  },
  {
   "cell_type": "markdown",
   "id": "808f62da",
   "metadata": {},
   "source": [
    "### Note:\n",
    "### We won't get any MemoryError because the values won't be stored at the beginning"
   ]
  },
  {
   "cell_type": "code",
   "execution_count": null,
   "id": "e16d5943",
   "metadata": {},
   "outputs": [],
   "source": []
  },
  {
   "cell_type": "code",
   "execution_count": null,
   "id": "fc206da5",
   "metadata": {},
   "outputs": [],
   "source": []
  }
 ],
 "metadata": {
  "kernelspec": {
   "display_name": "Python 3 (ipykernel)",
   "language": "python",
   "name": "python3"
  },
  "language_info": {
   "codemirror_mode": {
    "name": "ipython",
    "version": 3
   },
   "file_extension": ".py",
   "mimetype": "text/x-python",
   "name": "python",
   "nbconvert_exporter": "python",
   "pygments_lexer": "ipython3",
   "version": "3.8.10"
  }
 },
 "nbformat": 4,
 "nbformat_minor": 5
}
