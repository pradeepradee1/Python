{
 "cells": [
  {
   "cell_type": "markdown",
   "id": "d29a9787",
   "metadata": {},
   "source": [
    "### Decorators:\n",
    "### 1) Decorator is a function which can take a function as argument\n",
    "### 2) we can extend the functionality of existing functions without modifies that function"
   ]
  },
  {
   "cell_type": "markdown",
   "id": "43d27174",
   "metadata": {},
   "source": [
    "### Note :\n",
    "### we can use it in web frameworks"
   ]
  },
  {
   "cell_type": "code",
   "execution_count": 1,
   "id": "a10d2f8f",
   "metadata": {},
   "outputs": [
    {
     "name": "stdout",
     "output_type": "stream",
     "text": [
      "Hello\n",
      "Hello\n"
     ]
    }
   ],
   "source": [
    "def first(msg):\n",
    "    print(msg)\n",
    "first(\"Hello\")\n",
    "second=first\n",
    "second(\"Hello\")"
   ]
  },
  {
   "cell_type": "code",
   "execution_count": 10,
   "id": "28bdd535",
   "metadata": {},
   "outputs": [
    {
     "name": "stdout",
     "output_type": "stream",
     "text": [
      "Hello\n"
     ]
    }
   ],
   "source": [
    "#Closure Functions\n",
    "def is_called():\n",
    "    def is_returned():\n",
    "        print(\"Hello\")\n",
    "    return is_returned\n",
    "new=is_called()\n",
    "new()"
   ]
  },
  {
   "cell_type": "code",
   "execution_count": 16,
   "id": "360398ee",
   "metadata": {},
   "outputs": [
    {
     "name": "stdout",
     "output_type": "stream",
     "text": [
      "4\n",
      "2\n"
     ]
    }
   ],
   "source": [
    "def inc(x):\n",
    "    return x+1\n",
    "def dec(x):\n",
    "    return x-1\n",
    "def operate(func,x):\n",
    "    result=func(x)\n",
    "    return result\n",
    "print(operate(inc,3))\n",
    "print(operate(dec,3))"
   ]
  },
  {
   "cell_type": "code",
   "execution_count": 24,
   "id": "72692cea",
   "metadata": {},
   "outputs": [
    {
     "name": "stdout",
     "output_type": "stream",
     "text": [
      "I am Ordinary\n",
      "I Got decorated\n",
      "I am Ordinary\n"
     ]
    }
   ],
   "source": [
    "def make_pretty(func):\n",
    "    def inner():\n",
    "        print('I Got decorated')\n",
    "        func()\n",
    "    return inner\n",
    "def ordinary():\n",
    "    print(\"I am Ordinary\")\n",
    "ordinary()\n",
    "pretty=make_pretty(ordinary)\n",
    "pretty()"
   ]
  },
  {
   "cell_type": "code",
   "execution_count": 25,
   "id": "6a54b995",
   "metadata": {},
   "outputs": [
    {
     "name": "stdout",
     "output_type": "stream",
     "text": [
      "Hello Radee Good evening\n",
      "Hello Ravi Good evening\n",
      "Hello Sunny Good evening\n"
     ]
    }
   ],
   "source": [
    "def wish(name):\n",
    "    print(\"Hello\",name,\"Good evening\")\n",
    "wish(\"Radee\")\n",
    "wish(\"Ravi\")\n",
    "wish(\"Sunny\")"
   ]
  },
  {
   "cell_type": "code",
   "execution_count": 26,
   "id": "1ab915d7",
   "metadata": {},
   "outputs": [
    {
     "name": "stdout",
     "output_type": "stream",
     "text": [
      "Hello Durga Good Morning\n",
      "Hello Ravi Good Morning\n",
      "Hello Sunny Bad Morning\n"
     ]
    }
   ],
   "source": [
    "def decor(func):\n",
    "    def inner(name):\n",
    "        if name==\"Sunny\":\n",
    "            print(\"Hello Sunny Bad Morning\")\n",
    "        else:\n",
    "            func(name)\n",
    "    return inner\n",
    "\n",
    "@decor\n",
    "def wish(name):\n",
    "    print(\"Hello\",name,\"Good Morning\")\n",
    "\n",
    "wish(\"Durga\")\n",
    "wish(\"Ravi\")\n",
    "wish(\"Sunny\")"
   ]
  },
  {
   "cell_type": "code",
   "execution_count": 27,
   "id": "05645f93",
   "metadata": {},
   "outputs": [
    {
     "name": "stdout",
     "output_type": "stream",
     "text": [
      "Hello Durga Good Morning\n",
      "Hello Ravi Good Morning\n",
      "Hello Sunny Good Morning\n"
     ]
    }
   ],
   "source": [
    "def decor(func):\n",
    "    def inner(name):\n",
    "        if name==\"Sunny\":\n",
    "            print(\"Hello Sunny Bad Morning\")\n",
    "        else:\n",
    "            func(name)\n",
    "    return inner\n",
    "\n",
    "\n",
    "def wish(name):\n",
    "    print(\"Hello\",name,\"Good Morning\")\n",
    "\n",
    "wish(\"Durga\")\n",
    "wish(\"Ravi\")\n",
    "wish(\"Sunny\")"
   ]
  },
  {
   "cell_type": "code",
   "execution_count": 28,
   "id": "384b9057",
   "metadata": {},
   "outputs": [
    {
     "name": "stdout",
     "output_type": "stream",
     "text": [
      "Hello Sunny Good Morning\n",
      "Hello Sunny Bad Morning\n",
      "Hello Radee Good Morning\n",
      "Hello Radee Good Morning\n"
     ]
    }
   ],
   "source": [
    "def decor(func):\n",
    "    def inner(name):\n",
    "        if name==\"Sunny\":\n",
    "            print(\"Hello Sunny Bad Morning\")\n",
    "        else:\n",
    "            func(name)\n",
    "    return inner\n",
    "\n",
    "\n",
    "def wish(name):\n",
    "    print(\"Hello\",name,\"Good Morning\")\n",
    "\n",
    "decorfunction=decor(wish)\n",
    "wish(\"Sunny\")\n",
    "decorfunction(\"Sunny\")\n",
    "wish(\"Radee\")\n",
    "decorfunction(\"Radee\")"
   ]
  },
  {
   "cell_type": "code",
   "execution_count": 29,
   "id": "6eadb7b3",
   "metadata": {},
   "outputs": [
    {
     "name": "stdout",
     "output_type": "stream",
     "text": [
      "We are dividing 10 with 2\n",
      "5.0\n",
      "We are dividing 10 with 5\n",
      "2.0\n",
      "We are dividing 10 with 0\n",
      "OOPS...cannot divide\n",
      "None\n"
     ]
    }
   ],
   "source": [
    "def smart_division(func):\n",
    "    def inner(a,b):\n",
    "        print(\"We are dividing\",a,\"with\",b)\n",
    "        if b==0:\n",
    "            print(\"OOPS...cannot divide\")\n",
    "        else:\n",
    "            return func(a,b)\n",
    "    return inner\n",
    "\n",
    "@smart_division\n",
    "def division(a,b):\n",
    "    return a/b\n",
    "\n",
    "print(division(10,2))\n",
    "print(division(10,5))\n",
    "print(division(10,0))"
   ]
  },
  {
   "cell_type": "code",
   "execution_count": null,
   "id": "7b9ed34e",
   "metadata": {},
   "outputs": [],
   "source": []
  }
 ],
 "metadata": {
  "kernelspec": {
   "display_name": "Python 3 (ipykernel)",
   "language": "python",
   "name": "python3"
  },
  "language_info": {
   "codemirror_mode": {
    "name": "ipython",
    "version": 3
   },
   "file_extension": ".py",
   "mimetype": "text/x-python",
   "name": "python",
   "nbconvert_exporter": "python",
   "pygments_lexer": "ipython3",
   "version": "3.8.10"
  }
 },
 "nbformat": 4,
 "nbformat_minor": 5
}
