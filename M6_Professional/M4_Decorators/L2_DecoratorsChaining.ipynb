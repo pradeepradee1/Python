{
 "cells": [
  {
   "cell_type": "markdown",
   "id": "09a97ae4",
   "metadata": {},
   "source": [
    "### Decorator Chaining\n",
    "### We can define multiple decorators for the same function and all these decorators will\n",
    "### form Decorator Chaining."
   ]
  },
  {
   "cell_type": "code",
   "execution_count": 1,
   "id": "99e6763c",
   "metadata": {},
   "outputs": [
    {
     "name": "stdout",
     "output_type": "stream",
     "text": [
      "Second Decor(decor1) Execution\n",
      "First Decor(decor) Function Execution\n",
      "Hello Durga Good Morning\n"
     ]
    }
   ],
   "source": [
    "def decor(func):\n",
    "    def inner(name):\n",
    "        print(\"First Decor(decor) Function Execution\")\n",
    "        func(name)\n",
    "    return inner\n",
    "\n",
    "def decor1(func):\n",
    "    def inner(name):\n",
    "        print(\"Second Decor(decor1) Execution\")\n",
    "        func(name)\n",
    "    return inner\n",
    "\n",
    "@decor1\n",
    "@decor\n",
    "def wish(name):\n",
    "    print(\"Hello\",name,\"Good Morning\")\n",
    "\n",
    "wish(\"Durga\")"
   ]
  },
  {
   "cell_type": "code",
   "execution_count": null,
   "id": "3dafb621",
   "metadata": {},
   "outputs": [],
   "source": []
  }
 ],
 "metadata": {
  "kernelspec": {
   "display_name": "Python 3 (ipykernel)",
   "language": "python",
   "name": "python3"
  },
  "language_info": {
   "codemirror_mode": {
    "name": "ipython",
    "version": 3
   },
   "file_extension": ".py",
   "mimetype": "text/x-python",
   "name": "python",
   "nbconvert_exporter": "python",
   "pygments_lexer": "ipython3",
   "version": "3.8.10"
  }
 },
 "nbformat": 4,
 "nbformat_minor": 5
}
