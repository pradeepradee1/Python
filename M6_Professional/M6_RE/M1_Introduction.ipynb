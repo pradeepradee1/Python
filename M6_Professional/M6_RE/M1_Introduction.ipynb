{
 "cells": [
  {
   "cell_type": "markdown",
   "id": "b60e6807",
   "metadata": {},
   "source": [
    "#### This module contains several inbuilt functions to use Regular Expressions very easily in our applications."
   ]
  },
  {
   "cell_type": "markdown",
   "id": "0bdf2d4e",
   "metadata": {},
   "source": [
    "### 1. compile()\n",
    "#### re module contains compile() function to compile a pattern into RegexObject."
   ]
  },
  {
   "cell_type": "markdown",
   "id": "599bd6c1",
   "metadata": {},
   "source": [
    "#### pattern = re.compile(\"ab\")"
   ]
  },
  {
   "cell_type": "markdown",
   "id": "24e95121",
   "metadata": {},
   "source": [
    "### 2. finditer():"
   ]
  },
  {
   "cell_type": "markdown",
   "id": "908baac3",
   "metadata": {},
   "source": [
    "#### Returns an Iterator object which yields Match object for every Match"
   ]
  },
  {
   "cell_type": "markdown",
   "id": "e66da6e7",
   "metadata": {},
   "source": [
    "#### matcher = pattern.finditer(\"abaababa\")\n",
    "\n",
    "#### 1. start()  Returns start index of the match\n",
    "#### 2. end()  Returns end+1 index of the match\n",
    "#### 3. group()  Returns the matched string"
   ]
  },
  {
   "cell_type": "code",
   "execution_count": 1,
   "id": "b861ffb8",
   "metadata": {},
   "outputs": [
    {
     "name": "stdout",
     "output_type": "stream",
     "text": [
      "0 ... 2 ... ab\n",
      "3 ... 5 ... ab\n",
      "5 ... 7 ... ab\n",
      "The number of occurrences:  3\n"
     ]
    }
   ],
   "source": [
    "import re \n",
    "count=0\n",
    "pattern=re.compile(\"ab\")\n",
    "matcher=pattern.finditer(\"abaababa\")\n",
    "for match in matcher:\n",
    "    count+=1\n",
    "    print(match.start(),\"...\",match.end(),\"...\",match.group())\n",
    "print(\"The number of occurrences: \",count)"
   ]
  },
  {
   "cell_type": "markdown",
   "id": "0345ef1c",
   "metadata": {},
   "source": [
    "### Note: We can pass pattern directly as argument to finditer() function."
   ]
  },
  {
   "cell_type": "code",
   "execution_count": 2,
   "id": "40763c62",
   "metadata": {},
   "outputs": [
    {
     "name": "stdout",
     "output_type": "stream",
     "text": [
      "0 ... 2 ... ab\n",
      "3 ... 5 ... ab\n",
      "5 ... 7 ... ab\n",
      "The number of occurrences:  3\n"
     ]
    }
   ],
   "source": [
    "import re\n",
    "count=0\n",
    "matcher=re.finditer(\"ab\",\"abaababa\")\n",
    "for match in matcher:\n",
    "    count+=1\n",
    "    print(match.start(),\"...\",match.end(),\"...\",match.group())\n",
    "print(\"The number of occurrences: \",count)"
   ]
  },
  {
   "cell_type": "code",
   "execution_count": null,
   "id": "539b7d3a",
   "metadata": {},
   "outputs": [],
   "source": []
  }
 ],
 "metadata": {
  "kernelspec": {
   "display_name": "Python 3 (ipykernel)",
   "language": "python",
   "name": "python3"
  },
  "language_info": {
   "codemirror_mode": {
    "name": "ipython",
    "version": 3
   },
   "file_extension": ".py",
   "mimetype": "text/x-python",
   "name": "python",
   "nbconvert_exporter": "python",
   "pygments_lexer": "ipython3",
   "version": "3.8.10"
  }
 },
 "nbformat": 4,
 "nbformat_minor": 5
}
