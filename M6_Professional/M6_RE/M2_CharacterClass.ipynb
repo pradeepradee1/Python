{
 "cells": [
  {
   "cell_type": "markdown",
   "id": "980ed21e",
   "metadata": {},
   "source": [
    "### Character classes:\n",
    "#### We can use character classes to search a group of characters"
   ]
  },
  {
   "cell_type": "markdown",
   "id": "7bbf5d14",
   "metadata": {},
   "source": [
    "#### 1. [abc] ==> Either a or b or c\n",
    "#### 2. [^abc] ==> Except a and b and c\n",
    "#### 3. [a-z] ==> Lower alpha\n",
    "#### 4. [A-Z] ==> Upper alpha\n",
    "#### 5. [0-9]  ==> Numeric\n",
    "#### 6. [a-zA-Z0-9] ==> alphanumeric \n",
    "#### 7. [^a-zA-Z0-9] ==> Except alphanumeric(Special Characters)"
   ]
  },
  {
   "cell_type": "code",
   "execution_count": 27,
   "id": "c382fad9",
   "metadata": {},
   "outputs": [
    {
     "name": "stdout",
     "output_type": "stream",
     "text": [
      "<re.Match object; span=(0, 1), match='a'>\n",
      "0 ...... a\n",
      "<re.Match object; span=(2, 3), match='b'>\n",
      "2 ...... b\n"
     ]
    }
   ],
   "source": [
    "import re\n",
    "# x=\n",
    "matcher=re.finditer(\"[abc]\",\"a7b@k9z\")\n",
    "for match in matcher:\n",
    "    print(match)\n",
    "    print(match.start(),\"......\",match.group())"
   ]
  },
  {
   "cell_type": "markdown",
   "id": "8e80a0c9",
   "metadata": {},
   "source": [
    "#### x = [abc]\n",
    "#### 0 ...... a\n",
    "#### 2 ...... b"
   ]
  },
  {
   "cell_type": "markdown",
   "id": "cbf744f8",
   "metadata": {},
   "source": [
    "#### x = [^abc]\n",
    "#### 1 ...... 7\n",
    "#### 3 ...... @\n",
    "#### 4 ...... k\n",
    "#### 5 ...... 9\n",
    "#### 6 ...... z"
   ]
  },
  {
   "cell_type": "markdown",
   "id": "4cc68da5",
   "metadata": {},
   "source": [
    "#### x = [a-z]\n",
    "#### 0 ...... a\n",
    "#### 2 ...... b\n",
    "#### 4 ...... k\n",
    "#### 6 ...... z"
   ]
  },
  {
   "cell_type": "markdown",
   "id": "3e8ab951",
   "metadata": {},
   "source": [
    "#### x = [0-9]\n",
    "#### 1 ...... 7\n",
    "#### 5 ...... 9\n",
    "#### x = [a-zA-Z0-9]\n",
    "#### 0 ...... a\n",
    "#### 1 ...... 7\n",
    "#### 2 ...... b\n",
    "#### 4 ...... k\n",
    "#### 5 ...... 9\n",
    "#### 6 ...... z\n",
    "#### x = [^a-zA-Z0-9]\n",
    "#### 3 ...... @"
   ]
  },
  {
   "cell_type": "markdown",
   "id": "f721d918",
   "metadata": {},
   "source": [
    "### Pre defined Character classes:"
   ]
  },
  {
   "cell_type": "markdown",
   "id": "8ba0ae94",
   "metadata": {},
   "source": [
    "#### \\s  = Space Character\n",
    "#### \\S  = Except Space Character\n",
    "#### \\w  = Alphanumeric [a-zA-Z0-9]\n",
    "#### \\W = except Alphanumeric (Special Characters)\n",
    "#### \\d  = Numerical\n",
    "#### \\D  = Except Numerical\n",
    "#### .     = Any character including special characters "
   ]
  },
  {
   "cell_type": "code",
   "execution_count": 34,
   "id": "71166fba",
   "metadata": {},
   "outputs": [
    {
     "name": "stdout",
     "output_type": "stream",
     "text": [
      "0 ...... a\n",
      "1 ...... 7\n",
      "2 ...... b\n",
      "3 ......  \n",
      "4 ...... k\n",
      "5 ...... @\n",
      "6 ...... 9\n",
      "7 ...... z\n"
     ]
    }
   ],
   "source": [
    "import re\n",
    "matcher=re.finditer(\".\",\"a7b k@9z\")\n",
    "for match in matcher:\n",
    "    print(match.start(),\"......\",match.group())"
   ]
  },
  {
   "cell_type": "markdown",
   "id": "445c3842",
   "metadata": {},
   "source": [
    "#### x = \\s:\n",
    "#### 3 ......\n",
    "#### x = \\S:\n",
    "#### 0 ...... a\n",
    "#### 1 ...... 7\n",
    "#### 2 ...... b\n",
    "#### 4 ...... k\n",
    "#### 5 ...... @\n",
    "#### 6 ...... 9\n",
    "#### 7 ...... z"
   ]
  },
  {
   "cell_type": "code",
   "execution_count": null,
   "id": "6f625798",
   "metadata": {},
   "outputs": [],
   "source": []
  }
 ],
 "metadata": {
  "kernelspec": {
   "display_name": "Python 3 (ipykernel)",
   "language": "python",
   "name": "python3"
  },
  "language_info": {
   "codemirror_mode": {
    "name": "ipython",
    "version": 3
   },
   "file_extension": ".py",
   "mimetype": "text/x-python",
   "name": "python",
   "nbconvert_exporter": "python",
   "pygments_lexer": "ipython3",
   "version": "3.8.10"
  }
 },
 "nbformat": 4,
 "nbformat_minor": 5
}
