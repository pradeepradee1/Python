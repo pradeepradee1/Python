{
 "cells": [
  {
   "cell_type": "markdown",
   "id": "f9ef36a6",
   "metadata": {},
   "source": [
    "### Qunatifiers"
   ]
  },
  {
   "cell_type": "markdown",
   "id": "449499a4",
   "metadata": {},
   "source": [
    "#### We can use quantifiers to specify the number of occurrences to match.\n",
    "#### a = Exactly one 'a'\n",
    "#### a+ = Atleast one 'a' (occurs 1 or moretimes)\n",
    "#### a* = Any number of a's including zero number (occurs 0 or moretime)\n",
    "#### a? = Atmost one 'a' ie either zero number or one number (occurs 0 or 1 time)\n",
    "#### a{m} = Exactly m number of a's\n",
    "#### a{m,n} = Minimum m number of a's and Maximum n number of a's\n",
    "#### ^x = It will check whether target string starts with x or not\n",
    "#### x$ = It will check whether target string ends with x or not"
   ]
  },
  {
   "cell_type": "code",
   "execution_count": 3,
   "id": "3b04beae",
   "metadata": {},
   "outputs": [
    {
     "name": "stdout",
     "output_type": "stream",
     "text": [
      "0 ...... a\n",
      "1 ...... \n",
      "2 ...... a\n",
      "3 ...... a\n",
      "4 ...... \n",
      "5 ...... a\n",
      "6 ...... a\n",
      "7 ...... a\n",
      "8 ...... \n",
      "9 ...... \n"
     ]
    }
   ],
   "source": [
    "import re\n",
    "matcher=re.finditer(\"a?\",\"abaabaaab\")\n",
    "for match in matcher:\n",
    "    print(match.start(),\"......\",match.group())"
   ]
  },
  {
   "cell_type": "markdown",
   "id": "e4c17b6c",
   "metadata": {},
   "source": [
    "#### x = a:\n",
    "#### 0 ...... a\n",
    "#### 2 ...... a\n",
    "#### 3 ...... a\n",
    "#### 5 ...... a\n",
    "#### 6 ...... a\n",
    "#### 7 ...... a"
   ]
  },
  {
   "cell_type": "markdown",
   "id": "81ea8d2e",
   "metadata": {},
   "source": [
    "#### x = a+:\n",
    "#### 0 ...... a\n",
    "#### 2 ...... aa\n",
    "#### 5 ...... aaa\n",
    "#### x = a*:\n",
    "#### 0 ...... a\n",
    "#### 1 ......\n",
    "#### 2 ...... aa\n",
    "#### 4 ......\n",
    "#### 5 ...... aaa\n",
    "#### 8 ......\n",
    "#### 9 ......"
   ]
  },
  {
   "cell_type": "markdown",
   "id": "386d3f77",
   "metadata": {},
   "source": [
    "#### x = a?:\n",
    "#### 0 ...... a\n",
    "#### 1 ......\n",
    "#### 2 ...... a\n",
    "#### 3 ...... a\n",
    "#### 4 ......\n",
    "#### 5 ...... a\n",
    "#### 6 ...... a\n",
    "#### 7 ...... a\n",
    "#### 8 ......\n",
    "#### 9 ......\n",
    "#### x = a{3}:\n",
    "#### 5 ...... aaa\n",
    "#### x = a{2,4}:\n",
    "#### 2 ...... aa\n",
    "#### 5 ...... aaa"
   ]
  },
  {
   "cell_type": "markdown",
   "id": "2e67d9d3",
   "metadata": {},
   "source": [
    "### Note : \n",
    "#### ^x = It will check whether target string starts with x or not\n",
    "#### x$ = It will check whether target string ends with x or not"
   ]
  },
  {
   "cell_type": "markdown",
   "id": "dc336895",
   "metadata": {},
   "source": [
    "### ^ symbol:"
   ]
  },
  {
   "cell_type": "code",
   "execution_count": 6,
   "id": "51d586a1",
   "metadata": {},
   "outputs": [
    {
     "name": "stdout",
     "output_type": "stream",
     "text": [
      "Target String starts with Learn\n"
     ]
    }
   ],
   "source": [
    "import re\n",
    "s=\"Learning Python is Very Easy\"\n",
    "res=re.search(\"^learn\",s,re.IGNORECASE)\n",
    "if res != None:\n",
    "    print(\"Target String starts with Learn\")\n",
    "else:\n",
    "    print(\"Target String Not starts with Learn\")"
   ]
  },
  {
   "cell_type": "markdown",
   "id": "4c6270d6",
   "metadata": {},
   "source": [
    "### $ symbol:"
   ]
  },
  {
   "cell_type": "code",
   "execution_count": 7,
   "id": "18f4e6ab",
   "metadata": {},
   "outputs": [
    {
     "name": "stdout",
     "output_type": "stream",
     "text": [
      "Target String ends with Easy by ignoring case\n"
     ]
    }
   ],
   "source": [
    "import re\n",
    "s=\"Learning Python is Very Easy\"\n",
    "res=re.search(\"easy$\",s,re.IGNORECASE)\n",
    "if res != None:\n",
    "    print(\"Target String ends with Easy by ignoring case\")\n",
    "else:\n",
    "    print(\"Target String Not ends with Easy by ignoring case\")"
   ]
  },
  {
   "cell_type": "code",
   "execution_count": null,
   "id": "701246a6",
   "metadata": {},
   "outputs": [],
   "source": []
  }
 ],
 "metadata": {
  "kernelspec": {
   "display_name": "Python 3 (ipykernel)",
   "language": "python",
   "name": "python3"
  },
  "language_info": {
   "codemirror_mode": {
    "name": "ipython",
    "version": 3
   },
   "file_extension": ".py",
   "mimetype": "text/x-python",
   "name": "python",
   "nbconvert_exporter": "python",
   "pygments_lexer": "ipython3",
   "version": "3.8.10"
  }
 },
 "nbformat": 4,
 "nbformat_minor": 5
}
