{
 "cells": [
  {
   "cell_type": "markdown",
   "id": "f9ef36a6",
   "metadata": {},
   "source": [
    "### Qunatifiers:"
   ]
  },
  {
   "cell_type": "markdown",
   "id": "449499a4",
   "metadata": {},
   "source": [
    "#### We can use quantifiers to specify the number of occurrences to match.\n",
    "#### a = Exactly one 'a'\n",
    "#### a+ = Atleast one 'a'\n",
    "#### a* = Any number of a's including zero number\n",
    "#### a? = Atmost one 'a' ie either zero number or one number\n",
    "#### a{m} = Exactly m number of a's\n",
    "#### a{m,n} = Minimum m number of a's and Maximum n number of a's"
   ]
  },
  {
   "cell_type": "code",
   "execution_count": 1,
   "id": "3b04beae",
   "metadata": {},
   "outputs": [],
   "source": [
    "import re\n",
    "matcher=re.finditer(\"x\",\"abaabaaab\")\n",
    "for match in matcher:\n",
    "    print(match.start(),\"......\",match.group())"
   ]
  },
  {
   "cell_type": "markdown",
   "id": "e4c17b6c",
   "metadata": {},
   "source": [
    "#### x = a:\n",
    "#### 0 ...... a\n",
    "#### 2 ...... a\n",
    "#### 3 ...... a\n",
    "#### 5 ...... a\n",
    "#### 6 ...... a\n",
    "#### 7 ...... a"
   ]
  },
  {
   "cell_type": "markdown",
   "id": "81ea8d2e",
   "metadata": {},
   "source": [
    "#### x = a+:\n",
    "#### 0 ...... a\n",
    "#### 2 ...... aa\n",
    "#### 5 ...... aaa\n",
    "#### x = a*:\n",
    "#### 0 ...... a\n",
    "#### 1 ......\n",
    "#### 2 ...... aa\n",
    "#### 4 ......\n",
    "#### 5 ...... aaa\n",
    "#### 8 ......\n",
    "#### 9 ......"
   ]
  },
  {
   "cell_type": "markdown",
   "id": "386d3f77",
   "metadata": {},
   "source": [
    "#### x = a?:\n",
    "#### 0 ...... a\n",
    "#### 1 ......\n",
    "#### 2 ...... a\n",
    "#### 3 ...... a\n",
    "#### 4 ......\n",
    "#### 5 ...... a\n",
    "#### 6 ...... a\n",
    "#### 7 ...... a\n",
    "#### 8 ......\n",
    "#### 9 ......\n",
    "#### x = a{3}:\n",
    "#### 5 ...... aaa\n",
    "#### x = a{2,4}:\n",
    "#### 2 ...... aa\n",
    "#### 5 ...... aaa"
   ]
  },
  {
   "cell_type": "markdown",
   "id": "2e67d9d3",
   "metadata": {},
   "source": [
    "### Note : \n",
    "#### ^x = It will check whether target string starts with x or not\n",
    "#### x$ = It will check whether target string ends with x or not"
   ]
  },
  {
   "cell_type": "code",
   "execution_count": null,
   "id": "45e2991f",
   "metadata": {},
   "outputs": [],
   "source": []
  }
 ],
 "metadata": {
  "kernelspec": {
   "display_name": "Python 3 (ipykernel)",
   "language": "python",
   "name": "python3"
  },
  "language_info": {
   "codemirror_mode": {
    "name": "ipython",
    "version": 3
   },
   "file_extension": ".py",
   "mimetype": "text/x-python",
   "name": "python",
   "nbconvert_exporter": "python",
   "pygments_lexer": "ipython3",
   "version": "3.8.10"
  }
 },
 "nbformat": 4,
 "nbformat_minor": 5
}
