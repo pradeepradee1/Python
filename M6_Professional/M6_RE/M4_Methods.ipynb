{
 "cells": [
  {
   "cell_type": "markdown",
   "id": "a918a93a",
   "metadata": {},
   "source": [
    "### Important functions of re module:"
   ]
  },
  {
   "cell_type": "markdown",
   "id": "20e4e3a9",
   "metadata": {},
   "source": [
    "### 1. match():\n",
    "#### Check the beginning of target string."
   ]
  },
  {
   "cell_type": "code",
   "execution_count": 2,
   "id": "39661b7d",
   "metadata": {},
   "outputs": [
    {
     "name": "stdout",
     "output_type": "stream",
     "text": [
      "Match is not available at the beginning of the String\n"
     ]
    }
   ],
   "source": [
    "import re\n",
    "s='sa'\n",
    "m=re.match(s,\"abcabdefg\")\n",
    "if m!= None:\n",
    "    print(\"Match is available at the beginning of the String\")\n",
    "    print(\"Start Index:\",m.start(), \"and End Index:\",m.end())\n",
    "else:\n",
    "    print(\"Match is not available at the beginning of the String\")"
   ]
  },
  {
   "cell_type": "markdown",
   "id": "c797fbeb",
   "metadata": {},
   "source": [
    "### 2. fullmatch():\n",
    "#### Check full target string."
   ]
  },
  {
   "cell_type": "code",
   "execution_count": 3,
   "id": "d340404c",
   "metadata": {},
   "outputs": [
    {
     "name": "stdout",
     "output_type": "stream",
     "text": [
      "Full String Matched\n"
     ]
    }
   ],
   "source": [
    "import re\n",
    "s=\"ababab\"\n",
    "m=re.fullmatch(s,\"ababab\")\n",
    "if m!= None:\n",
    "    print(\"Full String Matched\")\n",
    "else:\n",
    "    print(\"Full String not Matched\")"
   ]
  },
  {
   "cell_type": "markdown",
   "id": "f3a84b21",
   "metadata": {},
   "source": [
    "### 3. search():\n",
    "#### Check given pattern in the target string."
   ]
  },
  {
   "cell_type": "code",
   "execution_count": 4,
   "id": "4297e342",
   "metadata": {},
   "outputs": [
    {
     "name": "stdout",
     "output_type": "stream",
     "text": [
      "Match is available\n",
      "First Occurrence of match with start index: 0 and end index: 2\n"
     ]
    }
   ],
   "source": [
    "import re\n",
    "s='ab'\n",
    "m=re.search(s,\"abaaaba\")\n",
    "if m!= None:\n",
    "    print(\"Match is available\")\n",
    "    print(\"First Occurrence of match with start index:\",m.start(),\"and end index:\",m.end())\n",
    "else:\n",
    "    print(\"Match is not available\")"
   ]
  },
  {
   "cell_type": "markdown",
   "id": "05de7206",
   "metadata": {},
   "source": [
    "### 4. findall():\n",
    "#### Occurrences of the match."
   ]
  },
  {
   "cell_type": "code",
   "execution_count": 5,
   "id": "f0a33806",
   "metadata": {},
   "outputs": [
    {
     "name": "stdout",
     "output_type": "stream",
     "text": [
      "['a', 'b', 'b']\n"
     ]
    }
   ],
   "source": [
    "import re\n",
    "l=re.findall(\"[ab]\",\"a7b9c5kbz\")\n",
    "print(l)"
   ]
  },
  {
   "cell_type": "markdown",
   "id": "917762f5",
   "metadata": {},
   "source": [
    "### 5. finditer():\n",
    "#### Match object for each match."
   ]
  },
  {
   "cell_type": "code",
   "execution_count": 6,
   "id": "6ff655ef",
   "metadata": {},
   "outputs": [
    {
     "name": "stdout",
     "output_type": "stream",
     "text": [
      "<callable_iterator object at 0x7f8e1c0c9040>\n",
      "0 ... 1 ... a\n",
      "2 ... 3 ... b\n",
      "4 ... 5 ... c\n",
      "8 ... 9 ... b\n"
     ]
    }
   ],
   "source": [
    "import re\n",
    "itr=re.finditer(\"[abc]\",\"a7b9c5k8bz\")\n",
    "print(itr)\n",
    "for m in itr:\n",
    "    print(m.start(),\"...\",m.end(),\"...\",m.group())"
   ]
  },
  {
   "cell_type": "markdown",
   "id": "875ad7cd",
   "metadata": {},
   "source": [
    "### 6. sub():\n",
    "#### sub means substitution or replacement"
   ]
  },
  {
   "cell_type": "code",
   "execution_count": 7,
   "id": "71f19fcd",
   "metadata": {},
   "outputs": [
    {
     "name": "stdout",
     "output_type": "stream",
     "text": [
      "#7#9#5#8#\n"
     ]
    }
   ],
   "source": [
    "import re\n",
    "s=re.sub(\"[a-z]\",\"#\",\"a7b9c5k8z\")\n",
    "print(s)"
   ]
  },
  {
   "cell_type": "markdown",
   "id": "3587e05d",
   "metadata": {},
   "source": [
    "### 7. subn():\n",
    "#### Same as sub and returns the number of replacements."
   ]
  },
  {
   "cell_type": "code",
   "execution_count": 8,
   "id": "e5e8cb65",
   "metadata": {},
   "outputs": [
    {
     "name": "stdout",
     "output_type": "stream",
     "text": [
      "('#7#9#5#8#', 5)\n",
      "The Result String: #7#9#5#8#\n",
      "The number of replacements: 5\n"
     ]
    }
   ],
   "source": [
    "import re\n",
    "t=re.subn(\"[a-z]\",\"#\",\"a7b9c5k8z\")\n",
    "print(t)\n",
    "print(\"The Result String:\",t[0])\n",
    "print(\"The number of replacements:\",t[1])"
   ]
  },
  {
   "cell_type": "markdown",
   "id": "f0dae581",
   "metadata": {},
   "source": [
    "### 8. split():"
   ]
  },
  {
   "cell_type": "code",
   "execution_count": 9,
   "id": "f4979e42",
   "metadata": {},
   "outputs": [
    {
     "name": "stdout",
     "output_type": "stream",
     "text": [
      "['sunny', 'bunny', 'chinny', 'vinny', 'pinny']\n",
      "sunny\n",
      "bunny\n",
      "chinny\n",
      "vinny\n",
      "pinny\n"
     ]
    }
   ],
   "source": [
    "import re\n",
    "l=re.split(\",\",\"sunny,bunny,chinny,vinny,pinny\")\n",
    "print(l)\n",
    "for t in l:\n",
    "    print(t)"
   ]
  },
  {
   "cell_type": "code",
   "execution_count": 10,
   "id": "48cd991b",
   "metadata": {},
   "outputs": [
    {
     "name": "stdout",
     "output_type": "stream",
     "text": [
      "www\n",
      "durgasoft\n",
      "com\n"
     ]
    }
   ],
   "source": [
    "import re\n",
    "l=re.split(\"\\.\",\"www.durgasoft.com\")\n",
    "for t in l:\n",
    "    print(t)"
   ]
  },
  {
   "cell_type": "code",
   "execution_count": null,
   "id": "b98a29a3",
   "metadata": {},
   "outputs": [],
   "source": []
  }
 ],
 "metadata": {
  "kernelspec": {
   "display_name": "Python 3 (ipykernel)",
   "language": "python",
   "name": "python3"
  },
  "language_info": {
   "codemirror_mode": {
    "name": "ipython",
    "version": 3
   },
   "file_extension": ".py",
   "mimetype": "text/x-python",
   "name": "python",
   "nbconvert_exporter": "python",
   "pygments_lexer": "ipython3",
   "version": "3.8.10"
  }
 },
 "nbformat": 4,
 "nbformat_minor": 5
}
