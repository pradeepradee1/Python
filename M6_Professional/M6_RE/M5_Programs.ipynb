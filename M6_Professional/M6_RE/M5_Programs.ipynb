{
 "cells": [
  {
   "cell_type": "markdown",
   "id": "843b0ff6",
   "metadata": {},
   "source": [
    "#### Questions 1 : Check Identfiers"
   ]
  },
  {
   "cell_type": "markdown",
   "id": "4bd06bbf",
   "metadata": {},
   "source": [
    "#### Questions 1: Write a python program to check whether the given string is Yava language identifier or not?"
   ]
  },
  {
   "cell_type": "code",
   "execution_count": 2,
   "id": "c817d68c",
   "metadata": {},
   "outputs": [
    {
     "name": "stdout",
     "output_type": "stream",
     "text": [
      "Strings Are matching a3asd\n"
     ]
    }
   ],
   "source": [
    "import re\n",
    "targetstring=\"a3asd\"\n",
    "string=\"[a-k][369][a-zA-Z]*\"\n",
    "string=re.search(string,targetstring)\n",
    "if string != None :\n",
    "    print(\"Strings Are matching {}\".format(string.group()))\n",
    "else:\n",
    "    print(\"Strings Are not matching {}\")\n"
   ]
  },
  {
   "cell_type": "markdown",
   "id": "de1e8b70",
   "metadata": {},
   "source": [
    "#### Questions2: Write a Regular Expression to represent all 10 digit mobile numbers."
   ]
  },
  {
   "cell_type": "code",
   "execution_count": 3,
   "id": "3cc154f7",
   "metadata": {},
   "outputs": [
    {
     "name": "stdout",
     "output_type": "stream",
     "text": [
      "String Are matching 9176692027\n"
     ]
    }
   ],
   "source": [
    "string=\"[987][0-9]{9}\"\n",
    "#string=\"[7-9][0-9]{9}\"\n",
    "targetstring=\"9176692027\"\n",
    "string=re.search(string,targetstring)\n",
    "if string != None :\n",
    "    print(\"String Are matching {}\".format(string.group()))\n",
    "else:\n",
    "    print(\"String Are not matching {}\".format(string))"
   ]
  },
  {
   "cell_type": "code",
   "execution_count": 4,
   "id": "e9a005a0",
   "metadata": {},
   "outputs": [
    {
     "name": "stdout",
     "output_type": "stream",
     "text": [
      "String Are matching 919176692027\n"
     ]
    }
   ],
   "source": [
    "string=\"[91]{2}[789][0-9]{9}\"\n",
    "targetstring=\"919176692027\"\n",
    "string=re.search(string,targetstring)\n",
    "if string != None :\n",
    "    print(\"String Are matching {}\".format(string.group()))\n",
    "else:\n",
    "    print(\"String Are not matching {}\".format(string))"
   ]
  },
  {
   "cell_type": "markdown",
   "id": "c8b8a4d9",
   "metadata": {},
   "source": [
    "#### Check mail ID"
   ]
  },
  {
   "cell_type": "code",
   "execution_count": 5,
   "id": "c312ebe1",
   "metadata": {},
   "outputs": [
    {
     "name": "stdout",
     "output_type": "stream",
     "text": [
      "String Are matching pradeepradee1@gmail.com\n"
     ]
    }
   ],
   "source": [
    "string=\"[a-zA-Z0-9]*[\\W][a-z]*\\.[a-z]*\"\n",
    "targetstring=\"pradeepradee1@gmail.com\"\n",
    "string=re.search(string,targetstring)\n",
    "if string != None :\n",
    "    print(\"String Are matching {}\".format(string.group()))\n",
    "else:\n",
    "    print(\"String Are not matching {}\".format(string))"
   ]
  },
  {
   "cell_type": "markdown",
   "id": "02b928c9",
   "metadata": {},
   "source": [
    "#### Check TN Vehicle Number"
   ]
  },
  {
   "cell_type": "code",
   "execution_count": 12,
   "id": "feea6d33",
   "metadata": {},
   "outputs": [
    {
     "name": "stdout",
     "output_type": "stream",
     "text": [
      "String Are matching TN 10 BB 0581\n"
     ]
    }
   ],
   "source": [
    "string=\"[A-Z]{2}\\s[0-9]{2}\\s[A-Z]{2}\\s[0-9]{4}\"\n",
    "targetstring=\"TN 10 BB 0581\"\n",
    "\n",
    "# string=\"[A-Z]{2}\\s*[0-9]{2}\\s[A-Z]{2}\\s[0-9]{4}\"\n",
    "# targetstring=\"TN  10 BB 0581\"\n",
    "\n",
    "string=re.search(string,targetstring)\n",
    "if string != None :\n",
    "    print(\"String Are matching {}\".format(string.group()))\n",
    "else:\n",
    "    print(\"String Are not matching {}\".format(string))"
   ]
  },
  {
   "cell_type": "code",
   "execution_count": null,
   "id": "015be8cc",
   "metadata": {},
   "outputs": [],
   "source": []
  },
  {
   "cell_type": "code",
   "execution_count": null,
   "id": "03f9f7f6",
   "metadata": {},
   "outputs": [],
   "source": []
  }
 ],
 "metadata": {
  "kernelspec": {
   "display_name": "Python 3 (ipykernel)",
   "language": "python",
   "name": "python3"
  },
  "language_info": {
   "codemirror_mode": {
    "name": "ipython",
    "version": 3
   },
   "file_extension": ".py",
   "mimetype": "text/x-python",
   "name": "python",
   "nbconvert_exporter": "python",
   "pygments_lexer": "ipython3",
   "version": "3.8.10"
  }
 },
 "nbformat": 4,
 "nbformat_minor": 5
}
