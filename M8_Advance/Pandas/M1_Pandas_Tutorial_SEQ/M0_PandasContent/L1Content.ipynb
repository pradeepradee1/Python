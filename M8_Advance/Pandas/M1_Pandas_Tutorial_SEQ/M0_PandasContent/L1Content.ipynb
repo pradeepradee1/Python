{
 "cells": [
  {
   "cell_type": "markdown",
   "id": "ca29077f",
   "metadata": {},
   "source": [
    "# Pandas :\n",
    "\n",
    "\n",
    "\n",
    "## 1 ) Pandas is data analysis Package \n",
    "## 2 ) Which Providing The Fast , flexible and expressive data structures \n",
    "## 3 ) It aims to be the fundamental high level building block (wall or table)  for real - world data analysis in any languages\n"
   ]
  },
  {
   "cell_type": "code",
   "execution_count": null,
   "id": "04c345d1",
   "metadata": {},
   "outputs": [],
   "source": []
  },
  {
   "cell_type": "markdown",
   "id": "f9e46ab1",
   "metadata": {},
   "source": [
    "## 1) Handling null Values and Mutability of dataframe \n",
    "## 2) We can able to perform very well in pandas"
   ]
  },
  {
   "cell_type": "code",
   "execution_count": null,
   "id": "57ed7bcf",
   "metadata": {},
   "outputs": [],
   "source": []
  },
  {
   "cell_type": "code",
   "execution_count": null,
   "id": "1d8f545a",
   "metadata": {},
   "outputs": [],
   "source": []
  }
 ],
 "metadata": {
  "kernelspec": {
   "display_name": "Python 3 (ipykernel)",
   "language": "python",
   "name": "python3"
  },
  "language_info": {
   "codemirror_mode": {
    "name": "ipython",
    "version": 3
   },
   "file_extension": ".py",
   "mimetype": "text/x-python",
   "name": "python",
   "nbconvert_exporter": "python",
   "pygments_lexer": "ipython3",
   "version": "3.8.10"
  }
 },
 "nbformat": 4,
 "nbformat_minor": 5
}
