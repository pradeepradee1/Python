{
 "cells": [
  {
   "cell_type": "markdown",
   "id": "ca29077f",
   "metadata": {},
   "source": [
    "# Pandas :\n",
    "\n",
    "\n",
    "\n",
    "### Pandas is a Python library that provides data structures and functions \n",
    "### Which is efficiently in manipulating and analyzing structured data, particularly numerical tables and time series\n"
   ]
  },
  {
   "cell_type": "code",
   "execution_count": null,
   "id": "04c345d1",
   "metadata": {},
   "outputs": [],
   "source": []
  },
  {
   "cell_type": "markdown",
   "id": "f9e46ab1",
   "metadata": {},
   "source": [
    "### Pandas data structures:\n",
    "### 1) Series: \n",
    "### A one-dimensional labeled array \n",
    "### capable of holding any data type.\n",
    "### 2) DataFrame: \n",
    "### A two-dimensional table\n",
    "### similar to SQL table which contains the rows and columns\n",
    "### It is mutable"
   ]
  },
  {
   "cell_type": "code",
   "execution_count": null,
   "id": "57ed7bcf",
   "metadata": {},
   "outputs": [],
   "source": []
  },
  {
   "cell_type": "code",
   "execution_count": null,
   "id": "1d8f545a",
   "metadata": {},
   "outputs": [],
   "source": []
  }
 ],
 "metadata": {
  "kernelspec": {
   "display_name": "Python 3 (ipykernel)",
   "language": "python",
   "name": "python3"
  },
  "language_info": {
   "codemirror_mode": {
    "name": "ipython",
    "version": 3
   },
   "file_extension": ".py",
   "mimetype": "text/x-python",
   "name": "python",
   "nbconvert_exporter": "python",
   "pygments_lexer": "ipython3",
   "version": "3.8.10"
  }
 },
 "nbformat": 4,
 "nbformat_minor": 5
}
