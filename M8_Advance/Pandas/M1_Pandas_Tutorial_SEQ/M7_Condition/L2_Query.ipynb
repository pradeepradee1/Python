{
 "cells": [
  {
   "cell_type": "markdown",
   "id": "57cdc752",
   "metadata": {},
   "source": [
    "# Topic : Multiple_Conditions"
   ]
  },
  {
   "cell_type": "code",
   "execution_count": 11,
   "id": "d98b3754",
   "metadata": {},
   "outputs": [
    {
     "name": "stdout",
     "output_type": "stream",
     "text": [
      "  Employee  Experience  Salary\n",
      "0     John           6   55000\n",
      "2   Daniel           7   65000\n"
     ]
    }
   ],
   "source": [
    "import pandas as pd\n",
    "data = {'Employee': ['John', 'Sophia', 'Daniel', 'Emma'],\n",
    "        'Experience': [6, 2, 7, 4],\n",
    "        'Salary': [55000, 40000, 65000, 35000]}\n",
    "\n",
    "df = pd.DataFrame(data)\n",
    "\n",
    "filtered_df = df.query('Experience >= 5 and Salary > 50000')\n",
    "\n",
    "print(filtered_df)"
   ]
  },
  {
   "cell_type": "code",
   "execution_count": 10,
   "id": "14fc9563",
   "metadata": {},
   "outputs": [
    {
     "name": "stdout",
     "output_type": "stream",
     "text": [
      "  Employee  Experience  Salary\n",
      "0     John           6   55000\n",
      "2   Daniel           7   65000\n",
      "3     Emma           4   35000\n"
     ]
    }
   ],
   "source": [
    "filtered_df = df.query('Experience >= 4 & Experience <= 7')\n",
    "print(filtered_df)"
   ]
  },
  {
   "cell_type": "code",
   "execution_count": null,
   "id": "87634296",
   "metadata": {},
   "outputs": [],
   "source": []
  },
  {
   "cell_type": "code",
   "execution_count": null,
   "id": "a9066350",
   "metadata": {},
   "outputs": [],
   "source": []
  },
  {
   "cell_type": "code",
   "execution_count": null,
   "id": "e13b5152",
   "metadata": {},
   "outputs": [],
   "source": []
  },
  {
   "cell_type": "code",
   "execution_count": null,
   "id": "4c466132",
   "metadata": {},
   "outputs": [],
   "source": []
  },
  {
   "cell_type": "code",
   "execution_count": null,
   "id": "aa0bf284",
   "metadata": {},
   "outputs": [],
   "source": []
  }
 ],
 "metadata": {
  "kernelspec": {
   "display_name": "Python 3",
   "language": "python",
   "name": "python3"
  },
  "language_info": {
   "codemirror_mode": {
    "name": "ipython",
    "version": 3
   },
   "file_extension": ".py",
   "mimetype": "text/x-python",
   "name": "python",
   "nbconvert_exporter": "python",
   "pygments_lexer": "ipython3",
   "version": "3.10.11"
  }
 },
 "nbformat": 4,
 "nbformat_minor": 5
}
