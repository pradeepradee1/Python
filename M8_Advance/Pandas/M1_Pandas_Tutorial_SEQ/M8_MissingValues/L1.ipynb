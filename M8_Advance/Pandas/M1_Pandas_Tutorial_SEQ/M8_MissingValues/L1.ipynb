{
 "cells": [
  {
   "cell_type": "markdown",
   "metadata": {},
   "source": [
    "How To Handle The Null Values ?"
   ]
  },
  {
   "cell_type": "markdown",
   "metadata": {},
   "source": [
    "1) We Can Remove the Null values If attributes contain null more\n",
    "2) We can fill the values with Spefic values, bfill, ffill and constant value\n",
    "3) We can fill the values with mean , mode and median\n",
    "4) We can Interpolate using linear method "
   ]
  }
 ],
 "metadata": {
  "language_info": {
   "name": "python"
  }
 },
 "nbformat": 4,
 "nbformat_minor": 2
}
