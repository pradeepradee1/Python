{
 "cells": [
  {
   "cell_type": "markdown",
   "id": "3e011127",
   "metadata": {},
   "source": [
    "# Topics: Check Missing Values"
   ]
  },
  {
   "cell_type": "code",
   "execution_count": 1,
   "id": "048a4bbe",
   "metadata": {},
   "outputs": [
    {
     "name": "stdout",
     "output_type": "stream",
     "text": [
      "     A    B    C\n",
      "0  1.0  NaN  1.0\n",
      "1  2.0  2.0  NaN\n",
      "2  NaN  3.0  NaN\n",
      "3  4.0  NaN  4.0\n",
      "4  5.0  5.0  5.0\n"
     ]
    }
   ],
   "source": [
    "import pandas as pd\n",
    "import numpy as np\n",
    "data = {'A': [1, 2, np.nan, 4, 5],'B': [np.nan, 2, 3, np.nan, 5],'C': [1, np.nan, np.nan, 4, 5]}\n",
    "df = pd.DataFrame(data)\n",
    "print(df)"
   ]
  },
  {
   "cell_type": "code",
   "execution_count": 6,
   "id": "5e920270",
   "metadata": {},
   "outputs": [
    {
     "name": "stdout",
     "output_type": "stream",
     "text": [
      "checking the null values in column wise\n",
      "A    True\n",
      "B    True\n",
      "C    True\n",
      "dtype: bool\n",
      "checking the null values in row wise\n",
      "0     True\n",
      "1     True\n",
      "2     True\n",
      "3     True\n",
      "4    False\n",
      "dtype: bool\n"
     ]
    }
   ],
   "source": [
    "print(\"checking the null values in column wise\")\n",
    "print(df.isnull().any(axis=0))\n",
    "print(\"checking the null values in row wise\")\n",
    "print(df.isnull().any(axis=1))"
   ]
  },
  {
   "cell_type": "code",
   "execution_count": 10,
   "id": "31d919c0",
   "metadata": {},
   "outputs": [
    {
     "name": "stdout",
     "output_type": "stream",
     "text": [
      "sum the null values in column wise\n",
      "A    1\n",
      "B    2\n",
      "C    2\n",
      "dtype: int64\n",
      "sum the null values in row wise\n",
      "0    1\n",
      "1    1\n",
      "2    2\n",
      "3    1\n",
      "4    0\n",
      "dtype: int64\n"
     ]
    }
   ],
   "source": [
    "print(\"sum the null values in column wise\")\n",
    "print(df.isnull().sum(axis=0))\n",
    "print(\"sum the null values in row wise\")\n",
    "print(df.isnull().sum(axis=1))"
   ]
  },
  {
   "cell_type": "code",
   "execution_count": null,
   "id": "b054bd48",
   "metadata": {},
   "outputs": [],
   "source": []
  }
 ],
 "metadata": {
  "kernelspec": {
   "display_name": "Python 3",
   "language": "python",
   "name": "python3"
  },
  "language_info": {
   "codemirror_mode": {
    "name": "ipython",
    "version": 3
   },
   "file_extension": ".py",
   "mimetype": "text/x-python",
   "name": "python",
   "nbconvert_exporter": "python",
   "pygments_lexer": "ipython3",
   "version": "3.10.11"
  }
 },
 "nbformat": 4,
 "nbformat_minor": 5
}
