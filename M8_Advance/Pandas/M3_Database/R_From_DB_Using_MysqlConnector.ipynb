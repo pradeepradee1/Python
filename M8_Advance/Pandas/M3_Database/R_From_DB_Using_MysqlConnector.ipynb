{
 "cells": [
  {
   "cell_type": "markdown",
   "id": "09fe1bdb",
   "metadata": {},
   "source": [
    "# Topic : Read "
   ]
  },
  {
   "cell_type": "code",
   "execution_count": 1,
   "id": "c4d96866",
   "metadata": {},
   "outputs": [],
   "source": [
    "import mysql.connector    \n",
    "cnx = mysql.connector.connect(user='root', password='password',\n",
    "                              host='127.0.0.1',\n",
    "                              database='cubdb')\n",
    "\n",
    "\n",
    "cursor = cnx.cursor()\n",
    "cursor.execute(\"\"\"\n",
    "SELECT \n",
    "cp.id,\n",
    "cp.ProcessId \n",
    "from \n",
    "cubdb.modeltrain_cptransposeaudit cp \n",
    "\n",
    "\"\"\")\n",
    "SB = cursor.fetchall()"
   ]
  },
  {
   "cell_type": "code",
   "execution_count": 2,
   "id": "be3b4a22",
   "metadata": {},
   "outputs": [],
   "source": [
    "import pandas as pd\n",
    "sbcolumns=['ID',\"ProcessID\"]\n",
    "sbdataframe=pd.DataFrame(SB,columns=sbcolumns)"
   ]
  },
  {
   "cell_type": "code",
   "execution_count": 3,
   "id": "f4339d6f",
   "metadata": {},
   "outputs": [
    {
     "data": {
      "text/html": [
       "<div>\n",
       "<style scoped>\n",
       "    .dataframe tbody tr th:only-of-type {\n",
       "        vertical-align: middle;\n",
       "    }\n",
       "\n",
       "    .dataframe tbody tr th {\n",
       "        vertical-align: top;\n",
       "    }\n",
       "\n",
       "    .dataframe thead th {\n",
       "        text-align: right;\n",
       "    }\n",
       "</style>\n",
       "<table border=\"1\" class=\"dataframe\">\n",
       "  <thead>\n",
       "    <tr style=\"text-align: right;\">\n",
       "      <th></th>\n",
       "      <th>ID</th>\n",
       "      <th>ProcessID</th>\n",
       "    </tr>\n",
       "  </thead>\n",
       "  <tbody>\n",
       "    <tr>\n",
       "      <th>0</th>\n",
       "      <td>1</td>\n",
       "      <td>100</td>\n",
       "    </tr>\n",
       "  </tbody>\n",
       "</table>\n",
       "</div>"
      ],
      "text/plain": [
       "   ID ProcessID\n",
       "0   1       100"
      ]
     },
     "execution_count": 3,
     "metadata": {},
     "output_type": "execute_result"
    }
   ],
   "source": [
    "sbdataframe"
   ]
  },
  {
   "cell_type": "code",
   "execution_count": null,
   "id": "a11993c6",
   "metadata": {},
   "outputs": [],
   "source": []
  },
  {
   "cell_type": "code",
   "execution_count": null,
   "id": "ee63700f",
   "metadata": {},
   "outputs": [],
   "source": []
  }
 ],
 "metadata": {
  "kernelspec": {
   "display_name": "Python 3 (ipykernel)",
   "language": "python",
   "name": "python3"
  },
  "language_info": {
   "codemirror_mode": {
    "name": "ipython",
    "version": 3
   },
   "file_extension": ".py",
   "mimetype": "text/x-python",
   "name": "python",
   "nbconvert_exporter": "python",
   "pygments_lexer": "ipython3",
   "version": "3.8.10"
  }
 },
 "nbformat": 4,
 "nbformat_minor": 5
}
