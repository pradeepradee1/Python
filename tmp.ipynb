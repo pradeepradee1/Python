{
 "cells": [
  {
   "cell_type": "code",
   "execution_count": 17,
   "id": "51ebfc0f",
   "metadata": {},
   "outputs": [],
   "source": []
  },
  {
   "cell_type": "code",
   "execution_count": 39,
   "id": "33e71a08",
   "metadata": {},
   "outputs": [
    {
     "name": "stdout",
     "output_type": "stream",
     "text": [
      "{'a': 5}\n",
      "{'a': 5, 'g': 300}\n",
      "{'a': 5, 'g': 300, 'd': 20}\n"
     ]
    },
    {
     "data": {
      "text/plain": [
       "{'a': 5, 'g': 300, 'd': 20}"
      ]
     },
     "execution_count": 39,
     "metadata": {},
     "output_type": "execute_result"
    }
   ],
   "source": [
    "a={\"a\":5,\"g\":100,\"d\":20}\n",
    "score=[\"apple\",\"igiagag\",\"sad\"]\n",
    "result={}\n",
    "for i in a:\n",
    "    for j in score:\n",
    "        if i in j:\n",
    "            r=0\n",
    "            for k in range(j.count(i)):\n",
    "                r=r+a[i]\n",
    "            result[i]=r\n",
    "    print(result)\n",
    "result"
   ]
  },
  {
   "cell_type": "code",
   "execution_count": null,
   "id": "706e2f72",
   "metadata": {},
   "outputs": [],
   "source": []
  }
 ],
 "metadata": {
  "kernelspec": {
   "display_name": "Python 3 (ipykernel)",
   "language": "python",
   "name": "python3"
  },
  "language_info": {
   "codemirror_mode": {
    "name": "ipython",
    "version": 3
   },
   "file_extension": ".py",
   "mimetype": "text/x-python",
   "name": "python",
   "nbconvert_exporter": "python",
   "pygments_lexer": "ipython3",
   "version": "3.8.10"
  }
 },
 "nbformat": 4,
 "nbformat_minor": 5
}
