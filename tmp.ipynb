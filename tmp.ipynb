{
 "cells": [
  {
   "cell_type": "code",
   "execution_count": 85,
   "id": "f40921a0",
   "metadata": {},
   "outputs": [
    {
     "data": {
      "text/plain": [
       "'This is game called as game again with terrific game ending the sentences'"
      ]
     },
     "execution_count": 85,
     "metadata": {},
     "output_type": "execute_result"
    }
   ],
   "source": [
    "string=\"This is game called as game again with terrific game ending the sentences\"\n",
    "string"
   ]
  },
  {
   "cell_type": "code",
   "execution_count": 114,
   "id": "b316174b",
   "metadata": {},
   "outputs": [
    {
     "name": "stdout",
     "output_type": "stream",
     "text": [
      "{'n': 23, 'b': 1, 'c': 9}\n"
     ]
    },
    {
     "data": {
      "text/plain": [
       "{'b': 1, 'c': 9, 'n': 23}"
      ]
     },
     "execution_count": 114,
     "metadata": {},
     "output_type": "execute_result"
    }
   ],
   "source": [
    "s={\"n\":23,\"b\":1,\"c\":9}\n",
    "print(s)\n",
    "dict(sorted(s.items(),key=lambda x : x[1]))"
   ]
  },
  {
   "cell_type": "code",
   "execution_count": null,
   "id": "1393efdd",
   "metadata": {},
   "outputs": [],
   "source": []
  }
 ],
 "metadata": {
  "kernelspec": {
   "display_name": "Python 3 (ipykernel)",
   "language": "python",
   "name": "python3"
  },
  "language_info": {
   "codemirror_mode": {
    "name": "ipython",
    "version": 3
   },
   "file_extension": ".py",
   "mimetype": "text/x-python",
   "name": "python",
   "nbconvert_exporter": "python",
   "pygments_lexer": "ipython3",
   "version": "3.8.10"
  }
 },
 "nbformat": 4,
 "nbformat_minor": 5
}
