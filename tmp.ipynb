{
 "cells": [
  {
   "cell_type": "code",
   "execution_count": 37,
   "id": "8aed87b2",
   "metadata": {},
   "outputs": [
    {
     "data": {
      "text/plain": [
       "'hel@o w@rld'"
      ]
     },
     "execution_count": 37,
     "metadata": {},
     "output_type": "execute_result"
    }
   ],
   "source": [
    "input_str=\"hello world\"\n",
    "check_string=[\"@\"]\n",
    "\n",
    "for i in range(0,len(input_str)):\n",
    "    if input_str.count(input_str[i]) > 1 and input_str[i] not in check_string :\n",
    "        check_string.append(input_str[i])\n",
    "        num=input_str.find(input_str[i],i+1)\n",
    "        input_str=input_str[:num]+\"@\"+input_str[num+1:]\n",
    "\n",
    "input_str"
   ]
  },
  {
   "cell_type": "code",
   "execution_count": null,
   "id": "86a9d76e",
   "metadata": {},
   "outputs": [],
   "source": []
  }
 ],
 "metadata": {
  "kernelspec": {
   "display_name": "Python 3",
   "language": "python",
   "name": "python3"
  },
  "language_info": {
   "codemirror_mode": {
    "name": "ipython",
    "version": 3
   },
   "file_extension": ".py",
   "mimetype": "text/x-python",
   "name": "python",
   "nbconvert_exporter": "python",
   "pygments_lexer": "ipython3",
   "version": "3.10.11"
  }
 },
 "nbformat": 4,
 "nbformat_minor": 5
}
