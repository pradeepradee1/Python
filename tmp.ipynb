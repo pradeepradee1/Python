{
 "cells": [
  {
   "cell_type": "code",
   "execution_count": 21,
   "id": "37e5f50e",
   "metadata": {},
   "outputs": [],
   "source": [
    "import re\n",
    "match = re.finditer(\"a\",\"aasasaa\")\n",
    "# for i in match:\n",
    "#     print(i.group())"
   ]
  },
  {
   "cell_type": "code",
   "execution_count": 26,
   "id": "9b008c90",
   "metadata": {},
   "outputs": [
    {
     "name": "stdout",
     "output_type": "stream",
     "text": [
      "aa\n",
      "aa\n"
     ]
    }
   ],
   "source": [
    "match = re.finditer(\"a{2}\",\"assaaszaaad123ffg^!%@\")\n",
    "for i in match:\n",
    "    print(i.group())"
   ]
  },
  {
   "cell_type": "code",
   "execution_count": null,
   "id": "02edb146",
   "metadata": {},
   "outputs": [],
   "source": []
  }
 ],
 "metadata": {
  "kernelspec": {
   "display_name": "Python 3 (ipykernel)",
   "language": "python",
   "name": "python3"
  },
  "language_info": {
   "codemirror_mode": {
    "name": "ipython",
    "version": 3
   },
   "file_extension": ".py",
   "mimetype": "text/x-python",
   "name": "python",
   "nbconvert_exporter": "python",
   "pygments_lexer": "ipython3",
   "version": "3.8.10"
  }
 },
 "nbformat": 4,
 "nbformat_minor": 5
}
