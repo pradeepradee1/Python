{
 "cells": [
  {
   "cell_type": "code",
   "execution_count": 69,
   "id": "6b3c3f82",
   "metadata": {},
   "outputs": [
    {
     "name": "stdout",
     "output_type": "stream",
     "text": [
      "120\n"
     ]
    }
   ],
   "source": [
    "fact=5 \n",
    "num=1             \n",
    "\n",
    "while fact != 1 :   \n",
    "    num = num * fact \n",
    "    fact = fact-1      \n",
    "print(num) \n"
   ]
  },
  {
   "cell_type": "code",
   "execution_count": 70,
   "id": "ad8baa1a",
   "metadata": {},
   "outputs": [
    {
     "data": {
      "text/plain": [
       "12"
      ]
     },
     "execution_count": 70,
     "metadata": {},
     "output_type": "execute_result"
    }
   ],
   "source": [
    "num=129\n",
    "result=0 \n",
    "\n",
    "while num != 0: \n",
    "    reminder = num % 10\n",
    "    num = num // 10 \n",
    "    result = result + reminder\n",
    "\n",
    "result"
   ]
  },
  {
   "cell_type": "code",
   "execution_count": 71,
   "id": "d4cda8d3",
   "metadata": {},
   "outputs": [
    {
     "name": "stdout",
     "output_type": "stream",
     "text": [
      "1\n",
      "1\n",
      "2\n",
      "3\n",
      "5\n",
      "8\n",
      "13\n",
      "21\n",
      "34\n",
      "55\n",
      "89\n"
     ]
    }
   ],
   "source": [
    "a = 0\n",
    "b = 1\n",
    "while a < 80:\n",
    "    a,b=b,a+b\n",
    "    print(a)\n"
   ]
  },
  {
   "cell_type": "code",
   "execution_count": 83,
   "id": "a04140db",
   "metadata": {},
   "outputs": [
    {
     "name": "stdout",
     "output_type": "stream",
     "text": [
      "[1, 3, 4, 5, 6, 7, 8, 9, 10]\n",
      "[1, 3, 5, 6, 7, 8, 9, 10]\n",
      "[1, 3, 5, 7, 8, 9, 10]\n",
      "[1, 3, 5, 7, 9, 10]\n",
      "[1, 3, 5, 7, 9]\n",
      "[1, 5, 7, 9]\n",
      "[1, 5, 9]\n",
      "[5, 9]\n",
      "[5]\n"
     ]
    }
   ],
   "source": [
    "a = [1,2,3,4,5,6,7,8,9,10] \n",
    "\n",
    "def fun(a):\n",
    "    i=0\n",
    "    while i < len(a):\n",
    "        i+=1\n",
    "        if i >= len(a):\n",
    "            i=0\n",
    "            a.pop(i)\n",
    "        else:\n",
    "            a.pop(i)\n",
    "        print(a)\n",
    "    \n",
    "    if len(a) == 1 :\n",
    "        return a\n",
    "    else :\n",
    "        fun(a)\n",
    "\n",
    "fun(a)"
   ]
  },
  {
   "cell_type": "code",
   "execution_count": null,
   "id": "b10adf9a",
   "metadata": {},
   "outputs": [],
   "source": []
  }
 ],
 "metadata": {
  "kernelspec": {
   "display_name": "Python 3 (ipykernel)",
   "language": "python",
   "name": "python3"
  },
  "language_info": {
   "codemirror_mode": {
    "name": "ipython",
    "version": 3
   },
   "file_extension": ".py",
   "mimetype": "text/x-python",
   "name": "python",
   "nbconvert_exporter": "python",
   "pygments_lexer": "ipython3",
   "version": "3.8.10"
  }
 },
 "nbformat": 4,
 "nbformat_minor": 5
}
