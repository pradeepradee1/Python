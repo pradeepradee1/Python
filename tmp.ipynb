{
 "cells": [
  {
   "cell_type": "code",
   "execution_count": 1,
   "id": "605d88d0",
   "metadata": {},
   "outputs": [
    {
     "data": {
      "text/plain": [
       "[[2, 1], [1, 2, 3, 4], [7, 3], [5, 7, 8]]"
      ]
     },
     "execution_count": 1,
     "metadata": {},
     "output_type": "execute_result"
    }
   ],
   "source": [
    "a=[[7,3],[5,7,8],[2,1],[1,2,3,4]]\n",
    "a.sort(key=lambda x : x[1])\n",
    "a"
   ]
  },
  {
   "cell_type": "code",
   "execution_count": 6,
   "id": "554fe4ae",
   "metadata": {},
   "outputs": [
    {
     "data": {
      "text/plain": [
       "[1, 2, 3, 4, 5, 6, 7, 8, 9, 10]"
      ]
     },
     "execution_count": 6,
     "metadata": {},
     "output_type": "execute_result"
    }
   ],
   "source": [
    "\n",
    "# a = [1,3,5,7,9] \n",
    "a"
   ]
  },
  {
   "cell_type": "code",
   "execution_count": 14,
   "id": "ab9006ec",
   "metadata": {},
   "outputs": [
    {
     "name": "stdout",
     "output_type": "stream",
     "text": [
      "[1, 2, 3, 4, 5, 6, 7, 8, 9, 10]\n",
      "[1, 3, 4, 5, 6, 7, 8, 9, 10]\n",
      "[1, 3, 4, 5, 6, 7, 8, 9, 10]\n",
      "[1, 3, 5, 6, 7, 8, 9, 10]\n",
      "[1, 3, 5, 6, 7, 8, 9, 10]\n",
      "[1, 3, 5, 7, 8, 9, 10]\n",
      "[1, 3, 5, 7, 8, 9, 10]\n",
      "[1, 3, 5, 7, 9, 10]\n",
      "[1, 3, 5, 7, 9, 10]\n",
      "[1, 3, 5, 7, 9]\n",
      "[1, 3, 5, 7, 9]\n",
      "[1, 3, 5, 7, 9]\n",
      "[1, 5, 7, 9]\n",
      "[1, 5, 7, 9]\n",
      "[1, 5, 9]\n",
      "[1, 5, 9]\n",
      "[5, 9]\n",
      "[5, 9]\n",
      "[5]\n",
      "[5]\n",
      "[5]\n",
      "[]\n",
      "[]\n"
     ]
    }
   ],
   "source": [
    "a = [1,2,3,4,5,6,7,8,9,10] \n",
    "def sword_func(lis):\n",
    "    sword=0\n",
    "    while sword < len(lis):\n",
    "        print(lis)\n",
    "        sword+=1\n",
    "        if sword == len(lis):\n",
    "            sword=0\n",
    "            lis.pop(sword)\n",
    "        else:\n",
    "            lis.pop(sword)\n",
    "        print(lis)\n",
    "    \n",
    "    print(lis)\n",
    "    if len(lis) >= 1:\n",
    "        sword_func(lis)\n",
    "    else:\n",
    "        return lis\n",
    "\n",
    "\n",
    "a=sword_func(a)\n",
    "a "
   ]
  },
  {
   "cell_type": "code",
   "execution_count": 15,
   "id": "61fe27af",
   "metadata": {},
   "outputs": [
    {
     "data": {
      "text/plain": [
       "{'one': 1, 'two': 2, 'one1': 1, 'three': 3, 'two1': 2}"
      ]
     },
     "execution_count": 15,
     "metadata": {},
     "output_type": "execute_result"
    }
   ],
   "source": [
    "data={\"one\":1,\"two\":2,\"one1\":1,\"three\":3,\"two1\":2}\n",
    "data "
   ]
  },
  {
   "cell_type": "code",
   "execution_count": 18,
   "id": "b9e30fc5",
   "metadata": {},
   "outputs": [
    {
     "data": {
      "text/plain": [
       "{1: ['one', 'one1'], 2: ['two', 'two1'], 3: ['three']}"
      ]
     },
     "execution_count": 18,
     "metadata": {},
     "output_type": "execute_result"
    }
   ],
   "source": [
    "result={}\n",
    "for key,val in data.items():\n",
    "    if val in result:\n",
    "        result[val].append(key)\n",
    "    else:\n",
    "        result[val]=[key]\n",
    "result"
   ]
  },
  {
   "cell_type": "code",
   "execution_count": 25,
   "id": "49d09e7f",
   "metadata": {},
   "outputs": [
    {
     "name": "stdout",
     "output_type": "stream",
     "text": [
      "123\n",
      "678\n"
     ]
    }
   ],
   "source": [
    "a=[\"12345678\",\"12345679\",\"12345678\",\"12345678\",\"12345676\",\"12345675\",\"12345671\",\"12345675\"]\n",
    "for i in a:\n",
    "    print(i[0:3])\n",
    "    print(i[len(a)-3:len(a)])\n",
    "    break "
   ]
  },
  {
   "cell_type": "code",
   "execution_count": 27,
   "id": "e28112d6",
   "metadata": {},
   "outputs": [
    {
     "name": "stdout",
     "output_type": "stream",
     "text": [
      "[(1, 2), (2, 3), (3, 4), (4, 5)]\n"
     ]
    }
   ],
   "source": [
    "a=[[1,2,3,4],[2,3,4,5]]\n",
    "print(list(zip(*a)))"
   ]
  },
  {
   "cell_type": "code",
   "execution_count": 33,
   "id": "eee9fdfb",
   "metadata": {},
   "outputs": [
    {
     "data": {
      "text/plain": [
       "{'x': 10, 'y': 8, 'a': 6, 'b': 4}"
      ]
     },
     "execution_count": 33,
     "metadata": {},
     "output_type": "execute_result"
    }
   ],
   "source": [
    "dict1 = {'x': 10, 'y': 8} \n",
    "dict2 = {'a': 6, 'b': 4} \n",
    "\n",
    "{**dict1,**dict2}"
   ]
  },
  {
   "cell_type": "code",
   "execution_count": null,
   "id": "dde1ac25",
   "metadata": {},
   "outputs": [],
   "source": []
  }
 ],
 "metadata": {
  "kernelspec": {
   "display_name": "Python 3",
   "language": "python",
   "name": "python3"
  },
  "language_info": {
   "codemirror_mode": {
    "name": "ipython",
    "version": 3
   },
   "file_extension": ".py",
   "mimetype": "text/x-python",
   "name": "python",
   "nbconvert_exporter": "python",
   "pygments_lexer": "ipython3",
   "version": "3.10.11"
  }
 },
 "nbformat": 4,
 "nbformat_minor": 5
}
