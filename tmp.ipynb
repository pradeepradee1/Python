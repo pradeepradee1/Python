{
 "cells": [
  {
   "cell_type": "code",
   "execution_count": 14,
   "id": "faa9fa7c",
   "metadata": {},
   "outputs": [
    {
     "name": "stdout",
     "output_type": "stream",
     "text": [
      "6 9 aaa\n",
      "10 14 aaaa\n"
     ]
    }
   ],
   "source": [
    "import re\n",
    "obj=re.finditer(\"a{3,4}\",\"aadcscaaaraaaaaaet\")\n",
    "for i in obj:\n",
    "    print(i.start(),i.end(),i.group())"
   ]
  },
  {
   "cell_type": "code",
   "execution_count": null,
   "id": "5235e8de",
   "metadata": {},
   "outputs": [],
   "source": []
  }
 ],
 "metadata": {
  "kernelspec": {
   "display_name": "Python 3",
   "language": "python",
   "name": "python3"
  },
  "language_info": {
   "codemirror_mode": {
    "name": "ipython",
    "version": 3
   },
   "file_extension": ".py",
   "mimetype": "text/x-python",
   "name": "python",
   "nbconvert_exporter": "python",
   "pygments_lexer": "ipython3",
   "version": "3.10.11"
  }
 },
 "nbformat": 4,
 "nbformat_minor": 5
}
