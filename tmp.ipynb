{
 "cells": [
  {
   "cell_type": "code",
   "execution_count": 1,
   "id": "5235e8de",
   "metadata": {},
   "outputs": [
    {
     "data": {
      "text/plain": [
       "[0, 2, 4, 6, 8]"
      ]
     },
     "execution_count": 1,
     "metadata": {},
     "output_type": "execute_result"
    }
   ],
   "source": [
    "list_compre=[i for i in range(0,10) if i % 2 == 0]\n",
    "list_compre"
   ]
  },
  {
   "cell_type": "code",
   "execution_count": 4,
   "id": "ecc2b37a",
   "metadata": {},
   "outputs": [],
   "source": [
    "# generator=(i for i in range(0,10000000))\n",
    "# print(type(generator))\n",
    "# for i in generator:\n",
    "#     print(i)"
   ]
  },
  {
   "cell_type": "code",
   "execution_count": 11,
   "id": "0f986add",
   "metadata": {},
   "outputs": [
    {
     "name": "stdout",
     "output_type": "stream",
     "text": [
      "{'che', 10, 'aa'}\n",
      "{'che', 10, 'aa', 20, 'aw'}\n"
     ]
    }
   ],
   "source": [
    "temp1={\"namae\":\"aa\",\"age\":10,\"place\":\"che\"}\n",
    "temp2={\"namae\":\"aw\",\"age\":20}\n",
    "\n",
    "\n",
    "print(set(temp1.values()) - set(temp2.values()))\n",
    "print(set(temp1.values()) ^ set(temp2.values()))\n"
   ]
  },
  {
   "cell_type": "code",
   "execution_count": null,
   "id": "8e085762",
   "metadata": {},
   "outputs": [],
   "source": []
  }
 ],
 "metadata": {
  "kernelspec": {
   "display_name": "Python 3",
   "language": "python",
   "name": "python3"
  },
  "language_info": {
   "codemirror_mode": {
    "name": "ipython",
    "version": 3
   },
   "file_extension": ".py",
   "mimetype": "text/x-python",
   "name": "python",
   "nbconvert_exporter": "python",
   "pygments_lexer": "ipython3",
   "version": "3.10.11"
  }
 },
 "nbformat": 4,
 "nbformat_minor": 5
}
