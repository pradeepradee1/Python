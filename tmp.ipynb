{
 "cells": [
  {
   "cell_type": "code",
   "execution_count": 2,
   "id": "8cc4f90c",
   "metadata": {},
   "outputs": [
    {
     "data": {
      "text/plain": [
       "{'a': 10, 'b': 20, 'ab': 10, 'bb': 20}"
      ]
     },
     "execution_count": 2,
     "metadata": {},
     "output_type": "execute_result"
    }
   ],
   "source": [
    "a={\"a\":10,\"b\":20}\n",
    "ab={\"ab\":10,\"bb\":20}\n",
    "{**a,**ab}"
   ]
  },
  {
   "cell_type": "code",
   "execution_count": 4,
   "id": "6280c177",
   "metadata": {},
   "outputs": [
    {
     "name": "stdout",
     "output_type": "stream",
     "text": [
      "[[7, 3], [5, 7, 8], [2], [1, 2, 3, 4]]\n"
     ]
    },
    {
     "data": {
      "text/plain": [
       "[[7, 3], [5, 7, 8], [2], [1, 2, 3, 4]]"
      ]
     },
     "execution_count": 4,
     "metadata": {},
     "output_type": "execute_result"
    }
   ],
   "source": [
    "a=[[7,3],[5,7,8],[2],[1,2,3,4]]\n",
    "print(a)\n",
    "a.sort(reverse=True)\n",
    "a"
   ]
  },
  {
   "cell_type": "code",
   "execution_count": 7,
   "id": "dbc72518",
   "metadata": {},
   "outputs": [
    {
     "data": {
      "text/plain": [
       "[[2, 1], [1, 2, 3, 4], [7, 3], [5, 7, 8]]"
      ]
     },
     "execution_count": 7,
     "metadata": {},
     "output_type": "execute_result"
    }
   ],
   "source": [
    "a=[[7,3],[5,7,8],[2,1],[1,2,3,4]]\n",
    "a.sort(key=lambda x :x[1])\n",
    "a"
   ]
  },
  {
   "cell_type": "code",
   "execution_count": 8,
   "id": "b02d3ab0",
   "metadata": {},
   "outputs": [
    {
     "name": "stdout",
     "output_type": "stream",
     "text": [
      "[(1, 3, 5, 7, 9), (2, 4, 6, 8, 10)]\n"
     ]
    }
   ],
   "source": [
    "a=[[1,2],[3,4],[5,6],[7,8],[9,10]]\n",
    "print(list(zip(*a)))\n"
   ]
  },
  {
   "cell_type": "code",
   "execution_count": 12,
   "id": "a74b40c3",
   "metadata": {},
   "outputs": [
    {
     "data": {
      "text/plain": [
       "[2, 4, [5, 6], [[3, 4]], [[[0], 2]], 4]"
      ]
     },
     "execution_count": 12,
     "metadata": {},
     "output_type": "execute_result"
    }
   ],
   "source": [
    "a=[2 , 4 , [ 5 , 6 ] , [ [ 3 , 4 ] ] , [ [ [ 0 ],2 ] ] , 4 ]\n",
    "a"
   ]
  },
  {
   "cell_type": "code",
   "execution_count": 13,
   "id": "c530ffee",
   "metadata": {},
   "outputs": [
    {
     "name": "stdout",
     "output_type": "stream",
     "text": [
      "[2, 4, 5, 6, 3, 4, 0, 2, 4]\n"
     ]
    }
   ],
   "source": [
    "res=[]\n",
    "def fun_(lis):\n",
    "    for i in lis:\n",
    "        if type(i) == list:\n",
    "            fun_(i)\n",
    "        else:\n",
    "            res.append(i)\n",
    "    return res\n",
    "\n",
    "print(fun_(a))\n",
    "            "
   ]
  },
  {
   "cell_type": "code",
   "execution_count": 14,
   "id": "6db3402a",
   "metadata": {},
   "outputs": [
    {
     "data": {
      "text/plain": [
       "[1, 2, 5, 3, 7, 8, 12, 22, 24]"
      ]
     },
     "execution_count": 14,
     "metadata": {},
     "output_type": "execute_result"
    }
   ],
   "source": [
    "a = [1,2,5,3,7,8,12,22,24]\n",
    "a"
   ]
  },
  {
   "cell_type": "code",
   "execution_count": 15,
   "id": "20a70fc6",
   "metadata": {},
   "outputs": [
    {
     "name": "stdout",
     "output_type": "stream",
     "text": [
      "{'one': 1, 'two': 22, 'three': 3}\n",
      "[('one', 1), ('three', 3), ('two', 22)]\n"
     ]
    }
   ],
   "source": [
    "dict={\"one\":1,\"two\":22,\"three\":3}\n",
    "print(dict)\n",
    "dict1=sorted(dict.items(),key=lambda x :x[1])\n",
    "print(dict1)"
   ]
  },
  {
   "cell_type": "code",
   "execution_count": 27,
   "id": "e9bfa649",
   "metadata": {},
   "outputs": [
    {
     "data": {
      "text/plain": [
       "{1: 'one', 3: 'three', 22: 'two'}"
      ]
     },
     "execution_count": 27,
     "metadata": {},
     "output_type": "execute_result"
    }
   ],
   "source": [
    "dict={1:\"one\",22:\"two\",3:\"three\"}\n",
    "{i[0]:i[1] for i in sorted(dict.items(),key=lambda x :x [0])}"
   ]
  },
  {
   "cell_type": "code",
   "execution_count": 25,
   "id": "31488684",
   "metadata": {},
   "outputs": [
    {
     "data": {
      "text/plain": [
       "{'one': 1, 'two': 2, 'one1': 1, 'three': 3, 'two1': 2}"
      ]
     },
     "execution_count": 25,
     "metadata": {},
     "output_type": "execute_result"
    }
   ],
   "source": [
    "data={\"one\":1,\"two\":2,\"one1\":1,\"three\":3,\"two1\":2}\n",
    "data"
   ]
  },
  {
   "cell_type": "code",
   "execution_count": 28,
   "id": "d57fe790",
   "metadata": {},
   "outputs": [
    {
     "data": {
      "text/plain": [
       "{'one': 1, 'two': 2, 'one1': 1, 'three': 3, 'two1': 2}"
      ]
     },
     "execution_count": 28,
     "metadata": {},
     "output_type": "execute_result"
    }
   ],
   "source": [
    "data={\"one\":1,\"two\":2,\"one1\":1,\"three\":3,\"two1\":2}\n",
    "data"
   ]
  },
  {
   "cell_type": "code",
   "execution_count": 37,
   "id": "d166907b",
   "metadata": {},
   "outputs": [
    {
     "data": {
      "text/plain": [
       "{1: ['one', 'one1'], 2: ['two', 'two1'], 3: ['three']}"
      ]
     },
     "execution_count": 37,
     "metadata": {},
     "output_type": "execute_result"
    }
   ],
   "source": [
    "result={}\n",
    "for key,val in data.items():\n",
    "    if val not in result:\n",
    "        result[val]=[key]\n",
    "    else:\n",
    "        result[val].append(key)\n",
    "result"
   ]
  },
  {
   "cell_type": "code",
   "execution_count": null,
   "id": "33ae5fc2",
   "metadata": {},
   "outputs": [],
   "source": []
  }
 ],
 "metadata": {
  "kernelspec": {
   "display_name": "Python 3 (ipykernel)",
   "language": "python",
   "name": "python3"
  },
  "language_info": {
   "codemirror_mode": {
    "name": "ipython",
    "version": 3
   },
   "file_extension": ".py",
   "mimetype": "text/x-python",
   "name": "python",
   "nbconvert_exporter": "python",
   "pygments_lexer": "ipython3",
   "version": "3.8.10"
  }
 },
 "nbformat": 4,
 "nbformat_minor": 5
}
