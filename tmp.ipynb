{
 "cells": [
  {
   "cell_type": "code",
   "execution_count": 38,
   "id": "159df523",
   "metadata": {},
   "outputs": [
    {
     "name": "stdout",
     "output_type": "stream",
     "text": [
      "11\n"
     ]
    }
   ],
   "source": [
    "a=lambda x,y : x if x > y else y\n",
    "print(a(10,11))"
   ]
  },
  {
   "cell_type": "code",
   "execution_count": 39,
   "id": "097a4afc",
   "metadata": {},
   "outputs": [
    {
     "data": {
      "text/plain": [
       "[2, 4, 6]"
      ]
     },
     "execution_count": 39,
     "metadata": {},
     "output_type": "execute_result"
    }
   ],
   "source": [
    "list(filter(lambda x:x % 2 == 0,[1,2,3,4,5,6]))"
   ]
  },
  {
   "cell_type": "code",
   "execution_count": 44,
   "id": "5451fc84",
   "metadata": {},
   "outputs": [
    {
     "data": {
      "text/plain": [
       "[11, 44, 99, 176, 275, 396]"
      ]
     },
     "execution_count": 44,
     "metadata": {},
     "output_type": "execute_result"
    }
   ],
   "source": [
    "list(map(lambda x,y:x*y,[1,2,3,4,5,6],[11,22,33,44,55,66]))"
   ]
  },
  {
   "cell_type": "code",
   "execution_count": 45,
   "id": "086eb8e9",
   "metadata": {},
   "outputs": [
    {
     "name": "stdout",
     "output_type": "stream",
     "text": [
      "{'key1': 'as', 'key2': 'as2', 'key3': {'subkey3': 'val', 'subkey4': 'val12', 'subkey5': {'skey': 'sfds'}}}\n"
     ]
    }
   ],
   "source": [
    "a = {\"key1\":\"as\",\n",
    "     \"key2\":\"as2\",\n",
    "     \"key3\":{\n",
    "     \"subkey3\":\"val\",\n",
    "     \"subkey4\":\"val12\",\n",
    "     \"subkey5\":{'skey':'sfds'}\n",
    "     }}\n",
    "print(a)"
   ]
  },
  {
   "cell_type": "code",
   "execution_count": 46,
   "id": "a57e5cb3",
   "metadata": {},
   "outputs": [
    {
     "data": {
      "text/plain": [
       "dict"
      ]
     },
     "execution_count": 46,
     "metadata": {},
     "output_type": "execute_result"
    }
   ],
   "source": [
    "type(a)"
   ]
  },
  {
   "cell_type": "code",
   "execution_count": 48,
   "id": "1b8615e4",
   "metadata": {},
   "outputs": [],
   "source": [
    "def re_fu(arg):\n",
    "    for key,val in arg.items():\n",
    "        if type(val) == dict :\n",
    "            print(val)\n",
    "    \n",
    "re_fu(a)"
   ]
  },
  {
   "cell_type": "code",
   "execution_count": null,
   "id": "6cf30d81",
   "metadata": {},
   "outputs": [],
   "source": []
  }
 ],
 "metadata": {
  "kernelspec": {
   "display_name": "Python 3 (ipykernel)",
   "language": "python",
   "name": "python3"
  },
  "language_info": {
   "codemirror_mode": {
    "name": "ipython",
    "version": 3
   },
   "file_extension": ".py",
   "mimetype": "text/x-python",
   "name": "python",
   "nbconvert_exporter": "python",
   "pygments_lexer": "ipython3",
   "version": "3.8.10"
  }
 },
 "nbformat": 4,
 "nbformat_minor": 5
}
