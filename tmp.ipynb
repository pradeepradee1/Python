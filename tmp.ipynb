{
 "cells": [
  {
   "cell_type": "code",
   "execution_count": 4,
   "id": "51ebfc0f",
   "metadata": {},
   "outputs": [
    {
     "name": "stdout",
     "output_type": "stream",
     "text": [
      "else_if\n"
     ]
    }
   ],
   "source": [
    "x=\"python\" if 10 > 100 else \"else\" if 10 > 100 else \"else_if\"\n",
    "print(x)"
   ]
  },
  {
   "cell_type": "code",
   "execution_count": 7,
   "id": "706e2f72",
   "metadata": {},
   "outputs": [
    {
     "name": "stdout",
     "output_type": "stream",
     "text": [
      "0 1 2 3 4 5 \n",
      "0 1 2 3 4 5 \n",
      "0 1 2 3 4 5 \n",
      "0 1 2 3 4 5 \n",
      "0 1 2 3 4 5 \n",
      "0 1 2 3 4 5 \n"
     ]
    }
   ],
   "source": [
    "for row in range(0,6):\n",
    "    for column in range(0,6):\n",
    "        print(column ,end=\" \")\n",
    "    print()"
   ]
  },
  {
   "cell_type": "code",
   "execution_count": 12,
   "id": "679ae1ad",
   "metadata": {},
   "outputs": [
    {
     "name": "stdout",
     "output_type": "stream",
     "text": [
      "1 2 3 4 5 \n",
      "6 7 1 2 3 \n",
      "4 5 6 1 2 \n",
      "3 4 5 1 2 \n",
      "3 4 1 2 3 \n"
     ]
    }
   ],
   "source": [
    "restriction=0\n",
    "reduce=7\n",
    "for row in range(0,5):\n",
    "    for column in range(0,5):\n",
    "        restriction+=1\n",
    "        if restriction <= reduce :\n",
    "            print(restriction,end=\" \")\n",
    "        else:\n",
    "            restriction=1\n",
    "            reduce-=1\n",
    "            print(restriction,end=\" \")\n",
    "    print()\n"
   ]
  },
  {
   "cell_type": "code",
   "execution_count": 20,
   "id": "fb17143e",
   "metadata": {},
   "outputs": [
    {
     "name": "stdout",
     "output_type": "stream",
     "text": [
      "* * * * * \n",
      "  * * * * \n",
      "    * * * \n",
      "      * * \n",
      "        * \n"
     ]
    }
   ],
   "source": [
    "for row in range(0,5):\n",
    "    for column in range(0,5):\n",
    "        if row <= column :\n",
    "            print(\"*\",end=\" \")\n",
    "        else:\n",
    "            print(\" \",end=\" \")\n",
    "    print()"
   ]
  },
  {
   "cell_type": "code",
   "execution_count": 17,
   "id": "007cbbec",
   "metadata": {},
   "outputs": [
    {
     "name": "stdout",
     "output_type": "stream",
     "text": [
      "* * * * * \n",
      "* * * * \n",
      "* * * \n",
      "* * \n",
      "* \n"
     ]
    }
   ],
   "source": [
    "for row in range(0,5):\n",
    "    for column in range(5,0,-1):\n",
    "        if row < column :\n",
    "            print(\"*\",end=\" \")\n",
    "    print()"
   ]
  },
  {
   "cell_type": "code",
   "execution_count": 25,
   "id": "842c277f",
   "metadata": {},
   "outputs": [
    {
     "data": {
      "text/plain": [
       "120"
      ]
     },
     "execution_count": 25,
     "metadata": {},
     "output_type": "execute_result"
    }
   ],
   "source": [
    "fact=5\n",
    "result=1\n",
    "while fact != 1 :\n",
    "    result=result*(fact)\n",
    "    fact-=1\n",
    "result"
   ]
  },
  {
   "cell_type": "code",
   "execution_count": 32,
   "id": "940bb77c",
   "metadata": {},
   "outputs": [
    {
     "name": "stdout",
     "output_type": "stream",
     "text": [
      "6\n"
     ]
    }
   ],
   "source": [
    "num=123\n",
    "result=0\n",
    "while num!=0:\n",
    "    result += (num % 10)\n",
    "    num=num // 10 \n",
    "print(result)\n"
   ]
  },
  {
   "cell_type": "code",
   "execution_count": 37,
   "id": "32aac63e",
   "metadata": {},
   "outputs": [
    {
     "name": "stdout",
     "output_type": "stream",
     "text": [
      "121 and 121 are Palindrome\n"
     ]
    }
   ],
   "source": [
    "num=121\n",
    "num_c=num \n",
    "result=\"\"\n",
    "while num!=0:\n",
    "    result += str(num % 10)\n",
    "    num=num // 10 \n",
    "else:\n",
    "    if result == str(num_c):\n",
    "        print(\"{} and {} are Palindrome\".format(result,num_c))\n",
    "    else:\n",
    "        print(\"{} and {} are not Palindrome\".format(result,num_c))\n"
   ]
  },
  {
   "cell_type": "code",
   "execution_count": 76,
   "id": "e2acc990",
   "metadata": {},
   "outputs": [
    {
     "name": "stdout",
     "output_type": "stream",
     "text": [
      "1634 and 1634 are strong number\n"
     ]
    }
   ],
   "source": [
    "num=1634\n",
    "num_1=num\n",
    "num_c=len(str(num))\n",
    "result=0 \n",
    "while num!=0:\n",
    "    rem=(num % 10) ** num_c\n",
    "    result += rem\n",
    "    num=num // 10 \n",
    "else:\n",
    "    if result == num_1:\n",
    "        print(\"{} and {} are strong number\".format(result,num_1))\n",
    "    else:\n",
    "        print(\"{} and {} are not strong number\".format(result,num_1))\n"
   ]
  },
  {
   "cell_type": "code",
   "execution_count": 79,
   "id": "67ab9474",
   "metadata": {},
   "outputs": [
    {
     "data": {
      "text/plain": [
       "[1, 2, 3, 4, 5, 6, 7, 8, 9, 10]"
      ]
     },
     "execution_count": 79,
     "metadata": {},
     "output_type": "execute_result"
    }
   ],
   "source": []
  },
  {
   "cell_type": "code",
   "execution_count": 97,
   "id": "6d5da4e8",
   "metadata": {},
   "outputs": [
    {
     "name": "stdout",
     "output_type": "stream",
     "text": [
      "[1, 9]\n"
     ]
    }
   ],
   "source": [
    "a = [1,2,3,4,5,6,7,8,9,10]\n",
    "a = [1,3,5,7,9]\n",
    "a = [1, 5, 9]\n",
    "\n",
    "iteration=0\n",
    "while iteration < len(a):\n",
    "    iteration+=1\n",
    "    if iteration == len(a):\n",
    "        pass\n",
    "    else:\n",
    "        a.pop(iteration)\n",
    "\n",
    "#func(a)\n",
    "print(a)"
   ]
  },
  {
   "cell_type": "code",
   "execution_count": 1,
   "id": "5edfbca3",
   "metadata": {},
   "outputs": [
    {
     "data": {
      "text/plain": [
       "'abcd'"
      ]
     },
     "execution_count": 1,
     "metadata": {},
     "output_type": "execute_result"
    }
   ],
   "source": [
    "str1=\"abcd\"\n",
    "str1 \n"
   ]
  },
  {
   "cell_type": "code",
   "execution_count": 2,
   "id": "65ae09ee",
   "metadata": {},
   "outputs": [
    {
     "ename": "TypeError",
     "evalue": "'str' object does not support item assignment",
     "output_type": "error",
     "traceback": [
      "\u001b[1;31m---------------------------------------------------------------------------\u001b[0m",
      "\u001b[1;31mTypeError\u001b[0m                                 Traceback (most recent call last)",
      "Cell \u001b[1;32mIn[2], line 1\u001b[0m\n\u001b[1;32m----> 1\u001b[0m \u001b[43mstr1\u001b[49m\u001b[43m[\u001b[49m\u001b[38;5;241;43m1\u001b[39;49m\u001b[43m]\u001b[49m\u001b[38;5;241m=\u001b[39m\u001b[38;5;124m\"\u001b[39m\u001b[38;5;124mB\u001b[39m\u001b[38;5;124m\"\u001b[39m\n",
      "\u001b[1;31mTypeError\u001b[0m: 'str' object does not support item assignment"
     ]
    }
   ],
   "source": [
    "str1[1]=\"B\""
   ]
  },
  {
   "cell_type": "code",
   "execution_count": null,
   "id": "5abacce1",
   "metadata": {},
   "outputs": [],
   "source": []
  }
 ],
 "metadata": {
  "kernelspec": {
   "display_name": "Python 3",
   "language": "python",
   "name": "python3"
  },
  "language_info": {
   "codemirror_mode": {
    "name": "ipython",
    "version": 3
   },
   "file_extension": ".py",
   "mimetype": "text/x-python",
   "name": "python",
   "nbconvert_exporter": "python",
   "pygments_lexer": "ipython3",
   "version": "3.10.11"
  }
 },
 "nbformat": 4,
 "nbformat_minor": 5
}
